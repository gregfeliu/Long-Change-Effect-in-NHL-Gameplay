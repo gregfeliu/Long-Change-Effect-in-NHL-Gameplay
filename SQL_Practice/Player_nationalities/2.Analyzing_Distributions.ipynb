{
 "cells": [
  {
   "cell_type": "markdown",
   "metadata": {},
   "source": [
    "import pandas as pd\n",
    "# ^^^ pyforest auto-imports - don't write above this line\n"
   ]
  },
  {
   "cell_type": "markdown",
   "metadata": {},
   "source": [
    "# Main Question: Do American teams have more American Players than Canadian Teams and vice versa for 2018-2019? "
   ]
  },
  {
   "cell_type": "markdown",
   "metadata": {
    "ExecuteTime": {
     "end_time": "2020-10-28T14:18:21.758588Z",
     "start_time": "2020-10-28T14:18:21.756122Z"
    }
   },
   "source": [
    "## Imports"
   ]
  },
  {
   "cell_type": "code",
   "execution_count": 77,
   "metadata": {
    "ExecuteTime": {
     "end_time": "2021-01-28T21:29:18.303537Z",
     "start_time": "2021-01-28T21:29:18.297837Z"
    },
    "scrolled": true
   },
   "outputs": [],
   "source": [
    "import warnings\n",
    "from functions import *\n",
    "import pickle\n",
    "sns.set(style=\"whitegrid\")\n",
    "from scipy.stats import chi2_contingency"
   ]
  },
  {
   "cell_type": "markdown",
   "metadata": {},
   "source": [
    "### Data"
   ]
  },
  {
   "cell_type": "code",
   "execution_count": 11,
   "metadata": {
    "ExecuteTime": {
     "end_time": "2021-01-28T21:07:49.095457Z",
     "start_time": "2021-01-28T21:07:49.076035Z"
    }
   },
   "outputs": [
    {
     "data": {
      "application/javascript": [
       "\n",
       "        if (window._pyforest_update_imports_cell) { window._pyforest_update_imports_cell('import pandas as pd'); }\n",
       "    "
      ],
      "text/plain": [
       "<IPython.core.display.Javascript object>"
      ]
     },
     "metadata": {},
     "output_type": "display_data"
    }
   ],
   "source": [
    "player_df = pd.read_csv(\"player_df\", index_col=0)\n",
    "groupby_df_sum = player_df.groupby('Team_id').sum()\n",
    "groupby_df_sum.reset_index(inplace=True)\n",
    "groupby_df_count = player_df.groupby('Team_id').count()"
   ]
  },
  {
   "cell_type": "markdown",
   "metadata": {},
   "source": [
    "# Calculating Percent of Players in each Group"
   ]
  },
  {
   "cell_type": "markdown",
   "metadata": {},
   "source": [
    "### Splitting by Nation of Team"
   ]
  },
  {
   "cell_type": "code",
   "execution_count": null,
   "metadata": {},
   "outputs": [],
   "source": [
    "# previous method of finding canadian/american teams was mistaken"
   ]
  },
  {
   "cell_type": "code",
   "execution_count": 35,
   "metadata": {
    "ExecuteTime": {
     "end_time": "2021-01-28T21:19:32.473759Z",
     "start_time": "2021-01-28T21:19:32.468470Z"
    }
   },
   "outputs": [],
   "source": [
    "can_teams = player_df[player_df['Canadian_team'] == True]\n",
    "can_team_ids = list(can_teams.Team_id.unique())"
   ]
  },
  {
   "cell_type": "code",
   "execution_count": 78,
   "metadata": {
    "ExecuteTime": {
     "end_time": "2021-01-28T21:31:30.653389Z",
     "start_time": "2021-01-28T21:31:30.646380Z"
    }
   },
   "outputs": [],
   "source": [
    "# making separate dataframes\n",
    "canadian_teams_groupby = groupby_df_sum[groupby_df_sum['Team_id'].isin(can_team_ids)]\n",
    "amer_teams_groupby = groupby_df_sum[~groupby_df_sum['Team_id'].isin(can_team_ids)]"
   ]
  },
  {
   "cell_type": "code",
   "execution_count": 79,
   "metadata": {
    "ExecuteTime": {
     "end_time": "2021-01-28T21:31:30.836354Z",
     "start_time": "2021-01-28T21:31:30.832417Z"
    }
   },
   "outputs": [],
   "source": [
    "all_players_in_can_teams = canadian_teams_groupby.Dummy.sum()\n",
    "all_can_players_in_can_teams = int(canadian_teams_groupby.Canadian_player.sum())\n",
    "all_amer_players_in_can_teams = int(canadian_teams_groupby.Amer_player.sum())"
   ]
  },
  {
   "cell_type": "code",
   "execution_count": 80,
   "metadata": {
    "ExecuteTime": {
     "end_time": "2021-01-28T21:31:31.024461Z",
     "start_time": "2021-01-28T21:31:31.019322Z"
    }
   },
   "outputs": [],
   "source": [
    "all_players_in_amer_teams = amer_teams_groupby.Dummy.sum()\n",
    "all_can_players_in_amer_teams = int(amer_teams_groupby.Canadian_player.sum())\n",
    "all_amer_players_in_amer_teams = int(amer_teams_groupby.Amer_player.sum())"
   ]
  },
  {
   "cell_type": "markdown",
   "metadata": {},
   "source": [
    "#### Calculating percentage of canadians in each group"
   ]
  },
  {
   "cell_type": "code",
   "execution_count": 81,
   "metadata": {
    "ExecuteTime": {
     "end_time": "2021-01-28T21:31:31.552442Z",
     "start_time": "2021-01-28T21:31:31.546341Z"
    }
   },
   "outputs": [
    {
     "data": {
      "text/plain": [
       "0.5"
      ]
     },
     "execution_count": 81,
     "metadata": {},
     "output_type": "execute_result"
    }
   ],
   "source": [
    "canadians_in_canada_teams_pct = all_can_players_in_can_teams / all_players_in_can_teams\n",
    "canadians_in_canada_teams_pct"
   ]
  },
  {
   "cell_type": "code",
   "execution_count": 82,
   "metadata": {
    "ExecuteTime": {
     "end_time": "2021-01-28T21:31:33.353230Z",
     "start_time": "2021-01-28T21:31:33.347358Z"
    },
    "scrolled": true
   },
   "outputs": [
    {
     "data": {
      "text/plain": [
       "0.4343891402714932"
      ]
     },
     "execution_count": 82,
     "metadata": {},
     "output_type": "execute_result"
    }
   ],
   "source": [
    "canadians_in_amer_teams_pct = all_can_players_in_amer_teams / all_players_in_amer_teams\n",
    "canadians_in_amer_teams_pct"
   ]
  },
  {
   "cell_type": "markdown",
   "metadata": {},
   "source": [
    "#### Calculating percentage of americans in each group"
   ]
  },
  {
   "cell_type": "code",
   "execution_count": 83,
   "metadata": {
    "ExecuteTime": {
     "end_time": "2021-01-28T21:31:34.883409Z",
     "start_time": "2021-01-28T21:31:34.877925Z"
    }
   },
   "outputs": [
    {
     "data": {
      "text/plain": [
       "0.24193548387096775"
      ]
     },
     "execution_count": 83,
     "metadata": {},
     "output_type": "execute_result"
    }
   ],
   "source": [
    "americans_in_canada_teams_pct = all_amer_players_in_can_teams / all_players_in_can_teams\n",
    "americans_in_canada_teams_pct"
   ]
  },
  {
   "cell_type": "code",
   "execution_count": 84,
   "metadata": {
    "ExecuteTime": {
     "end_time": "2021-01-28T21:31:36.633167Z",
     "start_time": "2021-01-28T21:31:36.626571Z"
    },
    "scrolled": true
   },
   "outputs": [
    {
     "data": {
      "text/plain": [
       "0.2895927601809955"
      ]
     },
     "execution_count": 84,
     "metadata": {},
     "output_type": "execute_result"
    }
   ],
   "source": [
    "# slightly more americans in american teams than in canadian teams\n",
    "americans_in_amer_teams_pct = all_amer_players_in_amer_teams / all_players_in_amer_teams\n",
    "americans_in_amer_teams_pct"
   ]
  },
  {
   "cell_type": "markdown",
   "metadata": {},
   "source": [
    "# Testing for Statistical Significance\n",
    "test for significance (5%)"
   ]
  },
  {
   "cell_type": "markdown",
   "metadata": {},
   "source": [
    "## Making Contingency Table "
   ]
  },
  {
   "cell_type": "code",
   "execution_count": 85,
   "metadata": {
    "ExecuteTime": {
     "end_time": "2021-01-28T21:31:40.514287Z",
     "start_time": "2021-01-28T21:31:40.511153Z"
    }
   },
   "outputs": [],
   "source": [
    "# canadian teams\n",
    "other_nats_in_can_teams = int(all_players_in_can_teams - (all_can_players_in_can_teams + \n",
    "                                                      all_amer_players_in_can_teams))"
   ]
  },
  {
   "cell_type": "code",
   "execution_count": 88,
   "metadata": {
    "ExecuteTime": {
     "end_time": "2021-01-28T21:33:31.874935Z",
     "start_time": "2021-01-28T21:33:31.870698Z"
    }
   },
   "outputs": [],
   "source": [
    "# american teams\n",
    "other_nats_in_amer_teams = int(all_players_in_amer_teams - (all_can_players_in_amer_teams + \n",
    "                                                      all_amer_players_in_amer_teams))"
   ]
  },
  {
   "cell_type": "code",
   "execution_count": 92,
   "metadata": {
    "ExecuteTime": {
     "end_time": "2021-01-28T21:34:08.491547Z",
     "start_time": "2021-01-28T21:34:08.487036Z"
    }
   },
   "outputs": [
    {
     "data": {
      "text/plain": [
       "int"
      ]
     },
     "execution_count": 92,
     "metadata": {},
     "output_type": "execute_result"
    }
   ],
   "source": [
    "type(all_can_players_in_amer_teams)"
   ]
  },
  {
   "cell_type": "code",
   "execution_count": 93,
   "metadata": {
    "ExecuteTime": {
     "end_time": "2021-01-28T21:34:23.925626Z",
     "start_time": "2021-01-28T21:34:23.921384Z"
    }
   },
   "outputs": [],
   "source": [
    "#               canadians | americans | other\n",
    "#  canadian teams\n",
    "# american  teams\n",
    "contingency_table = np.array([[all_can_players_in_can_teams, \n",
    "                              all_amer_players_in_can_teams, \n",
    "                              other_nats_in_can_teams],\n",
    "                            [all_can_players_in_amer_teams,\n",
    "                            all_amer_players_in_amer_teams,\n",
    "                            other_nats_in_amer_teams\n",
    "                            ]])"
   ]
  },
  {
   "cell_type": "markdown",
   "metadata": {},
   "source": [
    "## Running Test"
   ]
  },
  {
   "cell_type": "code",
   "execution_count": 95,
   "metadata": {
    "ExecuteTime": {
     "end_time": "2021-01-28T21:35:29.477973Z",
     "start_time": "2021-01-28T21:35:29.472738Z"
    }
   },
   "outputs": [],
   "source": [
    "chi2, p_value, deg_of_freedom, expected = chi2_contingency(contingency_table)"
   ]
  },
  {
   "cell_type": "code",
   "execution_count": 97,
   "metadata": {
    "ExecuteTime": {
     "end_time": "2021-01-28T21:35:40.386999Z",
     "start_time": "2021-01-28T21:35:40.380900Z"
    }
   },
   "outputs": [
    {
     "data": {
      "text/plain": [
       "0.6326338155050115"
      ]
     },
     "execution_count": 97,
     "metadata": {},
     "output_type": "execute_result"
    }
   ],
   "source": [
    "p_value"
   ]
  },
  {
   "cell_type": "code",
   "execution_count": 101,
   "metadata": {
    "ExecuteTime": {
     "end_time": "2021-01-28T21:36:26.449291Z",
     "start_time": "2021-01-28T21:36:26.443043Z"
    }
   },
   "outputs": [
    {
     "data": {
      "text/plain": [
       "array([[31, 15, 16],\n",
       "       [96, 64, 61]])"
      ]
     },
     "execution_count": 101,
     "metadata": {},
     "output_type": "execute_result"
    }
   ],
   "source": [
    "contingency_table"
   ]
  },
  {
   "cell_type": "code",
   "execution_count": 102,
   "metadata": {
    "ExecuteTime": {
     "end_time": "2021-01-28T21:36:26.767332Z",
     "start_time": "2021-01-28T21:36:26.761053Z"
    }
   },
   "outputs": [
    {
     "data": {
      "text/plain": [
       "array([[27.82332155, 17.30742049, 16.86925795],\n",
       "       [99.17667845, 61.69257951, 60.13074205]])"
      ]
     },
     "execution_count": 102,
     "metadata": {},
     "output_type": "execute_result"
    }
   ],
   "source": [
    "expected  "
   ]
  },
  {
   "cell_type": "markdown",
   "metadata": {},
   "source": [
    "## TEMPORARY CONCLUSION"
   ]
  },
  {
   "cell_type": "markdown",
   "metadata": {},
   "source": [
    "There is NOT a significant difference in terms of the numbers of canadians, americans, and other nationalities between American and Canadian NHL Teams. "
   ]
  },
  {
   "cell_type": "markdown",
   "metadata": {},
   "source": [
    "# Testing by for players playing in home country"
   ]
  },
  {
   "cell_type": "markdown",
   "metadata": {},
   "source": [
    "The previous test found that between teams in the two countries, there is no difference in terms of the number of canadians, americans, and other nationalities playing in the two countries. Here, I want to ask a more specific question, are there more Canadians playing in canada and Americans playing in America? "
   ]
  },
  {
   "cell_type": "markdown",
   "metadata": {},
   "source": [
    "## Canadians playing in canada"
   ]
  },
  {
   "cell_type": "markdown",
   "metadata": {},
   "source": [
    "### Making contingency table"
   ]
  },
  {
   "cell_type": "code",
   "execution_count": 109,
   "metadata": {
    "ExecuteTime": {
     "end_time": "2021-01-28T21:43:46.966210Z",
     "start_time": "2021-01-28T21:43:46.961933Z"
    }
   },
   "outputs": [],
   "source": [
    "non_canadians_in_can_team = all_amer_players_in_can_teams + other_nats_in_can_teams\n",
    "non_canadians_in_amer_teams = all_amer_players_in_amer_teams + other_nats_in_amer_teams"
   ]
  },
  {
   "cell_type": "code",
   "execution_count": 110,
   "metadata": {
    "ExecuteTime": {
     "end_time": "2021-01-28T21:43:47.222660Z",
     "start_time": "2021-01-28T21:43:47.218458Z"
    }
   },
   "outputs": [],
   "source": [
    "can_contingency_table = np.array([[all_can_players_in_can_teams, non_canadians_in_can_team],\n",
    "                                 [all_can_players_in_amer_teams, non_canadians_in_amer_teams]])"
   ]
  },
  {
   "cell_type": "markdown",
   "metadata": {},
   "source": [
    "## Running Test"
   ]
  },
  {
   "cell_type": "code",
   "execution_count": 111,
   "metadata": {
    "ExecuteTime": {
     "end_time": "2021-01-28T21:43:48.135347Z",
     "start_time": "2021-01-28T21:43:48.131222Z"
    }
   },
   "outputs": [],
   "source": [
    "can_chi2, can_p_value, can_deg_of_freedom, can_expected = chi2_contingency(can_contingency_table)"
   ]
  },
  {
   "cell_type": "code",
   "execution_count": 112,
   "metadata": {
    "ExecuteTime": {
     "end_time": "2021-01-28T21:43:48.440421Z",
     "start_time": "2021-01-28T21:43:48.434429Z"
    }
   },
   "outputs": [
    {
     "data": {
      "text/plain": [
       "0.43926931071597886"
      ]
     },
     "execution_count": 112,
     "metadata": {},
     "output_type": "execute_result"
    }
   ],
   "source": [
    "can_p_value"
   ]
  },
  {
   "cell_type": "markdown",
   "metadata": {},
   "source": [
    "## Americans Playing in America"
   ]
  },
  {
   "cell_type": "code",
   "execution_count": 113,
   "metadata": {
    "ExecuteTime": {
     "end_time": "2021-01-28T21:44:25.235348Z",
     "start_time": "2021-01-28T21:44:25.231106Z"
    }
   },
   "outputs": [],
   "source": [
    "non_americans_in_can_team = all_can_players_in_can_teams + other_nats_in_can_teams\n",
    "non_americans_in_amer_teams = all_can_players_in_amer_teams + other_nats_in_amer_teams"
   ]
  },
  {
   "cell_type": "code",
   "execution_count": 115,
   "metadata": {
    "ExecuteTime": {
     "end_time": "2021-01-28T21:45:02.513751Z",
     "start_time": "2021-01-28T21:45:02.509792Z"
    }
   },
   "outputs": [],
   "source": [
    "amer_contingency_table = np.array([[all_amer_players_in_can_teams, non_americans_in_can_team],\n",
    "                                 [all_amer_players_in_amer_teams, non_americans_in_amer_teams]])"
   ]
  },
  {
   "cell_type": "markdown",
   "metadata": {},
   "source": [
    "## Running Test"
   ]
  },
  {
   "cell_type": "code",
   "execution_count": 116,
   "metadata": {
    "ExecuteTime": {
     "end_time": "2021-01-28T21:45:21.076256Z",
     "start_time": "2021-01-28T21:45:21.071563Z"
    }
   },
   "outputs": [],
   "source": [
    "amer_chi2, amer_p_value, amer_deg_of_freedom, amer_expected = chi2_contingency(amer_contingency_table)"
   ]
  },
  {
   "cell_type": "code",
   "execution_count": 117,
   "metadata": {
    "ExecuteTime": {
     "end_time": "2021-01-28T21:45:21.356246Z",
     "start_time": "2021-01-28T21:45:21.350675Z"
    }
   },
   "outputs": [
    {
     "data": {
      "text/plain": [
       "0.5625534759123411"
      ]
     },
     "execution_count": 117,
     "metadata": {},
     "output_type": "execute_result"
    }
   ],
   "source": [
    "amer_p_value"
   ]
  },
  {
   "cell_type": "markdown",
   "metadata": {},
   "source": [
    "## TEMPORARY CONCLUSION "
   ]
  },
  {
   "cell_type": "markdown",
   "metadata": {},
   "source": [
    "There are more canadians in canadian teams, but not more americans in american teams. In other words, canadians stay local more than americans do. "
   ]
  },
  {
   "cell_type": "markdown",
   "metadata": {},
   "source": [
    "# Conclsion"
   ]
  },
  {
   "cell_type": "markdown",
   "metadata": {},
   "source": [
    "The only conclusion from this notebook that we can make is that there are more canadian players playing in canada than in the United States. There was nearly significance for a country preference for Canadian, American, and other nationality players and no significance for American players playing in either country. \n",
    "\n",
    "In other words, Canadian stay local more than americans do. \n",
    "\n",
    "A piece to this puzzle may be the currencies that the two countries use: American dollars versus Canadian dollars. The salaries are standardized to American dollars and the players can choose which currency they want to be paid in. Since the American dollar is more valuable than Canadian dollars, depending on the exchange rate, Canadian teams will earn less than American teams will (https://www.quora.com/Do-all-NHL-players-regardless-of-whether-they-play-for-a-Canadian-team-receive-their-salaries-in-U-S-Currency).\n",
    "\n",
    "The key piece to the puzzle here, though, is taxes, taxes, taxes. All players pay national taxes and some have to pay state/province taxes on top of that amount. This "
   ]
  }
 ],
 "metadata": {
  "kernelspec": {
   "display_name": "Python [conda env:learn-env] *",
   "language": "python",
   "name": "conda-env-learn-env-py"
  },
  "language_info": {
   "codemirror_mode": {
    "name": "ipython",
    "version": 3
   },
   "file_extension": ".py",
   "mimetype": "text/x-python",
   "name": "python",
   "nbconvert_exporter": "python",
   "pygments_lexer": "ipython3",
   "version": "3.6.9"
  },
  "toc": {
   "base_numbering": 1,
   "nav_menu": {},
   "number_sections": true,
   "sideBar": true,
   "skip_h1_title": false,
   "title_cell": "Table of Contents",
   "title_sidebar": "Contents",
   "toc_cell": false,
   "toc_position": {},
   "toc_section_display": true,
   "toc_window_display": true
  },
  "varInspector": {
   "cols": {
    "lenName": 16,
    "lenType": 16,
    "lenVar": 40
   },
   "kernels_config": {
    "python": {
     "delete_cmd_postfix": "",
     "delete_cmd_prefix": "del ",
     "library": "var_list.py",
     "varRefreshCmd": "print(var_dic_list())"
    },
    "r": {
     "delete_cmd_postfix": ") ",
     "delete_cmd_prefix": "rm(",
     "library": "var_list.r",
     "varRefreshCmd": "cat(var_dic_list()) "
    }
   },
   "types_to_exclude": [
    "module",
    "function",
    "builtin_function_or_method",
    "instance",
    "_Feature"
   ],
   "window_display": false
  }
 },
 "nbformat": 4,
 "nbformat_minor": 2
}
