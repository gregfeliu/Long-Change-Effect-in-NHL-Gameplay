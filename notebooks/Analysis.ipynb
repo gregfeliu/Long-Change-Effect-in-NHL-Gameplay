{
 "cells": [
  {
   "cell_type": "markdown",
   "metadata": {},
   "source": [
    "from pyspark import SparkContext\n",
    "from sklearn.manifold import TSNE\n",
    "from sklearn.ensemble import RandomForestRegressor\n",
    "from sklearn.ensemble import RandomForestClassifier\n",
    "from sklearn.preprocessing import OneHotEncoder\n",
    "from sklearn.ensemble import GradientBoostingClassifier\n",
    "from sklearn.ensemble import GradientBoostingRegressor\n",
    "from sklearn.feature_extraction.text import TfidfVectorizer\n",
    "from pathlib import Path\n",
    "import altair as alt\n",
    "import matplotlib.pyplot as plt\n",
    "# ^^^ pyforest auto-imports - don't write above this line\n"
   ]
  },
  {
   "cell_type": "markdown",
   "metadata": {
    "ExecuteTime": {
     "end_time": "2020-10-28T14:18:21.758588Z",
     "start_time": "2020-10-28T14:18:21.756122Z"
    }
   },
   "source": [
    "# Analysis"
   ]
  },
  {
   "cell_type": "code",
   "execution_count": 123,
   "metadata": {
    "ExecuteTime": {
     "end_time": "2020-10-29T21:19:29.698995Z",
     "start_time": "2020-10-29T21:19:29.694161Z"
    }
   },
   "outputs": [],
   "source": [
    "import warnings\n",
    "from config import *\n",
    "from functions import *\n",
    "import pickle\n",
    "sns.set(style=\"whitegrid\")"
   ]
  },
  {
   "cell_type": "markdown",
   "metadata": {},
   "source": [
    "## Analyzing Game Data in ways that can't be done with Tableau"
   ]
  },
  {
   "cell_type": "markdown",
   "metadata": {
    "heading_collapsed": true
   },
   "source": [
    "### How many goals would be scored if every period was on the far side?"
   ]
  },
  {
   "cell_type": "code",
   "execution_count": 2,
   "metadata": {
    "ExecuteTime": {
     "end_time": "2020-10-29T17:46:47.490884Z",
     "start_time": "2020-10-29T17:46:47.477979Z"
    },
    "hidden": true
   },
   "outputs": [],
   "source": [
    "# import goal data \n",
    "goal_df = pd.read_csv(\"../data/goals.csv\", index_col=0)"
   ]
  },
  {
   "cell_type": "code",
   "execution_count": 3,
   "metadata": {
    "ExecuteTime": {
     "end_time": "2020-10-29T17:46:47.519886Z",
     "start_time": "2020-10-29T17:46:47.492673Z"
    },
    "hidden": true,
    "scrolled": true
   },
   "outputs": [
    {
     "data": {
      "text/html": [
       "<div>\n",
       "<style scoped>\n",
       "    .dataframe tbody tr th:only-of-type {\n",
       "        vertical-align: middle;\n",
       "    }\n",
       "\n",
       "    .dataframe tbody tr th {\n",
       "        vertical-align: top;\n",
       "    }\n",
       "\n",
       "    .dataframe thead th {\n",
       "        text-align: right;\n",
       "    }\n",
       "</style>\n",
       "<table border=\"1\" class=\"dataframe\">\n",
       "  <thead>\n",
       "    <tr style=\"text-align: right;\">\n",
       "      <th></th>\n",
       "      <th>period</th>\n",
       "      <th>goal</th>\n",
       "      <th>game_id</th>\n",
       "    </tr>\n",
       "  </thead>\n",
       "  <tbody>\n",
       "    <tr>\n",
       "      <th>count</th>\n",
       "      <td>19509.000000</td>\n",
       "      <td>19509.000000</td>\n",
       "      <td>1.950900e+04</td>\n",
       "    </tr>\n",
       "    <tr>\n",
       "      <th>mean</th>\n",
       "      <td>2.038546</td>\n",
       "      <td>1.500948</td>\n",
       "      <td>2.014164e+09</td>\n",
       "    </tr>\n",
       "    <tr>\n",
       "      <th>std</th>\n",
       "      <td>0.807395</td>\n",
       "      <td>0.747878</td>\n",
       "      <td>2.648608e+06</td>\n",
       "    </tr>\n",
       "    <tr>\n",
       "      <th>min</th>\n",
       "      <td>1.000000</td>\n",
       "      <td>1.000000</td>\n",
       "      <td>2.010020e+09</td>\n",
       "    </tr>\n",
       "    <tr>\n",
       "      <th>25%</th>\n",
       "      <td>1.000000</td>\n",
       "      <td>1.000000</td>\n",
       "      <td>2.012020e+09</td>\n",
       "    </tr>\n",
       "    <tr>\n",
       "      <th>50%</th>\n",
       "      <td>2.000000</td>\n",
       "      <td>1.000000</td>\n",
       "      <td>2.014021e+09</td>\n",
       "    </tr>\n",
       "    <tr>\n",
       "      <th>75%</th>\n",
       "      <td>3.000000</td>\n",
       "      <td>2.000000</td>\n",
       "      <td>2.017020e+09</td>\n",
       "    </tr>\n",
       "    <tr>\n",
       "      <th>max</th>\n",
       "      <td>3.000000</td>\n",
       "      <td>7.000000</td>\n",
       "      <td>2.018030e+09</td>\n",
       "    </tr>\n",
       "  </tbody>\n",
       "</table>\n",
       "</div>"
      ],
      "text/plain": [
       "             period          goal       game_id\n",
       "count  19509.000000  19509.000000  1.950900e+04\n",
       "mean       2.038546      1.500948  2.014164e+09\n",
       "std        0.807395      0.747878  2.648608e+06\n",
       "min        1.000000      1.000000  2.010020e+09\n",
       "25%        1.000000      1.000000  2.012020e+09\n",
       "50%        2.000000      1.000000  2.014021e+09\n",
       "75%        3.000000      2.000000  2.017020e+09\n",
       "max        3.000000      7.000000  2.018030e+09"
      ]
     },
     "execution_count": 3,
     "metadata": {},
     "output_type": "execute_result"
    }
   ],
   "source": [
    "goal_df.describe()"
   ]
  },
  {
   "cell_type": "markdown",
   "metadata": {
    "hidden": true
   },
   "source": [
    "#### Only 2nd period"
   ]
  },
  {
   "cell_type": "code",
   "execution_count": 4,
   "metadata": {
    "ExecuteTime": {
     "end_time": "2020-10-29T17:46:47.528794Z",
     "start_time": "2020-10-29T17:46:47.521731Z"
    },
    "hidden": true
   },
   "outputs": [
    {
     "name": "stderr",
     "output_type": "stream",
     "text": [
      "/Users/gregfeliu/opt/anaconda3/envs/learn-env/lib/python3.6/site-packages/ipykernel_launcher.py:3: SettingWithCopyWarning: \n",
      "A value is trying to be set on a copy of a slice from a DataFrame.\n",
      "Try using .loc[row_indexer,col_indexer] = value instead\n",
      "\n",
      "See the caveats in the documentation: http://pandas.pydata.org/pandas-docs/stable/user_guide/indexing.html#returning-a-view-versus-a-copy\n",
      "  This is separate from the ipykernel package so we can avoid doing imports until\n"
     ]
    }
   ],
   "source": [
    "# only 2nd period\n",
    "goal_2nd_per = goal_df[goal_df['period'] == 2]\n",
    "goal_2nd_per['goals_per_60'] = goal_2nd_per['goal'] * 3"
   ]
  },
  {
   "cell_type": "code",
   "execution_count": 5,
   "metadata": {
    "ExecuteTime": {
     "end_time": "2020-10-29T17:46:47.695012Z",
     "start_time": "2020-10-29T17:46:47.532629Z"
    },
    "hidden": true,
    "scrolled": true
   },
   "outputs": [
    {
     "data": {
      "text/plain": [
       "<matplotlib.axes._subplots.AxesSubplot at 0x7fb831fa0438>"
      ]
     },
     "execution_count": 5,
     "metadata": {},
     "output_type": "execute_result"
    },
    {
     "data": {
      "image/png": "[encoded data removed]",
      "text/plain": [
       "<Figure size 432x288 with 1 Axes>"
      ]
     },
     "metadata": {
      "needs_background": "light"
     },
     "output_type": "display_data"
    }
   ],
   "source": [
    "sns.kdeplot(goal_2nd_per['goals_per_60'])"
   ]
  },
  {
   "cell_type": "code",
   "execution_count": 6,
   "metadata": {
    "ExecuteTime": {
     "end_time": "2020-10-29T17:46:47.702750Z",
     "start_time": "2020-10-29T17:46:47.698763Z"
    },
    "hidden": true
   },
   "outputs": [
    {
     "data": {
      "text/plain": [
       "4.596037261570309"
      ]
     },
     "execution_count": 6,
     "metadata": {},
     "output_type": "execute_result"
    }
   ],
   "source": [
    "# average num of goals\n",
    "goal_2nd_per['goals_per_60'].mean()"
   ]
  },
  {
   "cell_type": "markdown",
   "metadata": {
    "hidden": true
   },
   "source": [
    "#### Only 1st Period"
   ]
  },
  {
   "cell_type": "code",
   "execution_count": 7,
   "metadata": {
    "ExecuteTime": {
     "end_time": "2020-10-29T17:46:47.709898Z",
     "start_time": "2020-10-29T17:46:47.704584Z"
    },
    "hidden": true
   },
   "outputs": [
    {
     "name": "stderr",
     "output_type": "stream",
     "text": [
      "/Users/gregfeliu/opt/anaconda3/envs/learn-env/lib/python3.6/site-packages/ipykernel_launcher.py:2: SettingWithCopyWarning: \n",
      "A value is trying to be set on a copy of a slice from a DataFrame.\n",
      "Try using .loc[row_indexer,col_indexer] = value instead\n",
      "\n",
      "See the caveats in the documentation: http://pandas.pydata.org/pandas-docs/stable/user_guide/indexing.html#returning-a-view-versus-a-copy\n",
      "  \n"
     ]
    }
   ],
   "source": [
    "goal_1st_per = goal_df[goal_df['period'] == 1]\n",
    "goal_1st_per['goals_per_60'] = goal_1st_per['goal'] * 3"
   ]
  },
  {
   "cell_type": "code",
   "execution_count": 8,
   "metadata": {
    "ExecuteTime": {
     "end_time": "2020-10-29T17:46:47.855719Z",
     "start_time": "2020-10-29T17:46:47.711582Z"
    },
    "hidden": true
   },
   "outputs": [
    {
     "data": {
      "text/plain": [
       "<matplotlib.axes._subplots.AxesSubplot at 0x7fb83206d320>"
      ]
     },
     "execution_count": 8,
     "metadata": {},
     "output_type": "execute_result"
    },
    {
     "data": {
      "image/png": "[encoded data removed]",
      "text/plain": [
       "<Figure size 432x288 with 1 Axes>"
      ]
     },
     "metadata": {
      "needs_background": "light"
     },
     "output_type": "display_data"
    }
   ],
   "source": [
    "sns.kdeplot(goal_1st_per['goals_per_60'])"
   ]
  },
  {
   "cell_type": "code",
   "execution_count": 9,
   "metadata": {
    "ExecuteTime": {
     "end_time": "2020-10-29T17:46:47.861869Z",
     "start_time": "2020-10-29T17:46:47.857602Z"
    },
    "hidden": true
   },
   "outputs": [
    {
     "data": {
      "text/plain": [
       "4.377688844422211"
      ]
     },
     "execution_count": 9,
     "metadata": {},
     "output_type": "execute_result"
    }
   ],
   "source": [
    "goal_1st_per['goals_per_60'].mean()"
   ]
  },
  {
   "cell_type": "markdown",
   "metadata": {
    "hidden": true
   },
   "source": [
    "#### Average Number of Goals per Game per Year"
   ]
  },
  {
   "cell_type": "code",
   "execution_count": 10,
   "metadata": {
    "ExecuteTime": {
     "end_time": "2020-10-29T17:46:47.870803Z",
     "start_time": "2020-10-29T17:46:47.863746Z"
    },
    "hidden": true
   },
   "outputs": [
    {
     "data": {
      "text/html": [
       "<div>\n",
       "<style scoped>\n",
       "    .dataframe tbody tr th:only-of-type {\n",
       "        vertical-align: middle;\n",
       "    }\n",
       "\n",
       "    .dataframe tbody tr th {\n",
       "        vertical-align: top;\n",
       "    }\n",
       "\n",
       "    .dataframe thead th {\n",
       "        text-align: right;\n",
       "    }\n",
       "</style>\n",
       "<table border=\"1\" class=\"dataframe\">\n",
       "  <thead>\n",
       "    <tr style=\"text-align: right;\">\n",
       "      <th></th>\n",
       "      <th>period</th>\n",
       "      <th>goal</th>\n",
       "      <th>game_id</th>\n",
       "    </tr>\n",
       "  </thead>\n",
       "  <tbody>\n",
       "    <tr>\n",
       "      <th>0</th>\n",
       "      <td>3</td>\n",
       "      <td>1</td>\n",
       "      <td>2011030221</td>\n",
       "    </tr>\n",
       "    <tr>\n",
       "      <th>1</th>\n",
       "      <td>1</td>\n",
       "      <td>1</td>\n",
       "      <td>2011030111</td>\n",
       "    </tr>\n",
       "    <tr>\n",
       "      <th>2</th>\n",
       "      <td>2</td>\n",
       "      <td>1</td>\n",
       "      <td>2011030111</td>\n",
       "    </tr>\n",
       "    <tr>\n",
       "      <th>3</th>\n",
       "      <td>3</td>\n",
       "      <td>2</td>\n",
       "      <td>2011030111</td>\n",
       "    </tr>\n",
       "    <tr>\n",
       "      <th>4</th>\n",
       "      <td>3</td>\n",
       "      <td>2</td>\n",
       "      <td>2011030222</td>\n",
       "    </tr>\n",
       "    <tr>\n",
       "      <th>5</th>\n",
       "      <td>1</td>\n",
       "      <td>1</td>\n",
       "      <td>2011030223</td>\n",
       "    </tr>\n",
       "    <tr>\n",
       "      <th>6</th>\n",
       "      <td>3</td>\n",
       "      <td>1</td>\n",
       "      <td>2011030223</td>\n",
       "    </tr>\n",
       "    <tr>\n",
       "      <th>7</th>\n",
       "      <td>1</td>\n",
       "      <td>1</td>\n",
       "      <td>2011030224</td>\n",
       "    </tr>\n",
       "    <tr>\n",
       "      <th>8</th>\n",
       "      <td>3</td>\n",
       "      <td>1</td>\n",
       "      <td>2011030224</td>\n",
       "    </tr>\n",
       "    <tr>\n",
       "      <th>9</th>\n",
       "      <td>1</td>\n",
       "      <td>1</td>\n",
       "      <td>2011030225</td>\n",
       "    </tr>\n",
       "  </tbody>\n",
       "</table>\n",
       "</div>"
      ],
      "text/plain": [
       "   period  goal     game_id\n",
       "0       3     1  2011030221\n",
       "1       1     1  2011030111\n",
       "2       2     1  2011030111\n",
       "3       3     2  2011030111\n",
       "4       3     2  2011030222\n",
       "5       1     1  2011030223\n",
       "6       3     1  2011030223\n",
       "7       1     1  2011030224\n",
       "8       3     1  2011030224\n",
       "9       1     1  2011030225"
      ]
     },
     "execution_count": 10,
     "metadata": {},
     "output_type": "execute_result"
    }
   ],
   "source": [
    "goal_df.head(10)"
   ]
  },
  {
   "cell_type": "code",
   "execution_count": 11,
   "metadata": {
    "ExecuteTime": {
     "end_time": "2020-10-29T17:46:47.875872Z",
     "start_time": "2020-10-29T17:46:47.872494Z"
    },
    "hidden": true
   },
   "outputs": [],
   "source": [
    "test_game_id = goal_df['game_id'][0]"
   ]
  },
  {
   "cell_type": "code",
   "execution_count": 12,
   "metadata": {
    "ExecuteTime": {
     "end_time": "2020-10-29T17:46:47.881025Z",
     "start_time": "2020-10-29T17:46:47.877607Z"
    },
    "hidden": true
   },
   "outputs": [],
   "source": [
    "goal_df['season'] = goal_df['game_id'] // (10**6)"
   ]
  },
  {
   "cell_type": "code",
   "execution_count": 13,
   "metadata": {
    "ExecuteTime": {
     "end_time": "2020-10-29T17:46:47.890437Z",
     "start_time": "2020-10-29T17:46:47.882615Z"
    },
    "hidden": true
   },
   "outputs": [],
   "source": [
    "season_goals = goal_df.groupby(['season']).goal.mean() * 3\n",
    "season_period_goals = goal_df.groupby(['season', 'period']).goal.mean()"
   ]
  },
  {
   "cell_type": "code",
   "execution_count": 14,
   "metadata": {
    "ExecuteTime": {
     "end_time": "2020-10-29T17:46:48.031991Z",
     "start_time": "2020-10-29T17:46:47.892019Z"
    },
    "hidden": true
   },
   "outputs": [
    {
     "data": {
      "text/plain": [
       "<matplotlib.axes._subplots.AxesSubplot at 0x7fb8312bc1d0>"
      ]
     },
     "execution_count": 14,
     "metadata": {},
     "output_type": "execute_result"
    },
    {
     "data": {
      "image/png": "[encoded data removed]",
      "text/plain": [
       "<Figure size 432x288 with 1 Axes>"
      ]
     },
     "metadata": {
      "needs_background": "light"
     },
     "output_type": "display_data"
    }
   ],
   "source": [
    "sns.barplot(x = season_goals.index, y = season_goals.values)"
   ]
  },
  {
   "cell_type": "code",
   "execution_count": 15,
   "metadata": {
    "ExecuteTime": {
     "end_time": "2020-10-29T17:46:48.305686Z",
     "start_time": "2020-10-29T17:46:48.034069Z"
    },
    "hidden": true,
    "scrolled": true
   },
   "outputs": [
    {
     "data": {
      "text/plain": [
       "<matplotlib.axes._subplots.AxesSubplot at 0x7fb83160bcc0>"
      ]
     },
     "execution_count": 15,
     "metadata": {},
     "output_type": "execute_result"
    },
    {
     "data": {
      "image/png": "[encoded data removed]",
      "text/plain": [
       "<Figure size 432x288 with 1 Axes>"
      ]
     },
     "metadata": {
      "needs_background": "light"
     },
     "output_type": "display_data"
    }
   ],
   "source": [
    "sns.barplot(x = season_period_goals.index, y = season_period_goals.values)"
   ]
  },
  {
   "cell_type": "code",
   "execution_count": 16,
   "metadata": {
    "ExecuteTime": {
     "end_time": "2020-10-29T17:46:48.315367Z",
     "start_time": "2020-10-29T17:46:48.307652Z"
    },
    "hidden": true
   },
   "outputs": [
    {
     "name": "stderr",
     "output_type": "stream",
     "text": [
      "/Users/gregfeliu/opt/anaconda3/envs/learn-env/lib/python3.6/site-packages/ipykernel_launcher.py:2: SettingWithCopyWarning: \n",
      "A value is trying to be set on a copy of a slice from a DataFrame.\n",
      "Try using .loc[row_indexer,col_indexer] = value instead\n",
      "\n",
      "See the caveats in the documentation: http://pandas.pydata.org/pandas-docs/stable/user_guide/indexing.html#returning-a-view-versus-a-copy\n",
      "  \n"
     ]
    }
   ],
   "source": [
    "# viewing second period for each year \n",
    "goal_2nd_per['season'] = goal_2nd_per['game_id'] // (10**6)\n",
    "season_2nd_period_goals = goal_2nd_per.groupby(['season']).goal.mean() \n",
    "season_2nd_period_goals_per_60 = goal_2nd_per.groupby(['season']).goal.mean() * 3"
   ]
  },
  {
   "cell_type": "code",
   "execution_count": 17,
   "metadata": {
    "ExecuteTime": {
     "end_time": "2020-10-29T17:46:48.500112Z",
     "start_time": "2020-10-29T17:46:48.317046Z"
    },
    "hidden": true
   },
   "outputs": [
    {
     "data": {
      "text/plain": [
       "<matplotlib.axes._subplots.AxesSubplot at 0x7fb8317cd278>"
      ]
     },
     "execution_count": 17,
     "metadata": {},
     "output_type": "execute_result"
    },
    {
     "data": {
      "image/png": "[encoded data removed]",
      "text/plain": [
       "<Figure size 432x288 with 1 Axes>"
      ]
     },
     "metadata": {
      "needs_background": "light"
     },
     "output_type": "display_data"
    }
   ],
   "source": [
    "sns.barplot(x = season_2nd_period_goals_per_60.index, y= season_2nd_period_goals_per_60.values)"
   ]
  },
  {
   "cell_type": "markdown",
   "metadata": {
    "hidden": true
   },
   "source": [
    "#### Increase in goals per year"
   ]
  },
  {
   "cell_type": "code",
   "execution_count": 18,
   "metadata": {
    "ExecuteTime": {
     "end_time": "2020-10-29T17:46:48.504836Z",
     "start_time": "2020-10-29T17:46:48.502390Z"
    },
    "hidden": true
   },
   "outputs": [],
   "source": [
    "increase_goals_w_long_change = season_2nd_period_goals_per_60.values - season_goals.values"
   ]
  },
  {
   "cell_type": "code",
   "execution_count": 19,
   "metadata": {
    "ExecuteTime": {
     "end_time": "2020-10-29T17:46:48.510636Z",
     "start_time": "2020-10-29T17:46:48.506654Z"
    },
    "hidden": true
   },
   "outputs": [
    {
     "data": {
      "text/plain": [
       "[0.08, 0.16, 0.05, 0.13, 0.05, 0.03, 0.09, 0.2, 0.04]"
      ]
     },
     "execution_count": 19,
     "metadata": {},
     "output_type": "execute_result"
    }
   ],
   "source": [
    "increase_goals_w_long_change_rounded = [round(x, 2) for x in increase_goals_w_long_change]\n",
    "increase_goals_w_long_change_rounded"
   ]
  },
  {
   "cell_type": "code",
   "execution_count": 20,
   "metadata": {
    "ExecuteTime": {
     "end_time": "2020-10-29T17:46:48.516002Z",
     "start_time": "2020-10-29T17:46:48.512416Z"
    },
    "hidden": true
   },
   "outputs": [
    {
     "data": {
      "text/plain": [
       "0.96"
      ]
     },
     "execution_count": 20,
     "metadata": {},
     "output_type": "execute_result"
    }
   ],
   "source": [
    "increase_goals_w_long_change_rounded[0] * 12"
   ]
  },
  {
   "cell_type": "code",
   "execution_count": 21,
   "metadata": {
    "ExecuteTime": {
     "end_time": "2020-10-29T17:46:48.521234Z",
     "start_time": "2020-10-29T17:46:48.517885Z"
    },
    "hidden": true
   },
   "outputs": [
    {
     "data": {
      "text/plain": [
       "0.09222222222222223"
      ]
     },
     "execution_count": 21,
     "metadata": {},
     "output_type": "execute_result"
    }
   ],
   "source": [
    "sum (increase_goals_w_long_change_rounded) / len(increase_goals_w_long_change_rounded)"
   ]
  },
  {
   "cell_type": "code",
   "execution_count": 22,
   "metadata": {
    "ExecuteTime": {
     "end_time": "2020-10-29T17:46:48.526727Z",
     "start_time": "2020-10-29T17:46:48.523142Z"
    },
    "hidden": true
   },
   "outputs": [
    {
     "data": {
      "text/plain": [
       "10.869565217391305"
      ]
     },
     "execution_count": 22,
     "metadata": {},
     "output_type": "execute_result"
    }
   ],
   "source": [
    "# one more goal scored every 10.8 games\n",
    "1 / 0.092"
   ]
  },
  {
   "cell_type": "markdown",
   "metadata": {},
   "source": [
    "## Stoppages per game"
   ]
  },
  {
   "cell_type": "code",
   "execution_count": 23,
   "metadata": {
    "ExecuteTime": {
     "end_time": "2020-10-29T17:46:48.546831Z",
     "start_time": "2020-10-29T17:46:48.528515Z"
    },
    "scrolled": true
   },
   "outputs": [
    {
     "data": {
      "text/plain": [
       "period\n",
       "1    7.547282\n",
       "2    7.821321\n",
       "3    7.665658\n",
       "Name: Stoppage, dtype: float64"
      ]
     },
     "execution_count": 23,
     "metadata": {},
     "output_type": "execute_result"
    }
   ],
   "source": [
    "stoppage_df = pd.read_csv(\"../data/stoppages.csv\", index_col=0)\n",
    "stoppage_avg = stoppage_df.groupby(['period']).Stoppage.mean()\n",
    "stoppage_avg"
   ]
  },
  {
   "cell_type": "code",
   "execution_count": 24,
   "metadata": {
    "ExecuteTime": {
     "end_time": "2020-10-29T17:46:48.552268Z",
     "start_time": "2020-10-29T17:46:48.548810Z"
    }
   },
   "outputs": [
    {
     "data": {
      "text/plain": [
       "{'No_Change': 23.03, 'Two_Long_Changes': 23.19, 'Three_Long_Changes': 23.46}"
      ]
     },
     "execution_count": 24,
     "metadata": {},
     "output_type": "execute_result"
    }
   ],
   "source": [
    "stoppages_proposals = generate_three_proposals(stoppage_avg)\n",
    "stoppages_proposals"
   ]
  },
  {
   "cell_type": "code",
   "execution_count": 184,
   "metadata": {
    "ExecuteTime": {
     "end_time": "2020-11-02T20:37:58.443215Z",
     "start_time": "2020-11-02T20:37:58.437309Z"
    }
   },
   "outputs": [],
   "source": [
    "stoppage_proposal_df = proposals_to_df(stoppages_proposals, \"Stoppages\")"
   ]
  },
  {
   "cell_type": "markdown",
   "metadata": {},
   "source": [
    "## Takeaways"
   ]
  },
  {
   "cell_type": "code",
   "execution_count": 180,
   "metadata": {
    "ExecuteTime": {
     "end_time": "2020-11-02T20:20:19.242785Z",
     "start_time": "2020-11-02T20:20:19.221697Z"
    }
   },
   "outputs": [],
   "source": [
    "takeaways_df = pd.read_csv(\"../data/takeaways.csv\", index_col=0)\n",
    "takeaways_avg = takeaways_df.groupby(['period']).Takeaway.mean()"
   ]
  },
  {
   "cell_type": "code",
   "execution_count": 181,
   "metadata": {
    "ExecuteTime": {
     "end_time": "2020-11-02T20:20:20.177265Z",
     "start_time": "2020-11-02T20:20:20.173310Z"
    }
   },
   "outputs": [
    {
     "data": {
      "text/plain": [
       "period\n",
       "1    2.595429\n",
       "2    2.479551\n",
       "3    2.404253\n",
       "Name: Takeaway, dtype: float64"
      ]
     },
     "execution_count": 181,
     "metadata": {},
     "output_type": "execute_result"
    }
   ],
   "source": [
    "takeaways_avg"
   ]
  },
  {
   "cell_type": "code",
   "execution_count": 29,
   "metadata": {
    "ExecuteTime": {
     "end_time": "2020-10-29T17:47:29.745319Z",
     "start_time": "2020-10-29T17:47:29.741755Z"
    }
   },
   "outputs": [
    {
     "data": {
      "text/plain": [
       "{'No_Change': 7.48, 'Two_Long_Changes': 7.55, 'Three_Long_Changes': 7.44}"
      ]
     },
     "execution_count": 29,
     "metadata": {},
     "output_type": "execute_result"
    }
   ],
   "source": [
    "takeaways_proposals = generate_three_proposals(takeaways_avg)\n",
    "takeaways_proposals"
   ]
  },
  {
   "cell_type": "code",
   "execution_count": 64,
   "metadata": {
    "ExecuteTime": {
     "end_time": "2020-10-29T18:00:41.481856Z",
     "start_time": "2020-10-29T18:00:41.477541Z"
    }
   },
   "outputs": [],
   "source": [
    "takeaway_df = proposals_to_df(takeaways_proposals, \"Takeaways\")"
   ]
  },
  {
   "cell_type": "markdown",
   "metadata": {},
   "source": [
    "## Giveaways"
   ]
  },
  {
   "cell_type": "code",
   "execution_count": 31,
   "metadata": {
    "ExecuteTime": {
     "end_time": "2020-10-29T17:47:43.783562Z",
     "start_time": "2020-10-29T17:47:43.761994Z"
    }
   },
   "outputs": [
    {
     "data": {
      "text/plain": [
       "period\n",
       "1    3.108809\n",
       "2    2.874962\n",
       "3    2.690820\n",
       "Name: Giveaway, dtype: float64"
      ]
     },
     "execution_count": 31,
     "metadata": {},
     "output_type": "execute_result"
    }
   ],
   "source": [
    "giveaways_df = pd.read_csv(\"../data/giveaways.csv\", index_col=0)\n",
    "giveaways_avg = giveaways_df.groupby(['period']).Giveaway.mean()\n",
    "giveaways_avg"
   ]
  },
  {
   "cell_type": "code",
   "execution_count": 32,
   "metadata": {
    "ExecuteTime": {
     "end_time": "2020-10-29T17:47:44.205795Z",
     "start_time": "2020-10-29T17:47:44.202135Z"
    }
   },
   "outputs": [
    {
     "data": {
      "text/plain": [
       "{'No_Change': 8.67, 'Two_Long_Changes': 8.86, 'Three_Long_Changes': 8.62}"
      ]
     },
     "execution_count": 32,
     "metadata": {},
     "output_type": "execute_result"
    }
   ],
   "source": [
    "giveaways_proposals = generate_three_proposals(giveaways_avg)\n",
    "giveaways_proposals"
   ]
  },
  {
   "cell_type": "code",
   "execution_count": 65,
   "metadata": {
    "ExecuteTime": {
     "end_time": "2020-10-29T18:00:43.857982Z",
     "start_time": "2020-10-29T18:00:43.854370Z"
    }
   },
   "outputs": [],
   "source": [
    "giveaway_df = proposals_to_df(giveaways_proposals, \"Giveaways\")"
   ]
  },
  {
   "cell_type": "markdown",
   "metadata": {},
   "source": [
    "## Hits"
   ]
  },
  {
   "cell_type": "code",
   "execution_count": 35,
   "metadata": {
    "ExecuteTime": {
     "end_time": "2020-10-29T17:48:12.276740Z",
     "start_time": "2020-10-29T17:48:12.252574Z"
    }
   },
   "outputs": [
    {
     "data": {
      "text/plain": [
       "period\n",
       "1    8.450547\n",
       "2    7.119211\n",
       "3    6.044054\n",
       "Name: Hit, dtype: float64"
      ]
     },
     "execution_count": 35,
     "metadata": {},
     "output_type": "execute_result"
    }
   ],
   "source": [
    "hit_avgs = get_category_and_period_avg('Hit')\n",
    "hit_avgs"
   ]
  },
  {
   "cell_type": "code",
   "execution_count": 36,
   "metadata": {
    "ExecuteTime": {
     "end_time": "2020-10-29T17:48:12.697284Z",
     "start_time": "2020-10-29T17:48:12.693631Z"
    }
   },
   "outputs": [
    {
     "data": {
      "text/plain": [
       "{'No_Change': 21.61, 'Two_Long_Changes': 22.69, 'Three_Long_Changes': 21.36}"
      ]
     },
     "execution_count": 36,
     "metadata": {},
     "output_type": "execute_result"
    }
   ],
   "source": [
    "hits_proposals = generate_three_proposals(hit_avgs)\n",
    "hits_proposals"
   ]
  },
  {
   "cell_type": "code",
   "execution_count": 66,
   "metadata": {
    "ExecuteTime": {
     "end_time": "2020-10-29T18:00:45.867935Z",
     "start_time": "2020-10-29T18:00:45.863782Z"
    }
   },
   "outputs": [],
   "source": [
    "hit_df = proposals_to_df(hits_proposals, \"Hits\")"
   ]
  },
  {
   "cell_type": "markdown",
   "metadata": {},
   "source": [
    "## Penalties"
   ]
  },
  {
   "cell_type": "code",
   "execution_count": 38,
   "metadata": {
    "ExecuteTime": {
     "end_time": "2020-10-29T17:48:33.918553Z",
     "start_time": "2020-10-29T17:48:33.897228Z"
    }
   },
   "outputs": [
    {
     "data": {
      "text/plain": [
       "period\n",
       "1    1.870265\n",
       "2    2.009175\n",
       "3    1.932623\n",
       "Name: penalty, dtype: float64"
      ]
     },
     "execution_count": 38,
     "metadata": {},
     "output_type": "execute_result"
    }
   ],
   "source": [
    "penalties_df = pd.read_csv(\"../data/penalties.csv\", index_col=0)\n",
    "penalty_avgs = penalties_df.groupby(['period']).penalty.mean()\n",
    "penalty_avgs"
   ]
  },
  {
   "cell_type": "code",
   "execution_count": 39,
   "metadata": {
    "ExecuteTime": {
     "end_time": "2020-10-29T17:48:34.414842Z",
     "start_time": "2020-10-29T17:48:34.411121Z"
    }
   },
   "outputs": [
    {
     "data": {
      "text/plain": [
       "{'No_Change': 5.81, 'Two_Long_Changes': 5.89, 'Three_Long_Changes': 6.03}"
      ]
     },
     "execution_count": 39,
     "metadata": {},
     "output_type": "execute_result"
    }
   ],
   "source": [
    "penalties_proposals = generate_three_proposals(penalty_avgs)\n",
    "penalties_proposals"
   ]
  },
  {
   "cell_type": "code",
   "execution_count": 67,
   "metadata": {
    "ExecuteTime": {
     "end_time": "2020-10-29T18:00:48.716049Z",
     "start_time": "2020-10-29T18:00:48.711251Z"
    }
   },
   "outputs": [],
   "source": [
    "penalty_df = proposals_to_df(penalties_proposals, \"Penalties\")"
   ]
  },
  {
   "cell_type": "markdown",
   "metadata": {},
   "source": [
    "### Do more penalties explain increase in goals"
   ]
  },
  {
   "cell_type": "markdown",
   "metadata": {},
   "source": [
    "#### Penalty minute sums per period"
   ]
  },
  {
   "cell_type": "code",
   "execution_count": 162,
   "metadata": {
    "ExecuteTime": {
     "end_time": "2020-11-02T19:30:25.938327Z",
     "start_time": "2020-11-02T19:30:25.931099Z"
    }
   },
   "outputs": [],
   "source": [
    "# 5 on 4 play has 6.57 goals per 60, compared to 2.37 per 60 for 5 on 5\n",
    "## number of penalty minutes per period\n",
    "penalty_sums = penalties_df.groupby('period').penalty.sum()\n",
    "penalty_sums_df = penalty_sums.to_frame()"
   ]
  },
  {
   "cell_type": "code",
   "execution_count": 165,
   "metadata": {
    "ExecuteTime": {
     "end_time": "2020-11-02T19:30:40.385386Z",
     "start_time": "2020-11-02T19:30:40.379406Z"
    }
   },
   "outputs": [],
   "source": [
    "penalty_sums_df['penalty_minutes'] = penalty_sums_df['penalty'] * 2"
   ]
  },
  {
   "cell_type": "code",
   "execution_count": 166,
   "metadata": {
    "ExecuteTime": {
     "end_time": "2020-11-02T19:30:41.306429Z",
     "start_time": "2020-11-02T19:30:41.301105Z"
    }
   },
   "outputs": [
    {
     "data": {
      "text/html": [
       "<div>\n",
       "<style scoped>\n",
       "    .dataframe tbody tr th:only-of-type {\n",
       "        vertical-align: middle;\n",
       "    }\n",
       "\n",
       "    .dataframe tbody tr th {\n",
       "        vertical-align: top;\n",
       "    }\n",
       "\n",
       "    .dataframe thead th {\n",
       "        text-align: right;\n",
       "    }\n",
       "</style>\n",
       "<table border=\"1\" class=\"dataframe\">\n",
       "  <thead>\n",
       "    <tr style=\"text-align: right;\">\n",
       "      <th></th>\n",
       "      <th>penalty</th>\n",
       "      <th>penalty_minutes</th>\n",
       "    </tr>\n",
       "    <tr>\n",
       "      <th>period</th>\n",
       "      <th></th>\n",
       "      <th></th>\n",
       "    </tr>\n",
       "  </thead>\n",
       "  <tbody>\n",
       "    <tr>\n",
       "      <th>1</th>\n",
       "      <td>15454</td>\n",
       "      <td>30908</td>\n",
       "    </tr>\n",
       "    <tr>\n",
       "      <th>2</th>\n",
       "      <td>17518</td>\n",
       "      <td>35036</td>\n",
       "    </tr>\n",
       "    <tr>\n",
       "      <th>3</th>\n",
       "      <td>14514</td>\n",
       "      <td>29028</td>\n",
       "    </tr>\n",
       "  </tbody>\n",
       "</table>\n",
       "</div>"
      ],
      "text/plain": [
       "        penalty  penalty_minutes\n",
       "period                          \n",
       "1         15454            30908\n",
       "2         17518            35036\n",
       "3         14514            29028"
      ]
     },
     "execution_count": 166,
     "metadata": {},
     "output_type": "execute_result"
    }
   ],
   "source": [
    "penalty_sums_df"
   ]
  },
  {
   "cell_type": "code",
   "execution_count": 170,
   "metadata": {
    "ExecuteTime": {
     "end_time": "2020-11-02T19:33:18.720881Z",
     "start_time": "2020-11-02T19:33:18.715623Z"
    }
   },
   "outputs": [],
   "source": [
    "# expected goals from https://faculty.nps.edu/awashburn/docs/EstimatingNHLScoringRates.pdf\n",
    "penalty_sums_df['expected_goals_added'] = (penalty_sums_df['penalty_minutes'] / 60) * 6.54"
   ]
  },
  {
   "cell_type": "code",
   "execution_count": 172,
   "metadata": {
    "ExecuteTime": {
     "end_time": "2020-11-02T19:33:24.291106Z",
     "start_time": "2020-11-02T19:33:24.281449Z"
    }
   },
   "outputs": [
    {
     "data": {
      "text/html": [
       "<div>\n",
       "<style scoped>\n",
       "    .dataframe tbody tr th:only-of-type {\n",
       "        vertical-align: middle;\n",
       "    }\n",
       "\n",
       "    .dataframe tbody tr th {\n",
       "        vertical-align: top;\n",
       "    }\n",
       "\n",
       "    .dataframe thead th {\n",
       "        text-align: right;\n",
       "    }\n",
       "</style>\n",
       "<table border=\"1\" class=\"dataframe\">\n",
       "  <thead>\n",
       "    <tr style=\"text-align: right;\">\n",
       "      <th></th>\n",
       "      <th>penalty</th>\n",
       "      <th>penalty_minutes</th>\n",
       "      <th>expected_goals_added</th>\n",
       "    </tr>\n",
       "    <tr>\n",
       "      <th>period</th>\n",
       "      <th></th>\n",
       "      <th></th>\n",
       "      <th></th>\n",
       "    </tr>\n",
       "  </thead>\n",
       "  <tbody>\n",
       "    <tr>\n",
       "      <th>1</th>\n",
       "      <td>15454</td>\n",
       "      <td>30908</td>\n",
       "      <td>3368.972</td>\n",
       "    </tr>\n",
       "    <tr>\n",
       "      <th>2</th>\n",
       "      <td>17518</td>\n",
       "      <td>35036</td>\n",
       "      <td>3818.924</td>\n",
       "    </tr>\n",
       "    <tr>\n",
       "      <th>3</th>\n",
       "      <td>14514</td>\n",
       "      <td>29028</td>\n",
       "      <td>3164.052</td>\n",
       "    </tr>\n",
       "  </tbody>\n",
       "</table>\n",
       "</div>"
      ],
      "text/plain": [
       "        penalty  penalty_minutes  expected_goals_added\n",
       "period                                                \n",
       "1         15454            30908              3368.972\n",
       "2         17518            35036              3818.924\n",
       "3         14514            29028              3164.052"
      ]
     },
     "execution_count": 172,
     "metadata": {},
     "output_type": "execute_result"
    }
   ],
   "source": [
    "penalty_sums_df"
   ]
  },
  {
   "cell_type": "markdown",
   "metadata": {},
   "source": [
    "#### Goal sums per period"
   ]
  },
  {
   "cell_type": "code",
   "execution_count": 177,
   "metadata": {
    "ExecuteTime": {
     "end_time": "2020-11-02T19:35:21.360318Z",
     "start_time": "2020-11-02T19:35:21.344158Z"
    }
   },
   "outputs": [],
   "source": [
    "goals_df = pd.read_csv(\"../data/goals.csv\",index_col=0)\n",
    "goal_sums = goals_df.groupby('period').goal.sum()"
   ]
  },
  {
   "cell_type": "code",
   "execution_count": 178,
   "metadata": {
    "ExecuteTime": {
     "end_time": "2020-11-02T19:35:22.275943Z",
     "start_time": "2020-11-02T19:35:22.271710Z"
    }
   },
   "outputs": [],
   "source": [
    "goal_sums_df = goal_sums.to_frame()\n",
    "\n",
    "goal_sums_df['expected_goals_added_by_pen'] = penalty_sums_df['expected_goals_added']\n",
    "\n",
    "goal_sums_df['goals_minus_pen_goals_added'] = goal_sums_df['goal'] - goal_sums_df['expected_goals_added_by_pen']"
   ]
  },
  {
   "cell_type": "code",
   "execution_count": 179,
   "metadata": {
    "ExecuteTime": {
     "end_time": "2020-11-02T19:35:23.169842Z",
     "start_time": "2020-11-02T19:35:23.163537Z"
    }
   },
   "outputs": [
    {
     "data": {
      "text/html": [
       "<div>\n",
       "<style scoped>\n",
       "    .dataframe tbody tr th:only-of-type {\n",
       "        vertical-align: middle;\n",
       "    }\n",
       "\n",
       "    .dataframe tbody tr th {\n",
       "        vertical-align: top;\n",
       "    }\n",
       "\n",
       "    .dataframe thead th {\n",
       "        text-align: right;\n",
       "    }\n",
       "</style>\n",
       "<table border=\"1\" class=\"dataframe\">\n",
       "  <thead>\n",
       "    <tr style=\"text-align: right;\">\n",
       "      <th></th>\n",
       "      <th>goal</th>\n",
       "      <th>expected_goals_added_by_pen</th>\n",
       "      <th>goals_minus_pen_goals_added</th>\n",
       "    </tr>\n",
       "    <tr>\n",
       "      <th>period</th>\n",
       "      <th></th>\n",
       "      <th></th>\n",
       "      <th></th>\n",
       "    </tr>\n",
       "  </thead>\n",
       "  <tbody>\n",
       "    <tr>\n",
       "      <th>1</th>\n",
       "      <td>8751</td>\n",
       "      <td>3368.972</td>\n",
       "      <td>5382.028</td>\n",
       "    </tr>\n",
       "    <tr>\n",
       "      <th>2</th>\n",
       "      <td>10361</td>\n",
       "      <td>3818.924</td>\n",
       "      <td>6542.076</td>\n",
       "    </tr>\n",
       "    <tr>\n",
       "      <th>3</th>\n",
       "      <td>10170</td>\n",
       "      <td>3164.052</td>\n",
       "      <td>7005.948</td>\n",
       "    </tr>\n",
       "  </tbody>\n",
       "</table>\n",
       "</div>"
      ],
      "text/plain": [
       "         goal  expected_goals_added_by_pen  goals_minus_pen_goals_added\n",
       "period                                                                 \n",
       "1        8751                     3368.972                     5382.028\n",
       "2       10361                     3818.924                     6542.076\n",
       "3       10170                     3164.052                     7005.948"
      ]
     },
     "execution_count": 179,
     "metadata": {},
     "output_type": "execute_result"
    }
   ],
   "source": [
    "# when you control for goals scored on powerplay, the third period has the most goals, followed by second, first\n",
    "goal_sums_df"
   ]
  },
  {
   "cell_type": "markdown",
   "metadata": {},
   "source": [
    "## Shots"
   ]
  },
  {
   "cell_type": "code",
   "execution_count": 41,
   "metadata": {
    "ExecuteTime": {
     "end_time": "2020-10-29T17:48:51.413190Z",
     "start_time": "2020-10-29T17:48:51.390559Z"
    }
   },
   "outputs": [
    {
     "data": {
      "text/plain": [
       "period\n",
       "1    8.527795\n",
       "2    8.857232\n",
       "3    8.059598\n",
       "Name: shot, dtype: float64"
      ]
     },
     "execution_count": 41,
     "metadata": {},
     "output_type": "execute_result"
    }
   ],
   "source": [
    "shots_df = pd.read_csv(\"../data/shots.csv\", index_col=0)\n",
    "shot_avgs = shots_df.groupby(['period']).shot.mean()\n",
    "shot_avgs"
   ]
  },
  {
   "cell_type": "code",
   "execution_count": 42,
   "metadata": {
    "ExecuteTime": {
     "end_time": "2020-10-29T17:48:51.959892Z",
     "start_time": "2020-10-29T17:48:51.956328Z"
    }
   },
   "outputs": [
    {
     "data": {
      "text/plain": [
       "{'No_Change': 25.44, 'Two_Long_Changes': 26.24, 'Three_Long_Changes': 26.57}"
      ]
     },
     "execution_count": 42,
     "metadata": {},
     "output_type": "execute_result"
    }
   ],
   "source": [
    "shots_proposals = generate_three_proposals(shot_avgs)\n",
    "shots_proposals"
   ]
  },
  {
   "cell_type": "code",
   "execution_count": 68,
   "metadata": {
    "ExecuteTime": {
     "end_time": "2020-10-29T18:00:50.835980Z",
     "start_time": "2020-10-29T18:00:50.831017Z"
    }
   },
   "outputs": [],
   "source": [
    "shot_df = proposals_to_df(shots_proposals, \"Shots\")"
   ]
  },
  {
   "cell_type": "markdown",
   "metadata": {},
   "source": [
    "## Blocked Shots"
   ]
  },
  {
   "cell_type": "code",
   "execution_count": 44,
   "metadata": {
    "ExecuteTime": {
     "end_time": "2020-10-29T17:49:09.891326Z",
     "start_time": "2020-10-29T17:49:09.869394Z"
    }
   },
   "outputs": [
    {
     "data": {
      "text/plain": [
       "period\n",
       "1    4.454365\n",
       "2    4.437850\n",
       "3    4.197767\n",
       "Name: Blocked Shot, dtype: float64"
      ]
     },
     "execution_count": 44,
     "metadata": {},
     "output_type": "execute_result"
    }
   ],
   "source": [
    "blocked_shots_df = pd.read_csv(\"../data/blocked_shots.csv\", index_col=0)\n",
    "blocked_shots_avgs = blocked_shots_df.groupby(['period'])['Blocked Shot'].mean()\n",
    "blocked_shots_avgs"
   ]
  },
  {
   "cell_type": "code",
   "execution_count": 45,
   "metadata": {
    "ExecuteTime": {
     "end_time": "2020-10-29T17:49:10.485679Z",
     "start_time": "2020-10-29T17:49:10.482030Z"
    }
   },
   "outputs": [
    {
     "data": {
      "text/plain": [
       "{'No_Change': 13.09, 'Two_Long_Changes': 13.33, 'Three_Long_Changes': 13.31}"
      ]
     },
     "execution_count": 45,
     "metadata": {},
     "output_type": "execute_result"
    }
   ],
   "source": [
    "blocked_shots_proposals = generate_three_proposals(blocked_shots_avgs)\n",
    "blocked_shots_proposals"
   ]
  },
  {
   "cell_type": "code",
   "execution_count": 69,
   "metadata": {
    "ExecuteTime": {
     "end_time": "2020-10-29T18:00:52.893876Z",
     "start_time": "2020-10-29T18:00:52.889199Z"
    }
   },
   "outputs": [],
   "source": [
    "blocked_shot_df = proposals_to_df(blocked_shots_proposals, \"Blocked_Shots\")"
   ]
  },
  {
   "cell_type": "markdown",
   "metadata": {},
   "source": [
    "## Save Percentage"
   ]
  },
  {
   "cell_type": "code",
   "execution_count": 143,
   "metadata": {
    "ExecuteTime": {
     "end_time": "2020-11-02T17:09:07.137449Z",
     "start_time": "2020-11-02T17:09:07.130788Z"
    }
   },
   "outputs": [],
   "source": [
    "with open (\"../data/save_pct_list\", 'rb') as f:\n",
    "    save_pct_list = pickle.load(f)"
   ]
  },
  {
   "cell_type": "code",
   "execution_count": 144,
   "metadata": {
    "ExecuteTime": {
     "end_time": "2020-11-02T17:09:08.008178Z",
     "start_time": "2020-11-02T17:09:08.004132Z"
    },
    "scrolled": true
   },
   "outputs": [
    {
     "data": {
      "text/plain": [
       "[0.9087, 0.8959, 0.8878]"
      ]
     },
     "execution_count": 144,
     "metadata": {},
     "output_type": "execute_result"
    }
   ],
   "source": [
    "save_pct_list"
   ]
  },
  {
   "cell_type": "code",
   "execution_count": 150,
   "metadata": {
    "ExecuteTime": {
     "end_time": "2020-11-02T17:09:39.315254Z",
     "start_time": "2020-11-02T17:09:39.309775Z"
    }
   },
   "outputs": [],
   "source": [
    "save_pct_df = pd.DataFrame(data = save_pct_list, columns = [\"Save_Percentage\"])\n",
    "save_pct_df['Period'] = [1, 2, 3]"
   ]
  },
  {
   "cell_type": "code",
   "execution_count": 151,
   "metadata": {
    "ExecuteTime": {
     "end_time": "2020-11-02T17:09:55.407129Z",
     "start_time": "2020-11-02T17:09:55.396211Z"
    }
   },
   "outputs": [],
   "source": [
    "# save_pct_df.to_csv(\"../data/save_pct_df.csv\")"
   ]
  },
  {
   "cell_type": "markdown",
   "metadata": {},
   "source": [
    "## Goals"
   ]
  },
  {
   "cell_type": "code",
   "execution_count": 47,
   "metadata": {
    "ExecuteTime": {
     "end_time": "2020-10-29T17:49:30.102633Z",
     "start_time": "2020-10-29T17:49:30.083475Z"
    }
   },
   "outputs": [
    {
     "data": {
      "text/plain": [
       "period\n",
       "1    1.459230\n",
       "2    1.532012\n",
       "3    1.506890\n",
       "Name: goal, dtype: float64"
      ]
     },
     "execution_count": 47,
     "metadata": {},
     "output_type": "execute_result"
    }
   ],
   "source": [
    "goals_df = pd.read_csv(\"../data/goals.csv\",index_col=0)\n",
    "goal_avgs = goals_df.groupby(['period']).goal.mean()\n",
    "goal_avgs"
   ]
  },
  {
   "cell_type": "code",
   "execution_count": 48,
   "metadata": {
    "ExecuteTime": {
     "end_time": "2020-10-29T17:49:30.756400Z",
     "start_time": "2020-10-29T17:49:30.752509Z"
    }
   },
   "outputs": [
    {
     "data": {
      "text/plain": [
       "{'No_Change': 4.5, 'Two_Long_Changes': 4.52, 'Three_Long_Changes': 4.6}"
      ]
     },
     "execution_count": 48,
     "metadata": {},
     "output_type": "execute_result"
    }
   ],
   "source": [
    "goals_proposals = generate_three_proposals(goal_avgs)\n",
    "goals_proposals"
   ]
  },
  {
   "cell_type": "code",
   "execution_count": 70,
   "metadata": {
    "ExecuteTime": {
     "end_time": "2020-10-29T18:00:55.663778Z",
     "start_time": "2020-10-29T18:00:55.659534Z"
    }
   },
   "outputs": [],
   "source": [
    "goal_df = proposals_to_df(goals_proposals, \"Goals\")"
   ]
  },
  {
   "cell_type": "code",
   "execution_count": null,
   "metadata": {},
   "outputs": [],
   "source": []
  },
  {
   "cell_type": "markdown",
   "metadata": {},
   "source": [
    "## Shift Length"
   ]
  },
  {
   "cell_type": "markdown",
   "metadata": {},
   "source": [
    "### All Positions"
   ]
  },
  {
   "cell_type": "code",
   "execution_count": 29,
   "metadata": {
    "ExecuteTime": {
     "end_time": "2020-10-29T15:32:07.377016Z",
     "start_time": "2020-10-29T15:32:04.491888Z"
    }
   },
   "outputs": [],
   "source": [
    "shifts_df = pd.read_csv(\"../data/all_positions_shifts.csv\", header=None)"
   ]
  },
  {
   "cell_type": "code",
   "execution_count": 30,
   "metadata": {
    "ExecuteTime": {
     "end_time": "2020-10-29T15:32:07.580219Z",
     "start_time": "2020-10-29T15:32:07.577264Z"
    }
   },
   "outputs": [],
   "source": [
    "shifts_df.columns = ['period', 'shift_length', 'position', 'game_id']"
   ]
  },
  {
   "cell_type": "code",
   "execution_count": 31,
   "metadata": {
    "ExecuteTime": {
     "end_time": "2020-10-29T15:32:08.568819Z",
     "start_time": "2020-10-29T15:32:07.764606Z"
    }
   },
   "outputs": [
    {
     "data": {
      "text/plain": [
       "period  position\n",
       "1       C           43.056593\n",
       "        D           45.123369\n",
       "        LW          43.322835\n",
       "        RW          43.345602\n",
       "2       C           46.336745\n",
       "        D           49.971268\n",
       "        LW          46.538081\n",
       "        RW          46.609662\n",
       "3       C           44.195191\n",
       "        D           46.909917\n",
       "        LW          44.446559\n",
       "        RW          44.497024\n",
       "Name: shift_length, dtype: float64"
      ]
     },
     "execution_count": 31,
     "metadata": {},
     "output_type": "execute_result"
    }
   ],
   "source": [
    "shifts_avgs = shifts_df.groupby(['period', 'position']).shift_length.mean()\n",
    "shifts_avgs"
   ]
  },
  {
   "cell_type": "markdown",
   "metadata": {},
   "source": [
    "#### How many seconds longer are shifts in second period than 1st/3rd?"
   ]
  },
  {
   "cell_type": "code",
   "execution_count": 33,
   "metadata": {
    "ExecuteTime": {
     "end_time": "2020-10-29T15:33:57.364262Z",
     "start_time": "2020-10-29T15:33:57.358678Z"
    }
   },
   "outputs": [],
   "source": [
    "unstacked_shifts_avgs = shifts_avgs.unstack(level=1)"
   ]
  },
  {
   "cell_type": "code",
   "execution_count": 40,
   "metadata": {
    "ExecuteTime": {
     "end_time": "2020-10-29T16:44:37.291047Z",
     "start_time": "2020-10-29T16:44:37.280148Z"
    }
   },
   "outputs": [
    {
     "data": {
      "text/html": [
       "<div>\n",
       "<style scoped>\n",
       "    .dataframe tbody tr th:only-of-type {\n",
       "        vertical-align: middle;\n",
       "    }\n",
       "\n",
       "    .dataframe tbody tr th {\n",
       "        vertical-align: top;\n",
       "    }\n",
       "\n",
       "    .dataframe thead th {\n",
       "        text-align: right;\n",
       "    }\n",
       "</style>\n",
       "<table border=\"1\" class=\"dataframe\">\n",
       "  <thead>\n",
       "    <tr style=\"text-align: right;\">\n",
       "      <th>position</th>\n",
       "      <th>C</th>\n",
       "      <th>D</th>\n",
       "      <th>LW</th>\n",
       "      <th>RW</th>\n",
       "    </tr>\n",
       "    <tr>\n",
       "      <th>period</th>\n",
       "      <th></th>\n",
       "      <th></th>\n",
       "      <th></th>\n",
       "      <th></th>\n",
       "    </tr>\n",
       "  </thead>\n",
       "  <tbody>\n",
       "    <tr>\n",
       "      <th>1</th>\n",
       "      <td>43.056593</td>\n",
       "      <td>45.123369</td>\n",
       "      <td>43.322835</td>\n",
       "      <td>43.345602</td>\n",
       "    </tr>\n",
       "    <tr>\n",
       "      <th>2</th>\n",
       "      <td>46.336745</td>\n",
       "      <td>49.971268</td>\n",
       "      <td>46.538081</td>\n",
       "      <td>46.609662</td>\n",
       "    </tr>\n",
       "    <tr>\n",
       "      <th>3</th>\n",
       "      <td>44.195191</td>\n",
       "      <td>46.909917</td>\n",
       "      <td>44.446559</td>\n",
       "      <td>44.497024</td>\n",
       "    </tr>\n",
       "  </tbody>\n",
       "</table>\n",
       "</div>"
      ],
      "text/plain": [
       "position          C          D         LW         RW\n",
       "period                                              \n",
       "1         43.056593  45.123369  43.322835  43.345602\n",
       "2         46.336745  49.971268  46.538081  46.609662\n",
       "3         44.195191  46.909917  44.446559  44.497024"
      ]
     },
     "execution_count": 40,
     "metadata": {},
     "output_type": "execute_result"
    }
   ],
   "source": [
    "unstacked_shifts_avgs"
   ]
  },
  {
   "cell_type": "code",
   "execution_count": 44,
   "metadata": {
    "ExecuteTime": {
     "end_time": "2020-10-29T16:46:26.333452Z",
     "start_time": "2020-10-29T16:46:26.329155Z"
    }
   },
   "outputs": [],
   "source": [
    "mean_position_shifts = [sum(unstacked_shifts_avgs[x]) / len(unstacked_shifts_avgs[x]) \n",
    "                        for x in unstacked_shifts_avgs.columns]"
   ]
  },
  {
   "cell_type": "code",
   "execution_count": 45,
   "metadata": {
    "ExecuteTime": {
     "end_time": "2020-10-29T16:46:30.541668Z",
     "start_time": "2020-10-29T16:46:30.536055Z"
    }
   },
   "outputs": [
    {
     "data": {
      "text/plain": [
       "[44.529509477631116, 47.33485113026512, 44.769158528823205, 44.817429305181115]"
      ]
     },
     "execution_count": 45,
     "metadata": {},
     "output_type": "execute_result"
    }
   ],
   "source": [
    "mean_position_shifts"
   ]
  },
  {
   "cell_type": "code",
   "execution_count": 34,
   "metadata": {
    "ExecuteTime": {
     "end_time": "2020-10-29T15:34:05.947250Z",
     "start_time": "2020-10-29T15:34:05.941207Z"
    }
   },
   "outputs": [
    {
     "data": {
      "text/plain": [
       "Index(['C', 'D', 'LW', 'RW'], dtype='object', name='position')"
      ]
     },
     "execution_count": 34,
     "metadata": {},
     "output_type": "execute_result"
    }
   ],
   "source": [
    "unstacked_shifts_avgs.columns"
   ]
  },
  {
   "cell_type": "code",
   "execution_count": 59,
   "metadata": {
    "ExecuteTime": {
     "end_time": "2020-10-29T16:49:33.367298Z",
     "start_time": "2020-10-29T16:49:33.361788Z"
    }
   },
   "outputs": [],
   "source": [
    "diff_list = []\n",
    "for col in unstacked_shifts_avgs.columns:\n",
    "    first = unstacked_shifts_avgs[col].iloc[0]\n",
    "    second = unstacked_shifts_avgs[col].iloc[1]\n",
    "    diff = round(second - first, 2)\n",
    "#     diff = second - first\n",
    "    diff_list.append(diff)"
   ]
  },
  {
   "cell_type": "code",
   "execution_count": 60,
   "metadata": {
    "ExecuteTime": {
     "end_time": "2020-10-29T16:49:34.279050Z",
     "start_time": "2020-10-29T16:49:34.273468Z"
    }
   },
   "outputs": [
    {
     "data": {
      "text/plain": [
       "[3.28, 4.85, 3.22, 3.26]"
      ]
     },
     "execution_count": 60,
     "metadata": {},
     "output_type": "execute_result"
    }
   ],
   "source": [
    "diff_list"
   ]
  },
  {
   "cell_type": "markdown",
   "metadata": {},
   "source": [
    "#### What percent of shift length does this change represent?"
   ]
  },
  {
   "cell_type": "code",
   "execution_count": 65,
   "metadata": {
    "ExecuteTime": {
     "end_time": "2020-10-29T16:49:53.026879Z",
     "start_time": "2020-10-29T16:49:53.022832Z"
    }
   },
   "outputs": [],
   "source": [
    "percent_diff_in_second = [round(x/y, 2) \n",
    "                          for x,y in zip(diff_list, mean_position_shifts)]"
   ]
  },
  {
   "cell_type": "code",
   "execution_count": 66,
   "metadata": {
    "ExecuteTime": {
     "end_time": "2020-10-29T16:49:53.297188Z",
     "start_time": "2020-10-29T16:49:53.292957Z"
    }
   },
   "outputs": [
    {
     "data": {
      "text/plain": [
       "[0.07, 0.1, 0.07, 0.07]"
      ]
     },
     "execution_count": 66,
     "metadata": {},
     "output_type": "execute_result"
    }
   ],
   "source": [
    "percent_diff_in_second"
   ]
  },
  {
   "cell_type": "markdown",
   "metadata": {},
   "source": [
    "### Shift Length By Position and Side"
   ]
  },
  {
   "cell_type": "code",
   "execution_count": 47,
   "metadata": {
    "ExecuteTime": {
     "end_time": "2020-10-28T15:28:28.595699Z",
     "start_time": "2020-10-28T15:28:28.497467Z"
    }
   },
   "outputs": [
    {
     "data": {
      "text/plain": [
       "period  position  HoA \n",
       "1       LW        away    42.114057\n",
       "                  home    42.960545\n",
       "        RW        away    41.303775\n",
       "                  home    42.223926\n",
       "2       LW        away    46.541256\n",
       "                  home    45.799587\n",
       "        RW        away    45.185281\n",
       "                  home    45.365118\n",
       "3       LW        away    43.545211\n",
       "                  home    43.445829\n",
       "        RW        away    42.511462\n",
       "                  home    43.117875\n",
       "Name: shift_len, dtype: float64"
      ]
     },
     "execution_count": 47,
     "metadata": {},
     "output_type": "execute_result"
    }
   ],
   "source": [
    "# away LW and home RW are closer to bench for first and third periods\n",
    "winger_shifts_post_2014 = pd.read_csv(\"../data/shift_length_by_position_home_or_away_post2014.csv\", index_col=0)\n",
    "winger_shift_avgs = winger_shifts_post_2014.groupby(['period', 'position', 'HoA']).shift_len.mean()\n",
    "winger_shift_avgs"
   ]
  },
  {
   "cell_type": "code",
   "execution_count": 51,
   "metadata": {
    "ExecuteTime": {
     "end_time": "2020-10-28T15:30:21.834384Z",
     "start_time": "2020-10-28T15:30:21.829546Z"
    }
   },
   "outputs": [],
   "source": [
    "home_close = winger_shift_avgs[1::2]"
   ]
  },
  {
   "cell_type": "markdown",
   "metadata": {},
   "source": [
    "### Split data by closeness to bench "
   ]
  },
  {
   "cell_type": "code",
   "execution_count": 30,
   "metadata": {
    "ExecuteTime": {
     "end_time": "2020-10-28T15:15:16.881679Z",
     "start_time": "2020-10-28T15:15:16.869307Z"
    }
   },
   "outputs": [
    {
     "data": {
      "text/html": [
       "<div>\n",
       "<style scoped>\n",
       "    .dataframe tbody tr th:only-of-type {\n",
       "        vertical-align: middle;\n",
       "    }\n",
       "\n",
       "    .dataframe tbody tr th {\n",
       "        vertical-align: top;\n",
       "    }\n",
       "\n",
       "    .dataframe thead th {\n",
       "        text-align: right;\n",
       "    }\n",
       "</style>\n",
       "<table border=\"1\" class=\"dataframe\">\n",
       "  <thead>\n",
       "    <tr style=\"text-align: right;\">\n",
       "      <th></th>\n",
       "      <th>HoA</th>\n",
       "      <th>away</th>\n",
       "      <th>home</th>\n",
       "    </tr>\n",
       "    <tr>\n",
       "      <th>period</th>\n",
       "      <th>position</th>\n",
       "      <th></th>\n",
       "      <th></th>\n",
       "    </tr>\n",
       "  </thead>\n",
       "  <tbody>\n",
       "    <tr>\n",
       "      <th rowspan=\"2\" valign=\"top\">1</th>\n",
       "      <th>LW</th>\n",
       "      <td>42.114057</td>\n",
       "      <td>42.960545</td>\n",
       "    </tr>\n",
       "    <tr>\n",
       "      <th>RW</th>\n",
       "      <td>41.303775</td>\n",
       "      <td>42.223926</td>\n",
       "    </tr>\n",
       "    <tr>\n",
       "      <th rowspan=\"2\" valign=\"top\">2</th>\n",
       "      <th>LW</th>\n",
       "      <td>46.541256</td>\n",
       "      <td>45.799587</td>\n",
       "    </tr>\n",
       "    <tr>\n",
       "      <th>RW</th>\n",
       "      <td>45.185281</td>\n",
       "      <td>45.365118</td>\n",
       "    </tr>\n",
       "    <tr>\n",
       "      <th rowspan=\"2\" valign=\"top\">3</th>\n",
       "      <th>LW</th>\n",
       "      <td>43.545211</td>\n",
       "      <td>43.445829</td>\n",
       "    </tr>\n",
       "    <tr>\n",
       "      <th>RW</th>\n",
       "      <td>42.511462</td>\n",
       "      <td>43.117875</td>\n",
       "    </tr>\n",
       "  </tbody>\n",
       "</table>\n",
       "</div>"
      ],
      "text/plain": [
       "HoA                   away       home\n",
       "period position                      \n",
       "1      LW        42.114057  42.960545\n",
       "       RW        41.303775  42.223926\n",
       "2      LW        46.541256  45.799587\n",
       "       RW        45.185281  45.365118\n",
       "3      LW        43.545211  43.445829\n",
       "       RW        42.511462  43.117875"
      ]
     },
     "execution_count": 30,
     "metadata": {},
     "output_type": "execute_result"
    }
   ],
   "source": [
    "winger_shift_avgs_df = winger_shift_avgs.unstack()"
   ]
  },
  {
   "cell_type": "code",
   "execution_count": 71,
   "metadata": {
    "ExecuteTime": {
     "end_time": "2020-10-28T15:42:48.059639Z",
     "start_time": "2020-10-28T15:42:48.052831Z"
    }
   },
   "outputs": [],
   "source": [
    "winger_shift_avgs_df['difference'] = winger_shift_avgs_df['away'] - winger_shift_avgs_df['home']\n",
    "\n",
    "winger_shift_avgs_df['closer_to_bench'] = ['away', 'home' ,'home' ,'away', 'away',  'home']\n",
    "\n",
    "winger_shift_avgs_df['expected'] = ['negative' if x == 'away' else 'positive'\n",
    "                                    for x in winger_shift_avgs_df['closer_to_bench'] ]"
   ]
  },
  {
   "cell_type": "markdown",
   "metadata": {},
   "source": [
    "# Combining Data For Proposals"
   ]
  },
  {
   "cell_type": "code",
   "execution_count": 185,
   "metadata": {
    "ExecuteTime": {
     "end_time": "2020-11-02T20:38:01.189363Z",
     "start_time": "2020-11-02T20:38:01.183961Z"
    }
   },
   "outputs": [],
   "source": [
    "proposals_df = pd.concat([stoppage_proposal_df, takeaway_df, giveaway_df, hit_df, shot_df, blocked_shot_df, goal_df, \n",
    "                          penalty_df],\n",
    "                        axis = 1)"
   ]
  },
  {
   "cell_type": "code",
   "execution_count": 141,
   "metadata": {
    "ExecuteTime": {
     "end_time": "2020-10-29T21:26:02.475432Z",
     "start_time": "2020-10-29T21:26:02.466537Z"
    }
   },
   "outputs": [],
   "source": [
    "transposed_proposals_df = proposals_df.T\n",
    "transposed_proposals_df.reset_index(inplace=True)\n",
    "melted_proposals_df = transposed_proposals_df.melt(id_vars = ['index'])"
   ]
  },
  {
   "cell_type": "code",
   "execution_count": 78,
   "metadata": {
    "ExecuteTime": {
     "end_time": "2020-10-29T18:18:50.419107Z",
     "start_time": "2020-10-29T18:18:50.411858Z"
    },
    "scrolled": true
   },
   "outputs": [],
   "source": [
    "# proposals_df.to_csv(\"../data/proposals_df.csv\")"
   ]
  },
  {
   "cell_type": "markdown",
   "metadata": {},
   "source": [
    "## Visualizing differences"
   ]
  },
  {
   "cell_type": "code",
   "execution_count": 137,
   "metadata": {
    "ExecuteTime": {
     "end_time": "2020-10-29T21:24:05.545902Z",
     "start_time": "2020-10-29T21:24:05.258359Z"
    }
   },
   "outputs": [
    {
     "data": {
      "application/javascript": [
       "\n",
       "        if (window._pyforest_update_imports_cell) { window._pyforest_update_imports_cell('from pyspark import SparkContext\\nfrom sklearn.manifold import TSNE\\nfrom sklearn.ensemble import RandomForestRegressor\\nfrom sklearn.ensemble import RandomForestClassifier\\nfrom sklearn.preprocessing import OneHotEncoder\\nfrom sklearn.ensemble import GradientBoostingClassifier\\nfrom sklearn.ensemble import GradientBoostingRegressor\\nfrom sklearn.feature_extraction.text import TfidfVectorizer\\nfrom pathlib import Path\\nimport altair as alt\\nimport matplotlib.pyplot as plt'); }\n",
       "    "
      ],
      "text/plain": [
       "<IPython.core.display.Javascript object>"
      ]
     },
     "metadata": {},
     "output_type": "display_data"
    },
    {
     "data": {
      "application/javascript": [
       "\n",
       "        if (window._pyforest_update_imports_cell) { window._pyforest_update_imports_cell('from pyspark import SparkContext\\nfrom sklearn.manifold import TSNE\\nfrom sklearn.ensemble import RandomForestRegressor\\nfrom sklearn.ensemble import RandomForestClassifier\\nfrom sklearn.preprocessing import OneHotEncoder\\nfrom sklearn.ensemble import GradientBoostingClassifier\\nfrom sklearn.ensemble import GradientBoostingRegressor\\nfrom sklearn.feature_extraction.text import TfidfVectorizer\\nfrom pathlib import Path\\nimport altair as alt\\nimport matplotlib.pyplot as plt'); }\n",
       "    "
      ],
      "text/plain": [
       "<IPython.core.display.Javascript object>"
      ]
     },
     "metadata": {},
     "output_type": "display_data"
    },
    {
     "data": {
      "application/javascript": [
       "\n",
       "        if (window._pyforest_update_imports_cell) { window._pyforest_update_imports_cell('from pyspark import SparkContext\\nfrom sklearn.manifold import TSNE\\nfrom sklearn.ensemble import RandomForestRegressor\\nfrom sklearn.ensemble import RandomForestClassifier\\nfrom sklearn.preprocessing import OneHotEncoder\\nfrom sklearn.ensemble import GradientBoostingClassifier\\nfrom sklearn.ensemble import GradientBoostingRegressor\\nfrom sklearn.feature_extraction.text import TfidfVectorizer\\nfrom pathlib import Path\\nimport altair as alt\\nimport matplotlib.pyplot as plt'); }\n",
       "    "
      ],
      "text/plain": [
       "<IPython.core.display.Javascript object>"
      ]
     },
     "metadata": {},
     "output_type": "display_data"
    },
    {
     "data": {
      "application/javascript": [
       "\n",
       "        if (window._pyforest_update_imports_cell) { window._pyforest_update_imports_cell('from pyspark import SparkContext\\nfrom sklearn.manifold import TSNE\\nfrom sklearn.ensemble import RandomForestRegressor\\nfrom sklearn.ensemble import RandomForestClassifier\\nfrom sklearn.preprocessing import OneHotEncoder\\nfrom sklearn.ensemble import GradientBoostingClassifier\\nfrom sklearn.ensemble import GradientBoostingRegressor\\nfrom sklearn.feature_extraction.text import TfidfVectorizer\\nfrom pathlib import Path\\nimport altair as alt\\nimport matplotlib.pyplot as plt'); }\n",
       "    "
      ],
      "text/plain": [
       "<IPython.core.display.Javascript object>"
      ]
     },
     "metadata": {},
     "output_type": "display_data"
    },
    {
     "data": {
      "application/javascript": [
       "\n",
       "        if (window._pyforest_update_imports_cell) { window._pyforest_update_imports_cell('from pyspark import SparkContext\\nfrom sklearn.manifold import TSNE\\nfrom sklearn.ensemble import RandomForestRegressor\\nfrom sklearn.ensemble import RandomForestClassifier\\nfrom sklearn.preprocessing import OneHotEncoder\\nfrom sklearn.ensemble import GradientBoostingClassifier\\nfrom sklearn.ensemble import GradientBoostingRegressor\\nfrom sklearn.feature_extraction.text import TfidfVectorizer\\nfrom pathlib import Path\\nimport altair as alt\\nimport matplotlib.pyplot as plt'); }\n",
       "    "
      ],
      "text/plain": [
       "<IPython.core.display.Javascript object>"
      ]
     },
     "metadata": {},
     "output_type": "display_data"
    },
    {
     "data": {
      "text/plain": [
       "Text(0.5, 1.0, 'Change in Game Stats Based on Proposal Change')"
      ]
     },
     "execution_count": 137,
     "metadata": {},
     "output_type": "execute_result"
    },
    {
     "data": {
      "image/png": "[encoded data removed]",
      "text/plain": [
       "<Figure size 720x288 with 1 Axes>"
      ]
     },
     "metadata": {},
     "output_type": "display_data"
    }
   ],
   "source": [
    "fig = plt.figure(figsize=(10, 4))\n",
    "ax = sns.barplot(x = \"index\", y = 'value', hue = 'variable',\n",
    "    data = melted_proposals_df)\n",
    "ax.legend(loc='center left', bbox_to_anchor=(1.25, 0.5), ncol=1)\n",
    "plt.xticks(rotation=320)\n",
    "plt.xlabel(\"Stats Category\")\n",
    "plt.ylabel(\"Amount\")\n",
    "plt.title(\"Change in Game Stats Based on Proposal Change\", fontsize=20)\n"
   ]
  },
  {
   "cell_type": "code",
   "execution_count": 139,
   "metadata": {
    "ExecuteTime": {
     "end_time": "2020-10-29T21:24:46.163862Z",
     "start_time": "2020-10-29T21:24:45.985623Z"
    }
   },
   "outputs": [],
   "source": [
    "# fig.savefig(\"../images/Change in Game Stats Plot.png\", bbox_inches = 'tight')"
   ]
  }
 ],
 "metadata": {
  "kernelspec": {
   "display_name": "Python [conda env:learn-env] *",
   "language": "python",
   "name": "conda-env-learn-env-py"
  },
  "language_info": {
   "codemirror_mode": {
    "name": "ipython",
    "version": 3
   },
   "file_extension": ".py",
   "mimetype": "text/x-python",
   "name": "python",
   "nbconvert_exporter": "python",
   "pygments_lexer": "ipython3",
   "version": "3.6.9"
  },
  "toc": {
   "base_numbering": 1,
   "nav_menu": {},
   "number_sections": true,
   "sideBar": true,
   "skip_h1_title": false,
   "title_cell": "Table of Contents",
   "title_sidebar": "Contents",
   "toc_cell": false,
   "toc_position": {
    "height": "calc(100% - 180px)",
    "left": "10px",
    "top": "150px",
    "width": "371px"
   },
   "toc_section_display": true,
   "toc_window_display": true
  },
  "varInspector": {
   "cols": {
    "lenName": 16,
    "lenType": 16,
    "lenVar": 40
   },
   "kernels_config": {
    "python": {
     "delete_cmd_postfix": "",
     "delete_cmd_prefix": "del ",
     "library": "var_list.py",
     "varRefreshCmd": "print(var_dic_list())"
    },
    "r": {
     "delete_cmd_postfix": ") ",
     "delete_cmd_prefix": "rm(",
     "library": "var_list.r",
     "varRefreshCmd": "cat(var_dic_list()) "
    }
   },
   "types_to_exclude": [
    "module",
    "function",
    "builtin_function_or_method",
    "instance",
    "_Feature"
   ],
   "window_display": false
  }
 },
 "nbformat": 4,
 "nbformat_minor": 2
}
