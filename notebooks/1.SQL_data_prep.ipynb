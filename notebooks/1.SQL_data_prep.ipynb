{
 "cells": [
  {
   "cell_type": "markdown",
   "metadata": {},
   "source": [
    "# ^^^ pyforest auto-imports - don't write above this line"
   ]
  },
  {
   "cell_type": "markdown",
   "metadata": {},
   "source": [
    "# Preparing Data to be Entered into SQL Database"
   ]
  },
  {
   "cell_type": "markdown",
   "metadata": {},
   "source": [
    "- The goal of this notebook is to *make create table statements to bring the sql tables to the Google Cloud Platform (GCP)*. Once the sql tables are on Google Cloud Platform, I can start digging into the data.\n",
    "- The \"create table\" statements are created in this notebook, copy and pasted into the GCP Terminal, and then the data is transferred from the csv file on my computer to the table on GCP. "
   ]
  },
  {
   "cell_type": "markdown",
   "metadata": {},
   "source": [
    "## Imports"
   ]
  },
  {
   "cell_type": "code",
   "execution_count": 1,
   "metadata": {
    "ExecuteTime": {
     "end_time": "2020-11-06T21:29:36.064999Z",
     "start_time": "2020-11-06T21:29:34.789624Z"
    }
   },
   "outputs": [
    {
     "name": "stderr",
     "output_type": "stream",
     "text": [
      "\n",
      "Bad key \"text.kerning_factor\" on line 4 in\n",
      "/Users/gregfeliu/opt/anaconda3/envs/learn-env/lib/python3.6/site-packages/matplotlib/mpl-data/stylelib/_classic_test_patch.mplstyle.\n",
      "You probably need to get an updated matplotlibrc file from\n",
      "http://github.com/matplotlib/matplotlib/blob/master/matplotlibrc.template\n",
      "or from the matplotlib source distribution\n"
     ]
    }
   ],
   "source": [
    "import glob\n",
    "import os\n",
    "from pathlib import Path, PureWindowsPath\n",
    "from functions import *"
   ]
  },
  {
   "cell_type": "markdown",
   "metadata": {},
   "source": [
    "### Data"
   ]
  },
  {
   "cell_type": "code",
   "execution_count": 2,
   "metadata": {
    "ExecuteTime": {
     "end_time": "2020-11-06T21:29:48.888947Z",
     "start_time": "2020-11-06T21:29:48.883944Z"
    }
   },
   "outputs": [],
   "source": [
    "# get file names for each csv file \n",
    "cwd = os.getcwd()\n",
    "\n",
    "parent_directory = cwd.replace(\"/github_notebooks\", \"\")\n",
    "data_directory = parent_directory + \"/data/original_data/\""
   ]
  },
  {
   "cell_type": "markdown",
   "metadata": {},
   "source": [
    "## Extracting from Tables"
   ]
  },
  {
   "cell_type": "code",
   "execution_count": 3,
   "metadata": {
    "ExecuteTime": {
     "end_time": "2020-11-06T21:29:49.668709Z",
     "start_time": "2020-11-06T21:29:49.663482Z"
    }
   },
   "outputs": [],
   "source": [
    "csv_files = glob.glob(data_directory + \"*.csv\", recursive=True)"
   ]
  },
  {
   "cell_type": "markdown",
   "metadata": {},
   "source": [
    "### Table Names"
   ]
  },
  {
   "cell_type": "code",
   "execution_count": 4,
   "metadata": {
    "ExecuteTime": {
     "end_time": "2020-11-06T21:29:50.456555Z",
     "start_time": "2020-11-06T21:29:50.451590Z"
    }
   },
   "outputs": [],
   "source": [
    "table_names = []\n",
    "for x in csv_files:\n",
    "    split_x = x.split(\"/\")\n",
    "    name_wo_csv = split_x[-1].replace(\".csv\", \"\")\n",
    "    table_names.append(name_wo_csv)"
   ]
  },
  {
   "cell_type": "code",
   "execution_count": 5,
   "metadata": {
    "ExecuteTime": {
     "end_time": "2020-11-06T21:29:51.215459Z",
     "start_time": "2020-11-06T21:29:51.207986Z"
    }
   },
   "outputs": [
    {
     "data": {
      "text/plain": [
       "['game_skater_stats',\n",
       " 'player_info',\n",
       " 'game_goalie_stats',\n",
       " 'game_plays_players',\n",
       " 'game_shifts',\n",
       " 'game_teams_stats',\n",
       " 'team_info',\n",
       " 'game_plays',\n",
       " 'game']"
      ]
     },
     "execution_count": 5,
     "metadata": {},
     "output_type": "execute_result"
    }
   ],
   "source": [
    "table_names"
   ]
  },
  {
   "cell_type": "markdown",
   "metadata": {},
   "source": [
    "### Describing columns"
   ]
  },
  {
   "cell_type": "code",
   "execution_count": 6,
   "metadata": {
    "ExecuteTime": {
     "end_time": "2020-11-06T21:30:16.881536Z",
     "start_time": "2020-11-06T21:30:00.662348Z"
    }
   },
   "outputs": [],
   "source": [
    "all_dtypes = []\n",
    "for x in csv_files:\n",
    "    df = pd.read_csv(x)\n",
    "    df_dtypes = df.dtypes\n",
    "    for x in df_dtypes:\n",
    "        if x not in all_dtypes:\n",
    "            all_dtypes.append(x)"
   ]
  },
  {
   "cell_type": "code",
   "execution_count": 7,
   "metadata": {
    "ExecuteTime": {
     "end_time": "2020-11-06T21:30:16.980700Z",
     "start_time": "2020-11-06T21:30:16.976958Z"
    }
   },
   "outputs": [
    {
     "data": {
      "text/plain": [
       "[dtype('int64'), dtype('O'), dtype('float64'), dtype('bool')]"
      ]
     },
     "execution_count": 7,
     "metadata": {},
     "output_type": "execute_result"
    }
   ],
   "source": [
    "all_dtypes"
   ]
  },
  {
   "cell_type": "markdown",
   "metadata": {},
   "source": [
    "- dtypes are:\n",
    "        -int64 (int)\n",
    "        -object (varchar)\n",
    "        -float64 (float)\n",
    "        -bool (VARCHAR since TRUE (in all uppercase) wouldn't work since it should be in titlecase)"
   ]
  },
  {
   "cell_type": "markdown",
   "metadata": {},
   "source": [
    "## Entering the Data "
   ]
  },
  {
   "cell_type": "code",
   "execution_count": 8,
   "metadata": {
    "ExecuteTime": {
     "end_time": "2020-11-06T21:31:03.674257Z",
     "start_time": "2020-11-06T21:30:30.510881Z"
    }
   },
   "outputs": [
    {
     "name": "stdout",
     "output_type": "stream",
     "text": [
      "Table name is game_skater_stats\n",
      "Table name is player_info\n",
      "Table name is game_goalie_stats\n",
      "Table name is game_plays_players\n",
      "Table name is game_shifts\n",
      "Table name is game_teams_stats\n",
      "Table name is team_info\n",
      "Table name is game_plays\n",
      "Table name is game\n"
     ]
    }
   ],
   "source": [
    "create_table_statements = all_create_table_statements(df_names=table_names, df_files=csv_files)"
   ]
  },
  {
   "cell_type": "code",
   "execution_count": 9,
   "metadata": {
    "ExecuteTime": {
     "end_time": "2020-11-06T21:31:03.769729Z",
     "start_time": "2020-11-06T21:31:03.766773Z"
    },
    "scrolled": true
   },
   "outputs": [
    {
     "name": "stdout",
     "output_type": "stream",
     "text": [
      "CREATE TABLE game_skater_stats (game_id INT, player_id INT, team_id INT, timeOnIce INT, assists INT, goals INT, shots INT, hits INT, powerPlayGoals INT, powerPlayAssists INT, penaltyMinutes INT, faceOffWins INT, faceoffTaken INT, takeaways INT, giveaways INT, shortHandedGoals INT, shortHandedAssists INT, blocked INT, plusMinus INT, evenTimeOnIce INT, shortHandedTimeOnIce INT, powerPlayTimeOnIce INT);\n"
     ]
    }
   ],
   "source": [
    "# view each create table statement individually so that each one can be copy and pasted into GCP\n",
    "print(create_table_statements[0])"
   ]
  }
 ],
 "metadata": {
  "kernelspec": {
   "display_name": "Python [conda env:learn-env] *",
   "language": "python",
   "name": "conda-env-learn-env-py"
  },
  "language_info": {
   "codemirror_mode": {
    "name": "ipython",
    "version": 3
   },
   "file_extension": ".py",
   "mimetype": "text/x-python",
   "name": "python",
   "nbconvert_exporter": "python",
   "pygments_lexer": "ipython3",
   "version": "3.6.9"
  },
  "toc": {
   "base_numbering": 1,
   "nav_menu": {},
   "number_sections": true,
   "sideBar": true,
   "skip_h1_title": false,
   "title_cell": "Table of Contents",
   "title_sidebar": "Contents",
   "toc_cell": false,
   "toc_position": {},
   "toc_section_display": true,
   "toc_window_display": true
  },
  "varInspector": {
   "cols": {
    "lenName": 16,
    "lenType": 16,
    "lenVar": 40
   },
   "kernels_config": {
    "python": {
     "delete_cmd_postfix": "",
     "delete_cmd_prefix": "del ",
     "library": "var_list.py",
     "varRefreshCmd": "print(var_dic_list())"
    },
    "r": {
     "delete_cmd_postfix": ") ",
     "delete_cmd_prefix": "rm(",
     "library": "var_list.r",
     "varRefreshCmd": "cat(var_dic_list()) "
    }
   },
   "types_to_exclude": [
    "module",
    "function",
    "builtin_function_or_method",
    "instance",
    "_Feature"
   ],
   "window_display": false
  }
 },
 "nbformat": 4,
 "nbformat_minor": 2
}
