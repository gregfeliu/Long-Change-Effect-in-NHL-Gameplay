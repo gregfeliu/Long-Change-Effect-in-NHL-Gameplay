{
 "cells": [
  {
   "cell_type": "markdown",
   "metadata": {},
   "source": [
    "import pickle\n",
    "# ^^^ pyforest auto-imports - don't write above this line\n",
    "**EDA for NHL Game Data**"
   ]
  },
  {
   "cell_type": "markdown",
   "metadata": {},
   "source": [
    "# Imports "
   ]
  },
  {
   "cell_type": "code",
   "execution_count": 8,
   "metadata": {
    "ExecuteTime": {
     "end_time": "2020-11-06T22:43:01.205524Z",
     "start_time": "2020-11-06T22:43:01.203103Z"
    }
   },
   "outputs": [],
   "source": [
    "from functions import *"
   ]
  },
  {
   "cell_type": "markdown",
   "metadata": {},
   "source": [
    "# Getting General Info about database"
   ]
  },
  {
   "cell_type": "markdown",
   "metadata": {},
   "source": [
    "## Tables"
   ]
  },
  {
   "cell_type": "code",
   "execution_count": 9,
   "metadata": {
    "ExecuteTime": {
     "end_time": "2020-11-06T22:43:01.482543Z",
     "start_time": "2020-11-06T22:43:01.208233Z"
    }
   },
   "outputs": [
    {
     "data": {
      "text/plain": [
       "['entries',\n",
       " 'game',\n",
       " 'game_goalie_stats',\n",
       " 'game_plays',\n",
       " 'game_plays_players',\n",
       " 'game_shifts',\n",
       " 'game_skater_stats',\n",
       " 'game_teams_stats',\n",
       " 'player_info',\n",
       " 'team_info']"
      ]
     },
     "execution_count": 9,
     "metadata": {},
     "output_type": "execute_result"
    }
   ],
   "source": [
    "test_query = \"SHOW TABLES;\"\n",
    "all_tables_query_result = run_query(test_query)\n",
    "all_tables = [a[0] for a in all_tables_query_result]\n",
    "all_tables # ignoring entries table"
   ]
  },
  {
   "cell_type": "markdown",
   "metadata": {},
   "source": [
    "## Dataframe with info about every column in every table"
   ]
  },
  {
   "cell_type": "markdown",
   "metadata": {},
   "source": [
    "Making all of the columns and their datatypes into a table so that it will be easier later to find out how to join tables."
   ]
  },
  {
   "cell_type": "code",
   "execution_count": 10,
   "metadata": {
    "ExecuteTime": {
     "end_time": "2020-11-06T22:43:03.808451Z",
     "start_time": "2020-11-06T22:43:01.488187Z"
    }
   },
   "outputs": [],
   "source": [
    "# each table is stored in a list with each of the columns as values to the table key\n",
    "all_query_results = []\n",
    "for table in all_tables[1:]:\n",
    "    query = f\"\"\"\n",
    "                SHOW columns FROM {table}\n",
    "            \"\"\"\n",
    "    query_result = run_query(query) # returns:  Field       | Type     | Null | Key | Default | Extra     \n",
    "    table_w_query = {table: query_result}\n",
    "    all_query_results.append(table_w_query)"
   ]
  },
  {
   "cell_type": "code",
   "execution_count": 11,
   "metadata": {
    "ExecuteTime": {
     "end_time": "2020-11-06T22:43:03.820978Z",
     "start_time": "2020-11-06T22:43:03.815230Z"
    }
   },
   "outputs": [],
   "source": [
    "# get all columns in a contingency table (table name will be the last value in each sublist)\n",
    "all_columns = [] \n",
    "for thing in all_query_results:\n",
    "    for key, value in thing.items():\n",
    "        for item in value:\n",
    "            list_item = list(item)\n",
    "            list_item.append(key)\n",
    "            all_columns.append(list_item)"
   ]
  },
  {
   "cell_type": "code",
   "execution_count": 12,
   "metadata": {
    "ExecuteTime": {
     "end_time": "2020-11-06T22:43:03.828311Z",
     "start_time": "2020-11-06T22:43:03.824356Z"
    }
   },
   "outputs": [],
   "source": [
    "# removing incorrect values\n",
    "for x in all_columns:\n",
    "    if len(x) != 7:\n",
    "        all_columns.remove(x)"
   ]
  },
  {
   "cell_type": "code",
   "execution_count": 13,
   "metadata": {
    "ExecuteTime": {
     "end_time": "2020-11-06T22:43:03.838849Z",
     "start_time": "2020-11-06T22:43:03.830969Z"
    }
   },
   "outputs": [],
   "source": [
    "table_info_df = pd.DataFrame(data = all_columns, \n",
    "             columns = [\"Column_name\", \"Column_type\", \"Null\", \"Key\", \"Default\", \"Extra\", \"Table\"])\n",
    "# key, null and extra are all the same value, so I'm removing them\n",
    "table_info_df.drop(columns = ['Null', \"Key\", \"Extra\", \"Default\"], inplace=True)"
   ]
  },
  {
   "cell_type": "markdown",
   "metadata": {},
   "source": [
    "### Adding number of unique values to df"
   ]
  },
  {
   "cell_type": "code",
   "execution_count": 14,
   "metadata": {
    "ExecuteTime": {
     "end_time": "2020-11-06T22:45:57.763019Z",
     "start_time": "2020-11-06T22:43:03.840737Z"
    },
    "code_folding": []
   },
   "outputs": [],
   "source": [
    "num_unique_values_list = []\n",
    "for idx in range(len(table_info_df)):\n",
    "    col_name = table_info_df['Column_name'][idx]\n",
    "    table_name = table_info_df['Table'][idx]\n",
    "    query = f\"\"\"\n",
    "            SELECT COUNT(DISTINCT({col_name}))\n",
    "            FROM {table_name}\n",
    "    \"\"\"\n",
    "    query_result = run_query(query)\n",
    "    num_unique_values_list.append(query_result)"
   ]
  },
  {
   "cell_type": "code",
   "execution_count": 15,
   "metadata": {
    "ExecuteTime": {
     "end_time": "2020-11-06T22:45:57.775086Z",
     "start_time": "2020-11-06T22:45:57.766625Z"
    }
   },
   "outputs": [],
   "source": [
    "# flattening the num_unique_values_list\n",
    "flattened_num_unique_values = [num_unique_values_list[x][0][0] for x in range(len(num_unique_values_list))]\n",
    "table_info_df['Number_of_unique_values'] = flattened_num_unique_values"
   ]
  },
  {
   "cell_type": "code",
   "execution_count": 16,
   "metadata": {
    "ExecuteTime": {
     "end_time": "2020-11-06T22:45:57.793695Z",
     "start_time": "2020-11-06T22:45:57.778440Z"
    }
   },
   "outputs": [
    {
     "data": {
      "text/html": [
       "<div>\n",
       "<style scoped>\n",
       "    .dataframe tbody tr th:only-of-type {\n",
       "        vertical-align: middle;\n",
       "    }\n",
       "\n",
       "    .dataframe tbody tr th {\n",
       "        vertical-align: top;\n",
       "    }\n",
       "\n",
       "    .dataframe thead th {\n",
       "        text-align: right;\n",
       "    }\n",
       "</style>\n",
       "<table border=\"1\" class=\"dataframe\">\n",
       "  <thead>\n",
       "    <tr style=\"text-align: right;\">\n",
       "      <th></th>\n",
       "      <th>Column_name</th>\n",
       "      <th>Column_type</th>\n",
       "      <th>Table</th>\n",
       "      <th>Number_of_unique_values</th>\n",
       "    </tr>\n",
       "  </thead>\n",
       "  <tbody>\n",
       "    <tr>\n",
       "      <th>0</th>\n",
       "      <td>game_id</td>\n",
       "      <td>int(11)</td>\n",
       "      <td>game</td>\n",
       "      <td>5718</td>\n",
       "    </tr>\n",
       "    <tr>\n",
       "      <th>1</th>\n",
       "      <td>season</td>\n",
       "      <td>int(11)</td>\n",
       "      <td>game</td>\n",
       "      <td>10</td>\n",
       "    </tr>\n",
       "    <tr>\n",
       "      <th>2</th>\n",
       "      <td>type</td>\n",
       "      <td>varchar(1)</td>\n",
       "      <td>game</td>\n",
       "      <td>3</td>\n",
       "    </tr>\n",
       "  </tbody>\n",
       "</table>\n",
       "</div>"
      ],
      "text/plain": [
       "  Column_name Column_type Table  Number_of_unique_values\n",
       "0     game_id     int(11)  game                     5718\n",
       "1      season     int(11)  game                       10\n",
       "2        type  varchar(1)  game                        3"
      ]
     },
     "execution_count": 16,
     "metadata": {},
     "output_type": "execute_result"
    }
   ],
   "source": [
    "# previewing table\n",
    "table_info_df[0:3]"
   ]
  },
  {
   "cell_type": "markdown",
   "metadata": {},
   "source": [
    "### Saving DF"
   ]
  },
  {
   "cell_type": "code",
   "execution_count": 17,
   "metadata": {
    "ExecuteTime": {
     "end_time": "2020-11-06T22:45:57.798494Z",
     "start_time": "2020-11-06T22:45:57.795782Z"
    }
   },
   "outputs": [],
   "source": [
    "# table_info_df.to_csv(\"../data/table_info_df.csv\")"
   ]
  },
  {
   "cell_type": "markdown",
   "metadata": {},
   "source": [
    "## Listing all events"
   ]
  },
  {
   "cell_type": "code",
   "execution_count": 18,
   "metadata": {
    "ExecuteTime": {
     "end_time": "2020-11-06T22:46:03.219605Z",
     "start_time": "2020-11-06T22:45:57.800541Z"
    }
   },
   "outputs": [],
   "source": [
    "# what events are possible\n",
    "events_query = \"\"\"\n",
    "        SELECT DISTINCT(event)\n",
    "        FROM game_plays\n",
    "\"\"\"\n",
    "all_events = run_query(events_query)"
   ]
  },
  {
   "cell_type": "markdown",
   "metadata": {},
   "source": [
    "### Saving All events as a list"
   ]
  },
  {
   "cell_type": "code",
   "execution_count": 19,
   "metadata": {
    "ExecuteTime": {
     "end_time": "2020-11-06T22:46:03.245342Z",
     "start_time": "2020-11-06T22:46:03.233099Z"
    }
   },
   "outputs": [
    {
     "data": {
      "application/javascript": [
       "\n",
       "        if (window._pyforest_update_imports_cell) { window._pyforest_update_imports_cell('import pickle'); }\n",
       "    "
      ],
      "text/plain": [
       "<IPython.core.display.Javascript object>"
      ]
     },
     "metadata": {},
     "output_type": "display_data"
    }
   ],
   "source": [
    "with open('../data/all_event_types', 'wb') as f:\n",
    "    pickle.dump(all_events, f)"
   ]
  }
 ],
 "metadata": {
  "kernelspec": {
   "display_name": "Python [conda env:learn-env] *",
   "language": "python",
   "name": "conda-env-learn-env-py"
  },
  "language_info": {
   "codemirror_mode": {
    "name": "ipython",
    "version": 3
   },
   "file_extension": ".py",
   "mimetype": "text/x-python",
   "name": "python",
   "nbconvert_exporter": "python",
   "pygments_lexer": "ipython3",
   "version": "3.6.9"
  },
  "toc": {
   "base_numbering": 1,
   "nav_menu": {},
   "number_sections": true,
   "sideBar": true,
   "skip_h1_title": false,
   "title_cell": "Table of Contents",
   "title_sidebar": "Contents",
   "toc_cell": false,
   "toc_position": {
    "height": "calc(100% - 180px)",
    "left": "10px",
    "top": "150px",
    "width": "354px"
   },
   "toc_section_display": true,
   "toc_window_display": true
  },
  "varInspector": {
   "cols": {
    "lenName": 16,
    "lenType": 16,
    "lenVar": 40
   },
   "kernels_config": {
    "python": {
     "delete_cmd_postfix": "",
     "delete_cmd_prefix": "del ",
     "library": "var_list.py",
     "varRefreshCmd": "print(var_dic_list())"
    },
    "r": {
     "delete_cmd_postfix": ") ",
     "delete_cmd_prefix": "rm(",
     "library": "var_list.r",
     "varRefreshCmd": "cat(var_dic_list()) "
    }
   },
   "types_to_exclude": [
    "module",
    "function",
    "builtin_function_or_method",
    "instance",
    "_Feature"
   ],
   "window_display": false
  }
 },
 "nbformat": 4,
 "nbformat_minor": 2
}
