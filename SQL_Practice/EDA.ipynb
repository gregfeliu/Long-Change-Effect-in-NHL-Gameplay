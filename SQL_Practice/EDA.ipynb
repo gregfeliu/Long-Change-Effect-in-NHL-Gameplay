{
 "cells": [
  {
   "cell_type": "markdown",
   "metadata": {},
   "source": [
    "import seaborn as sns\n",
    "# ^^^ pyforest auto-imports - don't write above this line"
   ]
  },
  {
   "cell_type": "markdown",
   "metadata": {},
   "source": [
    "# Imports"
   ]
  },
  {
   "cell_type": "code",
   "execution_count": 2,
   "metadata": {
    "ExecuteTime": {
     "end_time": "2020-12-30T22:08:43.419564Z",
     "start_time": "2020-12-30T22:08:41.945253Z"
    }
   },
   "outputs": [
    {
     "name": "stderr",
     "output_type": "stream",
     "text": [
      "\n",
      "Bad key \"text.kerning_factor\" on line 4 in\n",
      "/Users/gregfeliu/opt/anaconda3/envs/learn-env/lib/python3.6/site-packages/matplotlib/mpl-data/stylelib/_classic_test_patch.mplstyle.\n",
      "You probably need to get an updated matplotlibrc file from\n",
      "https://github.com/matplotlib/matplotlib/blob/v3.1.3/matplotlibrc.template\n",
      "or from the matplotlib source distribution\n"
     ]
    }
   ],
   "source": [
    "import warnings\n",
    "from config import *\n",
    "from functions import *\n",
    "import pickle\n",
    "sns.set(style=\"whitegrid\")\n",
    "import pandas as pd"
   ]
  },
  {
   "cell_type": "markdown",
   "metadata": {},
   "source": [
    "# Queries"
   ]
  },
  {
   "cell_type": "markdown",
   "metadata": {},
   "source": [
    "## How Many Goalies are There?"
   ]
  },
  {
   "cell_type": "code",
   "execution_count": 25,
   "metadata": {
    "ExecuteTime": {
     "end_time": "2020-12-30T22:17:57.513677Z",
     "start_time": "2020-12-30T22:17:57.248110Z"
    }
   },
   "outputs": [],
   "source": [
    "# 215 goalies have played in the NHL \n",
    "num_goalies_query = f\"\"\"\n",
    "    SELECT COUNT(DISTINCT(player_id))\n",
    "    FROM game_goalie_stats\n",
    "\"\"\"\n",
    "num_goalies_query_result = run_query(num_goalies_query)"
   ]
  },
  {
   "cell_type": "code",
   "execution_count": 26,
   "metadata": {
    "ExecuteTime": {
     "end_time": "2020-12-30T22:17:57.622630Z",
     "start_time": "2020-12-30T22:17:57.616912Z"
    }
   },
   "outputs": [
    {
     "data": {
      "text/plain": [
       "[(215,)]"
      ]
     },
     "execution_count": 26,
     "metadata": {},
     "output_type": "execute_result"
    }
   ],
   "source": [
    "num_goalies_query_result"
   ]
  },
  {
   "cell_type": "markdown",
   "metadata": {},
   "source": [
    "### 10+ games goalies"
   ]
  },
  {
   "cell_type": "code",
   "execution_count": 14,
   "metadata": {
    "ExecuteTime": {
     "end_time": "2020-12-30T22:14:09.374284Z",
     "start_time": "2020-12-30T22:14:09.079240Z"
    }
   },
   "outputs": [],
   "source": [
    "num_goalies_10_query = f\"\"\"\n",
    "    SELECT player_id, COUNT(*)\n",
    "    FROM game_goalie_stats a\n",
    "    GROUP BY player_id\n",
    "        HAVING COUNT(game_id) > 10\n",
    "\"\"\"\n",
    "num_goalies_10_query_result = run_query(num_goalies_10_query)"
   ]
  },
  {
   "cell_type": "code",
   "execution_count": 15,
   "metadata": {
    "ExecuteTime": {
     "end_time": "2020-12-30T22:14:10.215570Z",
     "start_time": "2020-12-30T22:14:10.207840Z"
    },
    "scrolled": true
   },
   "outputs": [
    {
     "data": {
      "text/plain": [
       "145"
      ]
     },
     "execution_count": 15,
     "metadata": {},
     "output_type": "execute_result"
    }
   ],
   "source": [
    "len(num_goalies_10_query_result)"
   ]
  },
  {
   "cell_type": "code",
   "execution_count": 16,
   "metadata": {
    "ExecuteTime": {
     "end_time": "2020-12-30T22:14:10.882518Z",
     "start_time": "2020-12-30T22:14:10.870468Z"
    }
   },
   "outputs": [
    {
     "data": {
      "text/plain": [
       "[(8468524, 231),\n",
       " (8455710, 213),\n",
       " (8471734, 562),\n",
       " (8460806, 111),\n",
       " (8460703, 197),\n",
       " (8469608, 455),\n",
       " (8468685, 617),\n",
       " (8471695, 521),\n",
       " (8460712, 136),\n",
       " (8470594, 576),\n",
       " (8470657, 480),\n",
       " (8474550, 467),\n",
       " (8471469, 593),\n",
       " (8466141, 468),\n",
       " (8470645, 526),\n",
       " (8467950, 474),\n",
       " (8471679, 531),\n",
       " (8469514, 174),\n",
       " (8470216, 73),\n",
       " (8475311, 195),\n",
       " (8473607, 251),\n",
       " (8475683, 491),\n",
       " (8462052, 57),\n",
       " (8470880, 395),\n",
       " (8470860, 397),\n",
       " (8467511, 26),\n",
       " (8473972, 296),\n",
       " (8471239, 400),\n",
       " (8468540, 102),\n",
       " (8469548, 133),\n",
       " (8474765, 135),\n",
       " (8474690, 52),\n",
       " (8460705, 140),\n",
       " (8474651, 509),\n",
       " (8473541, 326),\n",
       " (8462161, 41),\n",
       " (8475215, 275),\n",
       " (8473503, 346),\n",
       " (8460535, 105),\n",
       " (8466339, 103),\n",
       " (8460704, 81),\n",
       " (8468011, 441),\n",
       " (8473523, 153),\n",
       " (8474596, 289),\n",
       " (8476434, 262),\n",
       " (8473434, 188),\n",
       " (8471750, 412),\n",
       " (8476883, 241),\n",
       " (8477293, 156),\n",
       " (8473553, 50),\n",
       " (8476899, 209),\n",
       " (8474889, 348),\n",
       " (8473461, 366),\n",
       " (8473575, 423),\n",
       " (8471227, 497),\n",
       " (8470140, 450),\n",
       " (8477202, 61),\n",
       " (8475883, 365),\n",
       " (8471306, 244),\n",
       " (8475831, 154),\n",
       " (8471715, 341),\n",
       " (8474682, 37),\n",
       " (8475660, 303),\n",
       " (8475622, 191),\n",
       " (8475234, 35),\n",
       " (8476316, 50),\n",
       " (8475852, 245),\n",
       " (8475663, 148),\n",
       " (8471403, 118),\n",
       " (8477424, 86),\n",
       " (8477237, 131),\n",
       " (8474152, 131),\n",
       " (8471774, 117),\n",
       " (8475361, 139),\n",
       " (8477180, 78),\n",
       " (8475839, 123),\n",
       " (8476945, 235),\n",
       " (8476234, 153),\n",
       " (8470147, 186),\n",
       " (8471418, 188),\n",
       " (8471251, 74),\n",
       " (8473404, 183),\n",
       " (8462147, 165),\n",
       " (8475195, 141),\n",
       " (8471219, 163),\n",
       " (8462044, 105),\n",
       " (8459140, 103),\n",
       " (8473499, 76),\n",
       " (8474593, 229),\n",
       " (8475681, 144),\n",
       " (8469732, 61),\n",
       " (8467391, 63),\n",
       " (8476992, 31),\n",
       " (8473614, 49),\n",
       " (8470320, 429),\n",
       " (8468481, 37),\n",
       " (8476839, 63),\n",
       " (8475252, 26),\n",
       " (8475789, 38),\n",
       " (8462047, 46),\n",
       " (8474636, 111),\n",
       " (8475299, 37),\n",
       " (8462152, 64),\n",
       " (8464999, 102),\n",
       " (8470093, 20),\n",
       " (8473414, 13),\n",
       " (8476844, 19),\n",
       " (8474855, 11),\n",
       " (8476341, 45),\n",
       " (8475717, 104),\n",
       " (8476876, 45),\n",
       " (8476914, 90),\n",
       " (8479292, 18),\n",
       " (8477225, 21),\n",
       " (8476999, 63),\n",
       " (8480382, 43),\n",
       " (8476509, 17),\n",
       " (8476343, 37),\n",
       " (8475809, 24),\n",
       " (8477465, 29),\n",
       " (8476932, 25),\n",
       " (8479496, 67),\n",
       " (8479193, 50),\n",
       " (8476903, 12),\n",
       " (8476444, 14),\n",
       " (8479312, 13),\n",
       " (8471301, 15),\n",
       " (8478499, 17),\n",
       " (8480420, 18),\n",
       " (8476412, 59),\n",
       " (8477831, 29),\n",
       " (8475156, 59),\n",
       " (8477361, 11),\n",
       " (8478406, 23),\n",
       " (8479394, 31),\n",
       " (8478470, 11),\n",
       " (8467913, 30),\n",
       " (8458568, 11),\n",
       " (8468166, 36),\n",
       " (8469152, 40),\n",
       " (8474057, 11),\n",
       " (8467453, 29),\n",
       " (8475431, 26),\n",
       " (8460612, 34),\n",
       " (8469461, 14)]"
      ]
     },
     "execution_count": 16,
     "metadata": {},
     "output_type": "execute_result"
    }
   ],
   "source": [
    "num_goalies_10_query_result"
   ]
  },
  {
   "cell_type": "code",
   "execution_count": 27,
   "metadata": {
    "ExecuteTime": {
     "end_time": "2020-12-30T22:18:04.989416Z",
     "start_time": "2020-12-30T22:18:04.693342Z"
    }
   },
   "outputs": [],
   "source": [
    "# 145 goalies have played more than one game\n",
    "num_goalies_10_query2 = f\"\"\"\n",
    "    SELECT COUNT(DISTINCT(player_id))\n",
    "    FROM game_goalie_stats\n",
    "    WHERE player_id IN (\n",
    "        SELECT player_id\n",
    "        FROM game_goalie_stats a\n",
    "        GROUP BY player_id\n",
    "            HAVING (COUNT(game_id) > 10)\n",
    "    )\n",
    "\"\"\"\n",
    "num_goalies_10_query_result2 = run_query(num_goalies_10_query2)"
   ]
  },
  {
   "cell_type": "code",
   "execution_count": 28,
   "metadata": {
    "ExecuteTime": {
     "end_time": "2020-12-30T22:18:05.916123Z",
     "start_time": "2020-12-30T22:18:05.909364Z"
    }
   },
   "outputs": [
    {
     "data": {
      "text/plain": [
       "[(145,)]"
      ]
     },
     "execution_count": 28,
     "metadata": {},
     "output_type": "execute_result"
    }
   ],
   "source": [
    "num_goalies_10_query_result2"
   ]
  },
  {
   "cell_type": "markdown",
   "metadata": {},
   "source": [
    "## How Many Giveaways were made by Goalies"
   ]
  },
  {
   "cell_type": "code",
   "execution_count": 30,
   "metadata": {
    "ExecuteTime": {
     "end_time": "2021-01-08T23:13:23.057671Z",
     "start_time": "2021-01-08T23:13:16.833740Z"
    },
    "code_folding": []
   },
   "outputs": [],
   "source": [
    "# I don't think there's data for passes...giveaways?\n",
    "count_of_giveaways_by_goalies = f\"\"\"\n",
    "    SELECT COUNT(*)\n",
    "    FROM game_plays gp\n",
    "    INNER JOIN game_plays_players gpp\n",
    "        ON gp.play_id = gpp.play_id\n",
    "    WHERE gpp.player_id IN (\n",
    "        SELECT DISTINCT(player_id)\n",
    "        FROM game_goalie_stats ggs)\n",
    "    AND gp.event = 'Giveaway'\n",
    "    ;\n",
    "\"\"\"\n",
    "count_of_giveaways_by_goalies_query_result = run_query(count_of_giveaways_by_goalies)"
   ]
  },
  {
   "cell_type": "code",
   "execution_count": 31,
   "metadata": {
    "ExecuteTime": {
     "end_time": "2021-01-08T23:14:31.255711Z",
     "start_time": "2021-01-08T23:14:31.248612Z"
    }
   },
   "outputs": [
    {
     "data": {
      "text/plain": [
       "[(2386,)]"
      ]
     },
     "execution_count": 31,
     "metadata": {},
     "output_type": "execute_result"
    }
   ],
   "source": [
    "giveaways_by_goalies_query_result"
   ]
  },
  {
   "cell_type": "markdown",
   "metadata": {},
   "source": [
    "## Which goalie had the most giveaways?"
   ]
  },
  {
   "cell_type": "code",
   "execution_count": 36,
   "metadata": {
    "ExecuteTime": {
     "end_time": "2021-01-08T23:23:47.583639Z",
     "start_time": "2021-01-08T23:23:47.227309Z"
    }
   },
   "outputs": [
    {
     "ename": "ProgrammingError",
     "evalue": "1140 (42000): In aggregated query without GROUP BY, expression #1 of SELECT list contains nonaggregated column 'nhldatabase.gpp.player_id'; this is incompatible with sql_mode=only_full_group_by",
     "output_type": "error",
     "traceback": [
      "\u001b[0;31m---------------------------------------------------------------------------\u001b[0m",
      "\u001b[0;31mMySQLInterfaceError\u001b[0m                       Traceback (most recent call last)",
      "\u001b[0;32m~/opt/anaconda3/envs/learn-env/lib/python3.6/site-packages/mysql/connector/connection_cext.py\u001b[0m in \u001b[0;36mcmd_query\u001b[0;34m(self, query, raw, buffered, raw_as_string)\u001b[0m\n\u001b[1;32m    488\u001b[0m                                \u001b[0mraw\u001b[0m\u001b[0;34m=\u001b[0m\u001b[0mraw\u001b[0m\u001b[0;34m,\u001b[0m \u001b[0mbuffered\u001b[0m\u001b[0;34m=\u001b[0m\u001b[0mbuffered\u001b[0m\u001b[0;34m,\u001b[0m\u001b[0;34m\u001b[0m\u001b[0;34m\u001b[0m\u001b[0m\n\u001b[0;32m--> 489\u001b[0;31m                                raw_as_string=raw_as_string)\n\u001b[0m\u001b[1;32m    490\u001b[0m         \u001b[0;32mexcept\u001b[0m \u001b[0mMySQLInterfaceError\u001b[0m \u001b[0;32mas\u001b[0m \u001b[0mexc\u001b[0m\u001b[0;34m:\u001b[0m\u001b[0;34m\u001b[0m\u001b[0;34m\u001b[0m\u001b[0m\n",
      "\u001b[0;31mMySQLInterfaceError\u001b[0m: In aggregated query without GROUP BY, expression #1 of SELECT list contains nonaggregated column 'nhldatabase.gpp.player_id'; this is incompatible with sql_mode=only_full_group_by",
      "\nDuring handling of the above exception, another exception occurred:\n",
      "\u001b[0;31mProgrammingError\u001b[0m                          Traceback (most recent call last)",
      "\u001b[0;32m<ipython-input-36-3426b485f900>\u001b[0m in \u001b[0;36m<module>\u001b[0;34m\u001b[0m\n\u001b[1;32m     10\u001b[0m     \u001b[0;34m;\u001b[0m\u001b[0;34m\u001b[0m\u001b[0;34m\u001b[0m\u001b[0m\n\u001b[1;32m     11\u001b[0m \"\"\"\n\u001b[0;32m---> 12\u001b[0;31m \u001b[0mmost_goalie_giveaways_query_result\u001b[0m \u001b[0;34m=\u001b[0m \u001b[0mrun_query\u001b[0m\u001b[0;34m(\u001b[0m\u001b[0mmost_goalie_giveaways\u001b[0m\u001b[0;34m)\u001b[0m\u001b[0;34m\u001b[0m\u001b[0;34m\u001b[0m\u001b[0m\n\u001b[0m",
      "\u001b[0;32m~/Desktop/Flatiron Bootcamp/Projects/nhl_game_data/goalies_playing_the_puck/functions.py\u001b[0m in \u001b[0;36mrun_query\u001b[0;34m(sql_query)\u001b[0m\n\u001b[1;32m     20\u001b[0m     \u001b[0;31m# main part of function\u001b[0m\u001b[0;34m\u001b[0m\u001b[0;34m\u001b[0m\u001b[0;34m\u001b[0m\u001b[0m\n\u001b[1;32m     21\u001b[0m     \u001b[0mcursor\u001b[0m \u001b[0;34m=\u001b[0m \u001b[0mconnection\u001b[0m\u001b[0;34m.\u001b[0m\u001b[0mcursor\u001b[0m\u001b[0;34m(\u001b[0m\u001b[0;34m)\u001b[0m\u001b[0;34m\u001b[0m\u001b[0;34m\u001b[0m\u001b[0m\n\u001b[0;32m---> 22\u001b[0;31m     \u001b[0mcursor\u001b[0m\u001b[0;34m.\u001b[0m\u001b[0mexecute\u001b[0m\u001b[0;34m(\u001b[0m\u001b[0msql_query\u001b[0m\u001b[0;34m)\u001b[0m\u001b[0;34m\u001b[0m\u001b[0;34m\u001b[0m\u001b[0m\n\u001b[0m\u001b[1;32m     23\u001b[0m     \u001b[0mvariable\u001b[0m \u001b[0;34m=\u001b[0m \u001b[0mcursor\u001b[0m\u001b[0;34m.\u001b[0m\u001b[0mfetchall\u001b[0m\u001b[0;34m(\u001b[0m\u001b[0;34m)\u001b[0m\u001b[0;34m\u001b[0m\u001b[0;34m\u001b[0m\u001b[0m\n\u001b[1;32m     24\u001b[0m     \u001b[0;32mreturn\u001b[0m \u001b[0mvariable\u001b[0m\u001b[0;34m\u001b[0m\u001b[0;34m\u001b[0m\u001b[0m\n",
      "\u001b[0;32m~/opt/anaconda3/envs/learn-env/lib/python3.6/site-packages/mysql/connector/cursor_cext.py\u001b[0m in \u001b[0;36mexecute\u001b[0;34m(self, operation, params, multi)\u001b[0m\n\u001b[1;32m    264\u001b[0m             result = self._cnx.cmd_query(stmt, raw=self._raw,\n\u001b[1;32m    265\u001b[0m                                          \u001b[0mbuffered\u001b[0m\u001b[0;34m=\u001b[0m\u001b[0mself\u001b[0m\u001b[0;34m.\u001b[0m\u001b[0m_buffered\u001b[0m\u001b[0;34m,\u001b[0m\u001b[0;34m\u001b[0m\u001b[0;34m\u001b[0m\u001b[0m\n\u001b[0;32m--> 266\u001b[0;31m                                          raw_as_string=self._raw_as_string)\n\u001b[0m\u001b[1;32m    267\u001b[0m         \u001b[0;32mexcept\u001b[0m \u001b[0mMySQLInterfaceError\u001b[0m \u001b[0;32mas\u001b[0m \u001b[0mexc\u001b[0m\u001b[0;34m:\u001b[0m\u001b[0;34m\u001b[0m\u001b[0;34m\u001b[0m\u001b[0m\n\u001b[1;32m    268\u001b[0m             raise errors.get_mysql_exception(msg=exc.msg, errno=exc.errno,\n",
      "\u001b[0;32m~/opt/anaconda3/envs/learn-env/lib/python3.6/site-packages/mysql/connector/connection_cext.py\u001b[0m in \u001b[0;36mcmd_query\u001b[0;34m(self, query, raw, buffered, raw_as_string)\u001b[0m\n\u001b[1;32m    490\u001b[0m         \u001b[0;32mexcept\u001b[0m \u001b[0mMySQLInterfaceError\u001b[0m \u001b[0;32mas\u001b[0m \u001b[0mexc\u001b[0m\u001b[0;34m:\u001b[0m\u001b[0;34m\u001b[0m\u001b[0;34m\u001b[0m\u001b[0m\n\u001b[1;32m    491\u001b[0m             raise errors.get_mysql_exception(exc.errno, msg=exc.msg,\n\u001b[0;32m--> 492\u001b[0;31m                                              sqlstate=exc.sqlstate)\n\u001b[0m\u001b[1;32m    493\u001b[0m         \u001b[0;32mexcept\u001b[0m \u001b[0mAttributeError\u001b[0m\u001b[0;34m:\u001b[0m\u001b[0;34m\u001b[0m\u001b[0;34m\u001b[0m\u001b[0m\n\u001b[1;32m    494\u001b[0m             \u001b[0;32mif\u001b[0m \u001b[0mself\u001b[0m\u001b[0;34m.\u001b[0m\u001b[0m_unix_socket\u001b[0m\u001b[0;34m:\u001b[0m\u001b[0;34m\u001b[0m\u001b[0;34m\u001b[0m\u001b[0m\n",
      "\u001b[0;31mProgrammingError\u001b[0m: 1140 (42000): In aggregated query without GROUP BY, expression #1 of SELECT list contains nonaggregated column 'nhldatabase.gpp.player_id'; this is incompatible with sql_mode=only_full_group_by"
     ]
    }
   ],
   "source": [
    "most_goalie_giveaways = f\"\"\"\n",
    "    SELECT gpp.player_id, COUNT(*)\n",
    "    FROM game_plays gp\n",
    "    INNER JOIN game_plays_players gpp\n",
    "        ON gp.play_id = gpp.play_id\n",
    "    WHERE gpp.player_id IN (\n",
    "        SELECT DISTINCT(player_id)\n",
    "        FROM game_goalie_stats ggs)\n",
    "    AND gp.event = 'Giveaway'\n",
    "    ;\n",
    "\"\"\"\n",
    "most_goalie_giveaways_query_result = run_query(most_goalie_giveaways)"
   ]
  },
  {
   "cell_type": "code",
   "execution_count": null,
   "metadata": {},
   "outputs": [],
   "source": []
  }
 ],
 "metadata": {
  "kernelspec": {
   "display_name": "Python [conda env:learn-env] *",
   "language": "python",
   "name": "conda-env-learn-env-py"
  },
  "language_info": {
   "codemirror_mode": {
    "name": "ipython",
    "version": 3
   },
   "file_extension": ".py",
   "mimetype": "text/x-python",
   "name": "python",
   "nbconvert_exporter": "python",
   "pygments_lexer": "ipython3",
   "version": "3.6.9"
  },
  "toc": {
   "base_numbering": 1,
   "nav_menu": {},
   "number_sections": true,
   "sideBar": true,
   "skip_h1_title": false,
   "title_cell": "Table of Contents",
   "title_sidebar": "Contents",
   "toc_cell": false,
   "toc_position": {},
   "toc_section_display": true,
   "toc_window_display": true
  },
  "varInspector": {
   "cols": {
    "lenName": 16,
    "lenType": 16,
    "lenVar": 40
   },
   "kernels_config": {
    "python": {
     "delete_cmd_postfix": "",
     "delete_cmd_prefix": "del ",
     "library": "var_list.py",
     "varRefreshCmd": "print(var_dic_list())"
    },
    "r": {
     "delete_cmd_postfix": ") ",
     "delete_cmd_prefix": "rm(",
     "library": "var_list.r",
     "varRefreshCmd": "cat(var_dic_list()) "
    }
   },
   "types_to_exclude": [
    "module",
    "function",
    "builtin_function_or_method",
    "instance",
    "_Feature"
   ],
   "window_display": false
  }
 },
 "nbformat": 4,
 "nbformat_minor": 2
}
