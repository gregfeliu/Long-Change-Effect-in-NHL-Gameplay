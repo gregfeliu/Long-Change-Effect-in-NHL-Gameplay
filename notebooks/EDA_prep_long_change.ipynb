{
 "cells": [
  {
   "cell_type": "markdown",
   "metadata": {},
   "source": [
    "import pandas as pd\n",
    "import pickle\n",
    "# ^^^ pyforest auto-imports - don't write above this line\n",
    "**EDA for NHL Game Data**"
   ]
  },
  {
   "cell_type": "markdown",
   "metadata": {},
   "source": [
    "# Imports "
   ]
  },
  {
   "cell_type": "code",
   "execution_count": 1,
   "metadata": {
    "ExecuteTime": {
     "end_time": "2020-10-22T20:49:53.208337Z",
     "start_time": "2020-10-22T20:49:51.336589Z"
    }
   },
   "outputs": [],
   "source": [
    "import mysql.connector\n",
    "import os\n",
    "import json\n",
    "import requests\n",
    "import pprint\n",
    "from config import *\n",
    "from functions import *"
   ]
  },
  {
   "cell_type": "markdown",
   "metadata": {},
   "source": [
    "# Getting General Info about database"
   ]
  },
  {
   "cell_type": "markdown",
   "metadata": {},
   "source": [
    "## Tables"
   ]
  },
  {
   "cell_type": "code",
   "execution_count": 2,
   "metadata": {
    "ExecuteTime": {
     "end_time": "2020-10-22T20:49:53.498630Z",
     "start_time": "2020-10-22T20:49:53.221508Z"
    }
   },
   "outputs": [
    {
     "data": {
      "text/plain": [
       "['entries',\n",
       " 'game',\n",
       " 'game_goalie_stats',\n",
       " 'game_plays',\n",
       " 'game_plays_players',\n",
       " 'game_shifts',\n",
       " 'game_skater_stats',\n",
       " 'game_teams_stats',\n",
       " 'player_info',\n",
       " 'team_info']"
      ]
     },
     "execution_count": 2,
     "metadata": {},
     "output_type": "execute_result"
    }
   ],
   "source": [
    "test_query = \"SHOW TABLES;\"\n",
    "all_tables_query_result = run_query(test_query)\n",
    "all_tables = [a[0] for a in all_tables_query_result]\n",
    "all_tables # ignoring entries table"
   ]
  },
  {
   "cell_type": "markdown",
   "metadata": {},
   "source": [
    "## Making all columns in all tables into a dataframe"
   ]
  },
  {
   "cell_type": "code",
   "execution_count": 3,
   "metadata": {
    "ExecuteTime": {
     "end_time": "2020-10-22T20:50:09.373708Z",
     "start_time": "2020-10-22T20:50:07.009170Z"
    }
   },
   "outputs": [],
   "source": [
    "all_query_results = []\n",
    "for table in all_tables[1:]:\n",
    "    query = f\"\"\"\n",
    "                SHOW columns FROM {table}\n",
    "            \"\"\"\n",
    "    query_result = run_query(query) # returns:  Field       | Type     | Null | Key | Default | Extra     \n",
    "    table_w_query = {table: query_result}\n",
    "    all_query_results.append(table_w_query)"
   ]
  },
  {
   "cell_type": "code",
   "execution_count": 4,
   "metadata": {
    "ExecuteTime": {
     "end_time": "2020-10-22T20:50:09.402258Z",
     "start_time": "2020-10-22T20:50:09.397714Z"
    }
   },
   "outputs": [],
   "source": [
    "# get all columns in a contingency table \n",
    "all_columns = [] \n",
    "for thing in all_query_results:\n",
    "    for key, value in thing.items():\n",
    "        for item in value:\n",
    "            list_item = list(item)\n",
    "            list_item.append(key)\n",
    "    #         one_col.append(key) # values (and its features) are first, table is last\n",
    "            all_columns.append(list_item)"
   ]
  },
  {
   "cell_type": "code",
   "execution_count": 5,
   "metadata": {
    "ExecuteTime": {
     "end_time": "2020-10-22T20:50:10.328350Z",
     "start_time": "2020-10-22T20:50:10.323953Z"
    }
   },
   "outputs": [],
   "source": [
    "# removing incorrect values\n",
    "for x in all_columns:\n",
    "    if len(x) != 7:\n",
    "        all_columns.remove(x)"
   ]
  },
  {
   "cell_type": "code",
   "execution_count": 6,
   "metadata": {
    "ExecuteTime": {
     "end_time": "2020-10-22T20:50:16.495228Z",
     "start_time": "2020-10-22T20:50:16.488746Z"
    }
   },
   "outputs": [],
   "source": [
    "table_info_df = pd.DataFrame(data = all_columns, \n",
    "             columns = [\"Column_name\", \"Column_type\", \"Null\", \"Key\", \"Default\", \"Extra\", \"Table\"])"
   ]
  },
  {
   "cell_type": "code",
   "execution_count": 7,
   "metadata": {
    "ExecuteTime": {
     "end_time": "2020-10-22T20:50:17.791796Z",
     "start_time": "2020-10-22T20:50:17.784953Z"
    }
   },
   "outputs": [],
   "source": [
    "# key, null and extra are all the same value, so I'm removing them\n",
    "table_info_df.drop(columns = ['Null', \"Key\", \"Extra\", \"Default\"], inplace=True)"
   ]
  },
  {
   "cell_type": "markdown",
   "metadata": {},
   "source": [
    "### Adding num of unique values to df"
   ]
  },
  {
   "cell_type": "code",
   "execution_count": 8,
   "metadata": {
    "ExecuteTime": {
     "end_time": "2020-10-22T20:52:03.972935Z",
     "start_time": "2020-10-22T20:50:23.411109Z"
    },
    "code_folding": []
   },
   "outputs": [],
   "source": [
    "num_unique_values_list = []\n",
    "for idx in range(len(table_info_df)):\n",
    "    col_name = table_info_df['Column_name'][idx]\n",
    "    table_name = table_info_df['Table'][idx]\n",
    "    query = f\"\"\"\n",
    "            SELECT COUNT(DISTINCT({col_name}))\n",
    "            FROM {table_name}\n",
    "    \"\"\"\n",
    "    query_result = run_query(query)\n",
    "    num_unique_values_list.append(query_result)"
   ]
  },
  {
   "cell_type": "code",
   "execution_count": 9,
   "metadata": {
    "ExecuteTime": {
     "end_time": "2020-10-22T20:52:04.009369Z",
     "start_time": "2020-10-22T20:52:04.006221Z"
    }
   },
   "outputs": [],
   "source": [
    "# flattening the num_unique_values_list\n",
    "flattened_num_unique_values = [num_unique_values_list[x][0][0] for x in range(len(num_unique_values_list))]"
   ]
  },
  {
   "cell_type": "code",
   "execution_count": 10,
   "metadata": {
    "ExecuteTime": {
     "end_time": "2020-10-22T20:52:04.037033Z",
     "start_time": "2020-10-22T20:52:04.032962Z"
    }
   },
   "outputs": [],
   "source": [
    "table_info_df['Number_of_unique_values'] = flattened_num_unique_values"
   ]
  },
  {
   "cell_type": "code",
   "execution_count": 11,
   "metadata": {
    "ExecuteTime": {
     "end_time": "2020-10-22T20:52:04.073234Z",
     "start_time": "2020-10-22T20:52:04.058055Z"
    },
    "collapsed": true
   },
   "outputs": [
    {
     "data": {
      "text/html": [
       "<div>\n",
       "<style scoped>\n",
       "    .dataframe tbody tr th:only-of-type {\n",
       "        vertical-align: middle;\n",
       "    }\n",
       "\n",
       "    .dataframe tbody tr th {\n",
       "        vertical-align: top;\n",
       "    }\n",
       "\n",
       "    .dataframe thead th {\n",
       "        text-align: right;\n",
       "    }\n",
       "</style>\n",
       "<table border=\"1\" class=\"dataframe\">\n",
       "  <thead>\n",
       "    <tr style=\"text-align: right;\">\n",
       "      <th></th>\n",
       "      <th>Column_name</th>\n",
       "      <th>Column_type</th>\n",
       "      <th>Table</th>\n",
       "      <th>Number_of_unique_values</th>\n",
       "    </tr>\n",
       "  </thead>\n",
       "  <tbody>\n",
       "    <tr>\n",
       "      <th>0</th>\n",
       "      <td>game_id</td>\n",
       "      <td>int(11)</td>\n",
       "      <td>game</td>\n",
       "      <td>5718</td>\n",
       "    </tr>\n",
       "    <tr>\n",
       "      <th>1</th>\n",
       "      <td>season</td>\n",
       "      <td>int(11)</td>\n",
       "      <td>game</td>\n",
       "      <td>10</td>\n",
       "    </tr>\n",
       "    <tr>\n",
       "      <th>2</th>\n",
       "      <td>type</td>\n",
       "      <td>varchar(1)</td>\n",
       "      <td>game</td>\n",
       "      <td>3</td>\n",
       "    </tr>\n",
       "    <tr>\n",
       "      <th>3</th>\n",
       "      <td>date_time</td>\n",
       "      <td>varchar(10)</td>\n",
       "      <td>game</td>\n",
       "      <td>1726</td>\n",
       "    </tr>\n",
       "    <tr>\n",
       "      <th>4</th>\n",
       "      <td>date_time_GMT</td>\n",
       "      <td>varchar(20)</td>\n",
       "      <td>game</td>\n",
       "      <td>4388</td>\n",
       "    </tr>\n",
       "    <tr>\n",
       "      <th>5</th>\n",
       "      <td>away_team_id</td>\n",
       "      <td>int(11)</td>\n",
       "      <td>game</td>\n",
       "      <td>34</td>\n",
       "    </tr>\n",
       "    <tr>\n",
       "      <th>6</th>\n",
       "      <td>home_team_id</td>\n",
       "      <td>int(11)</td>\n",
       "      <td>game</td>\n",
       "      <td>34</td>\n",
       "    </tr>\n",
       "    <tr>\n",
       "      <th>7</th>\n",
       "      <td>away_goals</td>\n",
       "      <td>int(11)</td>\n",
       "      <td>game</td>\n",
       "      <td>11</td>\n",
       "    </tr>\n",
       "    <tr>\n",
       "      <th>8</th>\n",
       "      <td>home_goals</td>\n",
       "      <td>int(11)</td>\n",
       "      <td>game</td>\n",
       "      <td>11</td>\n",
       "    </tr>\n",
       "    <tr>\n",
       "      <th>9</th>\n",
       "      <td>outcome</td>\n",
       "      <td>varchar(12)</td>\n",
       "      <td>game</td>\n",
       "      <td>7</td>\n",
       "    </tr>\n",
       "    <tr>\n",
       "      <th>10</th>\n",
       "      <td>home_rink_side_start</td>\n",
       "      <td>varchar(5)</td>\n",
       "      <td>game</td>\n",
       "      <td>4</td>\n",
       "    </tr>\n",
       "    <tr>\n",
       "      <th>11</th>\n",
       "      <td>venue</td>\n",
       "      <td>varchar(64)</td>\n",
       "      <td>game</td>\n",
       "      <td>66</td>\n",
       "    </tr>\n",
       "    <tr>\n",
       "      <th>12</th>\n",
       "      <td>venue_link</td>\n",
       "      <td>varchar(19)</td>\n",
       "      <td>game</td>\n",
       "      <td>29</td>\n",
       "    </tr>\n",
       "    <tr>\n",
       "      <th>13</th>\n",
       "      <td>venue_time_zone_id</td>\n",
       "      <td>varchar(19)</td>\n",
       "      <td>game</td>\n",
       "      <td>12</td>\n",
       "    </tr>\n",
       "    <tr>\n",
       "      <th>14</th>\n",
       "      <td>venue_time_zone_offset</td>\n",
       "      <td>int(11)</td>\n",
       "      <td>game</td>\n",
       "      <td>6</td>\n",
       "    </tr>\n",
       "    <tr>\n",
       "      <th>15</th>\n",
       "      <td>venue_time_zone_tz</td>\n",
       "      <td>varchar(3)</td>\n",
       "      <td>game</td>\n",
       "      <td>10</td>\n",
       "    </tr>\n",
       "    <tr>\n",
       "      <th>16</th>\n",
       "      <td>game_id</td>\n",
       "      <td>int(11)</td>\n",
       "      <td>game_goalie_stats</td>\n",
       "      <td>11435</td>\n",
       "    </tr>\n",
       "    <tr>\n",
       "      <th>17</th>\n",
       "      <td>player_id</td>\n",
       "      <td>int(11)</td>\n",
       "      <td>game_goalie_stats</td>\n",
       "      <td>215</td>\n",
       "    </tr>\n",
       "    <tr>\n",
       "      <th>18</th>\n",
       "      <td>team_id</td>\n",
       "      <td>int(11)</td>\n",
       "      <td>game_goalie_stats</td>\n",
       "      <td>34</td>\n",
       "    </tr>\n",
       "    <tr>\n",
       "      <th>19</th>\n",
       "      <td>timeOnIce</td>\n",
       "      <td>int(11)</td>\n",
       "      <td>game_goalie_stats</td>\n",
       "      <td>2564</td>\n",
       "    </tr>\n",
       "    <tr>\n",
       "      <th>20</th>\n",
       "      <td>assists</td>\n",
       "      <td>int(11)</td>\n",
       "      <td>game_goalie_stats</td>\n",
       "      <td>3</td>\n",
       "    </tr>\n",
       "    <tr>\n",
       "      <th>21</th>\n",
       "      <td>goals</td>\n",
       "      <td>int(11)</td>\n",
       "      <td>game_goalie_stats</td>\n",
       "      <td>2</td>\n",
       "    </tr>\n",
       "    <tr>\n",
       "      <th>22</th>\n",
       "      <td>pim</td>\n",
       "      <td>int(11)</td>\n",
       "      <td>game_goalie_stats</td>\n",
       "      <td>12</td>\n",
       "    </tr>\n",
       "    <tr>\n",
       "      <th>23</th>\n",
       "      <td>shots</td>\n",
       "      <td>int(11)</td>\n",
       "      <td>game_goalie_stats</td>\n",
       "      <td>64</td>\n",
       "    </tr>\n",
       "    <tr>\n",
       "      <th>24</th>\n",
       "      <td>saves</td>\n",
       "      <td>int(11)</td>\n",
       "      <td>game_goalie_stats</td>\n",
       "      <td>60</td>\n",
       "    </tr>\n",
       "    <tr>\n",
       "      <th>25</th>\n",
       "      <td>powerPlaySaves</td>\n",
       "      <td>int(11)</td>\n",
       "      <td>game_goalie_stats</td>\n",
       "      <td>24</td>\n",
       "    </tr>\n",
       "    <tr>\n",
       "      <th>26</th>\n",
       "      <td>shortHandedSaves</td>\n",
       "      <td>int(11)</td>\n",
       "      <td>game_goalie_stats</td>\n",
       "      <td>10</td>\n",
       "    </tr>\n",
       "    <tr>\n",
       "      <th>27</th>\n",
       "      <td>evenSaves</td>\n",
       "      <td>int(11)</td>\n",
       "      <td>game_goalie_stats</td>\n",
       "      <td>56</td>\n",
       "    </tr>\n",
       "    <tr>\n",
       "      <th>28</th>\n",
       "      <td>shortHandedShotsAgainst</td>\n",
       "      <td>int(11)</td>\n",
       "      <td>game_goalie_stats</td>\n",
       "      <td>9</td>\n",
       "    </tr>\n",
       "    <tr>\n",
       "      <th>29</th>\n",
       "      <td>evenShotsAgainst</td>\n",
       "      <td>int(11)</td>\n",
       "      <td>game_goalie_stats</td>\n",
       "      <td>58</td>\n",
       "    </tr>\n",
       "    <tr>\n",
       "      <th>30</th>\n",
       "      <td>powerPlayShotsAgainst</td>\n",
       "      <td>int(11)</td>\n",
       "      <td>game_goalie_stats</td>\n",
       "      <td>25</td>\n",
       "    </tr>\n",
       "    <tr>\n",
       "      <th>31</th>\n",
       "      <td>decision</td>\n",
       "      <td>varchar(1)</td>\n",
       "      <td>game_goalie_stats</td>\n",
       "      <td>4</td>\n",
       "    </tr>\n",
       "    <tr>\n",
       "      <th>32</th>\n",
       "      <td>savePercentage</td>\n",
       "      <td>float</td>\n",
       "      <td>game_goalie_stats</td>\n",
       "      <td>229</td>\n",
       "    </tr>\n",
       "    <tr>\n",
       "      <th>33</th>\n",
       "      <td>powerPlaySavePercentage</td>\n",
       "      <td>float</td>\n",
       "      <td>game_goalie_stats</td>\n",
       "      <td>57</td>\n",
       "    </tr>\n",
       "    <tr>\n",
       "      <th>34</th>\n",
       "      <td>evenStrengthSavePercentage</td>\n",
       "      <td>float</td>\n",
       "      <td>game_goalie_stats</td>\n",
       "      <td>189</td>\n",
       "    </tr>\n",
       "    <tr>\n",
       "      <th>35</th>\n",
       "      <td>play_id</td>\n",
       "      <td>varchar(14)</td>\n",
       "      <td>game_plays</td>\n",
       "      <td>2068070</td>\n",
       "    </tr>\n",
       "    <tr>\n",
       "      <th>36</th>\n",
       "      <td>game_id</td>\n",
       "      <td>int(11)</td>\n",
       "      <td>game_plays</td>\n",
       "      <td>11245</td>\n",
       "    </tr>\n",
       "    <tr>\n",
       "      <th>37</th>\n",
       "      <td>play_num</td>\n",
       "      <td>int(11)</td>\n",
       "      <td>game_plays</td>\n",
       "      <td>655</td>\n",
       "    </tr>\n",
       "    <tr>\n",
       "      <th>38</th>\n",
       "      <td>team_id_for</td>\n",
       "      <td>float</td>\n",
       "      <td>game_plays</td>\n",
       "      <td>34</td>\n",
       "    </tr>\n",
       "    <tr>\n",
       "      <th>39</th>\n",
       "      <td>team_id_against</td>\n",
       "      <td>float</td>\n",
       "      <td>game_plays</td>\n",
       "      <td>34</td>\n",
       "    </tr>\n",
       "    <tr>\n",
       "      <th>40</th>\n",
       "      <td>event</td>\n",
       "      <td>varchar(24)</td>\n",
       "      <td>game_plays</td>\n",
       "      <td>23</td>\n",
       "    </tr>\n",
       "    <tr>\n",
       "      <th>41</th>\n",
       "      <td>secondaryType</td>\n",
       "      <td>varchar(38)</td>\n",
       "      <td>game_plays</td>\n",
       "      <td>77</td>\n",
       "    </tr>\n",
       "    <tr>\n",
       "      <th>42</th>\n",
       "      <td>x</td>\n",
       "      <td>float</td>\n",
       "      <td>game_plays</td>\n",
       "      <td>199</td>\n",
       "    </tr>\n",
       "    <tr>\n",
       "      <th>43</th>\n",
       "      <td>y</td>\n",
       "      <td>float</td>\n",
       "      <td>game_plays</td>\n",
       "      <td>85</td>\n",
       "    </tr>\n",
       "    <tr>\n",
       "      <th>44</th>\n",
       "      <td>period</td>\n",
       "      <td>int(11)</td>\n",
       "      <td>game_plays</td>\n",
       "      <td>7</td>\n",
       "    </tr>\n",
       "    <tr>\n",
       "      <th>45</th>\n",
       "      <td>periodType</td>\n",
       "      <td>varchar(8)</td>\n",
       "      <td>game_plays</td>\n",
       "      <td>4</td>\n",
       "    </tr>\n",
       "    <tr>\n",
       "      <th>46</th>\n",
       "      <td>periodTime</td>\n",
       "      <td>int(11)</td>\n",
       "      <td>game_plays</td>\n",
       "      <td>1201</td>\n",
       "    </tr>\n",
       "    <tr>\n",
       "      <th>47</th>\n",
       "      <td>periodTimeRemaining</td>\n",
       "      <td>int(11)</td>\n",
       "      <td>game_plays</td>\n",
       "      <td>1201</td>\n",
       "    </tr>\n",
       "    <tr>\n",
       "      <th>48</th>\n",
       "      <td>dateTime</td>\n",
       "      <td>varchar(19)</td>\n",
       "      <td>game_plays</td>\n",
       "      <td>1954613</td>\n",
       "    </tr>\n",
       "    <tr>\n",
       "      <th>49</th>\n",
       "      <td>goals_away</td>\n",
       "      <td>int(11)</td>\n",
       "      <td>game_plays</td>\n",
       "      <td>11</td>\n",
       "    </tr>\n",
       "    <tr>\n",
       "      <th>50</th>\n",
       "      <td>goals_home</td>\n",
       "      <td>int(11)</td>\n",
       "      <td>game_plays</td>\n",
       "      <td>11</td>\n",
       "    </tr>\n",
       "    <tr>\n",
       "      <th>51</th>\n",
       "      <td>description</td>\n",
       "      <td>varchar(98)</td>\n",
       "      <td>game_plays</td>\n",
       "      <td>654871</td>\n",
       "    </tr>\n",
       "    <tr>\n",
       "      <th>52</th>\n",
       "      <td>st_x</td>\n",
       "      <td>float</td>\n",
       "      <td>game_plays</td>\n",
       "      <td>199</td>\n",
       "    </tr>\n",
       "    <tr>\n",
       "      <th>53</th>\n",
       "      <td>st_y</td>\n",
       "      <td>float</td>\n",
       "      <td>game_plays</td>\n",
       "      <td>85</td>\n",
       "    </tr>\n",
       "    <tr>\n",
       "      <th>54</th>\n",
       "      <td>rink_side</td>\n",
       "      <td>varchar(5)</td>\n",
       "      <td>game_plays</td>\n",
       "      <td>4</td>\n",
       "    </tr>\n",
       "    <tr>\n",
       "      <th>55</th>\n",
       "      <td>play_id</td>\n",
       "      <td>varchar(14)</td>\n",
       "      <td>game_plays_players</td>\n",
       "      <td>2617481</td>\n",
       "    </tr>\n",
       "    <tr>\n",
       "      <th>56</th>\n",
       "      <td>game_id</td>\n",
       "      <td>int(11)</td>\n",
       "      <td>game_plays_players</td>\n",
       "      <td>11245</td>\n",
       "    </tr>\n",
       "    <tr>\n",
       "      <th>57</th>\n",
       "      <td>play_num</td>\n",
       "      <td>int(11)</td>\n",
       "      <td>game_plays_players</td>\n",
       "      <td>660</td>\n",
       "    </tr>\n",
       "    <tr>\n",
       "      <th>58</th>\n",
       "      <td>player_id</td>\n",
       "      <td>int(11)</td>\n",
       "      <td>game_plays_players</td>\n",
       "      <td>2204</td>\n",
       "    </tr>\n",
       "    <tr>\n",
       "      <th>59</th>\n",
       "      <td>playerType</td>\n",
       "      <td>varchar(9)</td>\n",
       "      <td>game_plays_players</td>\n",
       "      <td>14</td>\n",
       "    </tr>\n",
       "  </tbody>\n",
       "</table>\n",
       "</div>"
      ],
      "text/plain": [
       "                   Column_name  Column_type               Table  \\\n",
       "0                      game_id      int(11)                game   \n",
       "1                       season      int(11)                game   \n",
       "2                         type   varchar(1)                game   \n",
       "3                    date_time  varchar(10)                game   \n",
       "4                date_time_GMT  varchar(20)                game   \n",
       "5                 away_team_id      int(11)                game   \n",
       "6                 home_team_id      int(11)                game   \n",
       "7                   away_goals      int(11)                game   \n",
       "8                   home_goals      int(11)                game   \n",
       "9                      outcome  varchar(12)                game   \n",
       "10        home_rink_side_start   varchar(5)                game   \n",
       "11                       venue  varchar(64)                game   \n",
       "12                  venue_link  varchar(19)                game   \n",
       "13          venue_time_zone_id  varchar(19)                game   \n",
       "14      venue_time_zone_offset      int(11)                game   \n",
       "15          venue_time_zone_tz   varchar(3)                game   \n",
       "16                     game_id      int(11)   game_goalie_stats   \n",
       "17                   player_id      int(11)   game_goalie_stats   \n",
       "18                     team_id      int(11)   game_goalie_stats   \n",
       "19                   timeOnIce      int(11)   game_goalie_stats   \n",
       "20                     assists      int(11)   game_goalie_stats   \n",
       "21                       goals      int(11)   game_goalie_stats   \n",
       "22                         pim      int(11)   game_goalie_stats   \n",
       "23                       shots      int(11)   game_goalie_stats   \n",
       "24                       saves      int(11)   game_goalie_stats   \n",
       "25              powerPlaySaves      int(11)   game_goalie_stats   \n",
       "26            shortHandedSaves      int(11)   game_goalie_stats   \n",
       "27                   evenSaves      int(11)   game_goalie_stats   \n",
       "28     shortHandedShotsAgainst      int(11)   game_goalie_stats   \n",
       "29            evenShotsAgainst      int(11)   game_goalie_stats   \n",
       "30       powerPlayShotsAgainst      int(11)   game_goalie_stats   \n",
       "31                    decision   varchar(1)   game_goalie_stats   \n",
       "32              savePercentage        float   game_goalie_stats   \n",
       "33     powerPlaySavePercentage        float   game_goalie_stats   \n",
       "34  evenStrengthSavePercentage        float   game_goalie_stats   \n",
       "35                     play_id  varchar(14)          game_plays   \n",
       "36                     game_id      int(11)          game_plays   \n",
       "37                    play_num      int(11)          game_plays   \n",
       "38                 team_id_for        float          game_plays   \n",
       "39             team_id_against        float          game_plays   \n",
       "40                       event  varchar(24)          game_plays   \n",
       "41               secondaryType  varchar(38)          game_plays   \n",
       "42                           x        float          game_plays   \n",
       "43                           y        float          game_plays   \n",
       "44                      period      int(11)          game_plays   \n",
       "45                  periodType   varchar(8)          game_plays   \n",
       "46                  periodTime      int(11)          game_plays   \n",
       "47         periodTimeRemaining      int(11)          game_plays   \n",
       "48                    dateTime  varchar(19)          game_plays   \n",
       "49                  goals_away      int(11)          game_plays   \n",
       "50                  goals_home      int(11)          game_plays   \n",
       "51                 description  varchar(98)          game_plays   \n",
       "52                        st_x        float          game_plays   \n",
       "53                        st_y        float          game_plays   \n",
       "54                   rink_side   varchar(5)          game_plays   \n",
       "55                     play_id  varchar(14)  game_plays_players   \n",
       "56                     game_id      int(11)  game_plays_players   \n",
       "57                    play_num      int(11)  game_plays_players   \n",
       "58                   player_id      int(11)  game_plays_players   \n",
       "59                  playerType   varchar(9)  game_plays_players   \n",
       "\n",
       "    Number_of_unique_values  \n",
       "0                      5718  \n",
       "1                        10  \n",
       "2                         3  \n",
       "3                      1726  \n",
       "4                      4388  \n",
       "5                        34  \n",
       "6                        34  \n",
       "7                        11  \n",
       "8                        11  \n",
       "9                         7  \n",
       "10                        4  \n",
       "11                       66  \n",
       "12                       29  \n",
       "13                       12  \n",
       "14                        6  \n",
       "15                       10  \n",
       "16                    11435  \n",
       "17                      215  \n",
       "18                       34  \n",
       "19                     2564  \n",
       "20                        3  \n",
       "21                        2  \n",
       "22                       12  \n",
       "23                       64  \n",
       "24                       60  \n",
       "25                       24  \n",
       "26                       10  \n",
       "27                       56  \n",
       "28                        9  \n",
       "29                       58  \n",
       "30                       25  \n",
       "31                        4  \n",
       "32                      229  \n",
       "33                       57  \n",
       "34                      189  \n",
       "35                  2068070  \n",
       "36                    11245  \n",
       "37                      655  \n",
       "38                       34  \n",
       "39                       34  \n",
       "40                       23  \n",
       "41                       77  \n",
       "42                      199  \n",
       "43                       85  \n",
       "44                        7  \n",
       "45                        4  \n",
       "46                     1201  \n",
       "47                     1201  \n",
       "48                  1954613  \n",
       "49                       11  \n",
       "50                       11  \n",
       "51                   654871  \n",
       "52                      199  \n",
       "53                       85  \n",
       "54                        4  \n",
       "55                  2617481  \n",
       "56                    11245  \n",
       "57                      660  \n",
       "58                     2204  \n",
       "59                       14  "
      ]
     },
     "execution_count": 11,
     "metadata": {},
     "output_type": "execute_result"
    }
   ],
   "source": [
    "table_info_df[0:60]\n",
    "# table_info_df[60:]"
   ]
  },
  {
   "cell_type": "markdown",
   "metadata": {},
   "source": [
    "### Saving DF"
   ]
  },
  {
   "cell_type": "code",
   "execution_count": 12,
   "metadata": {
    "ExecuteTime": {
     "end_time": "2020-10-22T20:54:21.725908Z",
     "start_time": "2020-10-22T20:54:21.716526Z"
    }
   },
   "outputs": [],
   "source": [
    "# table_info_df.to_csv(\"../data/table_info_df.csv\")"
   ]
  },
  {
   "cell_type": "markdown",
   "metadata": {},
   "source": [
    "## Listing all events"
   ]
  },
  {
   "cell_type": "code",
   "execution_count": 13,
   "metadata": {
    "ExecuteTime": {
     "end_time": "2020-10-22T20:54:32.225191Z",
     "start_time": "2020-10-22T20:54:29.410861Z"
    }
   },
   "outputs": [],
   "source": [
    "# what events are possible\n",
    "events_query = \"\"\"\n",
    "        SELECT DISTINCT(event)\n",
    "        FROM game_plays\n",
    "\"\"\"\n",
    "all_events = run_query(events_query)"
   ]
  },
  {
   "cell_type": "markdown",
   "metadata": {},
   "source": [
    "### Saving All events as a list"
   ]
  },
  {
   "cell_type": "code",
   "execution_count": 26,
   "metadata": {
    "ExecuteTime": {
     "end_time": "2020-10-13T18:48:41.207849Z",
     "start_time": "2020-10-13T18:48:41.200885Z"
    }
   },
   "outputs": [
    {
     "data": {
      "application/javascript": [
       "\n",
       "        if (window._pyforest_update_imports_cell) { window._pyforest_update_imports_cell('import pandas as pd\\nimport pickle'); }\n",
       "    "
      ],
      "text/plain": [
       "<IPython.core.display.Javascript object>"
      ]
     },
     "metadata": {},
     "output_type": "display_data"
    }
   ],
   "source": [
    "with open('../data/all_event_types', 'wb') as f:\n",
    "    pickle.dump(all_events, f)"
   ]
  },
  {
   "cell_type": "code",
   "execution_count": 240,
   "metadata": {
    "ExecuteTime": {
     "end_time": "2020-10-01T17:06:27.541949Z",
     "start_time": "2020-10-01T17:06:27.467810Z"
    }
   },
   "outputs": [
    {
     "data": {
      "text/plain": [
       "[(0,),\n",
       " (20112012,),\n",
       " (20102011,),\n",
       " (20122013,),\n",
       " (20162017,),\n",
       " (20142015,),\n",
       " (20152016,),\n",
       " (20132014,),\n",
       " (20172018,),\n",
       " (20182019,)]"
      ]
     },
     "execution_count": 240,
     "metadata": {},
     "output_type": "execute_result"
    }
   ],
   "source": [
    "# what seasons does this cover\n",
    "seasons_query = \"\"\"\n",
    "        SELECT DISTINCT (season)\n",
    "        FROM game\n",
    "\"\"\"\n",
    "distinct_seasons = run_query(seasons_query)\n",
    "distinct_seasons"
   ]
  },
  {
   "cell_type": "code",
   "execution_count": 242,
   "metadata": {
    "ExecuteTime": {
     "end_time": "2020-10-01T17:09:40.963542Z",
     "start_time": "2020-10-01T17:09:40.906349Z"
    }
   },
   "outputs": [
    {
     "data": {
      "text/plain": [
       "[(0,),\n",
       " (2011030222,),\n",
       " (2011030224,),\n",
       " (2011030411,),\n",
       " (2011030413,),\n",
       " (2011030415,),\n",
       " (2010030311,),\n",
       " (2010030313,),\n",
       " (2010030315,),\n",
       " (2010030317,)]"
      ]
     },
     "execution_count": 242,
     "metadata": {},
     "output_type": "execute_result"
    }
   ],
   "source": [
    "# getting a game id to put into nhl API \n",
    "gameid_query = \"\"\"\n",
    "        SELECT DISTINCT (game_id)\n",
    "        FROM game\n",
    "        LIMIT 10\n",
    "\"\"\"\n",
    "example_game_ids = run_query(gameid_query)\n",
    "example_game_ids"
   ]
  },
  {
   "cell_type": "code",
   "execution_count": null,
   "metadata": {},
   "outputs": [],
   "source": []
  }
 ],
 "metadata": {
  "kernelspec": {
   "display_name": "Python [conda env:learn-env] *",
   "language": "python",
   "name": "conda-env-learn-env-py"
  },
  "language_info": {
   "codemirror_mode": {
    "name": "ipython",
    "version": 3
   },
   "file_extension": ".py",
   "mimetype": "text/x-python",
   "name": "python",
   "nbconvert_exporter": "python",
   "pygments_lexer": "ipython3",
   "version": "3.6.9"
  },
  "toc": {
   "base_numbering": 1,
   "nav_menu": {},
   "number_sections": true,
   "sideBar": true,
   "skip_h1_title": false,
   "title_cell": "Table of Contents",
   "title_sidebar": "Contents",
   "toc_cell": false,
   "toc_position": {
    "height": "calc(100% - 180px)",
    "left": "10px",
    "top": "150px",
    "width": "354px"
   },
   "toc_section_display": true,
   "toc_window_display": true
  },
  "varInspector": {
   "cols": {
    "lenName": 16,
    "lenType": 16,
    "lenVar": 40
   },
   "kernels_config": {
    "python": {
     "delete_cmd_postfix": "",
     "delete_cmd_prefix": "del ",
     "library": "var_list.py",
     "varRefreshCmd": "print(var_dic_list())"
    },
    "r": {
     "delete_cmd_postfix": ") ",
     "delete_cmd_prefix": "rm(",
     "library": "var_list.r",
     "varRefreshCmd": "cat(var_dic_list()) "
    }
   },
   "types_to_exclude": [
    "module",
    "function",
    "builtin_function_or_method",
    "instance",
    "_Feature"
   ],
   "window_display": false
  }
 },
 "nbformat": 4,
 "nbformat_minor": 2
}
