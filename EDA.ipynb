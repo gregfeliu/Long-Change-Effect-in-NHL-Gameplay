{
 "cells": [
  {
   "cell_type": "markdown",
   "metadata": {},
   "source": [
    "import pandas as pd\n",
    "# ^^^ pyforest auto-imports - don't write above this line\n",
    "**EDA for NHL Game Data**"
   ]
  },
  {
   "cell_type": "markdown",
   "metadata": {},
   "source": [
    "# Imports "
   ]
  },
  {
   "cell_type": "code",
   "execution_count": 320,
   "metadata": {
    "ExecuteTime": {
     "end_time": "2020-10-02T18:09:02.216777Z",
     "start_time": "2020-10-02T18:09:02.212570Z"
    }
   },
   "outputs": [],
   "source": [
    "import mysql.connector\n",
    "from mysql.connector.constants import ClientFlag\n",
    "import os\n",
    "import json\n",
    "import requests\n",
    "import pprint"
   ]
  },
  {
   "cell_type": "markdown",
   "metadata": {},
   "source": [
    "# Connecting to Database\n",
    "https://towardsdatascience.com/sql-on-the-cloud-with-python-c08a30807661"
   ]
  },
  {
   "cell_type": "code",
   "execution_count": 326,
   "metadata": {
    "ExecuteTime": {
     "end_time": "2020-10-02T18:09:39.915907Z",
     "start_time": "2020-10-02T18:09:39.911322Z"
    },
    "code_folding": []
   },
   "outputs": [],
   "source": [
    "config = {\n",
    "    'user': 'root',\n",
    "    'password': 'dyfNaj-6tozri-nemjej',\n",
    "    'host': '34.86.62.110',\n",
    "    'client_flags': [ClientFlag.SSL],\n",
    "    'ssl_ca': '../other/ssl/server-ca.pem',\n",
    "    'ssl_cert': '../other/ssl/client-cert.pem',\n",
    "    'ssl_key': '../other/ssl/client-key.pem',\n",
    "    'database': 'nhldatabase'\n",
    "}"
   ]
  },
  {
   "cell_type": "code",
   "execution_count": 327,
   "metadata": {
    "ExecuteTime": {
     "end_time": "2020-10-02T18:09:41.139260Z",
     "start_time": "2020-10-02T18:09:40.922791Z"
    }
   },
   "outputs": [],
   "source": [
    "# now we establish our connection\n",
    "cnxn = mysql.connector.connect(**config)"
   ]
  },
  {
   "cell_type": "code",
   "execution_count": 328,
   "metadata": {
    "ExecuteTime": {
     "end_time": "2020-10-02T18:09:42.289710Z",
     "start_time": "2020-10-02T18:09:42.285717Z"
    }
   },
   "outputs": [],
   "source": [
    "assert cnxn"
   ]
  },
  {
   "cell_type": "markdown",
   "metadata": {},
   "source": [
    "## Examples of how to use the database"
   ]
  },
  {
   "cell_type": "code",
   "execution_count": null,
   "metadata": {},
   "outputs": [],
   "source": [
    "\"\"\"\n",
    "cursor = cnxn.cursor()  # initialize connection cursor\n",
    "cursor.execute('CREATE DATABASE testdb')  # create a new 'testdb' database\n",
    "cnxn.commit()  # this commits changes to the database\n",
    "cnxn.close()  # close connection because we will be reconnecting to testdb\n",
    "\"\"\""
   ]
  },
  {
   "cell_type": "code",
   "execution_count": null,
   "metadata": {},
   "outputs": [],
   "source": [
    "# to get data from database (i.e.: run a query)\n",
    "\"\"\"\n",
    "cursor.execute(<SQL query in quotes>)\n",
    "<variable> cursor.fetchall() # i guess this performs the query\n",
    "# view the data in the variable\n",
    "\"\"\""
   ]
  },
  {
   "cell_type": "markdown",
   "metadata": {},
   "source": [
    "# Getting General Info about database"
   ]
  },
  {
   "cell_type": "code",
   "execution_count": 324,
   "metadata": {
    "ExecuteTime": {
     "end_time": "2020-10-02T18:09:26.167789Z",
     "start_time": "2020-10-02T18:09:26.163999Z"
    }
   },
   "outputs": [],
   "source": [
    "assert cnxn"
   ]
  },
  {
   "cell_type": "code",
   "execution_count": 322,
   "metadata": {
    "ExecuteTime": {
     "end_time": "2020-10-02T18:09:20.800426Z",
     "start_time": "2020-10-02T18:09:20.794846Z"
    }
   },
   "outputs": [],
   "source": [
    "def run_query(sql_query, connection):\n",
    "    # add try except for connection\n",
    "    try:\n",
    "        assert connection\n",
    "    except AssertionError:\n",
    "        connection = mysql.connector.connect(**config)\n",
    "    # main part of function\n",
    "    cursor = connection.cursor()\n",
    "    cursor.execute(sql_query)\n",
    "    variable = cursor.fetchall()\n",
    "    return variable"
   ]
  },
  {
   "cell_type": "markdown",
   "metadata": {},
   "source": [
    "## Tables"
   ]
  },
  {
   "cell_type": "code",
   "execution_count": 88,
   "metadata": {
    "ExecuteTime": {
     "end_time": "2020-09-30T19:42:20.944415Z",
     "start_time": "2020-09-30T19:42:20.883174Z"
    }
   },
   "outputs": [],
   "source": [
    "test_query = \"SHOW TABLES;\"\n",
    "all_tables_query_result = run_query(test_query, cnxn)\n",
    "all_tables = [a[0] for a in all_tables_query_result]"
   ]
  },
  {
   "cell_type": "code",
   "execution_count": 89,
   "metadata": {
    "ExecuteTime": {
     "end_time": "2020-09-30T19:42:22.162054Z",
     "start_time": "2020-09-30T19:42:22.156051Z"
    },
    "collapsed": true
   },
   "outputs": [
    {
     "data": {
      "text/plain": [
       "['entries',\n",
       " 'game',\n",
       " 'game_goalie_stats',\n",
       " 'game_plays',\n",
       " 'game_plays_players',\n",
       " 'game_shifts',\n",
       " 'game_skater_stats',\n",
       " 'game_teams_stats',\n",
       " 'player_info',\n",
       " 'team_info']"
      ]
     },
     "execution_count": 89,
     "metadata": {},
     "output_type": "execute_result"
    }
   ],
   "source": [
    "all_tables # ignoring entries"
   ]
  },
  {
   "cell_type": "markdown",
   "metadata": {},
   "source": [
    "## Type of events covered in tables "
   ]
  },
  {
   "cell_type": "code",
   "execution_count": 72,
   "metadata": {
    "ExecuteTime": {
     "end_time": "2020-09-30T17:31:09.126696Z",
     "start_time": "2020-09-30T17:30:59.552675Z"
    }
   },
   "outputs": [],
   "source": [
    "game_plays_query = \"\"\"\n",
    "    SHOW columns FROM game_plays\n",
    "\"\"\" # https://stackoverflow.com/questions/4165195/mysql-query-to-get-column-names\n",
    "columns_in_game_plays = run_query(game_plays_query, cnxn)"
   ]
  },
  {
   "cell_type": "code",
   "execution_count": 90,
   "metadata": {
    "ExecuteTime": {
     "end_time": "2020-09-30T19:43:12.810651Z",
     "start_time": "2020-09-30T19:43:12.755524Z"
    }
   },
   "outputs": [],
   "source": [
    "first_5_game_plays_query = \"\"\"\n",
    "    SELECT *\n",
    "    FROM game_plays\n",
    "    LIMIT 5;\n",
    "\"\"\"\n",
    "first_5_game_plays = run_query(first_5_game_plays_query, cnxn)"
   ]
  },
  {
   "cell_type": "code",
   "execution_count": 91,
   "metadata": {
    "ExecuteTime": {
     "end_time": "2020-09-30T19:43:13.855325Z",
     "start_time": "2020-09-30T19:43:13.848921Z"
    },
    "collapsed": true
   },
   "outputs": [
    {
     "data": {
      "text/plain": [
       "('2011030221_2',\n",
       " 2011030221,\n",
       " 2,\n",
       " 0.0,\n",
       " 0.0,\n",
       " 'Period Ready',\n",
       " 'NA',\n",
       " 0.0,\n",
       " 0.0,\n",
       " 1,\n",
       " 'REGULAR',\n",
       " 0,\n",
       " 1200,\n",
       " '2012-04-29 19:19:49',\n",
       " 0,\n",
       " 0,\n",
       " 'Period Ready',\n",
       " 0.0,\n",
       " 0.0,\n",
       " 'NA\\r')"
      ]
     },
     "execution_count": 91,
     "metadata": {},
     "output_type": "execute_result"
    }
   ],
   "source": [
    "first_5_game_plays[1]"
   ]
  },
  {
   "cell_type": "markdown",
   "metadata": {},
   "source": [
    "## Making all columns in all tables into a dataframe"
   ]
  },
  {
   "cell_type": "code",
   "execution_count": 93,
   "metadata": {
    "ExecuteTime": {
     "end_time": "2020-09-30T19:45:47.083492Z",
     "start_time": "2020-09-30T19:45:46.584495Z"
    }
   },
   "outputs": [],
   "source": [
    "all_query_results = []\n",
    "for table in all_tables[1:]:\n",
    "    query = f\"\"\"\n",
    "                SHOW columns FROM {table}\n",
    "            \"\"\"\n",
    "    query_result = run_query(query, cnxn) # returns:  Field       | Type     | Null | Key | Default | Extra     \n",
    "    table_w_query = {table: query_result}\n",
    "    all_query_results.append(table_w_query)"
   ]
  },
  {
   "cell_type": "code",
   "execution_count": 149,
   "metadata": {
    "ExecuteTime": {
     "end_time": "2020-09-30T20:02:52.866057Z",
     "start_time": "2020-09-30T20:02:52.860952Z"
    }
   },
   "outputs": [],
   "source": [
    "# get all columns in a contingency table \n",
    "all_columns = [] \n",
    "for thing in all_query_results:\n",
    "    for key, value in thing.items():\n",
    "        for item in value:\n",
    "            list_item = list(item)\n",
    "            list_item.append(key)\n",
    "    #         one_col.append(key) # values (and its features) are first, table is last\n",
    "            all_columns.append(list_item)"
   ]
  },
  {
   "cell_type": "code",
   "execution_count": 158,
   "metadata": {
    "ExecuteTime": {
     "end_time": "2020-09-30T20:04:41.102489Z",
     "start_time": "2020-09-30T20:04:41.098244Z"
    }
   },
   "outputs": [],
   "source": [
    "# removing incorrect values\n",
    "for x in all_columns:\n",
    "    if len(x) != 7:\n",
    "        all_columns.remove(x)"
   ]
  },
  {
   "cell_type": "code",
   "execution_count": 172,
   "metadata": {
    "ExecuteTime": {
     "end_time": "2020-09-30T20:09:17.315617Z",
     "start_time": "2020-09-30T20:09:17.306558Z"
    }
   },
   "outputs": [
    {
     "data": {
      "application/javascript": [
       "\n",
       "        if (window._pyforest_update_imports_cell) { window._pyforest_update_imports_cell('import pandas as pd'); }\n",
       "    "
      ],
      "text/plain": [
       "<IPython.core.display.Javascript object>"
      ]
     },
     "metadata": {},
     "output_type": "display_data"
    }
   ],
   "source": [
    "table_info_df = pd.DataFrame(data = all_columns, \n",
    "             columns = [\"Column_name\", \"Column_type\", \"Null\", \"Key\", \"Default\", \"Extra\", \"Table\"])\n"
   ]
  },
  {
   "cell_type": "code",
   "execution_count": 173,
   "metadata": {
    "ExecuteTime": {
     "end_time": "2020-09-30T20:09:18.966677Z",
     "start_time": "2020-09-30T20:09:18.961115Z"
    }
   },
   "outputs": [],
   "source": [
    "# key, null and extra are all the same value, so I'm removing them\n",
    "table_info_df.drop(columns = ['Null', \"Key\", \"Extra\", \"Default\"], inplace=True)"
   ]
  },
  {
   "cell_type": "code",
   "execution_count": 174,
   "metadata": {
    "ExecuteTime": {
     "end_time": "2020-09-30T20:09:19.308009Z",
     "start_time": "2020-09-30T20:09:19.298164Z"
    },
    "scrolled": true
   },
   "outputs": [
    {
     "data": {
      "text/html": [
       "<div>\n",
       "<style scoped>\n",
       "    .dataframe tbody tr th:only-of-type {\n",
       "        vertical-align: middle;\n",
       "    }\n",
       "\n",
       "    .dataframe tbody tr th {\n",
       "        vertical-align: top;\n",
       "    }\n",
       "\n",
       "    .dataframe thead th {\n",
       "        text-align: right;\n",
       "    }\n",
       "</style>\n",
       "<table border=\"1\" class=\"dataframe\">\n",
       "  <thead>\n",
       "    <tr style=\"text-align: right;\">\n",
       "      <th></th>\n",
       "      <th>Column_name</th>\n",
       "      <th>Column_type</th>\n",
       "      <th>Table</th>\n",
       "    </tr>\n",
       "  </thead>\n",
       "  <tbody>\n",
       "    <tr>\n",
       "      <th>0</th>\n",
       "      <td>game_id</td>\n",
       "      <td>int(11)</td>\n",
       "      <td>game</td>\n",
       "    </tr>\n",
       "    <tr>\n",
       "      <th>1</th>\n",
       "      <td>season</td>\n",
       "      <td>int(11)</td>\n",
       "      <td>game</td>\n",
       "    </tr>\n",
       "    <tr>\n",
       "      <th>2</th>\n",
       "      <td>type</td>\n",
       "      <td>varchar(1)</td>\n",
       "      <td>game</td>\n",
       "    </tr>\n",
       "    <tr>\n",
       "      <th>3</th>\n",
       "      <td>date_time</td>\n",
       "      <td>varchar(10)</td>\n",
       "      <td>game</td>\n",
       "    </tr>\n",
       "    <tr>\n",
       "      <th>4</th>\n",
       "      <td>date_time_GMT</td>\n",
       "      <td>varchar(20)</td>\n",
       "      <td>game</td>\n",
       "    </tr>\n",
       "  </tbody>\n",
       "</table>\n",
       "</div>"
      ],
      "text/plain": [
       "     Column_name  Column_type Table\n",
       "0        game_id      int(11)  game\n",
       "1         season      int(11)  game\n",
       "2           type   varchar(1)  game\n",
       "3      date_time  varchar(10)  game\n",
       "4  date_time_GMT  varchar(20)  game"
      ]
     },
     "execution_count": 174,
     "metadata": {},
     "output_type": "execute_result"
    }
   ],
   "source": [
    "table_info_df.head()"
   ]
  },
  {
   "cell_type": "markdown",
   "metadata": {},
   "source": [
    "### Adding num of unique values to df"
   ]
  },
  {
   "cell_type": "code",
   "execution_count": 176,
   "metadata": {
    "ExecuteTime": {
     "end_time": "2020-09-30T20:13:00.962345Z",
     "start_time": "2020-09-30T20:11:40.148599Z"
    },
    "code_folding": [
     1
    ]
   },
   "outputs": [],
   "source": [
    "num_unique_values_list = []\n",
    "for idx in range(len(table_info_df)):\n",
    "    col_name = table_info_df['Column_name'][idx]\n",
    "    table_name = table_info_df['Table'][idx]\n",
    "    query = f\"\"\"\n",
    "            SELECT COUNT(DISTINCT({col_name}))\n",
    "            FROM {table_name}\n",
    "    \"\"\"\n",
    "    query_result = run_query(query, cnxn)\n",
    "    num_unique_values_list.append(query_result)"
   ]
  },
  {
   "cell_type": "code",
   "execution_count": 183,
   "metadata": {
    "ExecuteTime": {
     "end_time": "2020-09-30T20:14:30.532172Z",
     "start_time": "2020-09-30T20:14:30.527679Z"
    }
   },
   "outputs": [],
   "source": [
    "# flattening the num_unique_values_list\n",
    "flattened_num_unique_values = [num_unique_values_list[x][0][0] for x in range(len(num_unique_values_list))]"
   ]
  },
  {
   "cell_type": "code",
   "execution_count": 185,
   "metadata": {
    "ExecuteTime": {
     "end_time": "2020-09-30T20:15:00.651132Z",
     "start_time": "2020-09-30T20:15:00.645431Z"
    }
   },
   "outputs": [],
   "source": [
    "table_info_df['Number_of_unique_values'] = flattened_num_unique_values"
   ]
  },
  {
   "cell_type": "code",
   "execution_count": 316,
   "metadata": {
    "ExecuteTime": {
     "end_time": "2020-10-02T18:02:47.198525Z",
     "start_time": "2020-10-02T18:02:47.180619Z"
    }
   },
   "outputs": [
    {
     "data": {
      "text/html": [
       "<div>\n",
       "<style scoped>\n",
       "    .dataframe tbody tr th:only-of-type {\n",
       "        vertical-align: middle;\n",
       "    }\n",
       "\n",
       "    .dataframe tbody tr th {\n",
       "        vertical-align: top;\n",
       "    }\n",
       "\n",
       "    .dataframe thead th {\n",
       "        text-align: right;\n",
       "    }\n",
       "</style>\n",
       "<table border=\"1\" class=\"dataframe\">\n",
       "  <thead>\n",
       "    <tr style=\"text-align: right;\">\n",
       "      <th></th>\n",
       "      <th>Column_name</th>\n",
       "      <th>Column_type</th>\n",
       "      <th>Table</th>\n",
       "      <th>Number_of_unique_values</th>\n",
       "    </tr>\n",
       "  </thead>\n",
       "  <tbody>\n",
       "    <tr>\n",
       "      <th>60</th>\n",
       "      <td>game_id</td>\n",
       "      <td>int(11)</td>\n",
       "      <td>game_shifts</td>\n",
       "      <td>11339</td>\n",
       "    </tr>\n",
       "    <tr>\n",
       "      <th>61</th>\n",
       "      <td>player_id</td>\n",
       "      <td>int(11)</td>\n",
       "      <td>game_shifts</td>\n",
       "      <td>2212</td>\n",
       "    </tr>\n",
       "    <tr>\n",
       "      <th>62</th>\n",
       "      <td>period</td>\n",
       "      <td>int(11)</td>\n",
       "      <td>game_shifts</td>\n",
       "      <td>7</td>\n",
       "    </tr>\n",
       "    <tr>\n",
       "      <th>63</th>\n",
       "      <td>shift_start</td>\n",
       "      <td>int(11)</td>\n",
       "      <td>game_shifts</td>\n",
       "      <td>5911</td>\n",
       "    </tr>\n",
       "    <tr>\n",
       "      <th>64</th>\n",
       "      <td>shift_end</td>\n",
       "      <td>int(11)</td>\n",
       "      <td>game_shifts</td>\n",
       "      <td>5913</td>\n",
       "    </tr>\n",
       "    <tr>\n",
       "      <th>65</th>\n",
       "      <td>game_id</td>\n",
       "      <td>int(11)</td>\n",
       "      <td>game_skater_stats</td>\n",
       "      <td>11435</td>\n",
       "    </tr>\n",
       "    <tr>\n",
       "      <th>66</th>\n",
       "      <td>player_id</td>\n",
       "      <td>int(11)</td>\n",
       "      <td>game_skater_stats</td>\n",
       "      <td>1999</td>\n",
       "    </tr>\n",
       "    <tr>\n",
       "      <th>67</th>\n",
       "      <td>team_id</td>\n",
       "      <td>int(11)</td>\n",
       "      <td>game_skater_stats</td>\n",
       "      <td>34</td>\n",
       "    </tr>\n",
       "    <tr>\n",
       "      <th>68</th>\n",
       "      <td>timeOnIce</td>\n",
       "      <td>int(11)</td>\n",
       "      <td>game_skater_stats</td>\n",
       "      <td>2220</td>\n",
       "    </tr>\n",
       "    <tr>\n",
       "      <th>69</th>\n",
       "      <td>assists</td>\n",
       "      <td>int(11)</td>\n",
       "      <td>game_skater_stats</td>\n",
       "      <td>6</td>\n",
       "    </tr>\n",
       "    <tr>\n",
       "      <th>70</th>\n",
       "      <td>goals</td>\n",
       "      <td>int(11)</td>\n",
       "      <td>game_skater_stats</td>\n",
       "      <td>6</td>\n",
       "    </tr>\n",
       "    <tr>\n",
       "      <th>71</th>\n",
       "      <td>shots</td>\n",
       "      <td>int(11)</td>\n",
       "      <td>game_skater_stats</td>\n",
       "      <td>16</td>\n",
       "    </tr>\n",
       "    <tr>\n",
       "      <th>72</th>\n",
       "      <td>hits</td>\n",
       "      <td>int(11)</td>\n",
       "      <td>game_skater_stats</td>\n",
       "      <td>16</td>\n",
       "    </tr>\n",
       "    <tr>\n",
       "      <th>73</th>\n",
       "      <td>powerPlayGoals</td>\n",
       "      <td>int(11)</td>\n",
       "      <td>game_skater_stats</td>\n",
       "      <td>4</td>\n",
       "    </tr>\n",
       "    <tr>\n",
       "      <th>74</th>\n",
       "      <td>powerPlayAssists</td>\n",
       "      <td>int(11)</td>\n",
       "      <td>game_skater_stats</td>\n",
       "      <td>5</td>\n",
       "    </tr>\n",
       "    <tr>\n",
       "      <th>75</th>\n",
       "      <td>penaltyMinutes</td>\n",
       "      <td>int(11)</td>\n",
       "      <td>game_skater_stats</td>\n",
       "      <td>36</td>\n",
       "    </tr>\n",
       "    <tr>\n",
       "      <th>76</th>\n",
       "      <td>faceOffWins</td>\n",
       "      <td>int(11)</td>\n",
       "      <td>game_skater_stats</td>\n",
       "      <td>31</td>\n",
       "    </tr>\n",
       "    <tr>\n",
       "      <th>77</th>\n",
       "      <td>faceoffTaken</td>\n",
       "      <td>int(11)</td>\n",
       "      <td>game_skater_stats</td>\n",
       "      <td>45</td>\n",
       "    </tr>\n",
       "    <tr>\n",
       "      <th>78</th>\n",
       "      <td>takeaways</td>\n",
       "      <td>int(11)</td>\n",
       "      <td>game_skater_stats</td>\n",
       "      <td>9</td>\n",
       "    </tr>\n",
       "    <tr>\n",
       "      <th>79</th>\n",
       "      <td>giveaways</td>\n",
       "      <td>int(11)</td>\n",
       "      <td>game_skater_stats</td>\n",
       "      <td>9</td>\n",
       "    </tr>\n",
       "    <tr>\n",
       "      <th>80</th>\n",
       "      <td>shortHandedGoals</td>\n",
       "      <td>int(11)</td>\n",
       "      <td>game_skater_stats</td>\n",
       "      <td>3</td>\n",
       "    </tr>\n",
       "    <tr>\n",
       "      <th>81</th>\n",
       "      <td>shortHandedAssists</td>\n",
       "      <td>int(11)</td>\n",
       "      <td>game_skater_stats</td>\n",
       "      <td>3</td>\n",
       "    </tr>\n",
       "    <tr>\n",
       "      <th>82</th>\n",
       "      <td>blocked</td>\n",
       "      <td>int(11)</td>\n",
       "      <td>game_skater_stats</td>\n",
       "      <td>14</td>\n",
       "    </tr>\n",
       "    <tr>\n",
       "      <th>83</th>\n",
       "      <td>plusMinus</td>\n",
       "      <td>int(11)</td>\n",
       "      <td>game_skater_stats</td>\n",
       "      <td>14</td>\n",
       "    </tr>\n",
       "    <tr>\n",
       "      <th>84</th>\n",
       "      <td>evenTimeOnIce</td>\n",
       "      <td>int(11)</td>\n",
       "      <td>game_skater_stats</td>\n",
       "      <td>1936</td>\n",
       "    </tr>\n",
       "    <tr>\n",
       "      <th>85</th>\n",
       "      <td>shortHandedTimeOnIce</td>\n",
       "      <td>int(11)</td>\n",
       "      <td>game_skater_stats</td>\n",
       "      <td>585</td>\n",
       "    </tr>\n",
       "    <tr>\n",
       "      <th>86</th>\n",
       "      <td>powerPlayTimeOnIce</td>\n",
       "      <td>int(11)</td>\n",
       "      <td>game_skater_stats</td>\n",
       "      <td>674</td>\n",
       "    </tr>\n",
       "    <tr>\n",
       "      <th>87</th>\n",
       "      <td>game_id</td>\n",
       "      <td>int(11)</td>\n",
       "      <td>game_teams_stats</td>\n",
       "      <td>0</td>\n",
       "    </tr>\n",
       "    <tr>\n",
       "      <th>88</th>\n",
       "      <td>team_id</td>\n",
       "      <td>int(11)</td>\n",
       "      <td>game_teams_stats</td>\n",
       "      <td>0</td>\n",
       "    </tr>\n",
       "    <tr>\n",
       "      <th>89</th>\n",
       "      <td>HoA</td>\n",
       "      <td>varchar(4)</td>\n",
       "      <td>game_teams_stats</td>\n",
       "      <td>0</td>\n",
       "    </tr>\n",
       "    <tr>\n",
       "      <th>90</th>\n",
       "      <td>won</td>\n",
       "      <td>bit(1)</td>\n",
       "      <td>game_teams_stats</td>\n",
       "      <td>0</td>\n",
       "    </tr>\n",
       "    <tr>\n",
       "      <th>91</th>\n",
       "      <td>settled_in</td>\n",
       "      <td>varchar(3)</td>\n",
       "      <td>game_teams_stats</td>\n",
       "      <td>0</td>\n",
       "    </tr>\n",
       "    <tr>\n",
       "      <th>92</th>\n",
       "      <td>head_coach</td>\n",
       "      <td>varchar(17)</td>\n",
       "      <td>game_teams_stats</td>\n",
       "      <td>0</td>\n",
       "    </tr>\n",
       "    <tr>\n",
       "      <th>93</th>\n",
       "      <td>goals</td>\n",
       "      <td>int(11)</td>\n",
       "      <td>game_teams_stats</td>\n",
       "      <td>0</td>\n",
       "    </tr>\n",
       "    <tr>\n",
       "      <th>94</th>\n",
       "      <td>shots</td>\n",
       "      <td>int(11)</td>\n",
       "      <td>game_teams_stats</td>\n",
       "      <td>0</td>\n",
       "    </tr>\n",
       "    <tr>\n",
       "      <th>95</th>\n",
       "      <td>hits</td>\n",
       "      <td>int(11)</td>\n",
       "      <td>game_teams_stats</td>\n",
       "      <td>0</td>\n",
       "    </tr>\n",
       "    <tr>\n",
       "      <th>96</th>\n",
       "      <td>pim</td>\n",
       "      <td>int(11)</td>\n",
       "      <td>game_teams_stats</td>\n",
       "      <td>0</td>\n",
       "    </tr>\n",
       "    <tr>\n",
       "      <th>97</th>\n",
       "      <td>powerPlayOpportunities</td>\n",
       "      <td>int(11)</td>\n",
       "      <td>game_teams_stats</td>\n",
       "      <td>0</td>\n",
       "    </tr>\n",
       "    <tr>\n",
       "      <th>98</th>\n",
       "      <td>powerPlayGoals</td>\n",
       "      <td>int(11)</td>\n",
       "      <td>game_teams_stats</td>\n",
       "      <td>0</td>\n",
       "    </tr>\n",
       "    <tr>\n",
       "      <th>99</th>\n",
       "      <td>faceOffWinPercentage</td>\n",
       "      <td>float</td>\n",
       "      <td>game_teams_stats</td>\n",
       "      <td>0</td>\n",
       "    </tr>\n",
       "    <tr>\n",
       "      <th>100</th>\n",
       "      <td>giveaways</td>\n",
       "      <td>int(11)</td>\n",
       "      <td>game_teams_stats</td>\n",
       "      <td>0</td>\n",
       "    </tr>\n",
       "    <tr>\n",
       "      <th>101</th>\n",
       "      <td>takeaways</td>\n",
       "      <td>int(11)</td>\n",
       "      <td>game_teams_stats</td>\n",
       "      <td>0</td>\n",
       "    </tr>\n",
       "    <tr>\n",
       "      <th>102</th>\n",
       "      <td>player_id</td>\n",
       "      <td>int(11)</td>\n",
       "      <td>player_info</td>\n",
       "      <td>1205</td>\n",
       "    </tr>\n",
       "    <tr>\n",
       "      <th>103</th>\n",
       "      <td>firstName</td>\n",
       "      <td>varchar(14)</td>\n",
       "      <td>player_info</td>\n",
       "      <td>494</td>\n",
       "    </tr>\n",
       "    <tr>\n",
       "      <th>104</th>\n",
       "      <td>lastName</td>\n",
       "      <td>varchar(18)</td>\n",
       "      <td>player_info</td>\n",
       "      <td>1076</td>\n",
       "    </tr>\n",
       "    <tr>\n",
       "      <th>105</th>\n",
       "      <td>nationality</td>\n",
       "      <td>varchar(3)</td>\n",
       "      <td>player_info</td>\n",
       "      <td>23</td>\n",
       "    </tr>\n",
       "    <tr>\n",
       "      <th>106</th>\n",
       "      <td>birthCity</td>\n",
       "      <td>varchar(27)</td>\n",
       "      <td>player_info</td>\n",
       "      <td>640</td>\n",
       "    </tr>\n",
       "    <tr>\n",
       "      <th>107</th>\n",
       "      <td>primaryPosition</td>\n",
       "      <td>varchar(2)</td>\n",
       "      <td>player_info</td>\n",
       "      <td>6</td>\n",
       "    </tr>\n",
       "    <tr>\n",
       "      <th>108</th>\n",
       "      <td>birthDate</td>\n",
       "      <td>varchar(10)</td>\n",
       "      <td>player_info</td>\n",
       "      <td>1096</td>\n",
       "    </tr>\n",
       "    <tr>\n",
       "      <th>109</th>\n",
       "      <td>link</td>\n",
       "      <td>varchar(22)</td>\n",
       "      <td>player_info</td>\n",
       "      <td>1205</td>\n",
       "    </tr>\n",
       "    <tr>\n",
       "      <th>110</th>\n",
       "      <td>team_id</td>\n",
       "      <td>int(11)</td>\n",
       "      <td>team_info</td>\n",
       "      <td>17</td>\n",
       "    </tr>\n",
       "    <tr>\n",
       "      <th>111</th>\n",
       "      <td>franchiseId</td>\n",
       "      <td>int(11)</td>\n",
       "      <td>team_info</td>\n",
       "      <td>17</td>\n",
       "    </tr>\n",
       "    <tr>\n",
       "      <th>112</th>\n",
       "      <td>shortName</td>\n",
       "      <td>varchar(12)</td>\n",
       "      <td>team_info</td>\n",
       "      <td>17</td>\n",
       "    </tr>\n",
       "    <tr>\n",
       "      <th>113</th>\n",
       "      <td>teamName</td>\n",
       "      <td>varchar(14)</td>\n",
       "      <td>team_info</td>\n",
       "      <td>17</td>\n",
       "    </tr>\n",
       "    <tr>\n",
       "      <th>114</th>\n",
       "      <td>abbreviation</td>\n",
       "      <td>varchar(3)</td>\n",
       "      <td>team_info</td>\n",
       "      <td>17</td>\n",
       "    </tr>\n",
       "    <tr>\n",
       "      <th>115</th>\n",
       "      <td>link</td>\n",
       "      <td>varchar(16)</td>\n",
       "      <td>team_info</td>\n",
       "      <td>17</td>\n",
       "    </tr>\n",
       "  </tbody>\n",
       "</table>\n",
       "</div>"
      ],
      "text/plain": [
       "                Column_name  Column_type              Table  \\\n",
       "60                  game_id      int(11)        game_shifts   \n",
       "61                player_id      int(11)        game_shifts   \n",
       "62                   period      int(11)        game_shifts   \n",
       "63              shift_start      int(11)        game_shifts   \n",
       "64                shift_end      int(11)        game_shifts   \n",
       "65                  game_id      int(11)  game_skater_stats   \n",
       "66                player_id      int(11)  game_skater_stats   \n",
       "67                  team_id      int(11)  game_skater_stats   \n",
       "68                timeOnIce      int(11)  game_skater_stats   \n",
       "69                  assists      int(11)  game_skater_stats   \n",
       "70                    goals      int(11)  game_skater_stats   \n",
       "71                    shots      int(11)  game_skater_stats   \n",
       "72                     hits      int(11)  game_skater_stats   \n",
       "73           powerPlayGoals      int(11)  game_skater_stats   \n",
       "74         powerPlayAssists      int(11)  game_skater_stats   \n",
       "75           penaltyMinutes      int(11)  game_skater_stats   \n",
       "76              faceOffWins      int(11)  game_skater_stats   \n",
       "77             faceoffTaken      int(11)  game_skater_stats   \n",
       "78                takeaways      int(11)  game_skater_stats   \n",
       "79                giveaways      int(11)  game_skater_stats   \n",
       "80         shortHandedGoals      int(11)  game_skater_stats   \n",
       "81       shortHandedAssists      int(11)  game_skater_stats   \n",
       "82                  blocked      int(11)  game_skater_stats   \n",
       "83                plusMinus      int(11)  game_skater_stats   \n",
       "84            evenTimeOnIce      int(11)  game_skater_stats   \n",
       "85     shortHandedTimeOnIce      int(11)  game_skater_stats   \n",
       "86       powerPlayTimeOnIce      int(11)  game_skater_stats   \n",
       "87                  game_id      int(11)   game_teams_stats   \n",
       "88                  team_id      int(11)   game_teams_stats   \n",
       "89                      HoA   varchar(4)   game_teams_stats   \n",
       "90                      won       bit(1)   game_teams_stats   \n",
       "91               settled_in   varchar(3)   game_teams_stats   \n",
       "92               head_coach  varchar(17)   game_teams_stats   \n",
       "93                    goals      int(11)   game_teams_stats   \n",
       "94                    shots      int(11)   game_teams_stats   \n",
       "95                     hits      int(11)   game_teams_stats   \n",
       "96                      pim      int(11)   game_teams_stats   \n",
       "97   powerPlayOpportunities      int(11)   game_teams_stats   \n",
       "98           powerPlayGoals      int(11)   game_teams_stats   \n",
       "99     faceOffWinPercentage        float   game_teams_stats   \n",
       "100               giveaways      int(11)   game_teams_stats   \n",
       "101               takeaways      int(11)   game_teams_stats   \n",
       "102               player_id      int(11)        player_info   \n",
       "103               firstName  varchar(14)        player_info   \n",
       "104                lastName  varchar(18)        player_info   \n",
       "105             nationality   varchar(3)        player_info   \n",
       "106               birthCity  varchar(27)        player_info   \n",
       "107         primaryPosition   varchar(2)        player_info   \n",
       "108               birthDate  varchar(10)        player_info   \n",
       "109                    link  varchar(22)        player_info   \n",
       "110                 team_id      int(11)          team_info   \n",
       "111             franchiseId      int(11)          team_info   \n",
       "112               shortName  varchar(12)          team_info   \n",
       "113                teamName  varchar(14)          team_info   \n",
       "114            abbreviation   varchar(3)          team_info   \n",
       "115                    link  varchar(16)          team_info   \n",
       "\n",
       "     Number_of_unique_values  \n",
       "60                     11339  \n",
       "61                      2212  \n",
       "62                         7  \n",
       "63                      5911  \n",
       "64                      5913  \n",
       "65                     11435  \n",
       "66                      1999  \n",
       "67                        34  \n",
       "68                      2220  \n",
       "69                         6  \n",
       "70                         6  \n",
       "71                        16  \n",
       "72                        16  \n",
       "73                         4  \n",
       "74                         5  \n",
       "75                        36  \n",
       "76                        31  \n",
       "77                        45  \n",
       "78                         9  \n",
       "79                         9  \n",
       "80                         3  \n",
       "81                         3  \n",
       "82                        14  \n",
       "83                        14  \n",
       "84                      1936  \n",
       "85                       585  \n",
       "86                       674  \n",
       "87                         0  \n",
       "88                         0  \n",
       "89                         0  \n",
       "90                         0  \n",
       "91                         0  \n",
       "92                         0  \n",
       "93                         0  \n",
       "94                         0  \n",
       "95                         0  \n",
       "96                         0  \n",
       "97                         0  \n",
       "98                         0  \n",
       "99                         0  \n",
       "100                        0  \n",
       "101                        0  \n",
       "102                     1205  \n",
       "103                      494  \n",
       "104                     1076  \n",
       "105                       23  \n",
       "106                      640  \n",
       "107                        6  \n",
       "108                     1096  \n",
       "109                     1205  \n",
       "110                       17  \n",
       "111                       17  \n",
       "112                       17  \n",
       "113                       17  \n",
       "114                       17  \n",
       "115                       17  "
      ]
     },
     "execution_count": 316,
     "metadata": {},
     "output_type": "execute_result"
    }
   ],
   "source": [
    "# table_info_df[0:60]\n",
    "table_info_df[60:]"
   ]
  },
  {
   "cell_type": "code",
   "execution_count": 330,
   "metadata": {
    "ExecuteTime": {
     "end_time": "2020-10-02T18:09:55.626901Z",
     "start_time": "2020-10-02T18:09:55.568247Z"
    }
   },
   "outputs": [
    {
     "data": {
      "text/plain": [
       "[('pr',), ('D',), ('C',), ('LW',), ('RW',), ('G',)]"
      ]
     },
     "execution_count": 330,
     "metadata": {},
     "output_type": "execute_result"
    }
   ],
   "source": [
    "position_query = \"\"\"\n",
    "    SELECT DISTINCT(primaryPosition)\n",
    "        FROM player_info\n",
    "\"\"\"\n",
    "positions = run_query(position_query, cnxn)\n",
    "positions"
   ]
  },
  {
   "cell_type": "code",
   "execution_count": 215,
   "metadata": {
    "ExecuteTime": {
     "end_time": "2020-09-30T20:36:07.656906Z",
     "start_time": "2020-09-30T20:36:04.839925Z"
    }
   },
   "outputs": [
    {
     "data": {
      "text/plain": [
       "[('event',),\n",
       " ('Period Ready',),\n",
       " ('Period Start',),\n",
       " ('Faceoff',),\n",
       " ('Blocked Shot',),\n",
       " ('Hit',),\n",
       " ('Stoppage',),\n",
       " ('Shot',),\n",
       " ('Giveaway',),\n",
       " ('Penalty',),\n",
       " ('Takeaway',),\n",
       " ('Missed Shot',),\n",
       " ('Period End',),\n",
       " ('Period Official',),\n",
       " ('Goal',),\n",
       " ('Game End',),\n",
       " ('Game Scheduled',),\n",
       " ('Game Official',),\n",
       " ('Official Challenge',),\n",
       " ('Shootout Complete',),\n",
       " ('Early Intermission Start',),\n",
       " ('Early Intermission End',),\n",
       " ('Emergency Goaltender',)]"
      ]
     },
     "execution_count": 215,
     "metadata": {},
     "output_type": "execute_result"
    }
   ],
   "source": [
    "# what events are possible\n",
    "events_query = \"\"\"\n",
    "        SELECT DISTINCT(event)\n",
    "        FROM game_plays\n",
    "\"\"\"\n",
    "all_events = run_query(events_query, cnxn)\n",
    "# all_events"
   ]
  },
  {
   "cell_type": "code",
   "execution_count": 231,
   "metadata": {
    "ExecuteTime": {
     "end_time": "2020-10-01T15:09:25.039464Z",
     "start_time": "2020-10-01T15:09:22.961862Z"
    },
    "collapsed": true
   },
   "outputs": [
    {
     "data": {
      "text/plain": [
       "[('secondaryType',),\n",
       " ('NA',),\n",
       " ('Wrist Shot',),\n",
       " ('Snap Shot',),\n",
       " ('Deflected',),\n",
       " ('Roughing',),\n",
       " ('Hooking',),\n",
       " ('Holding',),\n",
       " ('Slap Shot',),\n",
       " ('Delaying Game - Puck over glass',),\n",
       " ('Backhand',),\n",
       " ('Wrap-around',),\n",
       " ('Tip-In',),\n",
       " ('Misconduct',),\n",
       " ('Slashing',),\n",
       " ('Elbowing',),\n",
       " ('Tripping',),\n",
       " ('Hi-sticking',),\n",
       " ('Interference - Goalkeeper',),\n",
       " ('Boarding',),\n",
       " ('Interference',),\n",
       " ('Cross checking',),\n",
       " ('Fighting',),\n",
       " ('Too many men on the ice',),\n",
       " ('Charging',),\n",
       " ('Hi stick - double minor',),\n",
       " ('Holding the stick',),\n",
       " ('Unsportsmanlike conduct',),\n",
       " ('Checking from behind',),\n",
       " ('Game misconduct',),\n",
       " ('PS - Slash on breakaway',),\n",
       " ('Closing hand on puck',),\n",
       " ('Instigator',),\n",
       " ('Instigator - face shield',),\n",
       " ('Face-off violation',),\n",
       " ('Diving',),\n",
       " ('PS - Tripping on breakaway',),\n",
       " ('Kneeing',),\n",
       " ('Illegal check to head',),\n",
       " ('Delay of game',),\n",
       " ('Match penalty',),\n",
       " ('Delaying the game',),\n",
       " ('Abusive language',),\n",
       " ('Embellishment',),\n",
       " ('Delay Gm - Face-off Violation',),\n",
       " ('PS - Hooking on breakaway',),\n",
       " ('Spearing - double minor',),\n",
       " ('Concealing puck',),\n",
       " ('Delaying Game - Smothering puck',),\n",
       " ('Abuse of Officials',),\n",
       " ('Delaying Game - Illegal play by goalie',),\n",
       " ('Instigator - Misconduct',),\n",
       " ('Spearing',),\n",
       " ('Broken stick',),\n",
       " ('Throwing stick',),\n",
       " ('Butt ending',),\n",
       " ('PS - Holding stick on breakaway',),\n",
       " ('Illegal stick',),\n",
       " ('PS - Holding on breakaway',),\n",
       " ('Illegal equipment',),\n",
       " ('Coach or Manager on the ice',),\n",
       " ('Goalie leave crease',),\n",
       " ('Clipping',),\n",
       " ('Game Misconduct - Head coach',),\n",
       " ('Game Misconduct - Team staff',),\n",
       " ('Bench',),\n",
       " ('Aggressor',),\n",
       " ('Head butting',),\n",
       " ('PS - Net displaced',),\n",
       " ('Objects on ice',),\n",
       " ('Illegal substitution',),\n",
       " ('Cross check - double minor',),\n",
       " ('PS - Thow object at puck',),\n",
       " ('Head butting - double minor',),\n",
       " ('PS - Covering puck in crease',),\n",
       " ('Leaving penalty box',),\n",
       " (\"Leaving player's/penalty bench\",)]"
      ]
     },
     "execution_count": 231,
     "metadata": {},
     "output_type": "execute_result"
    }
   ],
   "source": [
    "secondaryevents_query = \"\"\"\n",
    "        SELECT DISTINCT(secondaryType)\n",
    "        FROM game_plays\n",
    "\"\"\"\n",
    "all_secondaryevents = run_query(secondaryevents_query, cnxn)\n",
    "all_secondaryevents # deflected/tip-in"
   ]
  },
  {
   "cell_type": "code",
   "execution_count": 203,
   "metadata": {
    "ExecuteTime": {
     "end_time": "2020-09-30T20:23:55.230810Z",
     "start_time": "2020-09-30T20:23:55.171182Z"
    }
   },
   "outputs": [
    {
     "data": {
      "text/plain": [
       "[('dateTime',),\n",
       " ('2012-04-29 19:19:49',),\n",
       " ('2012-04-29 19:20:13',),\n",
       " ('2012-04-29 19:20:13',),\n",
       " ('2012-04-29 19:21:07',),\n",
       " ('2012-04-29 19:21:40',),\n",
       " ('2012-04-29 19:22:42',),\n",
       " ('2012-04-29 19:22:59',),\n",
       " ('2012-04-29 19:23:44',),\n",
       " ('2012-04-29 19:24:23',)]"
      ]
     },
     "execution_count": 203,
     "metadata": {},
     "output_type": "execute_result"
    }
   ],
   "source": [
    "# how does datetime work in game_plays\n",
    "## period time works much better \n",
    "datetime_query = \"\"\"\n",
    "        SELECT dateTime\n",
    "        FROM game_plays\n",
    "        LIMIT 10\n",
    "\"\"\"\n",
    "datetime_10 = run_query(datetime_query, cnxn)\n",
    "datetime_10"
   ]
  },
  {
   "cell_type": "code",
   "execution_count": 211,
   "metadata": {
    "ExecuteTime": {
     "end_time": "2020-09-30T20:25:53.457520Z",
     "start_time": "2020-09-30T20:25:53.378039Z"
    }
   },
   "outputs": [
    {
     "data": {
      "text/plain": [
       "[(1028,),\n",
       " (1028,),\n",
       " (1043,),\n",
       " (1064,),\n",
       " (1084,),\n",
       " (1096,),\n",
       " (1096,),\n",
       " (1149,),\n",
       " (1200,),\n",
       " (1200,)]"
      ]
     },
     "execution_count": 211,
     "metadata": {},
     "output_type": "execute_result"
    }
   ],
   "source": [
    "# periodtime works in seconds within period\n",
    "periodtime_query = \"\"\"\n",
    "        SELECT periodTime\n",
    "        FROM game_plays\n",
    "        LIMIT 10\n",
    "        OFFSET 250\n",
    "\"\"\"\n",
    "periodtime_10 = run_query(periodtime_query, cnxn)\n",
    "periodtime_10"
   ]
  },
  {
   "cell_type": "code",
   "execution_count": 218,
   "metadata": {
    "ExecuteTime": {
     "end_time": "2020-09-30T20:37:56.069987Z",
     "start_time": "2020-09-30T20:37:56.012533Z"
    }
   },
   "outputs": [
    {
     "data": {
      "text/plain": [
       "[('Andy McDonald faceoff won against Anze Kopitar',),\n",
       " ('Anze Kopitar faceoff won against David Backes',),\n",
       " ('David Backes blocked shot from Rob Scuderi',),\n",
       " ('Vladimir Sobotka hit Dustin Penner',),\n",
       " ('Mike Richards Deflected saved by Brian Elliott',),\n",
       " ('Kevin Shattenkirk Roughing against Mike Richards',),\n",
       " ('Alec Martinez Slap Shot saved by Brian Elliott',),\n",
       " ('Offside',),\n",
       " ('Jarret Stoll faceoff won against David Backes',),\n",
       " ('Mike Richards faceoff won against Patrik Berglund',)]"
      ]
     },
     "execution_count": 218,
     "metadata": {},
     "output_type": "execute_result"
    }
   ],
   "source": [
    "# game_plays description...what's that about\n",
    "description_query = \"\"\"\n",
    "        SELECT description\n",
    "        FROM game_plays\n",
    "        LIMIT 10\n",
    "        Offset 1500\n",
    "\"\"\"\n",
    "description_10 = run_query(description_query, cnxn)\n",
    "description_10"
   ]
  },
  {
   "cell_type": "code",
   "execution_count": 239,
   "metadata": {
    "ExecuteTime": {
     "end_time": "2020-10-01T16:46:47.569478Z",
     "start_time": "2020-10-01T16:46:47.565690Z"
    }
   },
   "outputs": [
    {
     "data": {
      "text/plain": [
       "34"
      ]
     },
     "execution_count": 239,
     "metadata": {},
     "output_type": "execute_result"
    }
   ],
   "source": [
    "134 % 100"
   ]
  },
  {
   "cell_type": "code",
   "execution_count": 235,
   "metadata": {
    "ExecuteTime": {
     "end_time": "2020-10-01T16:40:02.388447Z",
     "start_time": "2020-10-01T16:40:02.383676Z"
    }
   },
   "outputs": [
    {
     "data": {
      "text/plain": [
       "3"
      ]
     },
     "execution_count": 235,
     "metadata": {},
     "output_type": "execute_result"
    }
   ],
   "source": [
    "len(str(134))"
   ]
  },
  {
   "cell_type": "code",
   "execution_count": 237,
   "metadata": {
    "ExecuteTime": {
     "end_time": "2020-10-01T16:46:26.309208Z",
     "start_time": "2020-10-01T16:46:26.305673Z"
    }
   },
   "outputs": [
    {
     "data": {
      "text/plain": [
       "2"
      ]
     },
     "execution_count": 237,
     "metadata": {},
     "output_type": "execute_result"
    }
   ],
   "source": [
    "2 % 100"
   ]
  },
  {
   "cell_type": "code",
   "execution_count": 240,
   "metadata": {
    "ExecuteTime": {
     "end_time": "2020-10-01T17:06:27.541949Z",
     "start_time": "2020-10-01T17:06:27.467810Z"
    }
   },
   "outputs": [
    {
     "data": {
      "text/plain": [
       "[(0,),\n",
       " (20112012,),\n",
       " (20102011,),\n",
       " (20122013,),\n",
       " (20162017,),\n",
       " (20142015,),\n",
       " (20152016,),\n",
       " (20132014,),\n",
       " (20172018,),\n",
       " (20182019,)]"
      ]
     },
     "execution_count": 240,
     "metadata": {},
     "output_type": "execute_result"
    }
   ],
   "source": [
    "# what seasons does this cover\n",
    "seasons_query = \"\"\"\n",
    "        SELECT DISTINCT (season)\n",
    "        FROM game\n",
    "\"\"\"\n",
    "distinct_seasons = run_query(seasons_query, cnxn)\n",
    "distinct_seasons"
   ]
  },
  {
   "cell_type": "code",
   "execution_count": 242,
   "metadata": {
    "ExecuteTime": {
     "end_time": "2020-10-01T17:09:40.963542Z",
     "start_time": "2020-10-01T17:09:40.906349Z"
    }
   },
   "outputs": [
    {
     "data": {
      "text/plain": [
       "[(0,),\n",
       " (2011030222,),\n",
       " (2011030224,),\n",
       " (2011030411,),\n",
       " (2011030413,),\n",
       " (2011030415,),\n",
       " (2010030311,),\n",
       " (2010030313,),\n",
       " (2010030315,),\n",
       " (2010030317,)]"
      ]
     },
     "execution_count": 242,
     "metadata": {},
     "output_type": "execute_result"
    }
   ],
   "source": [
    "# getting a game id to put into nhl API \n",
    "gameid_query = \"\"\"\n",
    "        SELECT DISTINCT (game_id)\n",
    "        FROM game\n",
    "        LIMIT 10\n",
    "\"\"\"\n",
    "example_game_ids = run_query(gameid_query, cnxn)\n",
    "example_game_ids"
   ]
  },
  {
   "cell_type": "code",
   "execution_count": null,
   "metadata": {},
   "outputs": [],
   "source": []
  },
  {
   "cell_type": "markdown",
   "metadata": {},
   "source": [
    "# Exploring possiblity of using json data from nhl api\n",
    "https://steviehoward.com/NHL-API-docs/?python#getgame\n",
    "- getting game strength would be possible with this library: https://pythonhosted.org/nhlscrapi/nhlscrapi.games.html#module-nhlscrapi.games.cumstats"
   ]
  },
  {
   "cell_type": "code",
   "execution_count": 245,
   "metadata": {
    "ExecuteTime": {
     "end_time": "2020-10-02T15:14:46.264524Z",
     "start_time": "2020-10-02T15:14:46.219577Z"
    },
    "code_folding": [
     0
    ]
   },
   "outputs": [],
   "source": [
    "example_responses = {\n",
    "  \"copyright\": \"string\",\n",
    "  \"gamePk\": 2017020851,\n",
    "  \"link\": \"/api/v1/game/2017020851/feed/live\",\n",
    "  \"metaData\": {\n",
    "    \"wait\": 10,\n",
    "    \"timeStamp\": \"20180211_054345\"\n",
    "  },\n",
    "  \"gameData\": {\n",
    "    \"game\": {\n",
    "      \"pk\": 2017020851,\n",
    "      \"season\": \"20172018\",\n",
    "      \"type\": \"R\"\n",
    "    },\n",
    "    \"datetime\": {\n",
    "      \"dateTime\": \"2018-02-11T03:00:00Z\",\n",
    "      \"endDateTime\": \"2018-02-11T05:30:42Z\"\n",
    "    },\n",
    "    \"status\": {\n",
    "      \"abstractGameState\": \"Final\",\n",
    "      \"codedGameState\": \"7\",\n",
    "      \"detailedState\": \"Final\",\n",
    "      \"statusCode\": \"7\",\n",
    "      \"startTimeTBD\": True\n",
    "    },\n",
    "    \"teams\": {\n",
    "      \"away\": {\n",
    "        \"id\": 28,\n",
    "        \"name\": \"San Jose Sharks\",\n",
    "        \"link\": \"/api/v1/teams/28\",\n",
    "        \"venue\": {\n",
    "          \"name\": \"SAP Center at San Jose\",\n",
    "          \"link\": \"/api/v1/venues/null\",\n",
    "          \"city\": \"San Jose\",\n",
    "          \"timeZone\": {\n",
    "            \"id\": \"America/Los_Angeles\",\n",
    "            \"offset\": -8,\n",
    "            \"tz\": \"PST\"\n",
    "          }\n",
    "        },\n",
    "        \"abbreviation\": \"SJS\",\n",
    "        \"triCode\": \"SJS\",\n",
    "        \"teamName\": \"Sharks\",\n",
    "        \"locationName\": \"San Jose\",\n",
    "        \"firstYearOfPlay\": 1990,\n",
    "        \"division\": {\n",
    "          \"id\": 15,\n",
    "          \"name\": \"Pacific\",\n",
    "          \"link\": \"/api/v1/divisions/15\"\n",
    "        },\n",
    "        \"conference\": {\n",
    "          \"id\": 5,\n",
    "          \"name\": \"Western\",\n",
    "          \"link\": \"/api/v1/conferences/5\"\n",
    "        },\n",
    "        \"franchise\": {\n",
    "          \"id\": 29,\n",
    "          \"name\": \"Sharks\",\n",
    "          \"link\": \"/api/v1/franchises/29\"\n",
    "        },\n",
    "        \"roster\": {\n",
    "          \"roster\": [\n",
    "            {\n",
    "              \"person\": {\n",
    "                \"id\": 8466138,\n",
    "                \"fullName\": \"Joe Thornton\",\n",
    "                \"link\": \"/api/v1/people/8466138\"\n",
    "              },\n",
    "              \"jerseyNumber\": 19,\n",
    "              \"position\": {\n",
    "                \"code\": \"C\",\n",
    "                \"name\": \"Center\",\n",
    "                \"type\": \"Forward\",\n",
    "                \"abbreviation\": \"C\"\n",
    "              }\n",
    "            }\n",
    "          ]\n",
    "        },\n",
    "        \"nextGameSchedule\": {\n",
    "          \"totalItems\": 1,\n",
    "          \"totalEvents\": 0,\n",
    "          \"totalGames\": 1,\n",
    "          \"totalMatches\": 0,\n",
    "          \"dates\": [\n",
    "            {\n",
    "              \"date\": \"2018-02-10\",\n",
    "              \"totalItems\": 1,\n",
    "              \"totalEvents\": 0,\n",
    "              \"totalGames\": 1,\n",
    "              \"totalMatches\": 0,\n",
    "              \"games\": [\n",
    "                {\n",
    "                  \"gamePk\": 2017020851,\n",
    "                  \"link\": \"/api/v1/game/2017020851/feed/live\",\n",
    "                  \"gameType\": \"R\",\n",
    "                  \"season\": \"20172018\",\n",
    "                  \"gameDate\": \"2018-02-11T03:00:00Z\",\n",
    "                  \"status\": {\n",
    "                    \"abstractGameState\": \"Live\",\n",
    "                    \"codedGameState\": \"3\",\n",
    "                    \"detailedState\": \"In Progress\",\n",
    "                    \"statusCode\": \"2\",\n",
    "                    \"startTimeTBD\": True\n",
    "                  },\n",
    "                  \"teams\": {\n",
    "                    \"away\": {},\n",
    "                    \"home\": {}\n",
    "                  },\n",
    "                  \"venue\": {\n",
    "                    \"name\": \"SAP Center at San Jose\",\n",
    "                    \"link\": \"/api/v1/venues/null\"\n",
    "                  },\n",
    "                  \"content\": {\n",
    "                    \"link\": \"/api/v1/game/2017020851/content\"\n",
    "                  }\n",
    "                }\n",
    "              ],\n",
    "              \"events\": [\n",
    "                {}\n",
    "              ],\n",
    "              \"matches\": [\n",
    "                {}\n",
    "              ]\n",
    "            }\n",
    "          ]\n",
    "        },\n",
    "        \"shortName\": \"San Jose\",\n",
    "        \"officialSiteUrl\": \"http://www.sjsharks.com\",\n",
    "        \"franchiseId\": 29,\n",
    "        \"active\": True\n",
    "      },\n",
    "      \"home\": {\n",
    "        \"id\": 28,\n",
    "        \"name\": \"San Jose Sharks\",\n",
    "        \"link\": \"/api/v1/teams/28\",\n",
    "        \"venue\": {\n",
    "          \"name\": \"SAP Center at San Jose\",\n",
    "          \"link\": \"/api/v1/venues/null\",\n",
    "          \"city\": \"San Jose\",\n",
    "          \"timeZone\": {\n",
    "            \"id\": \"America/Los_Angeles\",\n",
    "            \"offset\": -8,\n",
    "            \"tz\": \"PST\"\n",
    "          }\n",
    "        },\n",
    "        \"abbreviation\": \"SJS\",\n",
    "        \"triCode\": \"SJS\",\n",
    "        \"teamName\": \"Sharks\",\n",
    "        \"locationName\": \"San Jose\",\n",
    "        \"firstYearOfPlay\": 1990,\n",
    "        \"division\": {\n",
    "          \"id\": 15,\n",
    "          \"name\": \"Pacific\",\n",
    "          \"link\": \"/api/v1/divisions/15\"\n",
    "        },\n",
    "        \"conference\": {\n",
    "          \"id\": 5,\n",
    "          \"name\": \"Western\",\n",
    "          \"link\": \"/api/v1/conferences/5\"\n",
    "        },\n",
    "        \"franchise\": {\n",
    "          \"id\": 29,\n",
    "          \"name\": \"Sharks\",\n",
    "          \"link\": \"/api/v1/franchises/29\"\n",
    "        },\n",
    "        \"roster\": {\n",
    "          \"roster\": [\n",
    "            {\n",
    "              \"person\": {\n",
    "                \"id\": 8466138,\n",
    "                \"fullName\": \"Joe Thornton\",\n",
    "                \"link\": \"/api/v1/people/8466138\"\n",
    "              },\n",
    "              \"jerseyNumber\": 19,\n",
    "              \"position\": {\n",
    "                \"code\": \"C\",\n",
    "                \"name\": \"Center\",\n",
    "                \"type\": \"Forward\",\n",
    "                \"abbreviation\": \"C\"\n",
    "              }\n",
    "            }\n",
    "          ]\n",
    "        },\n",
    "        \"nextGameSchedule\": {\n",
    "          \"totalItems\": 1,\n",
    "          \"totalEvents\": 0,\n",
    "          \"totalGames\": 1,\n",
    "          \"totalMatches\": 0,\n",
    "          \"dates\": [\n",
    "            {\n",
    "              \"date\": \"2018-02-10\",\n",
    "              \"totalItems\": 1,\n",
    "              \"totalEvents\": 0,\n",
    "              \"totalGames\": 1,\n",
    "              \"totalMatches\": 0,\n",
    "              \"games\": [\n",
    "                {\n",
    "                  \"gamePk\": 2017020851,\n",
    "                  \"link\": \"/api/v1/game/2017020851/feed/live\",\n",
    "                  \"gameType\": \"R\",\n",
    "                  \"season\": \"20172018\",\n",
    "                  \"gameDate\": \"2018-02-11T03:00:00Z\",\n",
    "                  \"status\": {\n",
    "                    \"abstractGameState\": \"Live\",\n",
    "                    \"codedGameState\": \"3\",\n",
    "                    \"detailedState\": \"In Progress\",\n",
    "                    \"statusCode\": \"2\",\n",
    "                    \"startTimeTBD\": True\n",
    "                  },\n",
    "                  \"teams\": {\n",
    "                    \"away\": {},\n",
    "                    \"home\": {}\n",
    "                  },\n",
    "                  \"venue\": {\n",
    "                    \"name\": \"SAP Center at San Jose\",\n",
    "                    \"link\": \"/api/v1/venues/null\"\n",
    "                  },\n",
    "                  \"content\": {\n",
    "                    \"link\": \"/api/v1/game/2017020851/content\"\n",
    "                  }\n",
    "                }\n",
    "              ],\n",
    "              \"events\": [\n",
    "                {}\n",
    "              ],\n",
    "              \"matches\": [\n",
    "                {}\n",
    "              ]\n",
    "            }\n",
    "          ]\n",
    "        },\n",
    "        \"shortName\": \"San Jose\",\n",
    "        \"officialSiteUrl\": \"http://www.sjsharks.com\",\n",
    "        \"franchiseId\": 29,\n",
    "        \"active\": True\n",
    "      }\n",
    "    },\n",
    "    \"players\": {\n",
    "      \"id\": 8466138,\n",
    "      \"fullName\": \"Joe Thornton\",\n",
    "      \"link\": \"/api/v1/people/8466138\",\n",
    "      \"firstName\": \"Joe\",\n",
    "      \"lastName\": \"Thornton\",\n",
    "      \"primaryNumber\": \"19\",\n",
    "      \"birthDate\": \"1979-07-02\",\n",
    "      \"currentAge\": 38,\n",
    "      \"birthCity\": \"London\",\n",
    "      \"birthStateProvince\": \"ON\",\n",
    "      \"birthCountry\": \"CAN\",\n",
    "      \"nationality\": \"CAN\",\n",
    "      \"height\": \"6' 4\\\"\",\n",
    "      \"weight\": 220,\n",
    "      \"active\": True,\n",
    "      \"alternateCaptain\": True,\n",
    "      \"captain\": True,\n",
    "      \"rookie\": True,\n",
    "      \"shootsCatches\": \"L\",\n",
    "      \"rosterStatus\": \"I\",\n",
    "      \"currentTeam\": {\n",
    "        \"id\": 28,\n",
    "        \"name\": \"San Jose Sharks\",\n",
    "        \"link\": \"/api/v1/teams/28\"\n",
    "      },\n",
    "      \"primaryPosition\": {\n",
    "        \"code\": \"C\",\n",
    "        \"name\": \"Center\",\n",
    "        \"type\": \"Forward\",\n",
    "        \"abbreviation\": \"C\"\n",
    "      }\n",
    "    },\n",
    "    \"venue\": {\n",
    "      \"name\": \"SAP Center at San Jose\",\n",
    "      \"link\": \"/api/v1/venues/null\"\n",
    "    }\n",
    "  },\n",
    "  \"liveData\": {\n",
    "    \"plays\": {\n",
    "      \"allPlays\": [\n",
    "        {\n",
    "          \"players\": [\n",
    "            {\n",
    "              \"player\": {\n",
    "                \"id\": 8476881,\n",
    "                \"fullName\": \"Tomas Hertl\",\n",
    "                \"link\": \"/api/v1/people/8476881\"\n",
    "              },\n",
    "              \"playerType\": \"Winner\"\n",
    "            }\n",
    "          ],\n",
    "          \"result\": {\n",
    "            \"event\": \"Game End\",\n",
    "            \"eventCode\": \"SJS505\",\n",
    "            \"eventTypeId\": \"GAME_END\",\n",
    "            \"description\": \"Game End\"\n",
    "          },\n",
    "          \"about\": {\n",
    "            \"eventIdx\": 315,\n",
    "            \"eventId\": 505,\n",
    "            \"period\": 3,\n",
    "            \"periodType\": \"REGULAR\",\n",
    "            \"ordinalNum\": \"3rd\",\n",
    "            \"periodTime\": \"20:00\",\n",
    "            \"periodTimeRemaining\": \"00:00\",\n",
    "            \"dateTime\": \"2018-02-11T05:30:42Z\",\n",
    "            \"goals\": {\n",
    "              \"away\": 4,\n",
    "              \"home\": 6\n",
    "            }\n",
    "          },\n",
    "          \"coordinates\": {\n",
    "            \"x\": 0,\n",
    "            \"y\": 0\n",
    "          },\n",
    "          \"team\": {\n",
    "            \"id\": 28,\n",
    "            \"name\": \"San Jose Sharks\",\n",
    "            \"link\": \"/api/v1/teams/28\",\n",
    "            \"triCode\": \"SJS\"\n",
    "          }\n",
    "        }\n",
    "      ],\n",
    "      \"scoringPlays\": [\n",
    "        0\n",
    "      ],\n",
    "      \"penaltyPlays\": [\n",
    "        0\n",
    "      ],\n",
    "      \"playsByPeriod\": [\n",
    "        {\n",
    "          \"startIndex\": 0,\n",
    "          \"plays\": [\n",
    "            0\n",
    "          ],\n",
    "          \"endIndex\": 114\n",
    "        }\n",
    "      ],\n",
    "      \"currentPlay\": {\n",
    "        \"players\": [\n",
    "          {\n",
    "            \"player\": {\n",
    "              \"id\": 8476881,\n",
    "              \"fullName\": \"Tomas Hertl\",\n",
    "              \"link\": \"/api/v1/people/8476881\"\n",
    "            },\n",
    "            \"playerType\": \"Winner\"\n",
    "          }\n",
    "        ],\n",
    "        \"result\": {\n",
    "          \"event\": \"Game End\",\n",
    "          \"eventCode\": \"SJS505\",\n",
    "          \"eventTypeId\": \"GAME_END\",\n",
    "          \"description\": \"Game End\"\n",
    "        },\n",
    "        \"about\": {\n",
    "          \"eventIdx\": 315,\n",
    "          \"eventId\": 505,\n",
    "          \"period\": 3,\n",
    "          \"periodType\": \"REGULAR\",\n",
    "          \"ordinalNum\": \"3rd\",\n",
    "          \"periodTime\": \"20:00\",\n",
    "          \"periodTimeRemaining\": \"00:00\",\n",
    "          \"dateTime\": \"2018-02-11T05:30:42Z\",\n",
    "          \"goals\": {\n",
    "            \"away\": 4,\n",
    "            \"home\": 6\n",
    "          }\n",
    "        },\n",
    "        \"coordinates\": {\n",
    "          \"x\": 0,\n",
    "          \"y\": 0\n",
    "        },\n",
    "        \"team\": {\n",
    "          \"id\": 28,\n",
    "          \"name\": \"San Jose Sharks\",\n",
    "          \"link\": \"/api/v1/teams/28\",\n",
    "          \"triCode\": \"SJS\"\n",
    "        }\n",
    "      }\n",
    "    },\n",
    "    \"linescore\": {\n",
    "      \"currentPeriod\": 3,\n",
    "      \"currentPeriodOrdinal\": \"3rd\",\n",
    "      \"currentPeriodTimeRemaining\": \"Final\",\n",
    "      \"periods\": [\n",
    "        {\n",
    "          \"periodType\": \"REGULAR\",\n",
    "          \"startTime\": \"2018-02-11T03:09:50Z\",\n",
    "          \"endTime\": \"2018-02-11T03:44:47Z\",\n",
    "          \"num\": 1,\n",
    "          \"ordinalNum\": \"1st\",\n",
    "          \"home\": {\n",
    "            \"goals\": 2,\n",
    "            \"shotsOnGoal\": 14,\n",
    "            \"rinkSide\": \"left\"\n",
    "          },\n",
    "          \"away\": {\n",
    "            \"goals\": 0,\n",
    "            \"shotsOnGoal\": 9,\n",
    "            \"rinkSide\": \"right\"\n",
    "          }\n",
    "        }\n",
    "      ],\n",
    "      \"shootoutInfo\": {\n",
    "        \"away\": {\n",
    "          \"scores\": 0,\n",
    "          \"attempts\": 0\n",
    "        },\n",
    "        \"home\": {\n",
    "          \"scores\": 0,\n",
    "          \"attempts\": 0\n",
    "        }\n",
    "      },\n",
    "      \"teams\": {\n",
    "        \"home\": {\n",
    "          \"team\": {\n",
    "            \"id\": 28,\n",
    "            \"name\": \"San Jose Sharks\",\n",
    "            \"link\": \"/api/v1/teams/28\",\n",
    "            \"abbreviation\": \"SJS\",\n",
    "            \"triCode\": \"SJS\"\n",
    "          },\n",
    "          \"goals\": 6,\n",
    "          \"shotsOnGoal\": 30,\n",
    "          \"goaliePulled\": True,\n",
    "          \"numSkaters\": 5,\n",
    "          \"powerPlay\": True\n",
    "        },\n",
    "        \"away\": {\n",
    "          \"team\": {\n",
    "            \"id\": 28,\n",
    "            \"name\": \"San Jose Sharks\",\n",
    "            \"link\": \"/api/v1/teams/28\",\n",
    "            \"abbreviation\": \"SJS\",\n",
    "            \"triCode\": \"SJS\"\n",
    "          },\n",
    "          \"goals\": 6,\n",
    "          \"shotsOnGoal\": 30,\n",
    "          \"goaliePulled\": True,\n",
    "          \"numSkaters\": 5,\n",
    "          \"powerPlay\": True\n",
    "        }\n",
    "      },\n",
    "      \"powerPlayStrength\": \"Even\",\n",
    "      \"hasShootout\": True,\n",
    "      \"intermissionInfo\": {\n",
    "        \"intermissionTimeRemaining\": 0,\n",
    "        \"intermissionTimeElapsed\": 0,\n",
    "        \"inIntermission\": True\n",
    "      },\n",
    "      \"powerPlayInfo\": {\n",
    "        \"situationTimeRemaining\": 0,\n",
    "        \"situationTimeElapsed\": 72,\n",
    "        \"inSituation\": True\n",
    "      }\n",
    "    },\n",
    "    \"boxscore\": {\n",
    "      \"teams\": {\n",
    "        \"away\": {\n",
    "          \"team\": {\n",
    "            \"id\": 28,\n",
    "            \"name\": \"San Jose Sharks\",\n",
    "            \"link\": \"/api/v1/teams/28\",\n",
    "            \"abbreviation\": \"SJS\",\n",
    "            \"triCode\": \"SJS\"\n",
    "          },\n",
    "          \"teamStats\": {\n",
    "            \"teamSkaterStats\": {\n",
    "              \"goals\": 6,\n",
    "              \"pim\": 6,\n",
    "              \"shots\": 30,\n",
    "              \"powerPlayPercentage\": \"0.0\",\n",
    "              \"powerPlayGoals\": 0,\n",
    "              \"powerPlayOpportunities\": 1,\n",
    "              \"faceOffWinPercentage\": \"59.3\",\n",
    "              \"blocked\": 21,\n",
    "              \"takeaways\": 9,\n",
    "              \"giveaways\": 6,\n",
    "              \"hits\": 15\n",
    "            }\n",
    "          },\n",
    "          \"players\": {\n",
    "            \"person\": {\n",
    "              \"id\": 8471709,\n",
    "              \"fullName\": \"Marc-Edouard Vlasic\",\n",
    "              \"link\": \"/api/v1/people/8471709\",\n",
    "              \"shootsCatches\": \"L\",\n",
    "              \"rosterStatus\": \"Y\"\n",
    "            },\n",
    "            \"jerseyNumber\": \"44\",\n",
    "            \"position\": {\n",
    "              \"code\": \"D\",\n",
    "              \"name\": \"Defenseman\",\n",
    "              \"type\": \"Defenseman\",\n",
    "              \"abbreviation\": \"D\"\n",
    "            },\n",
    "            \"stats\": {\n",
    "              \"skaterStats\": {\n",
    "                \"timeOnIce\": \"23:04\",\n",
    "                \"assists\": 0,\n",
    "                \"goals\": 0,\n",
    "                \"shots\": 2,\n",
    "                \"hits\": 0,\n",
    "                \"powerPlayGoals\": 0,\n",
    "                \"powerPlayAssists\": 0,\n",
    "                \"penaltyMinutes\": 0,\n",
    "                \"faceOffWins\": 0,\n",
    "                \"faceoffTaken\": 0,\n",
    "                \"takeaways\": 0,\n",
    "                \"giveaways\": 1,\n",
    "                \"shortHandedGoals\": 0,\n",
    "                \"shortHandedAssists\": 0,\n",
    "                \"blocked\": 0,\n",
    "                \"plusMinus\": 1,\n",
    "                \"evenTimeOnIce\": \"18:12\",\n",
    "                \"powerPlayTimeOnIce\": \"1:07\",\n",
    "                \"shortHandedTimeOnIce\": \"3:45\"\n",
    "              }\n",
    "            }\n",
    "          },\n",
    "          \"goalies\": [\n",
    "            0\n",
    "          ],\n",
    "          \"skaters\": [\n",
    "            0\n",
    "          ],\n",
    "          \"onIce\": [\n",
    "            0\n",
    "          ],\n",
    "          \"onIcePlus\": [\n",
    "            {\n",
    "              \"playerId\": 8477180,\n",
    "              \"shiftDuration\": 458,\n",
    "              \"stamina\": 33\n",
    "            }\n",
    "          ],\n",
    "          \"scratches\": [\n",
    "            0\n",
    "          ],\n",
    "          \"penaltyBox\": [\n",
    "            0\n",
    "          ],\n",
    "          \"coaches\": [\n",
    "            {\n",
    "              \"person\": {\n",
    "                \"fullName\": \"Peter DeBoer\",\n",
    "                \"link\": \"/api/v1/people/null\"\n",
    "              },\n",
    "              \"position\": {\n",
    "                \"code\": \"HC\",\n",
    "                \"name\": \"Head Coach\",\n",
    "                \"type\": \"Head Coach\",\n",
    "                \"abbreviation\": \"Head Coach\"\n",
    "              }\n",
    "            }\n",
    "          ]\n",
    "        },\n",
    "        \"home\": {\n",
    "          \"team\": {\n",
    "            \"id\": 28,\n",
    "            \"name\": \"San Jose Sharks\",\n",
    "            \"link\": \"/api/v1/teams/28\",\n",
    "            \"abbreviation\": \"SJS\",\n",
    "            \"triCode\": \"SJS\"\n",
    "          },\n",
    "          \"teamStats\": {\n",
    "            \"teamSkaterStats\": {\n",
    "              \"goals\": 6,\n",
    "              \"pim\": 6,\n",
    "              \"shots\": 30,\n",
    "              \"powerPlayPercentage\": \"0.0\",\n",
    "              \"powerPlayGoals\": 0,\n",
    "              \"powerPlayOpportunities\": 1,\n",
    "              \"faceOffWinPercentage\": \"59.3\",\n",
    "              \"blocked\": 21,\n",
    "              \"takeaways\": 9,\n",
    "              \"giveaways\": 6,\n",
    "              \"hits\": 15\n",
    "            }\n",
    "          },\n",
    "          \"players\": {\n",
    "            \"person\": {\n",
    "              \"id\": 8471709,\n",
    "              \"fullName\": \"Marc-Edouard Vlasic\",\n",
    "              \"link\": \"/api/v1/people/8471709\",\n",
    "              \"shootsCatches\": \"L\",\n",
    "              \"rosterStatus\": \"Y\"\n",
    "            },\n",
    "            \"jerseyNumber\": \"44\",\n",
    "            \"position\": {\n",
    "              \"code\": \"D\",\n",
    "              \"name\": \"Defenseman\",\n",
    "              \"type\": \"Defenseman\",\n",
    "              \"abbreviation\": \"D\"\n",
    "            },\n",
    "            \"stats\": {\n",
    "              \"skaterStats\": {\n",
    "                \"timeOnIce\": \"23:04\",\n",
    "                \"assists\": 0,\n",
    "                \"goals\": 0,\n",
    "                \"shots\": 2,\n",
    "                \"hits\": 0,\n",
    "                \"powerPlayGoals\": 0,\n",
    "                \"powerPlayAssists\": 0,\n",
    "                \"penaltyMinutes\": 0,\n",
    "                \"faceOffWins\": 0,\n",
    "                \"faceoffTaken\": 0,\n",
    "                \"takeaways\": 0,\n",
    "                \"giveaways\": 1,\n",
    "                \"shortHandedGoals\": 0,\n",
    "                \"shortHandedAssists\": 0,\n",
    "                \"blocked\": 0,\n",
    "                \"plusMinus\": 1,\n",
    "                \"evenTimeOnIce\": \"18:12\",\n",
    "                \"powerPlayTimeOnIce\": \"1:07\",\n",
    "                \"shortHandedTimeOnIce\": \"3:45\"\n",
    "              }\n",
    "            }\n",
    "          },\n",
    "          \"goalies\": [\n",
    "            0\n",
    "          ],\n",
    "          \"skaters\": [\n",
    "            0\n",
    "          ],\n",
    "          \"onIce\": [\n",
    "            0\n",
    "          ],\n",
    "          \"onIcePlus\": [\n",
    "            {\n",
    "              \"playerId\": 8477180,\n",
    "              \"shiftDuration\": 458,\n",
    "              \"stamina\": 33\n",
    "            }\n",
    "          ],\n",
    "          \"scratches\": [\n",
    "            0\n",
    "          ],\n",
    "          \"penaltyBox\": [\n",
    "            0\n",
    "          ],\n",
    "          \"coaches\": [\n",
    "            {\n",
    "              \"person\": {\n",
    "                \"fullName\": \"Peter DeBoer\",\n",
    "                \"link\": \"/api/v1/people/null\"\n",
    "              },\n",
    "              \"position\": {\n",
    "                \"code\": \"HC\",\n",
    "                \"name\": \"Head Coach\",\n",
    "                \"type\": \"Head Coach\",\n",
    "                \"abbreviation\": \"Head Coach\"\n",
    "              }\n",
    "            }\n",
    "          ]\n",
    "        }\n",
    "      },\n",
    "      \"officials\": [\n",
    "        {\n",
    "          \"official\": {\n",
    "            \"id\": 2071,\n",
    "            \"fullName\": \"Tim Peel\",\n",
    "            \"link\": \"/api/v1/people/2071\"\n",
    "          },\n",
    "          \"officialType\": \"Linesman\"\n",
    "        }\n",
    "      ]\n",
    "    },\n",
    "    \"decisions\": {\n",
    "      \"winner\": {\n",
    "        \"id\": 8477180,\n",
    "        \"fullName\": \"Aaron Dell\",\n",
    "        \"link\": \"/api/v1/people/8477180\"\n",
    "      },\n",
    "      \"loser\": {\n",
    "        \"id\": 8477180,\n",
    "        \"fullName\": \"Aaron Dell\",\n",
    "        \"link\": \"/api/v1/people/8477180\"\n",
    "      },\n",
    "      \"firstStar\": {\n",
    "        \"id\": 8477180,\n",
    "        \"fullName\": \"Aaron Dell\",\n",
    "        \"link\": \"/api/v1/people/8477180\"\n",
    "      },\n",
    "      \"secondStar\": {\n",
    "        \"id\": 8477180,\n",
    "        \"fullName\": \"Aaron Dell\",\n",
    "        \"link\": \"/api/v1/people/8477180\"\n",
    "      },\n",
    "      \"thirdStar\": {\n",
    "        \"id\": 8477180,\n",
    "        \"fullName\": \"Aaron Dell\",\n",
    "        \"link\": \"/api/v1/people/8477180\"\n",
    "      }\n",
    "    }\n",
    "  }\n",
    "}"
   ]
  },
  {
   "cell_type": "code",
   "execution_count": 246,
   "metadata": {
    "ExecuteTime": {
     "end_time": "2020-10-02T15:15:10.047907Z",
     "start_time": "2020-10-02T15:15:10.041806Z"
    }
   },
   "outputs": [
    {
     "data": {
      "text/plain": [
       "dict_keys(['copyright', 'gamePk', 'link', 'metaData', 'gameData', 'liveData'])"
      ]
     },
     "execution_count": 246,
     "metadata": {},
     "output_type": "execute_result"
    }
   ],
   "source": [
    "example_responses.keys()"
   ]
  },
  {
   "cell_type": "code",
   "execution_count": 247,
   "metadata": {
    "ExecuteTime": {
     "end_time": "2020-10-02T15:15:56.192672Z",
     "start_time": "2020-10-02T15:15:56.186760Z"
    }
   },
   "outputs": [
    {
     "data": {
      "text/plain": [
       "dict_keys(['game', 'datetime', 'status', 'teams', 'players', 'venue'])"
      ]
     },
     "execution_count": 247,
     "metadata": {},
     "output_type": "execute_result"
    }
   ],
   "source": [
    "example_responses['gameData'].keys()"
   ]
  },
  {
   "cell_type": "code",
   "execution_count": 248,
   "metadata": {
    "ExecuteTime": {
     "end_time": "2020-10-02T15:16:05.574812Z",
     "start_time": "2020-10-02T15:16:05.568778Z"
    }
   },
   "outputs": [
    {
     "data": {
      "text/plain": [
       "{'abstractGameState': 'Final',\n",
       " 'codedGameState': '7',\n",
       " 'detailedState': 'Final',\n",
       " 'statusCode': '7',\n",
       " 'startTimeTBD': True}"
      ]
     },
     "execution_count": 248,
     "metadata": {},
     "output_type": "execute_result"
    }
   ],
   "source": [
    "example_responses['gameData']['status']"
   ]
  },
  {
   "cell_type": "code",
   "execution_count": 250,
   "metadata": {
    "ExecuteTime": {
     "end_time": "2020-10-02T15:16:57.584969Z",
     "start_time": "2020-10-02T15:16:57.578686Z"
    }
   },
   "outputs": [
    {
     "data": {
      "text/plain": [
       "dict_keys(['plays', 'linescore', 'boxscore', 'decisions'])"
      ]
     },
     "execution_count": 250,
     "metadata": {},
     "output_type": "execute_result"
    }
   ],
   "source": [
    "example_responses['liveData'].keys()"
   ]
  },
  {
   "cell_type": "code",
   "execution_count": 252,
   "metadata": {
    "ExecuteTime": {
     "end_time": "2020-10-02T15:17:18.262664Z",
     "start_time": "2020-10-02T15:17:18.254746Z"
    }
   },
   "outputs": [
    {
     "data": {
      "text/plain": [
       "{'currentPeriod': 3,\n",
       " 'currentPeriodOrdinal': '3rd',\n",
       " 'currentPeriodTimeRemaining': 'Final',\n",
       " 'periods': [{'periodType': 'REGULAR',\n",
       "   'startTime': '2018-02-11T03:09:50Z',\n",
       "   'endTime': '2018-02-11T03:44:47Z',\n",
       "   'num': 1,\n",
       "   'ordinalNum': '1st',\n",
       "   'home': {'goals': 2, 'shotsOnGoal': 14, 'rinkSide': 'left'},\n",
       "   'away': {'goals': 0, 'shotsOnGoal': 9, 'rinkSide': 'right'}}],\n",
       " 'shootoutInfo': {'away': {'scores': 0, 'attempts': 0},\n",
       "  'home': {'scores': 0, 'attempts': 0}},\n",
       " 'teams': {'home': {'team': {'id': 28,\n",
       "    'name': 'San Jose Sharks',\n",
       "    'link': '/api/v1/teams/28',\n",
       "    'abbreviation': 'SJS',\n",
       "    'triCode': 'SJS'},\n",
       "   'goals': 6,\n",
       "   'shotsOnGoal': 30,\n",
       "   'goaliePulled': True,\n",
       "   'numSkaters': 5,\n",
       "   'powerPlay': True},\n",
       "  'away': {'team': {'id': 28,\n",
       "    'name': 'San Jose Sharks',\n",
       "    'link': '/api/v1/teams/28',\n",
       "    'abbreviation': 'SJS',\n",
       "    'triCode': 'SJS'},\n",
       "   'goals': 6,\n",
       "   'shotsOnGoal': 30,\n",
       "   'goaliePulled': True,\n",
       "   'numSkaters': 5,\n",
       "   'powerPlay': True}},\n",
       " 'powerPlayStrength': 'Even',\n",
       " 'hasShootout': True,\n",
       " 'intermissionInfo': {'intermissionTimeRemaining': 0,\n",
       "  'intermissionTimeElapsed': 0,\n",
       "  'inIntermission': True},\n",
       " 'powerPlayInfo': {'situationTimeRemaining': 0,\n",
       "  'situationTimeElapsed': 72,\n",
       "  'inSituation': True}}"
      ]
     },
     "execution_count": 252,
     "metadata": {},
     "output_type": "execute_result"
    }
   ],
   "source": [
    "example_responses['liveData']['linescore']"
   ]
  },
  {
   "cell_type": "markdown",
   "metadata": {},
   "source": [
    "## Trying to make call myself"
   ]
  },
  {
   "cell_type": "code",
   "execution_count": 274,
   "metadata": {
    "ExecuteTime": {
     "end_time": "2020-10-02T17:20:28.393470Z",
     "start_time": "2020-10-02T17:20:28.215029Z"
    }
   },
   "outputs": [],
   "source": [
    "import requests\n",
    "headers = {\n",
    "  'Accept': 'application/json'\n",
    "}\n",
    "id1 = '2017020851'\n",
    "r = requests.get(f'https://statsapi.web.nhl.com/api/v1/game/{id1}/feed/live', params={\n",
    "    }, headers = headers)\n",
    "game1 = r.json()\n",
    "assert game1"
   ]
  },
  {
   "cell_type": "code",
   "execution_count": 276,
   "metadata": {
    "ExecuteTime": {
     "end_time": "2020-10-02T17:20:36.644010Z",
     "start_time": "2020-10-02T17:20:36.638749Z"
    }
   },
   "outputs": [
    {
     "data": {
      "text/plain": [
       "dict_keys(['copyright', 'gamePk', 'link', 'metaData', 'gameData', 'liveData'])"
      ]
     },
     "execution_count": 276,
     "metadata": {},
     "output_type": "execute_result"
    }
   ],
   "source": [
    "game1.keys()"
   ]
  },
  {
   "cell_type": "code",
   "execution_count": 308,
   "metadata": {
    "ExecuteTime": {
     "end_time": "2020-10-02T17:34:15.614538Z",
     "start_time": "2020-10-02T17:34:15.608925Z"
    }
   },
   "outputs": [
    {
     "data": {
      "text/plain": [
       "dict_keys(['result', 'about', 'coordinates'])"
      ]
     },
     "execution_count": 308,
     "metadata": {},
     "output_type": "execute_result"
    }
   ],
   "source": [
    "game1['liveData']['plays']['allPlays'][0].keys()"
   ]
  },
  {
   "cell_type": "code",
   "execution_count": 310,
   "metadata": {
    "ExecuteTime": {
     "end_time": "2020-10-02T17:34:51.720992Z",
     "start_time": "2020-10-02T17:34:51.713737Z"
    }
   },
   "outputs": [
    {
     "data": {
      "text/plain": [
       "{'eventIdx': 0,\n",
       " 'eventId': 1,\n",
       " 'period': 1,\n",
       " 'periodType': 'REGULAR',\n",
       " 'ordinalNum': '1st',\n",
       " 'periodTime': '00:00',\n",
       " 'periodTimeRemaining': '20:00',\n",
       " 'dateTime': '2018-02-11T00:43:32Z',\n",
       " 'goals': {'away': 0, 'home': 0}}"
      ]
     },
     "execution_count": 310,
     "metadata": {},
     "output_type": "execute_result"
    }
   ],
   "source": [
    "game1['liveData']['plays']['allPlays'][0]['about']"
   ]
  },
  {
   "cell_type": "code",
   "execution_count": 307,
   "metadata": {
    "ExecuteTime": {
     "end_time": "2020-10-02T17:32:58.503901Z",
     "start_time": "2020-10-02T17:32:58.498205Z"
    }
   },
   "outputs": [
    {
     "name": "stdout",
     "output_type": "stream",
     "text": [
      "{'players': [{'player': {'id': 8478414, 'fullName': 'Timo Meier', 'link': '/api/v1/people/8478414'}, 'playerType': 'PenaltyOn'}, {'player': {'id': 8477934, 'fullName': 'Leon Draisaitl', 'link': '/api/v1/people/8477934'}, 'playerType': 'DrewBy'}], 'result': {'event': 'Penalty', 'eventCode': 'SJS111', 'eventTypeId': 'PENALTY', 'description': 'Timo Meier Hooking against Leon Draisaitl', 'secondaryType': 'Hooking', 'penaltySeverity': 'Minor', 'penaltyMinutes': 2}, 'about': {'eventIdx': 25, 'eventId': 111, 'period': 1, 'periodType': 'REGULAR', 'ordinalNum': '1st', 'periodTime': '03:19', 'periodTimeRemaining': '16:41', 'dateTime': '2018-02-11T03:15:34Z', 'goals': {'away': 0, 'home': 1}}, 'coordinates': {'x': -53.0, 'y': 16.0}, 'team': {'id': 28, 'name': 'San Jose Sharks', 'link': '/api/v1/teams/28', 'triCode': 'SJS'}}\n",
      "{'players': [{'player': {'id': 8476915, 'fullName': 'Jujhar Khaira', 'link': '/api/v1/people/8476915'}, 'playerType': 'PenaltyOn'}, {'player': {'id': 8476331, 'fullName': 'Dylan DeMelo', 'link': '/api/v1/people/8476331'}, 'playerType': 'DrewBy'}], 'result': {'event': 'Penalty', 'eventCode': 'SJS270', 'eventTypeId': 'PENALTY', 'description': 'Jujhar Khaira Holding against Dylan DeMelo', 'secondaryType': 'Holding', 'penaltySeverity': 'Minor', 'penaltyMinutes': 2}, 'about': {'eventIdx': 169, 'eventId': 270, 'period': 2, 'periodType': 'REGULAR', 'ordinalNum': '2nd', 'periodTime': '09:46', 'periodTimeRemaining': '10:14', 'dateTime': '2018-02-11T04:19:27Z', 'goals': {'away': 1, 'home': 3}}, 'coordinates': {'x': 80.0, 'y': 41.0}, 'team': {'id': 22, 'name': 'Edmonton Oilers', 'link': '/api/v1/teams/22', 'triCode': 'EDM'}}\n",
      "{'players': [{'player': {'id': 8474053, 'fullName': 'Logan Couture', 'link': '/api/v1/people/8474053'}, 'playerType': 'PenaltyOn'}, {'player': {'id': 8471219, 'fullName': 'Al Montoya', 'link': '/api/v1/people/8471219'}, 'playerType': 'DrewBy'}], 'result': {'event': 'Penalty', 'eventCode': 'SJS663', 'eventTypeId': 'PENALTY', 'description': 'Logan Couture Interference - Goalkeeper against Al Montoya', 'secondaryType': 'Interference - Goalkeeper', 'penaltySeverity': 'Minor', 'penaltyMinutes': 2}, 'about': {'eventIdx': 272, 'eventId': 663, 'period': 3, 'periodType': 'REGULAR', 'ordinalNum': '3rd', 'periodTime': '12:22', 'periodTimeRemaining': '07:38', 'dateTime': '2018-02-11T05:16:08Z', 'goals': {'away': 4, 'home': 4}}, 'coordinates': {'x': 85.0, 'y': -3.0}, 'team': {'id': 28, 'name': 'San Jose Sharks', 'link': '/api/v1/teams/28', 'triCode': 'SJS'}}\n",
      "{'players': [{'player': {'id': 8470613, 'fullName': 'Brent Burns', 'link': '/api/v1/people/8470613'}, 'playerType': 'PenaltyOn'}], 'result': {'event': 'Penalty', 'eventCode': 'SJS665', 'eventTypeId': 'PENALTY', 'description': 'Brent Burns Broken stick', 'secondaryType': 'Broken stick', 'penaltySeverity': 'Minor', 'penaltyMinutes': 2}, 'about': {'eventIdx': 278, 'eventId': 665, 'period': 3, 'periodType': 'REGULAR', 'ordinalNum': '3rd', 'periodTime': '14:15', 'periodTimeRemaining': '05:45', 'dateTime': '2018-02-11T05:18:57Z', 'goals': {'away': 4, 'home': 4}}, 'coordinates': {'x': -94.0, 'y': -23.0}, 'team': {'id': 28, 'name': 'San Jose Sharks', 'link': '/api/v1/teams/28', 'triCode': 'SJS'}}\n"
     ]
    }
   ],
   "source": [
    "# len(game1['liveData']['plays'])\n",
    "# len(game1['liveData']['plays']['allPlays'])\n",
    "for x in game1['liveData']['plays']['allPlays']:\n",
    "    if x['result']['event'] == 'Penalty':\n",
    "        print(x)"
   ]
  },
  {
   "cell_type": "code",
   "execution_count": 315,
   "metadata": {
    "ExecuteTime": {
     "end_time": "2020-10-02T17:37:15.555435Z",
     "start_time": "2020-10-02T17:37:15.532170Z"
    }
   },
   "outputs": [
    {
     "name": "stdout",
     "output_type": "stream",
     "text": [
      "{'about': {'dateTime': '2018-02-11T03:14:38Z',\n",
      "           'eventId': 17,\n",
      "           'eventIdx': 21,\n",
      "           'goals': {'away': 0, 'home': 1},\n",
      "           'ordinalNum': '1st',\n",
      "           'period': 1,\n",
      "           'periodTime': '03:03',\n",
      "           'periodTimeRemaining': '16:57',\n",
      "           'periodType': 'REGULAR'},\n",
      " 'coordinates': {'x': 39.0, 'y': -23.0},\n",
      " 'players': [{'player': {'fullName': 'Justin Braun',\n",
      "                         'id': 8474027,\n",
      "                         'link': '/api/v1/people/8474027'},\n",
      "              'playerType': 'Shooter'},\n",
      "             {'player': {'fullName': 'Al Montoya',\n",
      "                         'id': 8471219,\n",
      "                         'link': '/api/v1/people/8471219'},\n",
      "              'playerType': 'Goalie'}],\n",
      " 'result': {'description': 'Justin Braun Slap Shot saved by Al Montoya',\n",
      "            'event': 'Shot',\n",
      "            'eventCode': 'SJS17',\n",
      "            'eventTypeId': 'SHOT',\n",
      "            'secondaryType': 'Slap Shot'},\n",
      " 'team': {'id': 28,\n",
      "          'link': '/api/v1/teams/28',\n",
      "          'name': 'San Jose Sharks',\n",
      "          'triCode': 'SJS'}}\n",
      "{'about': {'dateTime': '2018-02-11T03:14:44Z',\n",
      "           'eventId': 18,\n",
      "           'eventIdx': 22,\n",
      "           'goals': {'away': 0, 'home': 1},\n",
      "           'ordinalNum': '1st',\n",
      "           'period': 1,\n",
      "           'periodTime': '03:08',\n",
      "           'periodTimeRemaining': '16:52',\n",
      "           'periodType': 'REGULAR'},\n",
      " 'coordinates': {'x': 61.0, 'y': 21.0},\n",
      " 'players': [{'player': {'fullName': 'Marc-Edouard Vlasic',\n",
      "                         'id': 8471709,\n",
      "                         'link': '/api/v1/people/8471709'},\n",
      "              'playerType': 'Shooter'},\n",
      "             {'player': {'fullName': 'Al Montoya',\n",
      "                         'id': 8471219,\n",
      "                         'link': '/api/v1/people/8471219'},\n",
      "              'playerType': 'Goalie'}],\n",
      " 'result': {'description': 'Marc-Edouard Vlasic Slap Shot saved by Al Montoya',\n",
      "            'event': 'Shot',\n",
      "            'eventCode': 'SJS18',\n",
      "            'eventTypeId': 'SHOT',\n",
      "            'secondaryType': 'Slap Shot'},\n",
      " 'team': {'id': 28,\n",
      "          'link': '/api/v1/teams/28',\n",
      "          'name': 'San Jose Sharks',\n",
      "          'triCode': 'SJS'}}\n",
      "{'about': {'dateTime': '2018-02-11T03:14:41Z',\n",
      "           'eventId': 109,\n",
      "           'eventIdx': 23,\n",
      "           'goals': {'away': 0, 'home': 1},\n",
      "           'ordinalNum': '1st',\n",
      "           'period': 1,\n",
      "           'periodTime': '03:09',\n",
      "           'periodTimeRemaining': '16:51',\n",
      "           'periodType': 'REGULAR'},\n",
      " 'coordinates': {},\n",
      " 'result': {'description': 'Goalie Stopped',\n",
      "            'event': 'Stoppage',\n",
      "            'eventCode': 'SJS109',\n",
      "            'eventTypeId': 'STOP'}}\n",
      "{'about': {'dateTime': '2018-02-11T03:14:58Z',\n",
      "           'eventId': 19,\n",
      "           'eventIdx': 24,\n",
      "           'goals': {'away': 0, 'home': 1},\n",
      "           'ordinalNum': '1st',\n",
      "           'period': 1,\n",
      "           'periodTime': '03:09',\n",
      "           'periodTimeRemaining': '16:51',\n",
      "           'periodType': 'REGULAR'},\n",
      " 'coordinates': {'x': 69.0, 'y': 22.0},\n",
      " 'players': [{'player': {'fullName': 'Leon Draisaitl',\n",
      "                         'id': 8477934,\n",
      "                         'link': '/api/v1/people/8477934'},\n",
      "              'playerType': 'Winner'},\n",
      "             {'player': {'fullName': 'Timo Meier',\n",
      "                         'id': 8478414,\n",
      "                         'link': '/api/v1/people/8478414'},\n",
      "              'playerType': 'Loser'}],\n",
      " 'result': {'description': 'Leon Draisaitl faceoff won against Timo Meier',\n",
      "            'event': 'Faceoff',\n",
      "            'eventCode': 'SJS19',\n",
      "            'eventTypeId': 'FACEOFF'},\n",
      " 'team': {'id': 22,\n",
      "          'link': '/api/v1/teams/22',\n",
      "          'name': 'Edmonton Oilers',\n",
      "          'triCode': 'EDM'}}\n",
      "{'about': {'dateTime': '2018-02-11T03:15:34Z',\n",
      "           'eventId': 111,\n",
      "           'eventIdx': 25,\n",
      "           'goals': {'away': 0, 'home': 1},\n",
      "           'ordinalNum': '1st',\n",
      "           'period': 1,\n",
      "           'periodTime': '03:19',\n",
      "           'periodTimeRemaining': '16:41',\n",
      "           'periodType': 'REGULAR'},\n",
      " 'coordinates': {'x': -53.0, 'y': 16.0},\n",
      " 'players': [{'player': {'fullName': 'Timo Meier',\n",
      "                         'id': 8478414,\n",
      "                         'link': '/api/v1/people/8478414'},\n",
      "              'playerType': 'PenaltyOn'},\n",
      "             {'player': {'fullName': 'Leon Draisaitl',\n",
      "                         'id': 8477934,\n",
      "                         'link': '/api/v1/people/8477934'},\n",
      "              'playerType': 'DrewBy'}],\n",
      " 'result': {'description': 'Timo Meier Hooking against Leon Draisaitl',\n",
      "            'event': 'Penalty',\n",
      "            'eventCode': 'SJS111',\n",
      "            'eventTypeId': 'PENALTY',\n",
      "            'penaltyMinutes': 2,\n",
      "            'penaltySeverity': 'Minor',\n",
      "            'secondaryType': 'Hooking'},\n",
      " 'team': {'id': 28,\n",
      "          'link': '/api/v1/teams/28',\n",
      "          'name': 'San Jose Sharks',\n",
      "          'triCode': 'SJS'}}\n",
      "{'about': {'dateTime': '2018-02-11T03:15:51Z',\n",
      "           'eventId': 20,\n",
      "           'eventIdx': 26,\n",
      "           'goals': {'away': 0, 'home': 1},\n",
      "           'ordinalNum': '1st',\n",
      "           'period': 1,\n",
      "           'periodTime': '03:19',\n",
      "           'periodTimeRemaining': '16:41',\n",
      "           'periodType': 'REGULAR'},\n",
      " 'coordinates': {'x': -69.0, 'y': -22.0},\n",
      " 'players': [{'player': {'fullName': 'Leon Draisaitl',\n",
      "                         'id': 8477934,\n",
      "                         'link': '/api/v1/people/8477934'},\n",
      "              'playerType': 'Winner'},\n",
      "             {'player': {'fullName': 'Joe Pavelski',\n",
      "                         'id': 8470794,\n",
      "                         'link': '/api/v1/people/8470794'},\n",
      "              'playerType': 'Loser'}],\n",
      " 'result': {'description': 'Leon Draisaitl faceoff won against Joe Pavelski',\n",
      "            'event': 'Faceoff',\n",
      "            'eventCode': 'SJS20',\n",
      "            'eventTypeId': 'FACEOFF'},\n",
      " 'team': {'id': 22,\n",
      "          'link': '/api/v1/teams/22',\n",
      "          'name': 'Edmonton Oilers',\n",
      "          'triCode': 'EDM'}}\n",
      "{'about': {'dateTime': '2018-02-11T03:16:58Z',\n",
      "           'eventId': 114,\n",
      "           'eventIdx': 27,\n",
      "           'goals': {'away': 0, 'home': 1},\n",
      "           'ordinalNum': '1st',\n",
      "           'period': 1,\n",
      "           'periodTime': '04:20',\n",
      "           'periodTimeRemaining': '15:40',\n",
      "           'periodType': 'REGULAR'},\n",
      " 'coordinates': {'x': -97.0, 'y': -21.0},\n",
      " 'players': [{'player': {'fullName': 'Brent Burns',\n",
      "                         'id': 8470613,\n",
      "                         'link': '/api/v1/people/8470613'},\n",
      "              'playerType': 'PlayerID'}],\n",
      " 'result': {'description': 'Takeaway by Brent Burns',\n",
      "            'event': 'Takeaway',\n",
      "            'eventCode': 'SJS114',\n",
      "            'eventTypeId': 'TAKEAWAY'},\n",
      " 'team': {'id': 28,\n",
      "          'link': '/api/v1/teams/28',\n",
      "          'name': 'San Jose Sharks',\n",
      "          'triCode': 'SJS'}}\n",
      "{'about': {'dateTime': '2018-02-11T03:17:19Z',\n",
      "           'eventId': 21,\n",
      "           'eventIdx': 28,\n",
      "           'goals': {'away': 0, 'home': 1},\n",
      "           'ordinalNum': '1st',\n",
      "           'period': 1,\n",
      "           'periodTime': '04:38',\n",
      "           'periodTimeRemaining': '15:22',\n",
      "           'periodType': 'REGULAR'},\n",
      " 'coordinates': {'x': -78.0, 'y': -2.0},\n",
      " 'players': [{'player': {'fullName': 'Jesse Puljujarvi',\n",
      "                         'id': 8479344,\n",
      "                         'link': '/api/v1/people/8479344'},\n",
      "              'playerType': 'Shooter'},\n",
      "             {'player': {'fullName': 'Aaron Dell',\n",
      "                         'id': 8477180,\n",
      "                         'link': '/api/v1/people/8477180'},\n",
      "              'playerType': 'Goalie'}],\n",
      " 'result': {'description': 'Jesse Puljujarvi Backhand saved by Aaron Dell',\n",
      "            'event': 'Shot',\n",
      "            'eventCode': 'SJS21',\n",
      "            'eventTypeId': 'SHOT',\n",
      "            'secondaryType': 'Backhand'},\n",
      " 'team': {'id': 22,\n",
      "          'link': '/api/v1/teams/22',\n",
      "          'name': 'Edmonton Oilers',\n",
      "          'triCode': 'EDM'}}\n",
      "{'about': {'dateTime': '2018-02-11T03:17:29Z',\n",
      "           'eventId': 22,\n",
      "           'eventIdx': 29,\n",
      "           'goals': {'away': 0, 'home': 1},\n",
      "           'ordinalNum': '1st',\n",
      "           'period': 1,\n",
      "           'periodTime': '04:48',\n",
      "           'periodTimeRemaining': '15:12',\n",
      "           'periodType': 'REGULAR'},\n",
      " 'coordinates': {'x': -78.0, 'y': 8.0},\n",
      " 'players': [{'player': {'fullName': 'Leon Draisaitl',\n",
      "                         'id': 8477934,\n",
      "                         'link': '/api/v1/people/8477934'},\n",
      "              'playerType': 'Shooter'}],\n",
      " 'result': {'description': 'Leon Draisaitl - Over Net',\n",
      "            'event': 'Missed Shot',\n",
      "            'eventCode': 'SJS22',\n",
      "            'eventTypeId': 'MISSED_SHOT'},\n",
      " 'team': {'id': 22,\n",
      "          'link': '/api/v1/teams/22',\n",
      "          'name': 'Edmonton Oilers',\n",
      "          'triCode': 'EDM'}}\n",
      "{'about': {'dateTime': '2018-02-11T03:17:28Z',\n",
      "           'eventId': 115,\n",
      "           'eventIdx': 30,\n",
      "           'goals': {'away': 0, 'home': 1},\n",
      "           'ordinalNum': '1st',\n",
      "           'period': 1,\n",
      "           'periodTime': '04:49',\n",
      "           'periodTimeRemaining': '15:11',\n",
      "           'periodType': 'REGULAR'},\n",
      " 'coordinates': {},\n",
      " 'result': {'description': 'Puck in Netting',\n",
      "            'event': 'Stoppage',\n",
      "            'eventCode': 'SJS115',\n",
      "            'eventTypeId': 'STOP'}}\n",
      "{'about': {'dateTime': '2018-02-11T03:17:53Z',\n",
      "           'eventId': 23,\n",
      "           'eventIdx': 31,\n",
      "           'goals': {'away': 0, 'home': 1},\n",
      "           'ordinalNum': '1st',\n",
      "           'period': 1,\n",
      "           'periodTime': '04:49',\n",
      "           'periodTimeRemaining': '15:11',\n",
      "           'periodType': 'REGULAR'},\n",
      " 'coordinates': {'x': -69.0, 'y': 22.0},\n",
      " 'players': [{'player': {'fullName': 'Chris Tierney',\n",
      "                         'id': 8476919,\n",
      "                         'link': '/api/v1/people/8476919'},\n",
      "              'playerType': 'Winner'},\n",
      "             {'player': {'fullName': 'Mark Letestu',\n",
      "                         'id': 8473914,\n",
      "                         'link': '/api/v1/people/8473914'},\n",
      "              'playerType': 'Loser'}],\n",
      " 'result': {'description': 'Chris Tierney faceoff won against Mark Letestu',\n",
      "            'event': 'Faceoff',\n",
      "            'eventCode': 'SJS23',\n",
      "            'eventTypeId': 'FACEOFF'},\n",
      " 'team': {'id': 28,\n",
      "          'link': '/api/v1/teams/28',\n",
      "          'name': 'San Jose Sharks',\n",
      "          'triCode': 'SJS'}}\n"
     ]
    }
   ],
   "source": [
    "for x in game1['liveData']['plays']['allPlays']:\n",
    "#     if x['result']['event'] == 'Penalty':\n",
    "        if x['about']['period'] == 1:\n",
    "            if x['about']['periodTime'][0:2] == '03' or x['about']['periodTime'][0:2] == '04':\n",
    "                pprint.pprint(x)"
   ]
  },
  {
   "cell_type": "code",
   "execution_count": null,
   "metadata": {},
   "outputs": [],
   "source": []
  }
 ],
 "metadata": {
  "kernelspec": {
   "display_name": "Python [conda env:learn-env] *",
   "language": "python",
   "name": "conda-env-learn-env-py"
  },
  "language_info": {
   "codemirror_mode": {
    "name": "ipython",
    "version": 3
   },
   "file_extension": ".py",
   "mimetype": "text/x-python",
   "name": "python",
   "nbconvert_exporter": "python",
   "pygments_lexer": "ipython3",
   "version": "3.6.9"
  },
  "toc": {
   "base_numbering": 1,
   "nav_menu": {},
   "number_sections": true,
   "sideBar": true,
   "skip_h1_title": false,
   "title_cell": "Table of Contents",
   "title_sidebar": "Contents",
   "toc_cell": false,
   "toc_position": {
    "height": "calc(100% - 180px)",
    "left": "10px",
    "top": "150px",
    "width": "354px"
   },
   "toc_section_display": true,
   "toc_window_display": true
  },
  "varInspector": {
   "cols": {
    "lenName": 16,
    "lenType": 16,
    "lenVar": 40
   },
   "kernels_config": {
    "python": {
     "delete_cmd_postfix": "",
     "delete_cmd_prefix": "del ",
     "library": "var_list.py",
     "varRefreshCmd": "print(var_dic_list())"
    },
    "r": {
     "delete_cmd_postfix": ") ",
     "delete_cmd_prefix": "rm(",
     "library": "var_list.r",
     "varRefreshCmd": "cat(var_dic_list()) "
    }
   },
   "types_to_exclude": [
    "module",
    "function",
    "builtin_function_or_method",
    "instance",
    "_Feature"
   ],
   "window_display": false
  }
 },
 "nbformat": 4,
 "nbformat_minor": 2
}
