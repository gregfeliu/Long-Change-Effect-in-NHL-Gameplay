{
 "cells": [
  {
   "cell_type": "markdown",
   "metadata": {},
   "source": [
    "import pandas as pd\n",
    "import matplotlib.pyplot as plt\n",
    "# ^^^ pyforest auto-imports - don't write above this line\n"
   ]
  },
  {
   "cell_type": "markdown",
   "metadata": {
    "ExecuteTime": {
     "end_time": "2020-10-28T14:18:21.758588Z",
     "start_time": "2020-10-28T14:18:21.756122Z"
    }
   },
   "source": [
    "# Analysis"
   ]
  },
  {
   "cell_type": "code",
   "execution_count": 15,
   "metadata": {
    "ExecuteTime": {
     "end_time": "2020-11-06T23:08:39.184710Z",
     "start_time": "2020-11-06T23:08:39.180156Z"
    }
   },
   "outputs": [],
   "source": [
    "import warnings\n",
    "from functions import *\n",
    "import pickle\n",
    "sns.set(style=\"whitegrid\")"
   ]
  },
  {
   "cell_type": "markdown",
   "metadata": {},
   "source": [
    "## Stoppages per game"
   ]
  },
  {
   "cell_type": "code",
   "execution_count": 16,
   "metadata": {
    "ExecuteTime": {
     "end_time": "2020-11-06T23:08:39.265349Z",
     "start_time": "2020-11-06T23:08:39.187523Z"
    },
    "scrolled": true
   },
   "outputs": [
    {
     "data": {
      "text/plain": [
       "period\n",
       "1    7.547282\n",
       "2    7.821321\n",
       "3    7.665658\n",
       "Name: Stoppage, dtype: float64"
      ]
     },
     "execution_count": 16,
     "metadata": {},
     "output_type": "execute_result"
    }
   ],
   "source": [
    "stoppage_df = pd.read_csv(\"../data/stoppages.csv\", index_col=0)\n",
    "stoppage_avg = stoppage_df.groupby(['period']).Stoppage.mean()\n",
    "stoppage_avg"
   ]
  },
  {
   "cell_type": "code",
   "execution_count": 17,
   "metadata": {
    "ExecuteTime": {
     "end_time": "2020-11-06T23:08:39.271507Z",
     "start_time": "2020-11-06T23:08:39.268197Z"
    }
   },
   "outputs": [],
   "source": [
    "stoppages_proposals = generate_three_proposals(stoppage_avg)\n",
    "stoppage_proposal_df = proposals_to_df(stoppages_proposals, \"Stoppages\")"
   ]
  },
  {
   "cell_type": "markdown",
   "metadata": {},
   "source": [
    "## Takeaways"
   ]
  },
  {
   "cell_type": "code",
   "execution_count": 18,
   "metadata": {
    "ExecuteTime": {
     "end_time": "2020-11-06T23:08:39.293648Z",
     "start_time": "2020-11-06T23:08:39.275739Z"
    }
   },
   "outputs": [
    {
     "data": {
      "text/plain": [
       "period\n",
       "1    2.595429\n",
       "2    2.479551\n",
       "3    2.404253\n",
       "Name: Takeaway, dtype: float64"
      ]
     },
     "execution_count": 18,
     "metadata": {},
     "output_type": "execute_result"
    }
   ],
   "source": [
    "takeaways_df = pd.read_csv(\"../data/takeaways.csv\", index_col=0)\n",
    "takeaways_avg = takeaways_df.groupby(['period']).Takeaway.mean()\n",
    "takeaways_avg"
   ]
  },
  {
   "cell_type": "code",
   "execution_count": 19,
   "metadata": {
    "ExecuteTime": {
     "end_time": "2020-11-06T23:08:39.299566Z",
     "start_time": "2020-11-06T23:08:39.296012Z"
    }
   },
   "outputs": [],
   "source": [
    "takeaways_proposals = generate_three_proposals(takeaways_avg)\n",
    "takeaway_df = proposals_to_df(takeaways_proposals, \"Takeaways\")"
   ]
  },
  {
   "cell_type": "markdown",
   "metadata": {},
   "source": [
    "## Giveaways"
   ]
  },
  {
   "cell_type": "code",
   "execution_count": 20,
   "metadata": {
    "ExecuteTime": {
     "end_time": "2020-11-06T23:08:39.321504Z",
     "start_time": "2020-11-06T23:08:39.301926Z"
    }
   },
   "outputs": [
    {
     "data": {
      "text/plain": [
       "period\n",
       "1    3.108809\n",
       "2    2.874962\n",
       "3    2.690820\n",
       "Name: Giveaway, dtype: float64"
      ]
     },
     "execution_count": 20,
     "metadata": {},
     "output_type": "execute_result"
    }
   ],
   "source": [
    "giveaways_df = pd.read_csv(\"../data/giveaways.csv\", index_col=0)\n",
    "giveaways_avg = giveaways_df.groupby(['period']).Giveaway.mean()\n",
    "giveaways_avg"
   ]
  },
  {
   "cell_type": "code",
   "execution_count": 21,
   "metadata": {
    "ExecuteTime": {
     "end_time": "2020-11-06T23:08:39.326573Z",
     "start_time": "2020-11-06T23:08:39.323370Z"
    }
   },
   "outputs": [],
   "source": [
    "giveaways_proposals = generate_three_proposals(giveaways_avg)\n",
    "giveaway_df = proposals_to_df(giveaways_proposals, \"Giveaways\")"
   ]
  },
  {
   "cell_type": "markdown",
   "metadata": {},
   "source": [
    "## Hits"
   ]
  },
  {
   "cell_type": "code",
   "execution_count": 22,
   "metadata": {
    "ExecuteTime": {
     "end_time": "2020-11-06T23:08:39.348543Z",
     "start_time": "2020-11-06T23:08:39.328328Z"
    }
   },
   "outputs": [
    {
     "data": {
      "text/plain": [
       "period\n",
       "1    8.450547\n",
       "2    7.119211\n",
       "3    6.044054\n",
       "Name: Hit, dtype: float64"
      ]
     },
     "execution_count": 22,
     "metadata": {},
     "output_type": "execute_result"
    }
   ],
   "source": [
    "hit_avgs = get_category_and_period_avg('Hit')\n",
    "hit_avgs"
   ]
  },
  {
   "cell_type": "code",
   "execution_count": 23,
   "metadata": {
    "ExecuteTime": {
     "end_time": "2020-11-06T23:08:39.353653Z",
     "start_time": "2020-11-06T23:08:39.350150Z"
    }
   },
   "outputs": [],
   "source": [
    "hits_proposals = generate_three_proposals(hit_avgs)\n",
    "hit_df = proposals_to_df(hits_proposals, \"Hits\")"
   ]
  },
  {
   "cell_type": "markdown",
   "metadata": {},
   "source": [
    "## Penalties"
   ]
  },
  {
   "cell_type": "code",
   "execution_count": 24,
   "metadata": {
    "ExecuteTime": {
     "end_time": "2020-11-06T23:08:39.373901Z",
     "start_time": "2020-11-06T23:08:39.355975Z"
    }
   },
   "outputs": [
    {
     "data": {
      "text/plain": [
       "period\n",
       "1    1.870265\n",
       "2    2.009175\n",
       "3    1.932623\n",
       "Name: penalty, dtype: float64"
      ]
     },
     "execution_count": 24,
     "metadata": {},
     "output_type": "execute_result"
    }
   ],
   "source": [
    "penalties_df = pd.read_csv(\"../data/penalties.csv\", index_col=0)\n",
    "penalty_avgs = penalties_df.groupby(['period']).penalty.mean()\n",
    "penalty_avgs"
   ]
  },
  {
   "cell_type": "code",
   "execution_count": 25,
   "metadata": {
    "ExecuteTime": {
     "end_time": "2020-11-06T23:08:39.378735Z",
     "start_time": "2020-11-06T23:08:39.375575Z"
    }
   },
   "outputs": [],
   "source": [
    "penalties_proposals = generate_three_proposals(penalty_avgs)\n",
    "penalty_df = proposals_to_df(penalties_proposals, \"Penalties\")"
   ]
  },
  {
   "cell_type": "markdown",
   "metadata": {},
   "source": [
    "## Shots"
   ]
  },
  {
   "cell_type": "code",
   "execution_count": 26,
   "metadata": {
    "ExecuteTime": {
     "end_time": "2020-11-06T23:08:39.406586Z",
     "start_time": "2020-11-06T23:08:39.387285Z"
    }
   },
   "outputs": [
    {
     "data": {
      "text/plain": [
       "period\n",
       "1    8.527795\n",
       "2    8.857232\n",
       "3    8.059598\n",
       "Name: shot, dtype: float64"
      ]
     },
     "execution_count": 26,
     "metadata": {},
     "output_type": "execute_result"
    }
   ],
   "source": [
    "shots_df = pd.read_csv(\"../data/shots.csv\", index_col=0)\n",
    "shot_avgs = shots_df.groupby(['period']).shot.mean()\n",
    "shot_avgs"
   ]
  },
  {
   "cell_type": "code",
   "execution_count": 27,
   "metadata": {
    "ExecuteTime": {
     "end_time": "2020-11-06T23:08:39.415155Z",
     "start_time": "2020-11-06T23:08:39.411714Z"
    }
   },
   "outputs": [],
   "source": [
    "shots_proposals = generate_three_proposals(shot_avgs)\n",
    "shot_df = proposals_to_df(shots_proposals, \"Shots\")"
   ]
  },
  {
   "cell_type": "markdown",
   "metadata": {},
   "source": [
    "## Blocked Shots"
   ]
  },
  {
   "cell_type": "code",
   "execution_count": 28,
   "metadata": {
    "ExecuteTime": {
     "end_time": "2020-11-06T23:08:39.437006Z",
     "start_time": "2020-11-06T23:08:39.417173Z"
    }
   },
   "outputs": [
    {
     "data": {
      "text/plain": [
       "period\n",
       "1    4.454365\n",
       "2    4.437850\n",
       "3    4.197767\n",
       "Name: Blocked Shot, dtype: float64"
      ]
     },
     "execution_count": 28,
     "metadata": {},
     "output_type": "execute_result"
    }
   ],
   "source": [
    "blocked_shots_df = pd.read_csv(\"../data/blocked_shots.csv\", index_col=0)\n",
    "blocked_shots_avgs = blocked_shots_df.groupby(['period'])['Blocked Shot'].mean()\n",
    "blocked_shots_avgs"
   ]
  },
  {
   "cell_type": "code",
   "execution_count": 29,
   "metadata": {
    "ExecuteTime": {
     "end_time": "2020-11-06T23:08:39.443291Z",
     "start_time": "2020-11-06T23:08:39.439549Z"
    }
   },
   "outputs": [],
   "source": [
    "blocked_shots_proposals = generate_three_proposals(blocked_shots_avgs)\n",
    "blocked_shot_df = proposals_to_df(blocked_shots_proposals, \"Blocked_Shots\")"
   ]
  },
  {
   "cell_type": "markdown",
   "metadata": {},
   "source": [
    "## Save Percentage"
   ]
  },
  {
   "cell_type": "code",
   "execution_count": 30,
   "metadata": {
    "ExecuteTime": {
     "end_time": "2020-11-06T23:08:39.449858Z",
     "start_time": "2020-11-06T23:08:39.445979Z"
    }
   },
   "outputs": [],
   "source": [
    "with open (\"../data/save_pct_list\", 'rb') as f:\n",
    "    save_pct_list = pickle.load(f)"
   ]
  },
  {
   "cell_type": "code",
   "execution_count": 31,
   "metadata": {
    "ExecuteTime": {
     "end_time": "2020-11-06T23:08:39.457138Z",
     "start_time": "2020-11-06T23:08:39.452288Z"
    },
    "scrolled": true
   },
   "outputs": [
    {
     "data": {
      "text/plain": [
       "[0.9087, 0.8959, 0.8878]"
      ]
     },
     "execution_count": 31,
     "metadata": {},
     "output_type": "execute_result"
    }
   ],
   "source": [
    "save_pct_list"
   ]
  },
  {
   "cell_type": "code",
   "execution_count": 32,
   "metadata": {
    "ExecuteTime": {
     "end_time": "2020-11-06T23:08:39.464709Z",
     "start_time": "2020-11-06T23:08:39.459328Z"
    }
   },
   "outputs": [],
   "source": [
    "save_pct_df = pd.DataFrame(data = save_pct_list, columns = [\"Save_Percentage\"])\n",
    "save_pct_df['Period'] = [1, 2, 3]"
   ]
  },
  {
   "cell_type": "code",
   "execution_count": 33,
   "metadata": {
    "ExecuteTime": {
     "end_time": "2020-11-06T23:08:39.468966Z",
     "start_time": "2020-11-06T23:08:39.466621Z"
    }
   },
   "outputs": [],
   "source": [
    "# save_pct_df.to_csv(\"../data/save_pct_df.csv\")"
   ]
  },
  {
   "cell_type": "markdown",
   "metadata": {},
   "source": [
    "## Goals"
   ]
  },
  {
   "cell_type": "code",
   "execution_count": 34,
   "metadata": {
    "ExecuteTime": {
     "end_time": "2020-11-06T23:08:39.486076Z",
     "start_time": "2020-11-06T23:08:39.470921Z"
    }
   },
   "outputs": [
    {
     "data": {
      "text/plain": [
       "period\n",
       "1    1.459230\n",
       "2    1.532012\n",
       "3    1.506890\n",
       "Name: goal, dtype: float64"
      ]
     },
     "execution_count": 34,
     "metadata": {},
     "output_type": "execute_result"
    }
   ],
   "source": [
    "goals_df = pd.read_csv(\"../data/goals.csv\",index_col=0)\n",
    "goal_avgs = goals_df.groupby(['period']).goal.mean()\n",
    "goal_avgs"
   ]
  },
  {
   "cell_type": "code",
   "execution_count": 36,
   "metadata": {
    "ExecuteTime": {
     "end_time": "2020-11-06T23:08:54.336048Z",
     "start_time": "2020-11-06T23:08:54.329127Z"
    }
   },
   "outputs": [
    {
     "data": {
      "text/plain": [
       "1.049877555237007"
      ]
     },
     "execution_count": 36,
     "metadata": {},
     "output_type": "execute_result"
    }
   ],
   "source": [
    "# 5% more goals in second than first \n",
    "goal_avgs[2] / goal_avgs[1]"
   ]
  },
  {
   "cell_type": "code",
   "execution_count": 37,
   "metadata": {
    "ExecuteTime": {
     "end_time": "2020-11-06T23:08:57.326687Z",
     "start_time": "2020-11-06T23:08:57.322589Z"
    }
   },
   "outputs": [],
   "source": [
    "goals_proposals = generate_three_proposals(goal_avgs)\n",
    "goal_df = proposals_to_df(goals_proposals, \"Goals\")"
   ]
  },
  {
   "cell_type": "markdown",
   "metadata": {},
   "source": [
    "## Shift Length"
   ]
  },
  {
   "cell_type": "markdown",
   "metadata": {},
   "source": [
    "### All Positions"
   ]
  },
  {
   "cell_type": "code",
   "execution_count": 38,
   "metadata": {
    "ExecuteTime": {
     "end_time": "2020-11-06T23:09:00.202268Z",
     "start_time": "2020-11-06T23:08:57.329476Z"
    }
   },
   "outputs": [],
   "source": [
    "shifts_df = pd.read_csv(\"../data/all_positions_shifts.csv\", header=None)\n",
    "shifts_df.columns = ['period', 'shift_length', 'position', 'game_id']"
   ]
  },
  {
   "cell_type": "code",
   "execution_count": 39,
   "metadata": {
    "ExecuteTime": {
     "end_time": "2020-11-06T23:09:00.982462Z",
     "start_time": "2020-11-06T23:09:00.204505Z"
    }
   },
   "outputs": [
    {
     "data": {
      "text/plain": [
       "period  position\n",
       "1       C           43.056593\n",
       "        D           45.123369\n",
       "        LW          43.322835\n",
       "        RW          43.345602\n",
       "2       C           46.336745\n",
       "        D           49.971268\n",
       "        LW          46.538081\n",
       "        RW          46.609662\n",
       "3       C           44.195191\n",
       "        D           46.909917\n",
       "        LW          44.446559\n",
       "        RW          44.497024\n",
       "Name: shift_length, dtype: float64"
      ]
     },
     "execution_count": 39,
     "metadata": {},
     "output_type": "execute_result"
    }
   ],
   "source": [
    "shifts_avgs = shifts_df.groupby(['period', 'position']).shift_length.mean()\n",
    "shifts_avgs"
   ]
  },
  {
   "cell_type": "markdown",
   "metadata": {},
   "source": [
    "#### How many seconds longer are shifts in second period than 1st/3rd?"
   ]
  },
  {
   "cell_type": "code",
   "execution_count": 40,
   "metadata": {
    "ExecuteTime": {
     "end_time": "2020-11-06T23:09:00.989952Z",
     "start_time": "2020-11-06T23:09:00.985609Z"
    }
   },
   "outputs": [],
   "source": [
    "unstacked_shifts_avgs = shifts_avgs.unstack(level=1)"
   ]
  },
  {
   "cell_type": "code",
   "execution_count": 41,
   "metadata": {
    "ExecuteTime": {
     "end_time": "2020-11-06T23:09:00.997935Z",
     "start_time": "2020-11-06T23:09:00.993359Z"
    }
   },
   "outputs": [
    {
     "data": {
      "text/plain": [
       "[44.529509477631116, 47.33485113026512, 44.769158528823205, 44.817429305181115]"
      ]
     },
     "execution_count": 41,
     "metadata": {},
     "output_type": "execute_result"
    }
   ],
   "source": [
    "mean_position_shifts = [sum(unstacked_shifts_avgs[x]) / len(unstacked_shifts_avgs[x]) \n",
    "                        for x in unstacked_shifts_avgs.columns]\n",
    "mean_position_shifts"
   ]
  },
  {
   "cell_type": "code",
   "execution_count": 42,
   "metadata": {
    "ExecuteTime": {
     "end_time": "2020-11-06T23:09:01.004102Z",
     "start_time": "2020-11-06T23:09:01.000030Z"
    }
   },
   "outputs": [],
   "source": [
    "diff_list = []\n",
    "for col in unstacked_shifts_avgs.columns:\n",
    "    first = unstacked_shifts_avgs[col].iloc[0]\n",
    "    second = unstacked_shifts_avgs[col].iloc[1]\n",
    "    diff = round(second - first, 2)\n",
    "#     diff = second - first\n",
    "    diff_list.append(diff)"
   ]
  },
  {
   "cell_type": "markdown",
   "metadata": {},
   "source": [
    "#### What percent of shift length does this change represent?"
   ]
  },
  {
   "cell_type": "code",
   "execution_count": 43,
   "metadata": {
    "ExecuteTime": {
     "end_time": "2020-11-06T23:09:01.010212Z",
     "start_time": "2020-11-06T23:09:01.005893Z"
    }
   },
   "outputs": [
    {
     "data": {
      "text/plain": [
       "[0.07, 0.1, 0.07, 0.07]"
      ]
     },
     "execution_count": 43,
     "metadata": {},
     "output_type": "execute_result"
    }
   ],
   "source": [
    "percent_diff_in_second = [round(x/y, 2) \n",
    "                          for x,y in zip(diff_list, mean_position_shifts)]\n",
    "percent_diff_in_second"
   ]
  },
  {
   "cell_type": "markdown",
   "metadata": {},
   "source": [
    "# Combining Data For Proposals"
   ]
  },
  {
   "cell_type": "code",
   "execution_count": 44,
   "metadata": {
    "ExecuteTime": {
     "end_time": "2020-11-06T23:09:01.017970Z",
     "start_time": "2020-11-06T23:09:01.012491Z"
    }
   },
   "outputs": [],
   "source": [
    "proposals_df = pd.concat([stoppage_proposal_df, takeaway_df, giveaway_df, hit_df, shot_df, blocked_shot_df, goal_df, \n",
    "                          penalty_df], axis = 1)"
   ]
  },
  {
   "cell_type": "code",
   "execution_count": 45,
   "metadata": {
    "ExecuteTime": {
     "end_time": "2020-11-06T23:09:01.030019Z",
     "start_time": "2020-11-06T23:09:01.020530Z"
    }
   },
   "outputs": [],
   "source": [
    "transposed_proposals_df = proposals_df.T\n",
    "transposed_proposals_df.reset_index(inplace=True)\n",
    "melted_proposals_df = transposed_proposals_df.melt(id_vars = ['index'])"
   ]
  },
  {
   "cell_type": "code",
   "execution_count": 46,
   "metadata": {
    "ExecuteTime": {
     "end_time": "2020-11-06T23:09:01.035146Z",
     "start_time": "2020-11-06T23:09:01.032360Z"
    },
    "scrolled": true
   },
   "outputs": [],
   "source": [
    "# proposals_df.to_csv(\"../data/proposals_df.csv\")"
   ]
  },
  {
   "cell_type": "markdown",
   "metadata": {},
   "source": [
    "## Visualizing differences"
   ]
  },
  {
   "cell_type": "code",
   "execution_count": 47,
   "metadata": {
    "ExecuteTime": {
     "end_time": "2020-11-06T23:09:01.349587Z",
     "start_time": "2020-11-06T23:09:01.037595Z"
    }
   },
   "outputs": [
    {
     "data": {
      "application/javascript": [
       "\n",
       "        if (window._pyforest_update_imports_cell) { window._pyforest_update_imports_cell('import pandas as pd\\nimport matplotlib.pyplot as plt'); }\n",
       "    "
      ],
      "text/plain": [
       "<IPython.core.display.Javascript object>"
      ]
     },
     "metadata": {},
     "output_type": "display_data"
    },
    {
     "data": {
      "application/javascript": [
       "\n",
       "        if (window._pyforest_update_imports_cell) { window._pyforest_update_imports_cell('import pandas as pd\\nimport matplotlib.pyplot as plt'); }\n",
       "    "
      ],
      "text/plain": [
       "<IPython.core.display.Javascript object>"
      ]
     },
     "metadata": {},
     "output_type": "display_data"
    },
    {
     "data": {
      "application/javascript": [
       "\n",
       "        if (window._pyforest_update_imports_cell) { window._pyforest_update_imports_cell('import pandas as pd\\nimport matplotlib.pyplot as plt'); }\n",
       "    "
      ],
      "text/plain": [
       "<IPython.core.display.Javascript object>"
      ]
     },
     "metadata": {},
     "output_type": "display_data"
    },
    {
     "data": {
      "application/javascript": [
       "\n",
       "        if (window._pyforest_update_imports_cell) { window._pyforest_update_imports_cell('import pandas as pd\\nimport matplotlib.pyplot as plt'); }\n",
       "    "
      ],
      "text/plain": [
       "<IPython.core.display.Javascript object>"
      ]
     },
     "metadata": {},
     "output_type": "display_data"
    },
    {
     "data": {
      "application/javascript": [
       "\n",
       "        if (window._pyforest_update_imports_cell) { window._pyforest_update_imports_cell('import pandas as pd\\nimport matplotlib.pyplot as plt'); }\n",
       "    "
      ],
      "text/plain": [
       "<IPython.core.display.Javascript object>"
      ]
     },
     "metadata": {},
     "output_type": "display_data"
    },
    {
     "data": {
      "text/plain": [
       "Text(0.5, 1.0, 'Change in Game Stats Based on Proposal Change')"
      ]
     },
     "execution_count": 47,
     "metadata": {},
     "output_type": "execute_result"
    },
    {
     "data": {
      "image/png": "[encoded data removed]",
      "text/plain": [
       "<Figure size 720x288 with 1 Axes>"
      ]
     },
     "metadata": {},
     "output_type": "display_data"
    }
   ],
   "source": [
    "fig = plt.figure(figsize=(10, 4))\n",
    "ax = sns.barplot(x = \"index\", y = 'value', hue = 'variable',\n",
    "    data = melted_proposals_df)\n",
    "ax.legend(loc='center left', bbox_to_anchor=(1.25, 0.5), ncol=1)\n",
    "plt.xticks(rotation=320)\n",
    "plt.xlabel(\"Stats Category\")\n",
    "plt.ylabel(\"Amount\")\n",
    "plt.title(\"Change in Game Stats Based on Proposal Change\", fontsize=20)\n",
    "# fig.savefig(\"../images/Change_in_Game_Stats_Plot.png\", bbox_inches = 'tight')"
   ]
  }
 ],
 "metadata": {
  "kernelspec": {
   "display_name": "Python [conda env:learn-env] *",
   "language": "python",
   "name": "conda-env-learn-env-py"
  },
  "language_info": {
   "codemirror_mode": {
    "name": "ipython",
    "version": 3
   },
   "file_extension": ".py",
   "mimetype": "text/x-python",
   "name": "python",
   "nbconvert_exporter": "python",
   "pygments_lexer": "ipython3",
   "version": "3.6.9"
  },
  "toc": {
   "base_numbering": 1,
   "nav_menu": {},
   "number_sections": true,
   "sideBar": true,
   "skip_h1_title": false,
   "title_cell": "Table of Contents",
   "title_sidebar": "Contents",
   "toc_cell": false,
   "toc_position": {
    "height": "calc(100% - 180px)",
    "left": "10px",
    "top": "150px",
    "width": "371px"
   },
   "toc_section_display": true,
   "toc_window_display": true
  },
  "varInspector": {
   "cols": {
    "lenName": 16,
    "lenType": 16,
    "lenVar": 40
   },
   "kernels_config": {
    "python": {
     "delete_cmd_postfix": "",
     "delete_cmd_prefix": "del ",
     "library": "var_list.py",
     "varRefreshCmd": "print(var_dic_list())"
    },
    "r": {
     "delete_cmd_postfix": ") ",
     "delete_cmd_prefix": "rm(",
     "library": "var_list.r",
     "varRefreshCmd": "cat(var_dic_list()) "
    }
   },
   "types_to_exclude": [
    "module",
    "function",
    "builtin_function_or_method",
    "instance",
    "_Feature"
   ],
   "window_display": false
  }
 },
 "nbformat": 4,
 "nbformat_minor": 2
}
