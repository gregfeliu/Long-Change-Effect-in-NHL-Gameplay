{
 "cells": [
  {
   "cell_type": "markdown",
   "metadata": {},
   "source": [
    "import pandas as pd\n",
    "import matplotlib.pyplot as plt\n",
    "# ^^^ pyforest auto-imports - don't write above this line\n"
   ]
  },
  {
   "cell_type": "markdown",
   "metadata": {},
   "source": [
    "# Main Question: Do American teams have more American Players than Canadian Teams and vice versa for 2018-2019? "
   ]
  },
  {
   "cell_type": "markdown",
   "metadata": {
    "ExecuteTime": {
     "end_time": "2020-10-28T14:18:21.758588Z",
     "start_time": "2020-10-28T14:18:21.756122Z"
    }
   },
   "source": [
    "## Imports"
   ]
  },
  {
   "cell_type": "code",
   "execution_count": 1,
   "metadata": {
    "ExecuteTime": {
     "end_time": "2021-01-18T20:30:52.171541Z",
     "start_time": "2021-01-18T20:30:50.604375Z"
    }
   },
   "outputs": [
    {
     "name": "stderr",
     "output_type": "stream",
     "text": [
      "\n",
      "Bad key \"text.kerning_factor\" on line 4 in\n",
      "/Users/gregfeliu/opt/anaconda3/envs/learn-env/lib/python3.6/site-packages/matplotlib/mpl-data/stylelib/_classic_test_patch.mplstyle.\n",
      "You probably need to get an updated matplotlibrc file from\n",
      "https://github.com/matplotlib/matplotlib/blob/v3.1.3/matplotlibrc.template\n",
      "or from the matplotlib source distribution\n"
     ]
    }
   ],
   "source": [
    "import warnings\n",
    "from functions import *\n",
    "import pickle\n",
    "sns.set(style=\"whitegrid\")"
   ]
  },
  {
   "cell_type": "markdown",
   "metadata": {},
   "source": [
    "## Last Year Available"
   ]
  },
  {
   "cell_type": "code",
   "execution_count": 3,
   "metadata": {
    "ExecuteTime": {
     "end_time": "2021-01-18T20:33:20.096002Z",
     "start_time": "2021-01-18T20:33:19.749079Z"
    }
   },
   "outputs": [],
   "source": [
    "last_year_query = f\"\"\"\n",
    "    SELECT DISTINCT(season)\n",
    "    FROM game\n",
    "\"\"\"\n",
    "last_year_query_result = run_query(last_year_query)"
   ]
  },
  {
   "cell_type": "code",
   "execution_count": 7,
   "metadata": {
    "ExecuteTime": {
     "end_time": "2021-01-18T20:33:50.707197Z",
     "start_time": "2021-01-18T20:33:50.703169Z"
    }
   },
   "outputs": [],
   "source": [
    "last_year = last_year_query_result[-1][0]"
   ]
  },
  {
   "cell_type": "markdown",
   "metadata": {},
   "source": [
    "## Canadian Teams List"
   ]
  },
  {
   "cell_type": "markdown",
   "metadata": {},
   "source": [
    "### All teams plus their ID"
   ]
  },
  {
   "cell_type": "code",
   "execution_count": 29,
   "metadata": {
    "ExecuteTime": {
     "end_time": "2021-01-18T20:39:41.363172Z",
     "start_time": "2021-01-18T20:39:41.054674Z"
    }
   },
   "outputs": [],
   "source": [
    "# not all of the franchises are in team_info\n",
    "all_teams_query = f\"\"\"\n",
    "    SELECT COUNT(*)\n",
    "    FROM team_info\n",
    "\"\"\"\n",
    "all_teams_query_result = run_query(all_teams_query)"
   ]
  },
  {
   "cell_type": "code",
   "execution_count": 30,
   "metadata": {
    "ExecuteTime": {
     "end_time": "2021-01-18T20:39:41.497039Z",
     "start_time": "2021-01-18T20:39:41.491312Z"
    }
   },
   "outputs": [
    {
     "data": {
      "text/plain": [
       "[(17,)]"
      ]
     },
     "execution_count": 30,
     "metadata": {},
     "output_type": "execute_result"
    }
   ],
   "source": [
    "all_teams_query_result"
   ]
  },
  {
   "cell_type": "code",
   "execution_count": 33,
   "metadata": {
    "ExecuteTime": {
     "end_time": "2021-01-18T21:09:21.003100Z",
     "start_time": "2021-01-18T21:09:20.997153Z"
    }
   },
   "outputs": [
    {
     "data": {
      "text/plain": [
       "[(17,)]"
      ]
     },
     "execution_count": 33,
     "metadata": {},
     "output_type": "execute_result"
    }
   ],
   "source": [
    "all_teams_query_result"
   ]
  },
  {
   "cell_type": "code",
   "execution_count": 31,
   "metadata": {
    "ExecuteTime": {
     "end_time": "2021-01-18T20:40:43.128411Z",
     "start_time": "2021-01-18T20:40:42.847874Z"
    }
   },
   "outputs": [],
   "source": [
    "# from game_team_stats table\n",
    "all_teams_query2 = f\"\"\"\n",
    "    SELECT COUNT(DISTINCT(team_id))\n",
    "    FROM game_teams_stats\n",
    "    INNER JOIN game\n",
    "        ON game.game_id = game_teams_stats.game_id\n",
    "    WHERE game.season = {last_year}\n",
    "\"\"\" # adding the last year clause removed 3 teams\n",
    "all_teams_query2_result = run_query(all_teams_query2)"
   ]
  },
  {
   "cell_type": "code",
   "execution_count": 32,
   "metadata": {
    "ExecuteTime": {
     "end_time": "2021-01-18T20:40:43.733392Z",
     "start_time": "2021-01-18T20:40:43.727552Z"
    }
   },
   "outputs": [
    {
     "data": {
      "text/plain": [
       "[(31,)]"
      ]
     },
     "execution_count": 32,
     "metadata": {},
     "output_type": "execute_result"
    }
   ],
   "source": [
    "all_teams_query2_result"
   ]
  },
  {
   "cell_type": "markdown",
   "metadata": {},
   "source": [
    "### Canadian Team Ids "
   ]
  },
  {
   "cell_type": "code",
   "execution_count": 35,
   "metadata": {
    "ExecuteTime": {
     "end_time": "2021-01-18T21:10:28.359258Z",
     "start_time": "2021-01-18T21:10:28.043350Z"
    }
   },
   "outputs": [],
   "source": [
    "# getting the actual team_id for each team\n",
    "## also found here: https://www.kaggle.com/martinellis/nhl-game-data?select=team_info.csv\n",
    "all_team_ids_query = f\"\"\"\n",
    "    SELECT DISTINCT(team_id)\n",
    "    FROM game_teams_stats\n",
    "    INNER JOIN game\n",
    "        ON game.game_id = game_teams_stats.game_id\n",
    "    WHERE game.season = {last_year}\n",
    "\"\"\"\n",
    "all_team_ids_query_result = run_query(all_team_ids_query)"
   ]
  },
  {
   "cell_type": "code",
   "execution_count": 48,
   "metadata": {
    "ExecuteTime": {
     "end_time": "2021-01-18T21:13:54.516444Z",
     "start_time": "2021-01-18T21:13:54.511842Z"
    }
   },
   "outputs": [],
   "source": [
    "# flatten and sort\n",
    "## https://stackoverflow.com/questions/952914/how-to-make-a-flat-list-out-of-list-of-lists\n",
    "team_ids_flattened = [x for i in all_team_ids_query_result for x in i]\n",
    "team_ids_sorted = sorted(team_ids_flattened)"
   ]
  },
  {
   "cell_type": "code",
   "execution_count": 49,
   "metadata": {
    "ExecuteTime": {
     "end_time": "2021-01-18T21:16:59.386583Z",
     "start_time": "2021-01-18T21:16:59.381693Z"
    }
   },
   "outputs": [],
   "source": [
    "canadian_team_dict = {'Vancouver': 26, 'Ottawa': 9,\n",
    "                     'Montreal': 8, \"Toronto\": 10, \"Calgary\": 20,\n",
    "                     \"Winnipeg\": 52, \"Edmonton\": 22}\n",
    "canadian_team_ids = list(canadian_team_dict.values())"
   ]
  },
  {
   "cell_type": "code",
   "execution_count": 50,
   "metadata": {
    "ExecuteTime": {
     "end_time": "2021-01-18T21:17:02.891651Z",
     "start_time": "2021-01-18T21:17:02.885220Z"
    }
   },
   "outputs": [
    {
     "data": {
      "text/plain": [
       "[26, 9, 8, 10, 20, 52, 22]"
      ]
     },
     "execution_count": 50,
     "metadata": {},
     "output_type": "execute_result"
    }
   ],
   "source": [
    "canadian_team_ids"
   ]
  },
  {
   "cell_type": "markdown",
   "metadata": {},
   "source": [
    "### Values for \"American\" and \"Canadian\""
   ]
  },
  {
   "cell_type": "code",
   "execution_count": 51,
   "metadata": {
    "ExecuteTime": {
     "end_time": "2021-01-19T20:30:12.140426Z",
     "start_time": "2021-01-19T20:30:11.843371Z"
    }
   },
   "outputs": [],
   "source": [
    "player_nat_query = f\"\"\"\n",
    "    SELECT DISTINCT(nationality)\n",
    "    FROM player_info\n",
    "\"\"\"\n",
    "player_nat_query_result = run_query(player_nat_query)"
   ]
  },
  {
   "cell_type": "code",
   "execution_count": 52,
   "metadata": {
    "ExecuteTime": {
     "end_time": "2021-01-19T20:30:13.688404Z",
     "start_time": "2021-01-19T20:30:13.683252Z"
    }
   },
   "outputs": [
    {
     "data": {
      "text/plain": [
       "[('nat',),\n",
       " ('RUS',),\n",
       " ('CAN',),\n",
       " ('SWE',),\n",
       " ('LTU',),\n",
       " ('USA',),\n",
       " ('CZE',),\n",
       " ('SVN',),\n",
       " ('FIN',),\n",
       " ('LVA',),\n",
       " ('DEU',),\n",
       " ('SVK',),\n",
       " ('DNK',),\n",
       " ('CHE',),\n",
       " ('BLR',),\n",
       " ('AUT',),\n",
       " ('FRA',),\n",
       " ('NLD',),\n",
       " ('NA',),\n",
       " ('UKR',),\n",
       " ('NGA',),\n",
       " ('HRV',),\n",
       " ('NOR',)]"
      ]
     },
     "execution_count": 52,
     "metadata": {},
     "output_type": "execute_result"
    }
   ],
   "source": [
    "player_nat_query_result"
   ]
  },
  {
   "cell_type": "markdown",
   "metadata": {},
   "source": [
    "### Test for a single team\n",
    "only has players"
   ]
  },
  {
   "cell_type": "code",
   "execution_count": 53,
   "metadata": {
    "ExecuteTime": {
     "end_time": "2021-01-19T20:33:18.965587Z",
     "start_time": "2021-01-19T20:33:18.713818Z"
    }
   },
   "outputs": [],
   "source": [
    "last_ottawa_game_query = f\"\"\"\n",
    "    SELECT game_id\n",
    "    FROM game_teams_stats\n",
    "    WHERE team_id = 9\n",
    "    ORDER BY game_id DESC\n",
    "    LIMIT 1\n",
    "    \n",
    "\"\"\" # when they were the home team\n",
    "last_ottawa_game_query_result = run_query(last_ottawa_game_query)"
   ]
  },
  {
   "cell_type": "code",
   "execution_count": 55,
   "metadata": {
    "ExecuteTime": {
     "end_time": "2021-01-19T20:33:27.949433Z",
     "start_time": "2021-01-19T20:33:27.943521Z"
    }
   },
   "outputs": [
    {
     "data": {
      "text/plain": [
       "[(2018021260,)]"
      ]
     },
     "execution_count": 55,
     "metadata": {},
     "output_type": "execute_result"
    }
   ],
   "source": [
    "last_ottawa_game_query_result"
   ]
  },
  {
   "cell_type": "code",
   "execution_count": 67,
   "metadata": {
    "ExecuteTime": {
     "end_time": "2021-01-19T20:37:06.658470Z",
     "start_time": "2021-01-19T20:37:03.031251Z"
    }
   },
   "outputs": [],
   "source": [
    "ottawa_nat_query = f\"\"\"\n",
    "    SELECT DISTINCT(ps.player_id), ps.nationality\n",
    "    FROM player_info ps\n",
    "    INNER JOIN game_shifts gs\n",
    "        ON ps.player_id = gs.player_id\n",
    "    WHERE game_id = 2018021260\n",
    "\"\"\"\n",
    "ottawa_nat_query_result = run_query(ottawa_nat_query)"
   ]
  },
  {
   "cell_type": "code",
   "execution_count": 64,
   "metadata": {
    "ExecuteTime": {
     "end_time": "2021-01-19T20:36:41.015427Z",
     "start_time": "2021-01-19T20:36:41.011661Z"
    }
   },
   "outputs": [
    {
     "data": {
      "text/plain": [
       "19"
      ]
     },
     "execution_count": 64,
     "metadata": {},
     "output_type": "execute_result"
    }
   ],
   "source": [
    "len(ottawa_nat_query_result)"
   ]
  },
  {
   "cell_type": "code",
   "execution_count": 70,
   "metadata": {
    "ExecuteTime": {
     "end_time": "2021-01-19T20:38:21.572568Z",
     "start_time": "2021-01-19T20:38:21.568521Z"
    }
   },
   "outputs": [],
   "source": [
    "all_nats = set(x[1] for x in ottawa_nat_query_result)"
   ]
  },
  {
   "cell_type": "code",
   "execution_count": 72,
   "metadata": {
    "ExecuteTime": {
     "end_time": "2021-01-19T20:38:37.748693Z",
     "start_time": "2021-01-19T20:38:37.742125Z"
    }
   },
   "outputs": [
    {
     "data": {
      "text/plain": [
       "set"
      ]
     },
     "execution_count": 72,
     "metadata": {},
     "output_type": "execute_result"
    }
   ],
   "source": [
    "type(all_nats)"
   ]
  },
  {
   "cell_type": "code",
   "execution_count": 78,
   "metadata": {
    "ExecuteTime": {
     "end_time": "2021-01-19T20:39:51.808449Z",
     "start_time": "2021-01-19T20:39:51.803680Z"
    },
    "scrolled": true
   },
   "outputs": [],
   "source": [
    "# getting the number of each nationality and their percentage \n",
    "ottawa_nat_dict = {x:0 for x in all_nats}\n",
    "for x in ottawa_nat_query_result:\n",
    "    ottawa_nat_dict[x[1]] += 1"
   ]
  },
  {
   "cell_type": "code",
   "execution_count": 82,
   "metadata": {
    "ExecuteTime": {
     "end_time": "2021-01-19T20:41:19.920312Z",
     "start_time": "2021-01-19T20:41:19.916272Z"
    }
   },
   "outputs": [],
   "source": [
    "num_players_on_team = len(ottawa_nat_query_result)\n",
    "ottawa_nat_dict_pct = {key: round(value/num_players_on_team, 2) for key, value in ottawa_nat_dict.items()}"
   ]
  },
  {
   "cell_type": "code",
   "execution_count": 83,
   "metadata": {
    "ExecuteTime": {
     "end_time": "2021-01-19T20:41:20.281520Z",
     "start_time": "2021-01-19T20:41:20.276273Z"
    }
   },
   "outputs": [
    {
     "data": {
      "text/plain": [
       "{'SWE': 0.11, 'USA': 0.32, 'FIN': 0.05, 'CAN': 0.47, 'CHE': 0.05}"
      ]
     },
     "execution_count": 83,
     "metadata": {},
     "output_type": "execute_result"
    }
   ],
   "source": [
    "ottawa_nat_dict_pct"
   ]
  },
  {
   "cell_type": "code",
   "execution_count": null,
   "metadata": {},
   "outputs": [],
   "source": []
  }
 ],
 "metadata": {
  "kernelspec": {
   "display_name": "Python [conda env:learn-env] *",
   "language": "python",
   "name": "conda-env-learn-env-py"
  },
  "language_info": {
   "codemirror_mode": {
    "name": "ipython",
    "version": 3
   },
   "file_extension": ".py",
   "mimetype": "text/x-python",
   "name": "python",
   "nbconvert_exporter": "python",
   "pygments_lexer": "ipython3",
   "version": "3.6.9"
  },
  "toc": {
   "base_numbering": 1,
   "nav_menu": {},
   "number_sections": true,
   "sideBar": true,
   "skip_h1_title": false,
   "title_cell": "Table of Contents",
   "title_sidebar": "Contents",
   "toc_cell": false,
   "toc_position": {},
   "toc_section_display": true,
   "toc_window_display": true
  },
  "varInspector": {
   "cols": {
    "lenName": 16,
    "lenType": 16,
    "lenVar": 40
   },
   "kernels_config": {
    "python": {
     "delete_cmd_postfix": "",
     "delete_cmd_prefix": "del ",
     "library": "var_list.py",
     "varRefreshCmd": "print(var_dic_list())"
    },
    "r": {
     "delete_cmd_postfix": ") ",
     "delete_cmd_prefix": "rm(",
     "library": "var_list.r",
     "varRefreshCmd": "cat(var_dic_list()) "
    }
   },
   "types_to_exclude": [
    "module",
    "function",
    "builtin_function_or_method",
    "instance",
    "_Feature"
   ],
   "window_display": false
  }
 },
 "nbformat": 4,
 "nbformat_minor": 2
}
