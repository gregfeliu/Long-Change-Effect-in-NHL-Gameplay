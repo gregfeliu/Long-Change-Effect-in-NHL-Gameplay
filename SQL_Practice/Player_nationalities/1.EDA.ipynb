{
 "cells": [
  {
   "cell_type": "markdown",
   "metadata": {},
   "source": [
    "import pandas as pd\n",
    "import matplotlib.pyplot as plt\n",
    "# ^^^ pyforest auto-imports - don't write above this line\n"
   ]
  },
  {
   "cell_type": "markdown",
   "metadata": {},
   "source": [
    "# Main Question: Do American teams have more American Players than Canadian Teams and vice versa for 2018-2019? "
   ]
  },
  {
   "cell_type": "markdown",
   "metadata": {
    "ExecuteTime": {
     "end_time": "2020-10-28T14:18:21.758588Z",
     "start_time": "2020-10-28T14:18:21.756122Z"
    }
   },
   "source": [
    "## Imports"
   ]
  },
  {
   "cell_type": "code",
   "execution_count": 1,
   "metadata": {
    "ExecuteTime": {
     "end_time": "2021-01-18T20:30:52.171541Z",
     "start_time": "2021-01-18T20:30:50.604375Z"
    }
   },
   "outputs": [
    {
     "name": "stderr",
     "output_type": "stream",
     "text": [
      "\n",
      "Bad key \"text.kerning_factor\" on line 4 in\n",
      "/Users/gregfeliu/opt/anaconda3/envs/learn-env/lib/python3.6/site-packages/matplotlib/mpl-data/stylelib/_classic_test_patch.mplstyle.\n",
      "You probably need to get an updated matplotlibrc file from\n",
      "https://github.com/matplotlib/matplotlib/blob/v3.1.3/matplotlibrc.template\n",
      "or from the matplotlib source distribution\n"
     ]
    }
   ],
   "source": [
    "import warnings\n",
    "from functions import *\n",
    "import pickle\n",
    "sns.set(style=\"whitegrid\")"
   ]
  },
  {
   "cell_type": "markdown",
   "metadata": {},
   "source": [
    "## Last Year Available"
   ]
  },
  {
   "cell_type": "code",
   "execution_count": 3,
   "metadata": {
    "ExecuteTime": {
     "end_time": "2021-01-18T20:33:20.096002Z",
     "start_time": "2021-01-18T20:33:19.749079Z"
    }
   },
   "outputs": [],
   "source": [
    "last_year_query = f\"\"\"\n",
    "    SELECT DISTINCT(season)\n",
    "    FROM game\n",
    "\"\"\"\n",
    "last_year_query_result = run_query(last_year_query)"
   ]
  },
  {
   "cell_type": "code",
   "execution_count": 7,
   "metadata": {
    "ExecuteTime": {
     "end_time": "2021-01-18T20:33:50.707197Z",
     "start_time": "2021-01-18T20:33:50.703169Z"
    }
   },
   "outputs": [],
   "source": [
    "last_year = last_year_query_result[-1][0]"
   ]
  },
  {
   "cell_type": "markdown",
   "metadata": {},
   "source": [
    "## Canadian Teams List"
   ]
  },
  {
   "cell_type": "markdown",
   "metadata": {},
   "source": [
    "### All teams plus their ID"
   ]
  },
  {
   "cell_type": "code",
   "execution_count": 29,
   "metadata": {
    "ExecuteTime": {
     "end_time": "2021-01-18T20:39:41.363172Z",
     "start_time": "2021-01-18T20:39:41.054674Z"
    }
   },
   "outputs": [],
   "source": [
    "# not all of the franchises are in team_info\n",
    "all_teams_query = f\"\"\"\n",
    "    SELECT COUNT(*)\n",
    "    FROM team_info\n",
    "\"\"\"\n",
    "all_teams_query_result = run_query(all_teams_query)"
   ]
  },
  {
   "cell_type": "code",
   "execution_count": 30,
   "metadata": {
    "ExecuteTime": {
     "end_time": "2021-01-18T20:39:41.497039Z",
     "start_time": "2021-01-18T20:39:41.491312Z"
    }
   },
   "outputs": [
    {
     "data": {
      "text/plain": [
       "[(17,)]"
      ]
     },
     "execution_count": 30,
     "metadata": {},
     "output_type": "execute_result"
    }
   ],
   "source": [
    "all_teams_query_result"
   ]
  },
  {
   "cell_type": "code",
   "execution_count": 33,
   "metadata": {
    "ExecuteTime": {
     "end_time": "2021-01-18T21:09:21.003100Z",
     "start_time": "2021-01-18T21:09:20.997153Z"
    }
   },
   "outputs": [
    {
     "data": {
      "text/plain": [
       "[(17,)]"
      ]
     },
     "execution_count": 33,
     "metadata": {},
     "output_type": "execute_result"
    }
   ],
   "source": [
    "all_teams_query_result"
   ]
  },
  {
   "cell_type": "code",
   "execution_count": 31,
   "metadata": {
    "ExecuteTime": {
     "end_time": "2021-01-18T20:40:43.128411Z",
     "start_time": "2021-01-18T20:40:42.847874Z"
    }
   },
   "outputs": [],
   "source": [
    "# from game_team_stats table\n",
    "all_teams_query2 = f\"\"\"\n",
    "    SELECT COUNT(DISTINCT(team_id))\n",
    "    FROM game_teams_stats\n",
    "    INNER JOIN game\n",
    "        ON game.game_id = game_teams_stats.game_id\n",
    "    WHERE game.season = {last_year}\n",
    "\"\"\" # adding the last year clause removed 3 teams\n",
    "all_teams_query2_result = run_query(all_teams_query2)"
   ]
  },
  {
   "cell_type": "code",
   "execution_count": 32,
   "metadata": {
    "ExecuteTime": {
     "end_time": "2021-01-18T20:40:43.733392Z",
     "start_time": "2021-01-18T20:40:43.727552Z"
    }
   },
   "outputs": [
    {
     "data": {
      "text/plain": [
       "[(31,)]"
      ]
     },
     "execution_count": 32,
     "metadata": {},
     "output_type": "execute_result"
    }
   ],
   "source": [
    "all_teams_query2_result"
   ]
  },
  {
   "cell_type": "markdown",
   "metadata": {},
   "source": [
    "### Canadian Team Ids "
   ]
  },
  {
   "cell_type": "code",
   "execution_count": 35,
   "metadata": {
    "ExecuteTime": {
     "end_time": "2021-01-18T21:10:28.359258Z",
     "start_time": "2021-01-18T21:10:28.043350Z"
    }
   },
   "outputs": [],
   "source": [
    "# getting the actual team_id for each team\n",
    "## also found here: https://www.kaggle.com/martinellis/nhl-game-data?select=team_info.csv\n",
    "all_team_ids_query = f\"\"\"\n",
    "    SELECT DISTINCT(team_id)\n",
    "    FROM game_teams_stats\n",
    "    INNER JOIN game\n",
    "        ON game.game_id = game_teams_stats.game_id\n",
    "    WHERE game.season = {last_year}\n",
    "\"\"\"\n",
    "all_team_ids_query_result = run_query(all_team_ids_query)"
   ]
  },
  {
   "cell_type": "code",
   "execution_count": 48,
   "metadata": {
    "ExecuteTime": {
     "end_time": "2021-01-18T21:13:54.516444Z",
     "start_time": "2021-01-18T21:13:54.511842Z"
    }
   },
   "outputs": [],
   "source": [
    "# flatten and sort\n",
    "## https://stackoverflow.com/questions/952914/how-to-make-a-flat-list-out-of-list-of-lists\n",
    "team_ids_flattened = [x for i in all_team_ids_query_result for x in i]\n",
    "team_ids_sorted = sorted(team_ids_flattened)"
   ]
  },
  {
   "cell_type": "code",
   "execution_count": 49,
   "metadata": {
    "ExecuteTime": {
     "end_time": "2021-01-18T21:16:59.386583Z",
     "start_time": "2021-01-18T21:16:59.381693Z"
    }
   },
   "outputs": [],
   "source": [
    "canadian_team_dict = {'Vancouver': 26, 'Ottawa': 9,\n",
    "                     'Montreal': 8, \"Toronto\": 10, \"Calgary\": 20,\n",
    "                     \"Winnipeg\": 52, \"Edmonton\": 22}\n",
    "canadian_team_ids = list(canadian_team_dict.values())"
   ]
  },
  {
   "cell_type": "code",
   "execution_count": 50,
   "metadata": {
    "ExecuteTime": {
     "end_time": "2021-01-18T21:17:02.891651Z",
     "start_time": "2021-01-18T21:17:02.885220Z"
    }
   },
   "outputs": [
    {
     "data": {
      "text/plain": [
       "[26, 9, 8, 10, 20, 52, 22]"
      ]
     },
     "execution_count": 50,
     "metadata": {},
     "output_type": "execute_result"
    }
   ],
   "source": [
    "canadian_team_ids"
   ]
  },
  {
   "cell_type": "markdown",
   "metadata": {},
   "source": [
    "### Values for \"American\" and \"Canadian\""
   ]
  },
  {
   "cell_type": "code",
   "execution_count": 51,
   "metadata": {
    "ExecuteTime": {
     "end_time": "2021-01-19T20:30:12.140426Z",
     "start_time": "2021-01-19T20:30:11.843371Z"
    }
   },
   "outputs": [],
   "source": [
    "player_nat_query = f\"\"\"\n",
    "    SELECT DISTINCT(nationality)\n",
    "    FROM player_info\n",
    "\"\"\"\n",
    "player_nat_query_result = run_query(player_nat_query)"
   ]
  },
  {
   "cell_type": "code",
   "execution_count": 52,
   "metadata": {
    "ExecuteTime": {
     "end_time": "2021-01-19T20:30:13.688404Z",
     "start_time": "2021-01-19T20:30:13.683252Z"
    }
   },
   "outputs": [
    {
     "data": {
      "text/plain": [
       "[('nat',),\n",
       " ('RUS',),\n",
       " ('CAN',),\n",
       " ('SWE',),\n",
       " ('LTU',),\n",
       " ('USA',),\n",
       " ('CZE',),\n",
       " ('SVN',),\n",
       " ('FIN',),\n",
       " ('LVA',),\n",
       " ('DEU',),\n",
       " ('SVK',),\n",
       " ('DNK',),\n",
       " ('CHE',),\n",
       " ('BLR',),\n",
       " ('AUT',),\n",
       " ('FRA',),\n",
       " ('NLD',),\n",
       " ('NA',),\n",
       " ('UKR',),\n",
       " ('NGA',),\n",
       " ('HRV',),\n",
       " ('NOR',)]"
      ]
     },
     "execution_count": 52,
     "metadata": {},
     "output_type": "execute_result"
    }
   ],
   "source": [
    "player_nat_query_result"
   ]
  },
  {
   "cell_type": "markdown",
   "metadata": {},
   "source": [
    "### Test for a single team\n",
    "only has players. or maybe not"
   ]
  },
  {
   "cell_type": "code",
   "execution_count": 53,
   "metadata": {
    "ExecuteTime": {
     "end_time": "2021-01-19T20:33:18.965587Z",
     "start_time": "2021-01-19T20:33:18.713818Z"
    }
   },
   "outputs": [],
   "source": [
    "last_ottawa_game_query = f\"\"\"\n",
    "    SELECT game_id\n",
    "    FROM game_teams_stats\n",
    "    WHERE team_id = 9\n",
    "    ORDER BY game_id DESC\n",
    "    LIMIT 1\n",
    "\"\"\" # when they were the home team\n",
    "last_ottawa_game_query_result = run_query(last_ottawa_game_query)"
   ]
  },
  {
   "cell_type": "code",
   "execution_count": 55,
   "metadata": {
    "ExecuteTime": {
     "end_time": "2021-01-19T20:33:27.949433Z",
     "start_time": "2021-01-19T20:33:27.943521Z"
    }
   },
   "outputs": [
    {
     "data": {
      "text/plain": [
       "[(2018021260,)]"
      ]
     },
     "execution_count": 55,
     "metadata": {},
     "output_type": "execute_result"
    }
   ],
   "source": [
    "last_ottawa_game_query_result"
   ]
  },
  {
   "cell_type": "code",
   "execution_count": 67,
   "metadata": {
    "ExecuteTime": {
     "end_time": "2021-01-19T20:37:06.658470Z",
     "start_time": "2021-01-19T20:37:03.031251Z"
    }
   },
   "outputs": [],
   "source": [
    "ottawa_nat_query = f\"\"\"\n",
    "    SELECT DISTINCT(ps.player_id), ps.nationality\n",
    "    FROM player_info ps\n",
    "    INNER JOIN game_shifts gs\n",
    "        ON ps.player_id = gs.player_id\n",
    "    WHERE game_id = 2018021260\n",
    "\"\"\"\n",
    "ottawa_nat_query_result = run_query(ottawa_nat_query)"
   ]
  },
  {
   "cell_type": "code",
   "execution_count": 64,
   "metadata": {
    "ExecuteTime": {
     "end_time": "2021-01-19T20:36:41.015427Z",
     "start_time": "2021-01-19T20:36:41.011661Z"
    }
   },
   "outputs": [
    {
     "data": {
      "text/plain": [
       "19"
      ]
     },
     "execution_count": 64,
     "metadata": {},
     "output_type": "execute_result"
    }
   ],
   "source": [
    "len(ottawa_nat_query_result)"
   ]
  },
  {
   "cell_type": "code",
   "execution_count": 70,
   "metadata": {
    "ExecuteTime": {
     "end_time": "2021-01-19T20:38:21.572568Z",
     "start_time": "2021-01-19T20:38:21.568521Z"
    }
   },
   "outputs": [],
   "source": [
    "all_nats = set(x[1] for x in ottawa_nat_query_result)"
   ]
  },
  {
   "cell_type": "code",
   "execution_count": 72,
   "metadata": {
    "ExecuteTime": {
     "end_time": "2021-01-19T20:38:37.748693Z",
     "start_time": "2021-01-19T20:38:37.742125Z"
    }
   },
   "outputs": [
    {
     "data": {
      "text/plain": [
       "set"
      ]
     },
     "execution_count": 72,
     "metadata": {},
     "output_type": "execute_result"
    }
   ],
   "source": [
    "type(all_nats)"
   ]
  },
  {
   "cell_type": "code",
   "execution_count": 78,
   "metadata": {
    "ExecuteTime": {
     "end_time": "2021-01-19T20:39:51.808449Z",
     "start_time": "2021-01-19T20:39:51.803680Z"
    },
    "scrolled": true
   },
   "outputs": [],
   "source": [
    "# getting the number of each nationality and their percentage \n",
    "ottawa_nat_dict = {x:0 for x in all_nats}\n",
    "for x in ottawa_nat_query_result:\n",
    "    ottawa_nat_dict[x[1]] += 1"
   ]
  },
  {
   "cell_type": "code",
   "execution_count": 82,
   "metadata": {
    "ExecuteTime": {
     "end_time": "2021-01-19T20:41:19.920312Z",
     "start_time": "2021-01-19T20:41:19.916272Z"
    }
   },
   "outputs": [],
   "source": [
    "num_players_on_team = len(ottawa_nat_query_result)\n",
    "ottawa_nat_dict_pct = {key: round(value/num_players_on_team, 2) for key, value in ottawa_nat_dict.items()}"
   ]
  },
  {
   "cell_type": "code",
   "execution_count": 83,
   "metadata": {
    "ExecuteTime": {
     "end_time": "2021-01-19T20:41:20.281520Z",
     "start_time": "2021-01-19T20:41:20.276273Z"
    }
   },
   "outputs": [
    {
     "data": {
      "text/plain": [
       "{'SWE': 0.11, 'USA': 0.32, 'FIN': 0.05, 'CAN': 0.47, 'CHE': 0.05}"
      ]
     },
     "execution_count": 83,
     "metadata": {},
     "output_type": "execute_result"
    }
   ],
   "source": [
    "ottawa_nat_dict_pct"
   ]
  },
  {
   "cell_type": "markdown",
   "metadata": {},
   "source": [
    "## Combining all players into a dataframe"
   ]
  },
  {
   "cell_type": "code",
   "execution_count": 84,
   "metadata": {
    "ExecuteTime": {
     "end_time": "2021-01-22T19:38:13.196223Z",
     "start_time": "2021-01-22T19:38:13.187136Z"
    }
   },
   "outputs": [],
   "source": [
    "# getting all teams, their last games, and their rosters for those games \n"
   ]
  },
  {
   "cell_type": "markdown",
   "metadata": {},
   "source": [
    "### All teams with their last game"
   ]
  },
  {
   "cell_type": "code",
   "execution_count": 118,
   "metadata": {
    "ExecuteTime": {
     "end_time": "2021-01-22T20:01:09.763494Z",
     "start_time": "2021-01-22T20:01:09.467824Z"
    }
   },
   "outputs": [],
   "source": [
    "last_game_roster_query = f\"\"\"\n",
    "    SELECT team_id, MAX(gts.game_id)\n",
    "    FROM game_teams_stats gts\n",
    "    GROUP BY team_id\n",
    "        HAVING MAX(gts.game_id) > 2018000000\n",
    "\"\"\"\n",
    "last_game_roster_query_result = run_query(last_game_roster_query)"
   ]
  },
  {
   "cell_type": "code",
   "execution_count": 120,
   "metadata": {
    "ExecuteTime": {
     "end_time": "2021-01-22T20:01:17.009508Z",
     "start_time": "2021-01-22T20:01:17.004110Z"
    },
    "scrolled": true
   },
   "outputs": [
    {
     "data": {
      "text/plain": [
       "31"
      ]
     },
     "execution_count": 120,
     "metadata": {},
     "output_type": "execute_result"
    }
   ],
   "source": [
    "len(last_game_roster_query_result)"
   ]
  },
  {
   "cell_type": "markdown",
   "metadata": {},
   "source": [
    "### Getting and saving their rosters"
   ]
  },
  {
   "cell_type": "code",
   "execution_count": 175,
   "metadata": {
    "ExecuteTime": {
     "end_time": "2021-01-22T20:44:26.532939Z",
     "start_time": "2021-01-22T20:44:25.683948Z"
    }
   },
   "outputs": [],
   "source": [
    "players_in_last_game_roster_query = f\"\"\"\n",
    "    SELECT team_id, game_id, pi.player_id, \n",
    "        pi.firstName, pi.lastName, pi.nationality, pi.birthCity, pi.primaryPosition\n",
    "    FROM game_skater_stats gss\n",
    "    INNER JOIN player_info pi\n",
    "        ON gss.player_id = pi.player_id\n",
    "    WHERE (team_id, game_id) IN\n",
    "    (SELECT team_id, MAX(gts.game_id)\n",
    "    FROM game_teams_stats gts\n",
    "    GROUP BY team_id\n",
    "        HAVING MAX(gts.game_id) > 2018000000\n",
    "    )\n",
    "\"\"\"\n",
    "players_in_last_game_roster_query_result = run_query(players_in_last_game_roster_query)"
   ]
  },
  {
   "cell_type": "code",
   "execution_count": 137,
   "metadata": {
    "ExecuteTime": {
     "end_time": "2021-01-22T20:28:47.051040Z",
     "start_time": "2021-01-22T20:28:47.045398Z"
    }
   },
   "outputs": [
    {
     "data": {
      "text/plain": [
       "849"
      ]
     },
     "execution_count": 137,
     "metadata": {},
     "output_type": "execute_result"
    }
   ],
   "source": [
    "len(players_in_last_game_roster_query_result)"
   ]
  },
  {
   "cell_type": "code",
   "execution_count": 144,
   "metadata": {
    "ExecuteTime": {
     "end_time": "2021-01-22T20:32:19.850113Z",
     "start_time": "2021-01-22T20:32:19.544785Z"
    }
   },
   "outputs": [
    {
     "data": {
      "text/plain": [
       "[(1205,)]"
      ]
     },
     "execution_count": 144,
     "metadata": {},
     "output_type": "execute_result"
    }
   ],
   "source": [
    "# including players who didn't play in last game\n",
    "length_of_player_info_table_query = f\"\"\"\n",
    "    SELECT COUNT(DISTINCT(player_id))\n",
    "    FROM player_info\n",
    "\"\"\"\n",
    "length_of_player_info_table_query_result = run_query(length_of_player_info_table_query)\n",
    "length_of_player_info_table_query_result"
   ]
  },
  {
   "cell_type": "code",
   "execution_count": 133,
   "metadata": {
    "ExecuteTime": {
     "end_time": "2021-01-22T20:27:22.441407Z",
     "start_time": "2021-01-22T20:27:22.435605Z"
    },
    "scrolled": true
   },
   "outputs": [
    {
     "data": {
      "text/plain": [
       "651"
      ]
     },
     "execution_count": 133,
     "metadata": {},
     "output_type": "execute_result"
    }
   ],
   "source": [
    "# approx number of players in last game\n",
    "num_of_teams = 31\n",
    "players_per_team = 21\n",
    "num_of_teams * players_per_team"
   ]
  },
  {
   "cell_type": "markdown",
   "metadata": {},
   "source": [
    "#### Inputting players into dataframe"
   ]
  },
  {
   "cell_type": "code",
   "execution_count": 186,
   "metadata": {
    "ExecuteTime": {
     "end_time": "2021-01-22T20:52:16.065283Z",
     "start_time": "2021-01-22T20:52:16.058715Z"
    }
   },
   "outputs": [],
   "source": [
    "player_df = pd.DataFrame(data = players_in_last_game_roster_query_result,\n",
    "                        columns = ['Team_id', \"Game_id\", \"Player_id\", \"First_name\",\n",
    "                                  \"Last_name\", \"Country_code\", \"Birth_city\", \"Primary_position\"])"
   ]
  },
  {
   "cell_type": "code",
   "execution_count": 187,
   "metadata": {
    "ExecuteTime": {
     "end_time": "2021-01-22T20:52:16.073260Z",
     "start_time": "2021-01-22T20:52:16.068462Z"
    }
   },
   "outputs": [
    {
     "data": {
      "text/plain": [
       "array(['C', 'D', 'RW', 'LW'], dtype=object)"
      ]
     },
     "execution_count": 187,
     "metadata": {},
     "output_type": "execute_result"
    }
   ],
   "source": [
    "# only players, no goalie info\n",
    "player_df.Primary_position.unique()"
   ]
  },
  {
   "cell_type": "code",
   "execution_count": 188,
   "metadata": {
    "ExecuteTime": {
     "end_time": "2021-01-22T20:52:16.082420Z",
     "start_time": "2021-01-22T20:52:16.075492Z"
    },
    "scrolled": true
   },
   "outputs": [
    {
     "data": {
      "text/plain": [
       "(283, 8)"
      ]
     },
     "execution_count": 188,
     "metadata": {},
     "output_type": "execute_result"
    }
   ],
   "source": [
    "# removing duplicates \n",
    "player_df.drop_duplicates(subset=['Player_id'], inplace=True)\n",
    "player_df.reset_index(inplace=True, drop=True)\n",
    "player_df.shape"
   ]
  },
  {
   "cell_type": "markdown",
   "metadata": {},
   "source": [
    "##### Adding Canadian Team Feature"
   ]
  },
  {
   "cell_type": "code",
   "execution_count": 189,
   "metadata": {
    "ExecuteTime": {
     "end_time": "2021-01-22T20:52:16.086467Z",
     "start_time": "2021-01-22T20:52:16.084228Z"
    }
   },
   "outputs": [],
   "source": [
    "# adding canada feature\n",
    "canadian_team_values = list(canadian_team_dict.values())"
   ]
  },
  {
   "cell_type": "code",
   "execution_count": 190,
   "metadata": {
    "ExecuteTime": {
     "end_time": "2021-01-22T20:52:16.093207Z",
     "start_time": "2021-01-22T20:52:16.089730Z"
    }
   },
   "outputs": [
    {
     "data": {
      "text/plain": [
       "[26, 9, 8, 10, 20, 52, 22]"
      ]
     },
     "execution_count": 190,
     "metadata": {},
     "output_type": "execute_result"
    }
   ],
   "source": [
    "canadian_team_values"
   ]
  },
  {
   "cell_type": "code",
   "execution_count": 191,
   "metadata": {
    "ExecuteTime": {
     "end_time": "2021-01-22T20:52:16.097971Z",
     "start_time": "2021-01-22T20:52:16.095076Z"
    }
   },
   "outputs": [],
   "source": [
    "in_canada = player_df['Team_id'].isin(canadian_team_values)"
   ]
  },
  {
   "cell_type": "code",
   "execution_count": 192,
   "metadata": {
    "ExecuteTime": {
     "end_time": "2021-01-22T20:52:16.103674Z",
     "start_time": "2021-01-22T20:52:16.099764Z"
    }
   },
   "outputs": [
    {
     "data": {
      "text/plain": [
       "62"
      ]
     },
     "execution_count": 192,
     "metadata": {},
     "output_type": "execute_result"
    }
   ],
   "source": [
    "# maybe we're missing some teams. I know that was a thing for the player_info table (only 17 teams)\n",
    "in_canada.sum()"
   ]
  },
  {
   "cell_type": "code",
   "execution_count": 193,
   "metadata": {
    "ExecuteTime": {
     "end_time": "2021-01-22T20:52:16.109156Z",
     "start_time": "2021-01-22T20:52:16.105231Z"
    }
   },
   "outputs": [
    {
     "data": {
      "text/plain": [
       "{8, 9, 10, 20, 22, 26, 52}"
      ]
     },
     "execution_count": 193,
     "metadata": {},
     "output_type": "execute_result"
    }
   ],
   "source": [
    "# so maybe only partial results \n",
    "canadian_teams_in_df = set(x for x in player_df['Team_id'] if x in canadian_team_values)\n",
    "canadian_teams_in_df"
   ]
  },
  {
   "cell_type": "code",
   "execution_count": 194,
   "metadata": {
    "ExecuteTime": {
     "end_time": "2021-01-22T20:52:16.113562Z",
     "start_time": "2021-01-22T20:52:16.110742Z"
    }
   },
   "outputs": [],
   "source": [
    "player_df['Canadian_team'] = in_canada"
   ]
  },
  {
   "cell_type": "code",
   "execution_count": 195,
   "metadata": {
    "ExecuteTime": {
     "end_time": "2021-01-22T20:52:16.124851Z",
     "start_time": "2021-01-22T20:52:16.115255Z"
    },
    "scrolled": false
   },
   "outputs": [
    {
     "data": {
      "text/html": [
       "<div>\n",
       "<style scoped>\n",
       "    .dataframe tbody tr th:only-of-type {\n",
       "        vertical-align: middle;\n",
       "    }\n",
       "\n",
       "    .dataframe tbody tr th {\n",
       "        vertical-align: top;\n",
       "    }\n",
       "\n",
       "    .dataframe thead th {\n",
       "        text-align: right;\n",
       "    }\n",
       "</style>\n",
       "<table border=\"1\" class=\"dataframe\">\n",
       "  <thead>\n",
       "    <tr style=\"text-align: right;\">\n",
       "      <th></th>\n",
       "      <th>Team_id</th>\n",
       "      <th>Game_id</th>\n",
       "      <th>Player_id</th>\n",
       "      <th>First_name</th>\n",
       "      <th>Last_name</th>\n",
       "      <th>Country_code</th>\n",
       "      <th>Birth_city</th>\n",
       "      <th>Primary_position</th>\n",
       "      <th>Canadian_team</th>\n",
       "    </tr>\n",
       "  </thead>\n",
       "  <tbody>\n",
       "    <tr>\n",
       "      <th>0</th>\n",
       "      <td>24</td>\n",
       "      <td>2018021256</td>\n",
       "      <td>8470612</td>\n",
       "      <td>Ryan</td>\n",
       "      <td>Getzlaf</td>\n",
       "      <td>CAN</td>\n",
       "      <td>Regina</td>\n",
       "      <td>C</td>\n",
       "      <td>False</td>\n",
       "    </tr>\n",
       "    <tr>\n",
       "      <th>1</th>\n",
       "      <td>24</td>\n",
       "      <td>2018021256</td>\n",
       "      <td>8476854</td>\n",
       "      <td>Hampus</td>\n",
       "      <td>Lindholm</td>\n",
       "      <td>SWE</td>\n",
       "      <td>Helsingborg</td>\n",
       "      <td>D</td>\n",
       "      <td>False</td>\n",
       "    </tr>\n",
       "    <tr>\n",
       "      <th>2</th>\n",
       "      <td>24</td>\n",
       "      <td>2018021256</td>\n",
       "      <td>8478466</td>\n",
       "      <td>Daniel</td>\n",
       "      <td>Sprong</td>\n",
       "      <td>NLD</td>\n",
       "      <td>Amsterdam</td>\n",
       "      <td>RW</td>\n",
       "      <td>False</td>\n",
       "    </tr>\n",
       "    <tr>\n",
       "      <th>3</th>\n",
       "      <td>24</td>\n",
       "      <td>2018021256</td>\n",
       "      <td>8474683</td>\n",
       "      <td>Derek</td>\n",
       "      <td>Grant</td>\n",
       "      <td>CAN</td>\n",
       "      <td>Abbotsford</td>\n",
       "      <td>C</td>\n",
       "      <td>False</td>\n",
       "    </tr>\n",
       "    <tr>\n",
       "      <th>4</th>\n",
       "      <td>24</td>\n",
       "      <td>2018021256</td>\n",
       "      <td>8479368</td>\n",
       "      <td>Max</td>\n",
       "      <td>Jones</td>\n",
       "      <td>USA</td>\n",
       "      <td>Rochester</td>\n",
       "      <td>LW</td>\n",
       "      <td>False</td>\n",
       "    </tr>\n",
       "  </tbody>\n",
       "</table>\n",
       "</div>"
      ],
      "text/plain": [
       "   Team_id     Game_id  Player_id First_name Last_name Country_code  \\\n",
       "0       24  2018021256    8470612       Ryan   Getzlaf          CAN   \n",
       "1       24  2018021256    8476854     Hampus  Lindholm          SWE   \n",
       "2       24  2018021256    8478466     Daniel    Sprong          NLD   \n",
       "3       24  2018021256    8474683      Derek     Grant          CAN   \n",
       "4       24  2018021256    8479368        Max     Jones          USA   \n",
       "\n",
       "    Birth_city Primary_position  Canadian_team  \n",
       "0       Regina                C          False  \n",
       "1  Helsingborg                D          False  \n",
       "2    Amsterdam               RW          False  \n",
       "3   Abbotsford                C          False  \n",
       "4    Rochester               LW          False  "
      ]
     },
     "execution_count": 195,
     "metadata": {},
     "output_type": "execute_result"
    }
   ],
   "source": [
    "player_df.head()"
   ]
  },
  {
   "cell_type": "code",
   "execution_count": 197,
   "metadata": {
    "ExecuteTime": {
     "end_time": "2021-01-22T20:54:45.468815Z",
     "start_time": "2021-01-22T20:54:45.463948Z"
    }
   },
   "outputs": [
    {
     "data": {
      "text/plain": [
       "31"
      ]
     },
     "execution_count": 197,
     "metadata": {},
     "output_type": "execute_result"
    }
   ],
   "source": [
    "player_df['Team_id'].nunique()"
   ]
  },
  {
   "cell_type": "markdown",
   "metadata": {},
   "source": [
    "#### Grouping By Team"
   ]
  },
  {
   "cell_type": "code",
   "execution_count": 200,
   "metadata": {
    "ExecuteTime": {
     "end_time": "2021-01-22T22:19:39.622561Z",
     "start_time": "2021-01-22T22:19:39.615358Z"
    }
   },
   "outputs": [],
   "source": [
    "# groupby sum for each country_code\n",
    "player_df_groupby = player_df.groupby('Team_id').count()"
   ]
  },
  {
   "cell_type": "code",
   "execution_count": 204,
   "metadata": {
    "ExecuteTime": {
     "end_time": "2021-01-22T22:21:21.876162Z",
     "start_time": "2021-01-22T22:21:21.873002Z"
    },
    "scrolled": true
   },
   "outputs": [],
   "source": [
    "# a lot of teams are missing a lot of players\n",
    "## I probably need to redownload the data b/c it's missing A LOOOT of data\n",
    "# player_df_groupby"
   ]
  },
  {
   "cell_type": "code",
   "execution_count": null,
   "metadata": {},
   "outputs": [],
   "source": []
  }
 ],
 "metadata": {
  "kernelspec": {
   "display_name": "Python [conda env:learn-env] *",
   "language": "python",
   "name": "conda-env-learn-env-py"
  },
  "language_info": {
   "codemirror_mode": {
    "name": "ipython",
    "version": 3
   },
   "file_extension": ".py",
   "mimetype": "text/x-python",
   "name": "python",
   "nbconvert_exporter": "python",
   "pygments_lexer": "ipython3",
   "version": "3.6.9"
  },
  "toc": {
   "base_numbering": 1,
   "nav_menu": {},
   "number_sections": true,
   "sideBar": true,
   "skip_h1_title": false,
   "title_cell": "Table of Contents",
   "title_sidebar": "Contents",
   "toc_cell": false,
   "toc_position": {},
   "toc_section_display": true,
   "toc_window_display": true
  },
  "varInspector": {
   "cols": {
    "lenName": 16,
    "lenType": 16,
    "lenVar": 40
   },
   "kernels_config": {
    "python": {
     "delete_cmd_postfix": "",
     "delete_cmd_prefix": "del ",
     "library": "var_list.py",
     "varRefreshCmd": "print(var_dic_list())"
    },
    "r": {
     "delete_cmd_postfix": ") ",
     "delete_cmd_prefix": "rm(",
     "library": "var_list.r",
     "varRefreshCmd": "cat(var_dic_list()) "
    }
   },
   "types_to_exclude": [
    "module",
    "function",
    "builtin_function_or_method",
    "instance",
    "_Feature"
   ],
   "window_display": false
  }
 },
 "nbformat": 4,
 "nbformat_minor": 2
}
