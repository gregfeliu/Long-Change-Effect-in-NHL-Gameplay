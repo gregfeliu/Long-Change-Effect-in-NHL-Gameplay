{
 "cells": [
  {
   "cell_type": "markdown",
   "metadata": {},
   "source": [
    "import numpy as np\n",
    "# ^^^ pyforest auto-imports - don't write above this line\n"
   ]
  },
  {
   "cell_type": "markdown",
   "metadata": {},
   "source": [
    "# Main Question: Do American teams have more American Players than Canadian Teams and vice versa for 2018-2019? "
   ]
  },
  {
   "cell_type": "markdown",
   "metadata": {
    "ExecuteTime": {
     "end_time": "2020-10-28T14:18:21.758588Z",
     "start_time": "2020-10-28T14:18:21.756122Z"
    }
   },
   "source": [
    "## Imports"
   ]
  },
  {
   "cell_type": "code",
   "execution_count": 1,
   "metadata": {
    "ExecuteTime": {
     "end_time": "2021-01-28T22:02:39.663656Z",
     "start_time": "2021-01-28T22:02:37.880912Z"
    },
    "scrolled": true
   },
   "outputs": [
    {
     "name": "stderr",
     "output_type": "stream",
     "text": [
      "\n",
      "Bad key \"text.kerning_factor\" on line 4 in\n",
      "/Users/gregfeliu/opt/anaconda3/envs/learn-env/lib/python3.6/site-packages/matplotlib/mpl-data/stylelib/_classic_test_patch.mplstyle.\n",
      "You probably need to get an updated matplotlibrc file from\n",
      "https://github.com/matplotlib/matplotlib/blob/v3.1.3/matplotlibrc.template\n",
      "or from the matplotlib source distribution\n"
     ]
    }
   ],
   "source": [
    "from functions import *\n",
    "from scipy.stats import chi2_contingency"
   ]
  },
  {
   "cell_type": "markdown",
   "metadata": {},
   "source": [
    "### Data"
   ]
  },
  {
   "cell_type": "code",
   "execution_count": 2,
   "metadata": {
    "ExecuteTime": {
     "end_time": "2021-01-28T22:02:39.681295Z",
     "start_time": "2021-01-28T22:02:39.666784Z"
    }
   },
   "outputs": [],
   "source": [
    "player_df = pd.read_csv(\"player_df\", index_col=0)\n",
    "groupby_df_sum = player_df.groupby('Team_id').sum()\n",
    "groupby_df_sum.reset_index(inplace=True)"
   ]
  },
  {
   "cell_type": "markdown",
   "metadata": {},
   "source": [
    "# Calculating Percent of Players in each Group"
   ]
  },
  {
   "cell_type": "markdown",
   "metadata": {},
   "source": [
    "### Splitting by Nation of Team"
   ]
  },
  {
   "cell_type": "code",
   "execution_count": 3,
   "metadata": {
    "ExecuteTime": {
     "end_time": "2021-01-28T22:02:39.688190Z",
     "start_time": "2021-01-28T22:02:39.683788Z"
    }
   },
   "outputs": [],
   "source": [
    "can_teams = player_df[player_df['Canadian_team'] == True]\n",
    "can_team_ids = list(can_teams.Team_id.unique())"
   ]
  },
  {
   "cell_type": "code",
   "execution_count": 4,
   "metadata": {
    "ExecuteTime": {
     "end_time": "2021-01-28T22:02:39.696137Z",
     "start_time": "2021-01-28T22:02:39.690644Z"
    }
   },
   "outputs": [],
   "source": [
    "# making separate dataframes\n",
    "canadian_teams_groupby = groupby_df_sum[groupby_df_sum['Team_id'].isin(can_team_ids)]\n",
    "amer_teams_groupby = groupby_df_sum[~groupby_df_sum['Team_id'].isin(can_team_ids)]"
   ]
  },
  {
   "cell_type": "code",
   "execution_count": 5,
   "metadata": {
    "ExecuteTime": {
     "end_time": "2021-01-28T22:02:39.702363Z",
     "start_time": "2021-01-28T22:02:39.698688Z"
    }
   },
   "outputs": [],
   "source": [
    "all_players_in_can_teams = canadian_teams_groupby.Dummy.sum()\n",
    "all_can_players_in_can_teams = int(canadian_teams_groupby.Canadian_player.sum())\n",
    "all_amer_players_in_can_teams = int(canadian_teams_groupby.Amer_player.sum())"
   ]
  },
  {
   "cell_type": "code",
   "execution_count": 6,
   "metadata": {
    "ExecuteTime": {
     "end_time": "2021-01-28T22:02:39.708769Z",
     "start_time": "2021-01-28T22:02:39.704210Z"
    }
   },
   "outputs": [],
   "source": [
    "all_players_in_amer_teams = amer_teams_groupby.Dummy.sum()\n",
    "all_can_players_in_amer_teams = int(amer_teams_groupby.Canadian_player.sum())\n",
    "all_amer_players_in_amer_teams = int(amer_teams_groupby.Amer_player.sum())"
   ]
  },
  {
   "cell_type": "markdown",
   "metadata": {},
   "source": [
    "#### Calculating percentage of canadians in each group"
   ]
  },
  {
   "cell_type": "code",
   "execution_count": 7,
   "metadata": {
    "ExecuteTime": {
     "end_time": "2021-01-28T22:02:39.716701Z",
     "start_time": "2021-01-28T22:02:39.710706Z"
    }
   },
   "outputs": [
    {
     "data": {
      "text/plain": [
       "0.5"
      ]
     },
     "execution_count": 7,
     "metadata": {},
     "output_type": "execute_result"
    }
   ],
   "source": [
    "canadians_in_canada_teams_pct = all_can_players_in_can_teams / all_players_in_can_teams\n",
    "canadians_in_canada_teams_pct"
   ]
  },
  {
   "cell_type": "code",
   "execution_count": 8,
   "metadata": {
    "ExecuteTime": {
     "end_time": "2021-01-28T22:02:39.722496Z",
     "start_time": "2021-01-28T22:02:39.718399Z"
    },
    "scrolled": true
   },
   "outputs": [
    {
     "data": {
      "text/plain": [
       "0.4343891402714932"
      ]
     },
     "execution_count": 8,
     "metadata": {},
     "output_type": "execute_result"
    }
   ],
   "source": [
    "canadians_in_amer_teams_pct = all_can_players_in_amer_teams / all_players_in_amer_teams\n",
    "canadians_in_amer_teams_pct"
   ]
  },
  {
   "cell_type": "markdown",
   "metadata": {},
   "source": [
    "#### Calculating percentage of americans in each group"
   ]
  },
  {
   "cell_type": "code",
   "execution_count": 9,
   "metadata": {
    "ExecuteTime": {
     "end_time": "2021-01-28T22:02:39.728422Z",
     "start_time": "2021-01-28T22:02:39.724346Z"
    }
   },
   "outputs": [
    {
     "data": {
      "text/plain": [
       "0.24193548387096775"
      ]
     },
     "execution_count": 9,
     "metadata": {},
     "output_type": "execute_result"
    }
   ],
   "source": [
    "americans_in_canada_teams_pct = all_amer_players_in_can_teams / all_players_in_can_teams\n",
    "americans_in_canada_teams_pct"
   ]
  },
  {
   "cell_type": "code",
   "execution_count": 10,
   "metadata": {
    "ExecuteTime": {
     "end_time": "2021-01-28T22:02:39.734538Z",
     "start_time": "2021-01-28T22:02:39.730888Z"
    },
    "scrolled": true
   },
   "outputs": [
    {
     "data": {
      "text/plain": [
       "0.2895927601809955"
      ]
     },
     "execution_count": 10,
     "metadata": {},
     "output_type": "execute_result"
    }
   ],
   "source": [
    "# slightly more americans in american teams than in canadian teams\n",
    "americans_in_amer_teams_pct = all_amer_players_in_amer_teams / all_players_in_amer_teams\n",
    "americans_in_amer_teams_pct"
   ]
  },
  {
   "cell_type": "markdown",
   "metadata": {},
   "source": [
    "# Testing for Statistical Significance\n",
    "test for significance (5%)"
   ]
  },
  {
   "cell_type": "markdown",
   "metadata": {},
   "source": [
    "## Making Contingency Table "
   ]
  },
  {
   "cell_type": "code",
   "execution_count": 11,
   "metadata": {
    "ExecuteTime": {
     "end_time": "2021-01-28T22:02:39.743263Z",
     "start_time": "2021-01-28T22:02:39.740946Z"
    }
   },
   "outputs": [],
   "source": [
    "# canadian teams\n",
    "other_nats_in_can_teams = int(all_players_in_can_teams - (all_can_players_in_can_teams + \n",
    "                                                      all_amer_players_in_can_teams))"
   ]
  },
  {
   "cell_type": "code",
   "execution_count": 12,
   "metadata": {
    "ExecuteTime": {
     "end_time": "2021-01-28T22:02:39.751036Z",
     "start_time": "2021-01-28T22:02:39.748933Z"
    }
   },
   "outputs": [],
   "source": [
    "# american teams\n",
    "other_nats_in_amer_teams = int(all_players_in_amer_teams - (all_can_players_in_amer_teams + \n",
    "                                                      all_amer_players_in_amer_teams))"
   ]
  },
  {
   "cell_type": "code",
   "execution_count": 13,
   "metadata": {
    "ExecuteTime": {
     "end_time": "2021-01-28T22:02:39.758931Z",
     "start_time": "2021-01-28T22:02:39.753325Z"
    }
   },
   "outputs": [
    {
     "data": {
      "application/javascript": [
       "\n",
       "        if (window._pyforest_update_imports_cell) { window._pyforest_update_imports_cell('import numpy as np'); }\n",
       "    "
      ],
      "text/plain": [
       "<IPython.core.display.Javascript object>"
      ]
     },
     "metadata": {},
     "output_type": "display_data"
    }
   ],
   "source": [
    "#               canadians | americans | other\n",
    "#  canadian teams\n",
    "# american  teams\n",
    "contingency_table = np.array([[all_can_players_in_can_teams, \n",
    "                              all_amer_players_in_can_teams, \n",
    "                              other_nats_in_can_teams],\n",
    "                            [all_can_players_in_amer_teams,\n",
    "                            all_amer_players_in_amer_teams,\n",
    "                            other_nats_in_amer_teams\n",
    "                            ]])"
   ]
  },
  {
   "cell_type": "markdown",
   "metadata": {},
   "source": [
    "## Running Test"
   ]
  },
  {
   "cell_type": "code",
   "execution_count": 14,
   "metadata": {
    "ExecuteTime": {
     "end_time": "2021-01-28T22:02:39.765288Z",
     "start_time": "2021-01-28T22:02:39.761219Z"
    }
   },
   "outputs": [],
   "source": [
    "chi2, p_value, deg_of_freedom, expected = chi2_contingency(contingency_table)\n",
    "p_value"
   ]
  },
  {
   "cell_type": "code",
   "execution_count": 16,
   "metadata": {
    "ExecuteTime": {
     "end_time": "2021-01-28T22:02:39.776785Z",
     "start_time": "2021-01-28T22:02:39.773109Z"
    }
   },
   "outputs": [
    {
     "data": {
      "text/plain": [
       "array([[31, 15, 16],\n",
       "       [96, 64, 61]])"
      ]
     },
     "execution_count": 16,
     "metadata": {},
     "output_type": "execute_result"
    }
   ],
   "source": [
    "contingency_table"
   ]
  },
  {
   "cell_type": "code",
   "execution_count": 17,
   "metadata": {
    "ExecuteTime": {
     "end_time": "2021-01-28T22:02:39.784037Z",
     "start_time": "2021-01-28T22:02:39.779040Z"
    }
   },
   "outputs": [
    {
     "data": {
      "text/plain": [
       "array([[27.82332155, 17.30742049, 16.86925795],\n",
       "       [99.17667845, 61.69257951, 60.13074205]])"
      ]
     },
     "execution_count": 17,
     "metadata": {},
     "output_type": "execute_result"
    }
   ],
   "source": [
    "expected  "
   ]
  },
  {
   "cell_type": "markdown",
   "metadata": {},
   "source": [
    "## TEMPORARY CONCLUSION"
   ]
  },
  {
   "cell_type": "markdown",
   "metadata": {},
   "source": [
    "There is NOT a significant difference in terms of the numbers of canadians, americans, and other nationalities between American and Canadian NHL Teams. "
   ]
  },
  {
   "cell_type": "markdown",
   "metadata": {},
   "source": [
    "# Testing by for players playing in home country"
   ]
  },
  {
   "cell_type": "markdown",
   "metadata": {},
   "source": [
    "The previous test found that between teams in the two countries, there is no difference in terms of the number of canadians, americans, and other nationalities playing in the two countries. Here, I want to ask a more specific question, are there more Canadians playing in canada and Americans playing in America? "
   ]
  },
  {
   "cell_type": "markdown",
   "metadata": {},
   "source": [
    "## Canadians playing in canada"
   ]
  },
  {
   "cell_type": "markdown",
   "metadata": {},
   "source": [
    "### Making contingency table"
   ]
  },
  {
   "cell_type": "code",
   "execution_count": 18,
   "metadata": {
    "ExecuteTime": {
     "end_time": "2021-01-28T22:02:39.788878Z",
     "start_time": "2021-01-28T22:02:39.786291Z"
    }
   },
   "outputs": [],
   "source": [
    "non_canadians_in_can_teams = all_amer_players_in_can_teams + other_nats_in_can_teams\n",
    "non_canadians_in_amer_teams = all_amer_players_in_amer_teams + other_nats_in_amer_teams"
   ]
  },
  {
   "cell_type": "code",
   "execution_count": 19,
   "metadata": {
    "ExecuteTime": {
     "end_time": "2021-01-28T22:02:39.795565Z",
     "start_time": "2021-01-28T22:02:39.790750Z"
    }
   },
   "outputs": [
    {
     "data": {
      "application/javascript": [
       "\n",
       "        if (window._pyforest_update_imports_cell) { window._pyforest_update_imports_cell('import numpy as np'); }\n",
       "    "
      ],
      "text/plain": [
       "<IPython.core.display.Javascript object>"
      ]
     },
     "metadata": {},
     "output_type": "display_data"
    }
   ],
   "source": [
    "can_contingency_table = np.array([[all_can_players_in_can_teams, non_canadians_in_can_teams],\n",
    "                                 [all_can_players_in_amer_teams, non_canadians_in_amer_teams]])"
   ]
  },
  {
   "cell_type": "markdown",
   "metadata": {},
   "source": [
    "## Running Test"
   ]
  },
  {
   "cell_type": "code",
   "execution_count": 20,
   "metadata": {
    "ExecuteTime": {
     "end_time": "2021-01-28T22:02:39.801797Z",
     "start_time": "2021-01-28T22:02:39.797388Z"
    }
   },
   "outputs": [
    {
     "data": {
      "text/plain": [
       "0.43926931071597886"
      ]
     },
     "execution_count": 20,
     "metadata": {},
     "output_type": "execute_result"
    }
   ],
   "source": [
    "can_chi2, can_p_value, can_deg_of_freedom, can_expected = chi2_contingency(can_contingency_table)\n",
    "can_p_value"
   ]
  },
  {
   "cell_type": "markdown",
   "metadata": {},
   "source": [
    "## Americans Playing in America"
   ]
  },
  {
   "cell_type": "code",
   "execution_count": 21,
   "metadata": {
    "ExecuteTime": {
     "end_time": "2021-01-28T22:02:39.808001Z",
     "start_time": "2021-01-28T22:02:39.804893Z"
    }
   },
   "outputs": [],
   "source": [
    "non_americans_in_can_teams = all_can_players_in_can_teams + other_nats_in_can_teams\n",
    "non_americans_in_amer_teams = all_can_players_in_amer_teams + other_nats_in_amer_teams"
   ]
  },
  {
   "cell_type": "code",
   "execution_count": 22,
   "metadata": {
    "ExecuteTime": {
     "end_time": "2021-01-28T22:02:39.814432Z",
     "start_time": "2021-01-28T22:02:39.810145Z"
    }
   },
   "outputs": [
    {
     "data": {
      "application/javascript": [
       "\n",
       "        if (window._pyforest_update_imports_cell) { window._pyforest_update_imports_cell('import numpy as np'); }\n",
       "    "
      ],
      "text/plain": [
       "<IPython.core.display.Javascript object>"
      ]
     },
     "metadata": {},
     "output_type": "display_data"
    }
   ],
   "source": [
    "amer_contingency_table = np.array([[all_amer_players_in_can_teams, non_americans_in_can_teams],\n",
    "                                 [all_amer_players_in_amer_teams, non_americans_in_amer_teams]])"
   ]
  },
  {
   "cell_type": "markdown",
   "metadata": {},
   "source": [
    "## Running Test"
   ]
  },
  {
   "cell_type": "code",
   "execution_count": 23,
   "metadata": {
    "ExecuteTime": {
     "end_time": "2021-01-28T22:02:39.819346Z",
     "start_time": "2021-01-28T22:02:39.816282Z"
    }
   },
   "outputs": [],
   "source": [
    "amer_chi2, amer_p_value, amer_deg_of_freedom, amer_expected = chi2_contingency(amer_contingency_table)\n",
    "amer_p_value"
   ]
  },
  {
   "cell_type": "markdown",
   "metadata": {},
   "source": [
    "## TEMPORARY CONCLUSION "
   ]
  },
  {
   "cell_type": "markdown",
   "metadata": {},
   "source": [
    "There are more canadians in canadian teams, but not more americans in american teams. In other words, canadians stay local more than americans do. "
   ]
  },
  {
   "cell_type": "markdown",
   "metadata": {},
   "source": [
    "# Conclusion"
   ]
  },
  {
   "cell_type": "markdown",
   "metadata": {},
   "source": [
    "After all of these tests, we can say that there is no significant difference between the U.S. and Canadian teams in the nationalities of its players. In no case did the p_value for the categories come close to statistical significance. "
   ]
  },
  {
   "cell_type": "markdown",
   "metadata": {},
   "source": [
    "This is surprising for a few reasons:\n",
    "\n",
    "**taxes**\n",
    " All players pay national taxes and some have to pay state/province taxes on top of that amount. This almost always means that Canadian player pay much more in taxes than Americans do (though there is lots of variation in American state taxes on salaries) (https://www.reddit.com/r/winnipegjets/comments/45wn74/are_canadian_teams_players_like_the_jets_paid_in/).\n",
    "\n",
    "**weather**\n",
    "Although ice hockey is a winter sport, if one has the choice between south Florida or Winnipeg, which location would you rather work/live 8-10 months of the year in? I know which one I would pick..."
   ]
  }
 ],
 "metadata": {
  "kernelspec": {
   "display_name": "Python [conda env:learn-env] *",
   "language": "python",
   "name": "conda-env-learn-env-py"
  },
  "language_info": {
   "codemirror_mode": {
    "name": "ipython",
    "version": 3
   },
   "file_extension": ".py",
   "mimetype": "text/x-python",
   "name": "python",
   "nbconvert_exporter": "python",
   "pygments_lexer": "ipython3",
   "version": "3.6.9"
  },
  "toc": {
   "base_numbering": 1,
   "nav_menu": {},
   "number_sections": true,
   "sideBar": true,
   "skip_h1_title": false,
   "title_cell": "Table of Contents",
   "title_sidebar": "Contents",
   "toc_cell": false,
   "toc_position": {
    "height": "calc(100% - 180px)",
    "left": "10px",
    "top": "150px",
    "width": "341px"
   },
   "toc_section_display": true,
   "toc_window_display": true
  },
  "varInspector": {
   "cols": {
    "lenName": 16,
    "lenType": 16,
    "lenVar": 40
   },
   "kernels_config": {
    "python": {
     "delete_cmd_postfix": "",
     "delete_cmd_prefix": "del ",
     "library": "var_list.py",
     "varRefreshCmd": "print(var_dic_list())"
    },
    "r": {
     "delete_cmd_postfix": ") ",
     "delete_cmd_prefix": "rm(",
     "library": "var_list.r",
     "varRefreshCmd": "cat(var_dic_list()) "
    }
   },
   "types_to_exclude": [
    "module",
    "function",
    "builtin_function_or_method",
    "instance",
    "_Feature"
   ],
   "window_display": false
  }
 },
 "nbformat": 4,
 "nbformat_minor": 2
}
