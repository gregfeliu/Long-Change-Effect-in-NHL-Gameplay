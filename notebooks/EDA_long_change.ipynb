{
 "cells": [
  {
   "cell_type": "markdown",
   "metadata": {},
   "source": [
    "import pickle\n",
    "# ^^^ pyforest auto-imports - don't write above this line\n",
    "**EDA for NHL Game Data**"
   ]
  },
  {
   "cell_type": "markdown",
   "metadata": {},
   "source": [
    "# Imports "
   ]
  },
  {
   "cell_type": "markdown",
   "metadata": {},
   "source": [
    "## Libraries"
   ]
  },
  {
   "cell_type": "code",
   "execution_count": 1,
   "metadata": {
    "ExecuteTime": {
     "end_time": "2020-10-16T21:52:23.784092Z",
     "start_time": "2020-10-16T21:52:21.829934Z"
    }
   },
   "outputs": [],
   "source": [
    "import mysql.connector\n",
    "import os\n",
    "import json\n",
    "import requests\n",
    "import pprint\n",
    "from config import *\n",
    "from functions import *\n",
    "import csv"
   ]
  },
  {
   "cell_type": "markdown",
   "metadata": {},
   "source": [
    "## Data"
   ]
  },
  {
   "cell_type": "code",
   "execution_count": 2,
   "metadata": {
    "ExecuteTime": {
     "end_time": "2020-10-16T21:52:23.793258Z",
     "start_time": "2020-10-16T21:52:23.786786Z"
    }
   },
   "outputs": [
    {
     "data": {
      "application/javascript": [
       "\n",
       "        if (window._pyforest_update_imports_cell) { window._pyforest_update_imports_cell('import pickle'); }\n",
       "    "
      ],
      "text/plain": [
       "<IPython.core.display.Javascript object>"
      ]
     },
     "metadata": {},
     "output_type": "display_data"
    }
   ],
   "source": [
    "with open (\"../data/all_event_types\", 'rb') as f:\n",
    "    all_event_types = pickle.load(f)"
   ]
  },
  {
   "cell_type": "code",
   "execution_count": 3,
   "metadata": {
    "ExecuteTime": {
     "end_time": "2020-10-16T21:52:23.799120Z",
     "start_time": "2020-10-16T21:52:23.794942Z"
    }
   },
   "outputs": [
    {
     "data": {
      "text/plain": [
       "[('event',),\n",
       " ('Period Ready',),\n",
       " ('Period Start',),\n",
       " ('Faceoff',),\n",
       " ('Blocked Shot',),\n",
       " ('Hit',),\n",
       " ('Stoppage',),\n",
       " ('Shot',),\n",
       " ('Giveaway',),\n",
       " ('Penalty',),\n",
       " ('Takeaway',),\n",
       " ('Missed Shot',),\n",
       " ('Period End',),\n",
       " ('Period Official',),\n",
       " ('Goal',),\n",
       " ('Game End',),\n",
       " ('Game Scheduled',),\n",
       " ('Game Official',),\n",
       " ('Official Challenge',),\n",
       " ('Shootout Complete',),\n",
       " ('Early Intermission Start',),\n",
       " ('Early Intermission End',),\n",
       " ('Emergency Goaltender',)]"
      ]
     },
     "execution_count": 3,
     "metadata": {},
     "output_type": "execute_result"
    }
   ],
   "source": [
    "all_event_types"
   ]
  },
  {
   "cell_type": "code",
   "execution_count": 4,
   "metadata": {
    "ExecuteTime": {
     "end_time": "2020-10-16T21:52:23.809939Z",
     "start_time": "2020-10-16T21:52:23.801429Z"
    }
   },
   "outputs": [],
   "source": [
    "table_info_df = pd.read_csv(\"../data/table_info_df.csv\", index_col=0)"
   ]
  },
  {
   "cell_type": "code",
   "execution_count": 5,
   "metadata": {
    "ExecuteTime": {
     "end_time": "2020-10-16T21:52:23.817116Z",
     "start_time": "2020-10-16T21:52:23.812058Z"
    }
   },
   "outputs": [
    {
     "data": {
      "text/plain": [
       "array(['game', 'game_goalie_stats', 'game_plays', 'game_plays_players',\n",
       "       'game_shifts', 'game_skater_stats', 'game_teams_stats',\n",
       "       'player_info', 'team_info'], dtype=object)"
      ]
     },
     "execution_count": 5,
     "metadata": {},
     "output_type": "execute_result"
    }
   ],
   "source": [
    "tables = table_info_df['Table'].unique()\n",
    "tables"
   ]
  },
  {
   "cell_type": "code",
   "execution_count": 6,
   "metadata": {
    "ExecuteTime": {
     "end_time": "2020-10-16T21:52:23.837833Z",
     "start_time": "2020-10-16T21:52:23.818920Z"
    }
   },
   "outputs": [
    {
     "data": {
      "text/html": [
       "<div>\n",
       "<style scoped>\n",
       "    .dataframe tbody tr th:only-of-type {\n",
       "        vertical-align: middle;\n",
       "    }\n",
       "\n",
       "    .dataframe tbody tr th {\n",
       "        vertical-align: top;\n",
       "    }\n",
       "\n",
       "    .dataframe thead th {\n",
       "        text-align: right;\n",
       "    }\n",
       "</style>\n",
       "<table border=\"1\" class=\"dataframe\">\n",
       "  <thead>\n",
       "    <tr style=\"text-align: right;\">\n",
       "      <th></th>\n",
       "      <th>Column_name</th>\n",
       "      <th>Column_type</th>\n",
       "      <th>Table</th>\n",
       "      <th>Number_of_unique_values</th>\n",
       "    </tr>\n",
       "  </thead>\n",
       "  <tbody>\n",
       "    <tr>\n",
       "      <th>60</th>\n",
       "      <td>game_id</td>\n",
       "      <td>int(11)</td>\n",
       "      <td>game_shifts</td>\n",
       "      <td>11339</td>\n",
       "    </tr>\n",
       "    <tr>\n",
       "      <th>61</th>\n",
       "      <td>player_id</td>\n",
       "      <td>int(11)</td>\n",
       "      <td>game_shifts</td>\n",
       "      <td>2212</td>\n",
       "    </tr>\n",
       "    <tr>\n",
       "      <th>62</th>\n",
       "      <td>period</td>\n",
       "      <td>int(11)</td>\n",
       "      <td>game_shifts</td>\n",
       "      <td>7</td>\n",
       "    </tr>\n",
       "    <tr>\n",
       "      <th>63</th>\n",
       "      <td>shift_start</td>\n",
       "      <td>int(11)</td>\n",
       "      <td>game_shifts</td>\n",
       "      <td>5911</td>\n",
       "    </tr>\n",
       "    <tr>\n",
       "      <th>64</th>\n",
       "      <td>shift_end</td>\n",
       "      <td>int(11)</td>\n",
       "      <td>game_shifts</td>\n",
       "      <td>5913</td>\n",
       "    </tr>\n",
       "    <tr>\n",
       "      <th>65</th>\n",
       "      <td>game_id</td>\n",
       "      <td>int(11)</td>\n",
       "      <td>game_skater_stats</td>\n",
       "      <td>11435</td>\n",
       "    </tr>\n",
       "    <tr>\n",
       "      <th>66</th>\n",
       "      <td>player_id</td>\n",
       "      <td>int(11)</td>\n",
       "      <td>game_skater_stats</td>\n",
       "      <td>1999</td>\n",
       "    </tr>\n",
       "    <tr>\n",
       "      <th>67</th>\n",
       "      <td>team_id</td>\n",
       "      <td>int(11)</td>\n",
       "      <td>game_skater_stats</td>\n",
       "      <td>34</td>\n",
       "    </tr>\n",
       "    <tr>\n",
       "      <th>68</th>\n",
       "      <td>timeOnIce</td>\n",
       "      <td>int(11)</td>\n",
       "      <td>game_skater_stats</td>\n",
       "      <td>2220</td>\n",
       "    </tr>\n",
       "    <tr>\n",
       "      <th>69</th>\n",
       "      <td>assists</td>\n",
       "      <td>int(11)</td>\n",
       "      <td>game_skater_stats</td>\n",
       "      <td>6</td>\n",
       "    </tr>\n",
       "    <tr>\n",
       "      <th>70</th>\n",
       "      <td>goals</td>\n",
       "      <td>int(11)</td>\n",
       "      <td>game_skater_stats</td>\n",
       "      <td>6</td>\n",
       "    </tr>\n",
       "    <tr>\n",
       "      <th>71</th>\n",
       "      <td>shots</td>\n",
       "      <td>int(11)</td>\n",
       "      <td>game_skater_stats</td>\n",
       "      <td>16</td>\n",
       "    </tr>\n",
       "    <tr>\n",
       "      <th>72</th>\n",
       "      <td>hits</td>\n",
       "      <td>int(11)</td>\n",
       "      <td>game_skater_stats</td>\n",
       "      <td>16</td>\n",
       "    </tr>\n",
       "    <tr>\n",
       "      <th>73</th>\n",
       "      <td>powerPlayGoals</td>\n",
       "      <td>int(11)</td>\n",
       "      <td>game_skater_stats</td>\n",
       "      <td>4</td>\n",
       "    </tr>\n",
       "    <tr>\n",
       "      <th>74</th>\n",
       "      <td>powerPlayAssists</td>\n",
       "      <td>int(11)</td>\n",
       "      <td>game_skater_stats</td>\n",
       "      <td>5</td>\n",
       "    </tr>\n",
       "    <tr>\n",
       "      <th>75</th>\n",
       "      <td>penaltyMinutes</td>\n",
       "      <td>int(11)</td>\n",
       "      <td>game_skater_stats</td>\n",
       "      <td>36</td>\n",
       "    </tr>\n",
       "    <tr>\n",
       "      <th>76</th>\n",
       "      <td>faceOffWins</td>\n",
       "      <td>int(11)</td>\n",
       "      <td>game_skater_stats</td>\n",
       "      <td>31</td>\n",
       "    </tr>\n",
       "    <tr>\n",
       "      <th>77</th>\n",
       "      <td>faceoffTaken</td>\n",
       "      <td>int(11)</td>\n",
       "      <td>game_skater_stats</td>\n",
       "      <td>45</td>\n",
       "    </tr>\n",
       "    <tr>\n",
       "      <th>78</th>\n",
       "      <td>takeaways</td>\n",
       "      <td>int(11)</td>\n",
       "      <td>game_skater_stats</td>\n",
       "      <td>9</td>\n",
       "    </tr>\n",
       "    <tr>\n",
       "      <th>79</th>\n",
       "      <td>giveaways</td>\n",
       "      <td>int(11)</td>\n",
       "      <td>game_skater_stats</td>\n",
       "      <td>9</td>\n",
       "    </tr>\n",
       "    <tr>\n",
       "      <th>80</th>\n",
       "      <td>shortHandedGoals</td>\n",
       "      <td>int(11)</td>\n",
       "      <td>game_skater_stats</td>\n",
       "      <td>3</td>\n",
       "    </tr>\n",
       "    <tr>\n",
       "      <th>81</th>\n",
       "      <td>shortHandedAssists</td>\n",
       "      <td>int(11)</td>\n",
       "      <td>game_skater_stats</td>\n",
       "      <td>3</td>\n",
       "    </tr>\n",
       "    <tr>\n",
       "      <th>82</th>\n",
       "      <td>blocked</td>\n",
       "      <td>int(11)</td>\n",
       "      <td>game_skater_stats</td>\n",
       "      <td>14</td>\n",
       "    </tr>\n",
       "    <tr>\n",
       "      <th>83</th>\n",
       "      <td>plusMinus</td>\n",
       "      <td>int(11)</td>\n",
       "      <td>game_skater_stats</td>\n",
       "      <td>14</td>\n",
       "    </tr>\n",
       "    <tr>\n",
       "      <th>84</th>\n",
       "      <td>evenTimeOnIce</td>\n",
       "      <td>int(11)</td>\n",
       "      <td>game_skater_stats</td>\n",
       "      <td>1936</td>\n",
       "    </tr>\n",
       "    <tr>\n",
       "      <th>85</th>\n",
       "      <td>shortHandedTimeOnIce</td>\n",
       "      <td>int(11)</td>\n",
       "      <td>game_skater_stats</td>\n",
       "      <td>585</td>\n",
       "    </tr>\n",
       "    <tr>\n",
       "      <th>86</th>\n",
       "      <td>powerPlayTimeOnIce</td>\n",
       "      <td>int(11)</td>\n",
       "      <td>game_skater_stats</td>\n",
       "      <td>674</td>\n",
       "    </tr>\n",
       "    <tr>\n",
       "      <th>87</th>\n",
       "      <td>game_id</td>\n",
       "      <td>int(11)</td>\n",
       "      <td>game_teams_stats</td>\n",
       "      <td>0</td>\n",
       "    </tr>\n",
       "    <tr>\n",
       "      <th>88</th>\n",
       "      <td>team_id</td>\n",
       "      <td>int(11)</td>\n",
       "      <td>game_teams_stats</td>\n",
       "      <td>0</td>\n",
       "    </tr>\n",
       "    <tr>\n",
       "      <th>89</th>\n",
       "      <td>HoA</td>\n",
       "      <td>varchar(4)</td>\n",
       "      <td>game_teams_stats</td>\n",
       "      <td>0</td>\n",
       "    </tr>\n",
       "    <tr>\n",
       "      <th>90</th>\n",
       "      <td>won</td>\n",
       "      <td>bit(1)</td>\n",
       "      <td>game_teams_stats</td>\n",
       "      <td>0</td>\n",
       "    </tr>\n",
       "    <tr>\n",
       "      <th>91</th>\n",
       "      <td>settled_in</td>\n",
       "      <td>varchar(3)</td>\n",
       "      <td>game_teams_stats</td>\n",
       "      <td>0</td>\n",
       "    </tr>\n",
       "    <tr>\n",
       "      <th>92</th>\n",
       "      <td>head_coach</td>\n",
       "      <td>varchar(17)</td>\n",
       "      <td>game_teams_stats</td>\n",
       "      <td>0</td>\n",
       "    </tr>\n",
       "    <tr>\n",
       "      <th>93</th>\n",
       "      <td>goals</td>\n",
       "      <td>int(11)</td>\n",
       "      <td>game_teams_stats</td>\n",
       "      <td>0</td>\n",
       "    </tr>\n",
       "    <tr>\n",
       "      <th>94</th>\n",
       "      <td>shots</td>\n",
       "      <td>int(11)</td>\n",
       "      <td>game_teams_stats</td>\n",
       "      <td>0</td>\n",
       "    </tr>\n",
       "    <tr>\n",
       "      <th>95</th>\n",
       "      <td>hits</td>\n",
       "      <td>int(11)</td>\n",
       "      <td>game_teams_stats</td>\n",
       "      <td>0</td>\n",
       "    </tr>\n",
       "    <tr>\n",
       "      <th>96</th>\n",
       "      <td>pim</td>\n",
       "      <td>int(11)</td>\n",
       "      <td>game_teams_stats</td>\n",
       "      <td>0</td>\n",
       "    </tr>\n",
       "    <tr>\n",
       "      <th>97</th>\n",
       "      <td>powerPlayOpportunities</td>\n",
       "      <td>int(11)</td>\n",
       "      <td>game_teams_stats</td>\n",
       "      <td>0</td>\n",
       "    </tr>\n",
       "    <tr>\n",
       "      <th>98</th>\n",
       "      <td>powerPlayGoals</td>\n",
       "      <td>int(11)</td>\n",
       "      <td>game_teams_stats</td>\n",
       "      <td>0</td>\n",
       "    </tr>\n",
       "    <tr>\n",
       "      <th>99</th>\n",
       "      <td>faceOffWinPercentage</td>\n",
       "      <td>float</td>\n",
       "      <td>game_teams_stats</td>\n",
       "      <td>0</td>\n",
       "    </tr>\n",
       "    <tr>\n",
       "      <th>100</th>\n",
       "      <td>giveaways</td>\n",
       "      <td>int(11)</td>\n",
       "      <td>game_teams_stats</td>\n",
       "      <td>0</td>\n",
       "    </tr>\n",
       "    <tr>\n",
       "      <th>101</th>\n",
       "      <td>takeaways</td>\n",
       "      <td>int(11)</td>\n",
       "      <td>game_teams_stats</td>\n",
       "      <td>0</td>\n",
       "    </tr>\n",
       "    <tr>\n",
       "      <th>102</th>\n",
       "      <td>player_id</td>\n",
       "      <td>int(11)</td>\n",
       "      <td>player_info</td>\n",
       "      <td>1205</td>\n",
       "    </tr>\n",
       "    <tr>\n",
       "      <th>103</th>\n",
       "      <td>firstName</td>\n",
       "      <td>varchar(14)</td>\n",
       "      <td>player_info</td>\n",
       "      <td>494</td>\n",
       "    </tr>\n",
       "    <tr>\n",
       "      <th>104</th>\n",
       "      <td>lastName</td>\n",
       "      <td>varchar(18)</td>\n",
       "      <td>player_info</td>\n",
       "      <td>1076</td>\n",
       "    </tr>\n",
       "    <tr>\n",
       "      <th>105</th>\n",
       "      <td>nationality</td>\n",
       "      <td>varchar(3)</td>\n",
       "      <td>player_info</td>\n",
       "      <td>23</td>\n",
       "    </tr>\n",
       "    <tr>\n",
       "      <th>106</th>\n",
       "      <td>birthCity</td>\n",
       "      <td>varchar(27)</td>\n",
       "      <td>player_info</td>\n",
       "      <td>640</td>\n",
       "    </tr>\n",
       "    <tr>\n",
       "      <th>107</th>\n",
       "      <td>primaryPosition</td>\n",
       "      <td>varchar(2)</td>\n",
       "      <td>player_info</td>\n",
       "      <td>6</td>\n",
       "    </tr>\n",
       "    <tr>\n",
       "      <th>108</th>\n",
       "      <td>birthDate</td>\n",
       "      <td>varchar(10)</td>\n",
       "      <td>player_info</td>\n",
       "      <td>1096</td>\n",
       "    </tr>\n",
       "    <tr>\n",
       "      <th>109</th>\n",
       "      <td>link</td>\n",
       "      <td>varchar(22)</td>\n",
       "      <td>player_info</td>\n",
       "      <td>1205</td>\n",
       "    </tr>\n",
       "    <tr>\n",
       "      <th>110</th>\n",
       "      <td>team_id</td>\n",
       "      <td>int(11)</td>\n",
       "      <td>team_info</td>\n",
       "      <td>17</td>\n",
       "    </tr>\n",
       "    <tr>\n",
       "      <th>111</th>\n",
       "      <td>franchiseId</td>\n",
       "      <td>int(11)</td>\n",
       "      <td>team_info</td>\n",
       "      <td>17</td>\n",
       "    </tr>\n",
       "    <tr>\n",
       "      <th>112</th>\n",
       "      <td>shortName</td>\n",
       "      <td>varchar(12)</td>\n",
       "      <td>team_info</td>\n",
       "      <td>17</td>\n",
       "    </tr>\n",
       "    <tr>\n",
       "      <th>113</th>\n",
       "      <td>teamName</td>\n",
       "      <td>varchar(14)</td>\n",
       "      <td>team_info</td>\n",
       "      <td>17</td>\n",
       "    </tr>\n",
       "    <tr>\n",
       "      <th>114</th>\n",
       "      <td>abbreviation</td>\n",
       "      <td>varchar(3)</td>\n",
       "      <td>team_info</td>\n",
       "      <td>17</td>\n",
       "    </tr>\n",
       "    <tr>\n",
       "      <th>115</th>\n",
       "      <td>link</td>\n",
       "      <td>varchar(16)</td>\n",
       "      <td>team_info</td>\n",
       "      <td>17</td>\n",
       "    </tr>\n",
       "  </tbody>\n",
       "</table>\n",
       "</div>"
      ],
      "text/plain": [
       "                Column_name  Column_type              Table  \\\n",
       "60                  game_id      int(11)        game_shifts   \n",
       "61                player_id      int(11)        game_shifts   \n",
       "62                   period      int(11)        game_shifts   \n",
       "63              shift_start      int(11)        game_shifts   \n",
       "64                shift_end      int(11)        game_shifts   \n",
       "65                  game_id      int(11)  game_skater_stats   \n",
       "66                player_id      int(11)  game_skater_stats   \n",
       "67                  team_id      int(11)  game_skater_stats   \n",
       "68                timeOnIce      int(11)  game_skater_stats   \n",
       "69                  assists      int(11)  game_skater_stats   \n",
       "70                    goals      int(11)  game_skater_stats   \n",
       "71                    shots      int(11)  game_skater_stats   \n",
       "72                     hits      int(11)  game_skater_stats   \n",
       "73           powerPlayGoals      int(11)  game_skater_stats   \n",
       "74         powerPlayAssists      int(11)  game_skater_stats   \n",
       "75           penaltyMinutes      int(11)  game_skater_stats   \n",
       "76              faceOffWins      int(11)  game_skater_stats   \n",
       "77             faceoffTaken      int(11)  game_skater_stats   \n",
       "78                takeaways      int(11)  game_skater_stats   \n",
       "79                giveaways      int(11)  game_skater_stats   \n",
       "80         shortHandedGoals      int(11)  game_skater_stats   \n",
       "81       shortHandedAssists      int(11)  game_skater_stats   \n",
       "82                  blocked      int(11)  game_skater_stats   \n",
       "83                plusMinus      int(11)  game_skater_stats   \n",
       "84            evenTimeOnIce      int(11)  game_skater_stats   \n",
       "85     shortHandedTimeOnIce      int(11)  game_skater_stats   \n",
       "86       powerPlayTimeOnIce      int(11)  game_skater_stats   \n",
       "87                  game_id      int(11)   game_teams_stats   \n",
       "88                  team_id      int(11)   game_teams_stats   \n",
       "89                      HoA   varchar(4)   game_teams_stats   \n",
       "90                      won       bit(1)   game_teams_stats   \n",
       "91               settled_in   varchar(3)   game_teams_stats   \n",
       "92               head_coach  varchar(17)   game_teams_stats   \n",
       "93                    goals      int(11)   game_teams_stats   \n",
       "94                    shots      int(11)   game_teams_stats   \n",
       "95                     hits      int(11)   game_teams_stats   \n",
       "96                      pim      int(11)   game_teams_stats   \n",
       "97   powerPlayOpportunities      int(11)   game_teams_stats   \n",
       "98           powerPlayGoals      int(11)   game_teams_stats   \n",
       "99     faceOffWinPercentage        float   game_teams_stats   \n",
       "100               giveaways      int(11)   game_teams_stats   \n",
       "101               takeaways      int(11)   game_teams_stats   \n",
       "102               player_id      int(11)        player_info   \n",
       "103               firstName  varchar(14)        player_info   \n",
       "104                lastName  varchar(18)        player_info   \n",
       "105             nationality   varchar(3)        player_info   \n",
       "106               birthCity  varchar(27)        player_info   \n",
       "107         primaryPosition   varchar(2)        player_info   \n",
       "108               birthDate  varchar(10)        player_info   \n",
       "109                    link  varchar(22)        player_info   \n",
       "110                 team_id      int(11)          team_info   \n",
       "111             franchiseId      int(11)          team_info   \n",
       "112               shortName  varchar(12)          team_info   \n",
       "113                teamName  varchar(14)          team_info   \n",
       "114            abbreviation   varchar(3)          team_info   \n",
       "115                    link  varchar(16)          team_info   \n",
       "\n",
       "     Number_of_unique_values  \n",
       "60                     11339  \n",
       "61                      2212  \n",
       "62                         7  \n",
       "63                      5911  \n",
       "64                      5913  \n",
       "65                     11435  \n",
       "66                      1999  \n",
       "67                        34  \n",
       "68                      2220  \n",
       "69                         6  \n",
       "70                         6  \n",
       "71                        16  \n",
       "72                        16  \n",
       "73                         4  \n",
       "74                         5  \n",
       "75                        36  \n",
       "76                        31  \n",
       "77                        45  \n",
       "78                         9  \n",
       "79                         9  \n",
       "80                         3  \n",
       "81                         3  \n",
       "82                        14  \n",
       "83                        14  \n",
       "84                      1936  \n",
       "85                       585  \n",
       "86                       674  \n",
       "87                         0  \n",
       "88                         0  \n",
       "89                         0  \n",
       "90                         0  \n",
       "91                         0  \n",
       "92                         0  \n",
       "93                         0  \n",
       "94                         0  \n",
       "95                         0  \n",
       "96                         0  \n",
       "97                         0  \n",
       "98                         0  \n",
       "99                         0  \n",
       "100                        0  \n",
       "101                        0  \n",
       "102                     1205  \n",
       "103                      494  \n",
       "104                     1076  \n",
       "105                       23  \n",
       "106                      640  \n",
       "107                        6  \n",
       "108                     1096  \n",
       "109                     1205  \n",
       "110                       17  \n",
       "111                       17  \n",
       "112                       17  \n",
       "113                       17  \n",
       "114                       17  \n",
       "115                       17  "
      ]
     },
     "execution_count": 6,
     "metadata": {},
     "output_type": "execute_result"
    }
   ],
   "source": [
    "table_info_df[0:60]\n",
    "table_info_df[60:] "
   ]
  },
  {
   "cell_type": "code",
   "execution_count": 7,
   "metadata": {
    "ExecuteTime": {
     "end_time": "2020-10-16T21:52:23.852749Z",
     "start_time": "2020-10-16T21:52:23.843743Z"
    }
   },
   "outputs": [
    {
     "data": {
      "text/html": [
       "<div>\n",
       "<style scoped>\n",
       "    .dataframe tbody tr th:only-of-type {\n",
       "        vertical-align: middle;\n",
       "    }\n",
       "\n",
       "    .dataframe tbody tr th {\n",
       "        vertical-align: top;\n",
       "    }\n",
       "\n",
       "    .dataframe thead th {\n",
       "        text-align: right;\n",
       "    }\n",
       "</style>\n",
       "<table border=\"1\" class=\"dataframe\">\n",
       "  <thead>\n",
       "    <tr style=\"text-align: right;\">\n",
       "      <th></th>\n",
       "      <th>Column_name</th>\n",
       "      <th>Column_type</th>\n",
       "      <th>Table</th>\n",
       "      <th>Number_of_unique_values</th>\n",
       "    </tr>\n",
       "  </thead>\n",
       "  <tbody>\n",
       "    <tr>\n",
       "      <th>17</th>\n",
       "      <td>player_id</td>\n",
       "      <td>int(11)</td>\n",
       "      <td>game_goalie_stats</td>\n",
       "      <td>215</td>\n",
       "    </tr>\n",
       "    <tr>\n",
       "      <th>58</th>\n",
       "      <td>player_id</td>\n",
       "      <td>int(11)</td>\n",
       "      <td>game_plays_players</td>\n",
       "      <td>2204</td>\n",
       "    </tr>\n",
       "    <tr>\n",
       "      <th>61</th>\n",
       "      <td>player_id</td>\n",
       "      <td>int(11)</td>\n",
       "      <td>game_shifts</td>\n",
       "      <td>2212</td>\n",
       "    </tr>\n",
       "    <tr>\n",
       "      <th>66</th>\n",
       "      <td>player_id</td>\n",
       "      <td>int(11)</td>\n",
       "      <td>game_skater_stats</td>\n",
       "      <td>1999</td>\n",
       "    </tr>\n",
       "    <tr>\n",
       "      <th>102</th>\n",
       "      <td>player_id</td>\n",
       "      <td>int(11)</td>\n",
       "      <td>player_info</td>\n",
       "      <td>1205</td>\n",
       "    </tr>\n",
       "  </tbody>\n",
       "</table>\n",
       "</div>"
      ],
      "text/plain": [
       "    Column_name Column_type               Table  Number_of_unique_values\n",
       "17    player_id     int(11)   game_goalie_stats                      215\n",
       "58    player_id     int(11)  game_plays_players                     2204\n",
       "61    player_id     int(11)         game_shifts                     2212\n",
       "66    player_id     int(11)   game_skater_stats                     1999\n",
       "102   player_id     int(11)         player_info                     1205"
      ]
     },
     "execution_count": 7,
     "metadata": {},
     "output_type": "execute_result"
    }
   ],
   "source": [
    "table_info_df[table_info_df['Column_name'] == 'player_id']"
   ]
  },
  {
   "cell_type": "code",
   "execution_count": 8,
   "metadata": {
    "ExecuteTime": {
     "end_time": "2020-10-16T21:52:23.862356Z",
     "start_time": "2020-10-16T21:52:23.855283Z"
    }
   },
   "outputs": [
    {
     "data": {
      "text/html": [
       "<div>\n",
       "<style scoped>\n",
       "    .dataframe tbody tr th:only-of-type {\n",
       "        vertical-align: middle;\n",
       "    }\n",
       "\n",
       "    .dataframe tbody tr th {\n",
       "        vertical-align: top;\n",
       "    }\n",
       "\n",
       "    .dataframe thead th {\n",
       "        text-align: right;\n",
       "    }\n",
       "</style>\n",
       "<table border=\"1\" class=\"dataframe\">\n",
       "  <thead>\n",
       "    <tr style=\"text-align: right;\">\n",
       "      <th></th>\n",
       "      <th>Column_name</th>\n",
       "      <th>Column_type</th>\n",
       "      <th>Table</th>\n",
       "      <th>Number_of_unique_values</th>\n",
       "    </tr>\n",
       "  </thead>\n",
       "  <tbody>\n",
       "  </tbody>\n",
       "</table>\n",
       "</div>"
      ],
      "text/plain": [
       "Empty DataFrame\n",
       "Columns: [Column_name, Column_type, Table, Number_of_unique_values]\n",
       "Index: []"
      ]
     },
     "execution_count": 8,
     "metadata": {},
     "output_type": "execute_result"
    }
   ],
   "source": [
    "table_info_df[table_info_df['Column_name'] == 'shift']"
   ]
  },
  {
   "cell_type": "code",
   "execution_count": 9,
   "metadata": {
    "ExecuteTime": {
     "end_time": "2020-10-16T21:52:23.869792Z",
     "start_time": "2020-10-16T21:52:23.864594Z"
    }
   },
   "outputs": [
    {
     "data": {
      "text/plain": [
       "array(['game_id', 'season', 'type', 'date_time', 'date_time_GMT',\n",
       "       'away_team_id', 'home_team_id', 'away_goals', 'home_goals',\n",
       "       'outcome', 'home_rink_side_start', 'venue', 'venue_link',\n",
       "       'venue_time_zone_id', 'venue_time_zone_offset',\n",
       "       'venue_time_zone_tz', 'player_id', 'team_id', 'timeOnIce',\n",
       "       'assists', 'goals', 'pim', 'shots', 'saves', 'powerPlaySaves',\n",
       "       'shortHandedSaves', 'evenSaves', 'shortHandedShotsAgainst',\n",
       "       'evenShotsAgainst', 'powerPlayShotsAgainst', 'decision',\n",
       "       'savePercentage', 'powerPlaySavePercentage',\n",
       "       'evenStrengthSavePercentage', 'play_id', 'play_num', 'team_id_for',\n",
       "       'team_id_against', 'event', 'secondaryType', 'x', 'y', 'period',\n",
       "       'periodType', 'periodTime', 'periodTimeRemaining', 'dateTime',\n",
       "       'goals_away', 'goals_home', 'description', 'st_x', 'st_y',\n",
       "       'rink_side', 'playerType', 'shift_start', 'shift_end', 'hits',\n",
       "       'powerPlayGoals', 'powerPlayAssists', 'penaltyMinutes',\n",
       "       'faceOffWins', 'faceoffTaken', 'takeaways', 'giveaways',\n",
       "       'shortHandedGoals', 'shortHandedAssists', 'blocked', 'plusMinus',\n",
       "       'evenTimeOnIce', 'shortHandedTimeOnIce', 'powerPlayTimeOnIce',\n",
       "       'HoA', 'won', 'settled_in', 'head_coach', 'powerPlayOpportunities',\n",
       "       'faceOffWinPercentage', 'firstName', 'lastName', 'nationality',\n",
       "       'birthCity', 'primaryPosition', 'birthDate', 'link', 'franchiseId',\n",
       "       'shortName', 'teamName', 'abbreviation'], dtype=object)"
      ]
     },
     "execution_count": 9,
     "metadata": {},
     "output_type": "execute_result"
    }
   ],
   "source": [
    "table_info_df['Column_name'].unique()"
   ]
  },
  {
   "cell_type": "markdown",
   "metadata": {},
   "source": [
    "# What years are in this dataset"
   ]
  },
  {
   "cell_type": "code",
   "execution_count": 15,
   "metadata": {
    "ExecuteTime": {
     "end_time": "2020-10-13T19:51:09.979816Z",
     "start_time": "2020-10-13T19:51:09.706605Z"
    },
    "collapsed": true
   },
   "outputs": [
    {
     "data": {
      "text/plain": [
       "[0,\n",
       " 20112012,\n",
       " 20102011,\n",
       " 20122013,\n",
       " 20162017,\n",
       " 20142015,\n",
       " 20152016,\n",
       " 20132014,\n",
       " 20172018,\n",
       " 20182019]"
      ]
     },
     "execution_count": 15,
     "metadata": {},
     "output_type": "execute_result"
    }
   ],
   "source": [
    "seasons = \"SELECT DISTINCT(season) FROM game;\"\n",
    "seasons_query_result = run_query(seasons)\n",
    "all_seasons = [a[0] for a in seasons_query_result]\n",
    "# all_seasons # exclude 0"
   ]
  },
  {
   "cell_type": "markdown",
   "metadata": {},
   "source": [
    "## How many games each season?"
   ]
  },
  {
   "cell_type": "code",
   "execution_count": 32,
   "metadata": {
    "ExecuteTime": {
     "end_time": "2020-10-13T19:56:30.763535Z",
     "start_time": "2020-10-13T19:56:30.432078Z"
    }
   },
   "outputs": [
    {
     "data": {
      "text/plain": [
       "5718"
      ]
     },
     "execution_count": 32,
     "metadata": {},
     "output_type": "execute_result"
    }
   ],
   "source": [
    "all_game_ids_query = \"SELECT DISTINCT(game_id) FROM game;\"\n",
    "all_game_ids_query_result = run_query(all_game_ids_query)\n",
    "all_game_ids = [a[0] for a in all_game_ids_query_result]\n",
    "len(all_game_ids) # exclude 0"
   ]
  },
  {
   "cell_type": "code",
   "execution_count": 47,
   "metadata": {
    "ExecuteTime": {
     "end_time": "2020-10-13T20:00:28.103255Z",
     "start_time": "2020-10-13T20:00:28.092863Z"
    },
    "code_folding": []
   },
   "outputs": [],
   "source": [
    "# Separating game_ids by year\n",
    "number_of_games_by_year = {}\n",
    "for game in all_game_ids:\n",
    "    year = str(game)\n",
    "    if len(year) > 1:\n",
    "        if number_of_games_by_year.get(year[0:4]) == None:\n",
    "            number_of_games_by_year[year[0:4]] = 1\n",
    "        else:\n",
    "            number_of_games_by_year[year[0:4]] += 1"
   ]
  },
  {
   "cell_type": "code",
   "execution_count": 62,
   "metadata": {
    "ExecuteTime": {
     "end_time": "2020-10-13T20:09:37.252842Z",
     "start_time": "2020-10-13T20:09:37.245824Z"
    }
   },
   "outputs": [
    {
     "data": {
      "text/plain": [
       "9"
      ]
     },
     "execution_count": 62,
     "metadata": {},
     "output_type": "execute_result"
    }
   ],
   "source": [
    "sorted_years_and_num_games = []\n",
    "for i in sorted (number_of_games_by_year) : \n",
    "    sorted_years_and_num_games.append((i, number_of_games_by_year[i])) \n",
    "len(sorted_years_and_num_games) # 9 seasons covered in data"
   ]
  },
  {
   "cell_type": "markdown",
   "metadata": {},
   "source": [
    "### Bar plot of number of games in each season"
   ]
  },
  {
   "cell_type": "code",
   "execution_count": 60,
   "metadata": {
    "ExecuteTime": {
     "end_time": "2020-10-13T20:08:40.149794Z",
     "start_time": "2020-10-13T20:08:39.957788Z"
    }
   },
   "outputs": [
    {
     "data": {
      "application/javascript": [
       "\n",
       "        if (window._pyforest_update_imports_cell) { window._pyforest_update_imports_cell('import pandas as pd\\nimport pickle\\nimport seaborn as sns'); }\n",
       "    "
      ],
      "text/plain": [
       "<IPython.core.display.Javascript object>"
      ]
     },
     "metadata": {},
     "output_type": "display_data"
    },
    {
     "data": {
      "image/png": "[encoded data removed]",
      "text/plain": [
       "<Figure size 432x288 with 1 Axes>"
      ]
     },
     "metadata": {
      "needs_background": "light"
     },
     "output_type": "display_data"
    }
   ],
   "source": [
    "# 2012 had the olympics which removed one month of play mid-season\n",
    "# I assume the variation in number of games since has to do with number of necessary playoff games\n",
    "num_of_games_in_season = sns.barplot(x = [i[0] for i in sorted_years_and_num_games],\n",
    "                                    y = [i[1] for i in sorted_years_and_num_games], ci=None)\n",
    "# num_of_games_in_season.figure.savefig(\"../images/number_of_games_per_season.png\")"
   ]
  },
  {
   "cell_type": "markdown",
   "metadata": {},
   "source": [
    "## Approximately how much game time is covered"
   ]
  },
  {
   "cell_type": "code",
   "execution_count": 102,
   "metadata": {
    "ExecuteTime": {
     "end_time": "2020-10-13T20:37:10.170128Z",
     "start_time": "2020-10-13T20:37:10.162052Z"
    }
   },
   "outputs": [
    {
     "name": "stdout",
     "output_type": "stream",
     "text": [
      "0    5718\n",
      "Name: Number_of_unique_values, dtype: int64\n"
     ]
    }
   ],
   "source": [
    "# total number of games\n",
    "reg_hours_played = table_info_df[(table_info_df['Column_name'] == 'game_id') & \\\n",
    "                                 (table_info_df['Table'] == 'game')]['Number_of_unique_values']\n",
    "print(reg_hours_played[0])\n",
    "# at least 5,718 hours of game play (plus any additional overtime)"
   ]
  },
  {
   "cell_type": "markdown",
   "metadata": {
    "heading_collapsed": true
   },
   "source": [
    "# Time Played plus OT "
   ]
  },
  {
   "cell_type": "code",
   "execution_count": 91,
   "metadata": {
    "ExecuteTime": {
     "end_time": "2020-10-13T20:32:38.926484Z",
     "start_time": "2020-10-13T20:32:37.178633Z"
    },
    "hidden": true
   },
   "outputs": [],
   "source": [
    "game_time = \"\"\"\n",
    "            SELECT game_id, COUNT(DISTINCT(period))\n",
    "            FROM game_plays\n",
    "            GROUP BY game_id\n",
    "\n",
    "\"\"\"\n",
    "game_time_query_result = run_query(game_time)\n",
    "# games_and_periods = [a[0:2] for a in game_time_query_result]\n",
    "# all_seasons # exclude 0"
   ]
  },
  {
   "cell_type": "code",
   "execution_count": 92,
   "metadata": {
    "ExecuteTime": {
     "end_time": "2020-10-13T20:32:38.997506Z",
     "start_time": "2020-10-13T20:32:38.993359Z"
    },
    "hidden": true
   },
   "outputs": [
    {
     "data": {
      "text/plain": [
       "[(0, 1), (2010020001, 3), (2010020002, 3), (2010020003, 3), (2010020004, 4)]"
      ]
     },
     "execution_count": 92,
     "metadata": {},
     "output_type": "execute_result"
    }
   ],
   "source": [
    "games_and_periods[0:5]"
   ]
  },
  {
   "cell_type": "code",
   "execution_count": 93,
   "metadata": {
    "ExecuteTime": {
     "end_time": "2020-10-13T20:32:49.932304Z",
     "start_time": "2020-10-13T20:32:49.925033Z"
    },
    "hidden": true
   },
   "outputs": [
    {
     "data": {
      "text/plain": [
       "[(0, 1), (2010020001, 3), (2010020002, 3), (2010020003, 3)]"
      ]
     },
     "execution_count": 93,
     "metadata": {},
     "output_type": "execute_result"
    }
   ],
   "source": [
    "game_time_query_result[0:4]"
   ]
  },
  {
   "cell_type": "code",
   "execution_count": 94,
   "metadata": {
    "ExecuteTime": {
     "end_time": "2020-10-13T20:34:09.066198Z",
     "start_time": "2020-10-13T20:34:09.058151Z"
    },
    "hidden": true
   },
   "outputs": [],
   "source": [
    "ot_game_count = {}\n",
    "for game, period_count in game_time_query_result:\n",
    "    if period_count > 3:\n",
    "        if ot_game_count.get(period_count) == None:\n",
    "            ot_game_count[period_count] = 1\n",
    "        else:\n",
    "            ot_game_count[period_count] += 1"
   ]
  },
  {
   "cell_type": "code",
   "execution_count": 95,
   "metadata": {
    "ExecuteTime": {
     "end_time": "2020-10-13T20:34:11.943531Z",
     "start_time": "2020-10-13T20:34:11.937852Z"
    },
    "hidden": true
   },
   "outputs": [
    {
     "data": {
      "text/plain": [
       "{4: 1461, 5: 1189, 6: 6}"
      ]
     },
     "execution_count": 95,
     "metadata": {},
     "output_type": "execute_result"
    }
   ],
   "source": [
    "ot_game_count"
   ]
  },
  {
   "cell_type": "code",
   "execution_count": 97,
   "metadata": {
    "ExecuteTime": {
     "end_time": "2020-10-13T20:35:53.060653Z",
     "start_time": "2020-10-13T20:35:53.053003Z"
    },
    "hidden": true
   },
   "outputs": [
    {
     "data": {
      "text/plain": [
       "143400"
      ]
     },
     "execution_count": 97,
     "metadata": {},
     "output_type": "execute_result"
    }
   ],
   "source": [
    "# number of minutes guarenteed to have been played\n",
    "total_guarenteed_extra_minutes = 0\n",
    "for key,value in ot_game_count.items():\n",
    "    if key == 6:\n",
    "        total_guarenteed_extra_minutes += value * (60 * 2)\n",
    "    elif key == 5:\n",
    "        total_guarenteed_extra_minutes += value * (60 * 2)\n",
    "total_guarenteed_extra_minutes"
   ]
  },
  {
   "cell_type": "code",
   "execution_count": 99,
   "metadata": {
    "ExecuteTime": {
     "end_time": "2020-10-13T20:36:13.643032Z",
     "start_time": "2020-10-13T20:36:13.637394Z"
    },
    "hidden": true,
    "scrolled": true
   },
   "outputs": [
    {
     "data": {
      "text/plain": [
       "2390.0"
      ]
     },
     "execution_count": 99,
     "metadata": {},
     "output_type": "execute_result"
    }
   ],
   "source": [
    "total_guarenteed_extra_hours = total_guarenteed_extra_minutes / 60\n",
    "total_guarenteed_extra_hours"
   ]
  },
  {
   "cell_type": "code",
   "execution_count": 106,
   "metadata": {
    "ExecuteTime": {
     "end_time": "2020-10-13T20:37:33.187565Z",
     "start_time": "2020-10-13T20:37:33.181155Z"
    },
    "hidden": true
   },
   "outputs": [
    {
     "data": {
      "text/plain": [
       "8108.0"
      ]
     },
     "execution_count": 106,
     "metadata": {},
     "output_type": "execute_result"
    }
   ],
   "source": [
    "# at least 8,108 hours of hockey covered in this data \n",
    "minimum_total_hours_played = total_guarenteed_extra_hours + reg_hours_played[0]\n",
    "minimum_total_hours_played"
   ]
  },
  {
   "cell_type": "markdown",
   "metadata": {},
   "source": [
    "# Total Goals By Period "
   ]
  },
  {
   "cell_type": "code",
   "execution_count": 7,
   "metadata": {
    "ExecuteTime": {
     "end_time": "2020-10-13T23:02:27.448121Z",
     "start_time": "2020-10-13T23:02:26.084353Z"
    },
    "scrolled": false
   },
   "outputs": [
    {
     "data": {
      "image/png": "[encoded data removed]",
      "text/plain": [
       "<Figure size 432x288 with 1 Axes>"
      ]
     },
     "metadata": {
      "needs_background": "light"
     },
     "output_type": "display_data"
    }
   ],
   "source": [
    "goals_query = get_total_period_sum('goal')\n",
    "goals_plot = make_barplot_of_variable_by_period(goals_query)"
   ]
  },
  {
   "cell_type": "code",
   "execution_count": 21,
   "metadata": {
    "ExecuteTime": {
     "end_time": "2020-10-15T18:59:30.404612Z",
     "start_time": "2020-10-15T18:59:28.908112Z"
    }
   },
   "outputs": [],
   "source": [
    "goal_df = get_raw_data('goal')\n",
    "goal_df.to_csv(\"../data/goals.csv\")"
   ]
  },
  {
   "cell_type": "markdown",
   "metadata": {},
   "source": [
    "# Total Faceoffs by Period"
   ]
  },
  {
   "cell_type": "code",
   "execution_count": 28,
   "metadata": {
    "ExecuteTime": {
     "end_time": "2020-10-13T23:14:14.527051Z",
     "start_time": "2020-10-13T23:14:12.925012Z"
    }
   },
   "outputs": [
    {
     "data": {
      "image/png": "[encoded data removed]",
      "text/plain": [
       "<Figure size 432x288 with 1 Axes>"
      ]
     },
     "metadata": {
      "needs_background": "light"
     },
     "output_type": "display_data"
    }
   ],
   "source": [
    "faceoff_query = get_total_period_sum('faceoff')\n",
    "faceoff_plot = make_barplot_of_variable_by_period(faceoff_query)"
   ]
  },
  {
   "cell_type": "code",
   "execution_count": 20,
   "metadata": {
    "ExecuteTime": {
     "end_time": "2020-10-15T18:59:13.448841Z",
     "start_time": "2020-10-15T18:59:11.573984Z"
    }
   },
   "outputs": [],
   "source": [
    "faceoff_df = get_raw_data('faceoff')\n",
    "faceoff_df.to_csv(\"../data/faceoffs.csv\")"
   ]
  },
  {
   "cell_type": "markdown",
   "metadata": {},
   "source": [
    "# Penalties by Period "
   ]
  },
  {
   "cell_type": "code",
   "execution_count": 29,
   "metadata": {
    "ExecuteTime": {
     "end_time": "2020-10-13T23:14:16.055054Z",
     "start_time": "2020-10-13T23:14:14.624276Z"
    },
    "scrolled": true
   },
   "outputs": [
    {
     "data": {
      "image/png": "[encoded data removed]",
      "text/plain": [
       "<Figure size 432x288 with 1 Axes>"
      ]
     },
     "metadata": {
      "needs_background": "light"
     },
     "output_type": "display_data"
    }
   ],
   "source": [
    "penalty_query = get_total_period_sum('penalty')\n",
    "penalty_plot = make_barplot_of_variable_by_period(penalty_query)"
   ]
  },
  {
   "cell_type": "code",
   "execution_count": 19,
   "metadata": {
    "ExecuteTime": {
     "end_time": "2020-10-15T18:59:04.374838Z",
     "start_time": "2020-10-15T18:59:02.861816Z"
    }
   },
   "outputs": [],
   "source": [
    "penalty_df = get_raw_data('penalty')\n",
    "penalty_df.to_csv(\"../data/penalties.csv\")"
   ]
  },
  {
   "cell_type": "markdown",
   "metadata": {},
   "source": [
    "# Shots By Period"
   ]
  },
  {
   "cell_type": "code",
   "execution_count": 31,
   "metadata": {
    "ExecuteTime": {
     "end_time": "2020-10-13T23:15:35.149438Z",
     "start_time": "2020-10-13T23:15:33.640081Z"
    }
   },
   "outputs": [
    {
     "data": {
      "image/png": "[encoded data removed]",
      "text/plain": [
       "<Figure size 432x288 with 1 Axes>"
      ]
     },
     "metadata": {
      "needs_background": "light"
     },
     "output_type": "display_data"
    }
   ],
   "source": [
    "shot_query = get_total_period_sum('shot')\n",
    "shot_plot = make_barplot_of_variable_by_period(shot_query)\n",
    "# shot_plot.figure.savefig(\"../images/number_of_shots_by_period.png\")"
   ]
  },
  {
   "cell_type": "code",
   "execution_count": 18,
   "metadata": {
    "ExecuteTime": {
     "end_time": "2020-10-15T18:58:19.188712Z",
     "start_time": "2020-10-15T18:58:17.348303Z"
    }
   },
   "outputs": [],
   "source": [
    "shot_df = get_raw_data('shot')\n",
    "shot_df.to_csv(\"../data/shots.csv\")"
   ]
  },
  {
   "cell_type": "markdown",
   "metadata": {},
   "source": [
    "# Average Shift Length by Period"
   ]
  },
  {
   "cell_type": "code",
   "execution_count": 18,
   "metadata": {
    "ExecuteTime": {
     "end_time": "2020-10-13T23:08:07.191871Z",
     "start_time": "2020-10-13T23:07:59.974442Z"
    }
   },
   "outputs": [],
   "source": [
    "avg_shift_len_by_period = f\"\"\"\n",
    "            SELECT period, AVG(shift_end - shift_start)\n",
    "            FROM game_shifts\n",
    "            WHERE period < 4 AND period > 0\n",
    "            GROUP BY period\n",
    "\"\"\"\n",
    "avg_shift_len_by_period_query_result = run_query(avg_shift_len_by_period)"
   ]
  },
  {
   "cell_type": "code",
   "execution_count": 25,
   "metadata": {
    "ExecuteTime": {
     "end_time": "2020-10-13T23:10:46.344893Z",
     "start_time": "2020-10-13T23:10:46.340368Z"
    }
   },
   "outputs": [],
   "source": [
    "avg_shift_len_by_period = []\n",
    "for x in avg_shift_len_by_period_query_result:\n",
    "    avg_shift_len_by_period.append([x[0], float(x[1])])"
   ]
  },
  {
   "cell_type": "code",
   "execution_count": 27,
   "metadata": {
    "ExecuteTime": {
     "end_time": "2020-10-13T23:11:15.785172Z",
     "start_time": "2020-10-13T23:11:15.664272Z"
    },
    "scrolled": true
   },
   "outputs": [
    {
     "data": {
      "text/plain": [
       "<matplotlib.axes._subplots.AxesSubplot at 0x7f9638494550>"
      ]
     },
     "execution_count": 27,
     "metadata": {},
     "output_type": "execute_result"
    },
    {
     "data": {
      "image/png": "[encoded data removed]",
      "text/plain": [
       "<Figure size 432x288 with 1 Axes>"
      ]
     },
     "metadata": {
      "needs_background": "light"
     },
     "output_type": "display_data"
    }
   ],
   "source": [
    "make_barplot_of_variable_by_period(avg_shift_len_by_period)"
   ]
  },
  {
   "cell_type": "markdown",
   "metadata": {},
   "source": [
    "## D"
   ]
  },
  {
   "cell_type": "code",
   "execution_count": 31,
   "metadata": {
    "ExecuteTime": {
     "end_time": "2020-10-15T16:19:57.356959Z",
     "start_time": "2020-10-15T16:19:49.678221Z"
    }
   },
   "outputs": [],
   "source": [
    "d_shift_len_by_period = f\"\"\"\n",
    "            SELECT period, shift_end - shift_start, player_info.primaryPosition, game_id\n",
    "            FROM game_shifts\n",
    "            INNER JOIN player_info\n",
    "            ON game_shifts.player_id = player_info.player_id\n",
    "            WHERE period < 4 \n",
    "            AND period > 0\n",
    "            AND player_info.primaryPosition = 'D'\n",
    "\"\"\"\n",
    "d_shift_len_by_period_query_result = run_query(d_shift_len_by_period)"
   ]
  },
  {
   "cell_type": "code",
   "execution_count": 32,
   "metadata": {
    "ExecuteTime": {
     "end_time": "2020-10-15T16:20:54.122904Z",
     "start_time": "2020-10-15T16:20:54.117671Z"
    }
   },
   "outputs": [
    {
     "data": {
      "text/plain": [
       "5225829"
      ]
     },
     "execution_count": 32,
     "metadata": {},
     "output_type": "execute_result"
    }
   ],
   "source": [
    "len(d_shift_len_by_period_query_result)"
   ]
  },
  {
   "cell_type": "code",
   "execution_count": 13,
   "metadata": {
    "ExecuteTime": {
     "end_time": "2020-10-16T20:00:38.772743Z",
     "start_time": "2020-10-16T20:00:38.768747Z"
    }
   },
   "outputs": [],
   "source": [
    "all_position_results = []"
   ]
  },
  {
   "cell_type": "code",
   "execution_count": 14,
   "metadata": {
    "ExecuteTime": {
     "end_time": "2020-10-16T20:00:51.448268Z",
     "start_time": "2020-10-16T20:00:44.016213Z"
    }
   },
   "outputs": [],
   "source": [
    "d_result = get_shift_len_by_position('D')\n",
    "all_position_results.append(d_result)"
   ]
  },
  {
   "cell_type": "markdown",
   "metadata": {},
   "source": [
    "## LW"
   ]
  },
  {
   "cell_type": "code",
   "execution_count": 15,
   "metadata": {
    "ExecuteTime": {
     "end_time": "2020-10-16T20:01:08.498355Z",
     "start_time": "2020-10-16T20:01:02.201470Z"
    }
   },
   "outputs": [],
   "source": [
    "lw_result = get_shift_len_by_position('LW')\n",
    "all_position_results.append(lw_result)"
   ]
  },
  {
   "cell_type": "markdown",
   "metadata": {},
   "source": [
    "## RW"
   ]
  },
  {
   "cell_type": "code",
   "execution_count": 16,
   "metadata": {
    "ExecuteTime": {
     "end_time": "2020-10-16T20:01:30.061506Z",
     "start_time": "2020-10-16T20:01:23.766627Z"
    }
   },
   "outputs": [],
   "source": [
    "rw_result = get_shift_len_by_position('RW')\n",
    "all_position_results.append(rw_result)"
   ]
  },
  {
   "cell_type": "markdown",
   "metadata": {},
   "source": [
    "## C"
   ]
  },
  {
   "cell_type": "code",
   "execution_count": 17,
   "metadata": {
    "ExecuteTime": {
     "end_time": "2020-10-16T20:01:55.958207Z",
     "start_time": "2020-10-16T20:01:49.109783Z"
    }
   },
   "outputs": [],
   "source": [
    "c_result = get_shift_len_by_position('C')\n",
    "all_position_results.append(c_result)"
   ]
  },
  {
   "cell_type": "markdown",
   "metadata": {},
   "source": [
    "## Combining data into a list"
   ]
  },
  {
   "cell_type": "markdown",
   "metadata": {
    "heading_collapsed": true
   },
   "source": [
    "### Make data into csv \n",
    "https://blog.finxter.com/how-to-convert-a-list-of-lists-to-a-csv-file-in-python/"
   ]
  },
  {
   "cell_type": "markdown",
   "metadata": {
    "ExecuteTime": {
     "end_time": "2020-10-15T16:22:20.793498Z",
     "start_time": "2020-10-15T16:20:55.387Z"
    },
    "hidden": true
   },
   "source": [
    "d_shift_len_df = pd.DataFrame(data = d_shift_len_by_period_query_result, columns = ['period', 'shift_len', 'position', 'game_id'])"
   ]
  },
  {
   "cell_type": "code",
   "execution_count": 18,
   "metadata": {
    "ExecuteTime": {
     "end_time": "2020-10-16T20:02:13.180993Z",
     "start_time": "2020-10-16T20:02:13.177250Z"
    },
    "hidden": true
   },
   "outputs": [],
   "source": [
    "positions_in_order = ['D', 'LW', \"RW\", \"C\"]"
   ]
  },
  {
   "cell_type": "code",
   "execution_count": 17,
   "metadata": {
    "ExecuteTime": {
     "end_time": "2020-10-15T18:41:35.951007Z",
     "start_time": "2020-10-15T18:41:26.479318Z"
    },
    "hidden": true
   },
   "outputs": [],
   "source": [
    "for idx, query_result in enumerate(all_position_results):\n",
    "    position_name = positions_in_order[idx]\n",
    "    file_name = f\"../data/{position_name}_shifts.csv\"\n",
    "    with open(file_name, 'w', newline='') as f:\n",
    "        writer = csv.writer(f)\n",
    "        writer.writerows(query_result)"
   ]
  },
  {
   "cell_type": "markdown",
   "metadata": {
    "ExecuteTime": {
     "end_time": "2020-10-15T16:24:40.738626Z",
     "start_time": "2020-10-15T16:24:36.901896Z"
    },
    "hidden": true
   },
   "source": [
    "with open('../data/d_shits.csv', 'w', newline='') as f:\n",
    "    writer = csv.writer(f)\n",
    "    writer.writerows(d_shift_len_by_period_query_result)"
   ]
  },
  {
   "cell_type": "markdown",
   "metadata": {},
   "source": [
    "### Combining csvs to one csv"
   ]
  },
  {
   "cell_type": "code",
   "execution_count": 20,
   "metadata": {
    "ExecuteTime": {
     "end_time": "2020-10-16T20:12:31.794145Z",
     "start_time": "2020-10-16T20:12:21.906944Z"
    }
   },
   "outputs": [],
   "source": [
    "file_name = f\"../data/all_positions_shifts.csv\"\n",
    "with open(file_name, 'w', newline='') as f:\n",
    "    for idx, query_result in enumerate(all_position_results):\n",
    "        writer = csv.writer(f)\n",
    "        writer.writerows(query_result)"
   ]
  },
  {
   "cell_type": "markdown",
   "metadata": {},
   "source": [
    "# Winger shift length by period and home/away team  "
   ]
  },
  {
   "cell_type": "code",
   "execution_count": null,
   "metadata": {
    "ExecuteTime": {
     "start_time": "2020-10-16T22:09:50.086Z"
    }
   },
   "outputs": [],
   "source": [
    "lw_shift_len_by_period_away = f\"\"\"\n",
    "            SELECT period, shift_end - shift_start, player_info.primaryPosition, game_shifts.game_id\n",
    "            FROM game_shifts\n",
    "            INNER JOIN player_info\n",
    "            ON game_shifts.player_id = player_info.player_id\n",
    "                INNER JOIN game_skater_stats\n",
    "                ON player_info.player_id = game_skater_stats.player_id\n",
    "                    INNER JOIN game\n",
    "                    ON game_skater_stats.team_id = game.away_team_id\n",
    "            WHERE period < 4 \n",
    "            AND period > 0\n",
    "            AND player_info.primaryPosition = 'LW'\n",
    "\"\"\"\n",
    "lw_shift_len_by_period_away_query_result = run_query(lw_shift_len_by_period_away)"
   ]
  },
  {
   "cell_type": "code",
   "execution_count": null,
   "metadata": {
    "ExecuteTime": {
     "start_time": "2020-10-16T22:09:50.455Z"
    }
   },
   "outputs": [],
   "source": [
    "lw_shift_len_by_period_away_query_result[0:3]"
   ]
  },
  {
   "cell_type": "code",
   "execution_count": null,
   "metadata": {},
   "outputs": [],
   "source": []
  }
 ],
 "metadata": {
  "kernelspec": {
   "display_name": "Python 3",
   "language": "python",
   "name": "python3"
  },
  "language_info": {
   "codemirror_mode": {
    "name": "ipython",
    "version": 3
   },
   "file_extension": ".py",
   "mimetype": "text/x-python",
   "name": "python",
   "nbconvert_exporter": "python",
   "pygments_lexer": "ipython3",
   "version": "3.6.9"
  },
  "toc": {
   "base_numbering": 1,
   "nav_menu": {},
   "number_sections": true,
   "sideBar": true,
   "skip_h1_title": false,
   "title_cell": "Table of Contents",
   "title_sidebar": "Contents",
   "toc_cell": false,
   "toc_position": {
    "height": "calc(100% - 180px)",
    "left": "10px",
    "top": "150px",
    "width": "317.1875px"
   },
   "toc_section_display": true,
   "toc_window_display": true
  },
  "varInspector": {
   "cols": {
    "lenName": 16,
    "lenType": 16,
    "lenVar": 40
   },
   "kernels_config": {
    "python": {
     "delete_cmd_postfix": "",
     "delete_cmd_prefix": "del ",
     "library": "var_list.py",
     "varRefreshCmd": "print(var_dic_list())"
    },
    "r": {
     "delete_cmd_postfix": ") ",
     "delete_cmd_prefix": "rm(",
     "library": "var_list.r",
     "varRefreshCmd": "cat(var_dic_list()) "
    }
   },
   "types_to_exclude": [
    "module",
    "function",
    "builtin_function_or_method",
    "instance",
    "_Feature"
   ],
   "window_display": false
  }
 },
 "nbformat": 4,
 "nbformat_minor": 2
}
