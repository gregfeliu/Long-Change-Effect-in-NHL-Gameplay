{
 "cells": [
  {
   "cell_type": "markdown",
   "metadata": {},
   "source": [
    "import pandas as pd\n",
    "import matplotlib.pyplot as plt\n",
    "# ^^^ pyforest auto-imports - don't write above this line\n"
   ]
  },
  {
   "cell_type": "markdown",
   "metadata": {},
   "source": [
    "# Main Question: Do American teams have more American Players than Canadian Teams and vice versa for 2018-2019? "
   ]
  },
  {
   "cell_type": "markdown",
   "metadata": {
    "ExecuteTime": {
     "end_time": "2020-10-28T14:18:21.758588Z",
     "start_time": "2020-10-28T14:18:21.756122Z"
    }
   },
   "source": [
    "## Imports"
   ]
  },
  {
   "cell_type": "code",
   "execution_count": 17,
   "metadata": {
    "ExecuteTime": {
     "end_time": "2021-01-25T22:48:48.265858Z",
     "start_time": "2021-01-25T22:48:48.261192Z"
    }
   },
   "outputs": [],
   "source": [
    "import warnings\n",
    "from functions import *\n",
    "import pickle\n",
    "sns.set(style=\"whitegrid\")"
   ]
  },
  {
   "cell_type": "markdown",
   "metadata": {},
   "source": [
    "## Last Year Available"
   ]
  },
  {
   "cell_type": "code",
   "execution_count": 18,
   "metadata": {
    "ExecuteTime": {
     "end_time": "2021-01-25T22:48:48.547923Z",
     "start_time": "2021-01-25T22:48:48.269251Z"
    }
   },
   "outputs": [],
   "source": [
    "last_year_query = f\"\"\"\n",
    "    SELECT DISTINCT(season)\n",
    "    FROM game\n",
    "\"\"\"\n",
    "last_year_query_result = run_query(last_year_query)\n",
    "last_year = last_year_query_result[-1][0]"
   ]
  },
  {
   "cell_type": "markdown",
   "metadata": {},
   "source": [
    "## Canadian Teams List"
   ]
  },
  {
   "cell_type": "markdown",
   "metadata": {},
   "source": [
    "### All teams plus their ID"
   ]
  },
  {
   "cell_type": "code",
   "execution_count": 19,
   "metadata": {
    "ExecuteTime": {
     "end_time": "2021-01-25T22:48:48.867854Z",
     "start_time": "2021-01-25T22:48:48.553103Z"
    }
   },
   "outputs": [
    {
     "data": {
      "text/plain": [
       "[(31,)]"
      ]
     },
     "execution_count": 19,
     "metadata": {},
     "output_type": "execute_result"
    }
   ],
   "source": [
    "# from game_team_stats table\n",
    "all_teams_query = f\"\"\"\n",
    "    SELECT COUNT(DISTINCT(team_id))\n",
    "    FROM game_teams_stats\n",
    "    INNER JOIN game\n",
    "        ON game.game_id = game_teams_stats.game_id\n",
    "    WHERE game.season = {last_year}\n",
    "\"\"\" # adding the last year clause removed 3 teams\n",
    "all_teams_query_result = run_query(all_teams_query)\n",
    "all_teams_query_result"
   ]
  },
  {
   "cell_type": "markdown",
   "metadata": {},
   "source": [
    "### Canadian Team Ids "
   ]
  },
  {
   "cell_type": "code",
   "execution_count": 20,
   "metadata": {
    "ExecuteTime": {
     "end_time": "2021-01-25T22:48:49.150106Z",
     "start_time": "2021-01-25T22:48:48.873596Z"
    }
   },
   "outputs": [],
   "source": [
    "# getting the actual team_id for each team\n",
    "## also found here: https://www.kaggle.com/martinellis/nhl-game-data?select=team_info.csv\n",
    "all_team_ids_query = f\"\"\"\n",
    "    SELECT DISTINCT(team_id)\n",
    "    FROM game_teams_stats\n",
    "    INNER JOIN game\n",
    "        ON game.game_id = game_teams_stats.game_id\n",
    "    WHERE game.season = {last_year}\n",
    "\"\"\"\n",
    "all_team_ids_query_result = run_query(all_team_ids_query)"
   ]
  },
  {
   "cell_type": "code",
   "execution_count": 21,
   "metadata": {
    "ExecuteTime": {
     "end_time": "2021-01-25T22:48:49.163035Z",
     "start_time": "2021-01-25T22:48:49.157685Z"
    }
   },
   "outputs": [],
   "source": [
    "# flatten and sort\n",
    "## https://stackoverflow.com/questions/952914/how-to-make-a-flat-list-out-of-list-of-lists\n",
    "team_ids_flattened = [x for i in all_team_ids_query_result for x in i]\n",
    "team_ids_sorted = sorted(team_ids_flattened)"
   ]
  },
  {
   "cell_type": "code",
   "execution_count": 22,
   "metadata": {
    "ExecuteTime": {
     "end_time": "2021-01-25T22:48:49.173382Z",
     "start_time": "2021-01-25T22:48:49.166436Z"
    }
   },
   "outputs": [
    {
     "data": {
      "text/plain": [
       "[26, 9, 8, 10, 20, 52, 22]"
      ]
     },
     "execution_count": 22,
     "metadata": {},
     "output_type": "execute_result"
    }
   ],
   "source": [
    "canadian_team_dict = {'Vancouver': 26, 'Ottawa': 9,\n",
    "                     'Montreal': 8, \"Toronto\": 10, \"Calgary\": 20,\n",
    "                     \"Winnipeg\": 52, \"Edmonton\": 22}\n",
    "canadian_team_ids = list(canadian_team_dict.values())\n",
    "canadian_team_ids"
   ]
  },
  {
   "cell_type": "markdown",
   "metadata": {},
   "source": [
    "## Combining all players into a dataframe"
   ]
  },
  {
   "cell_type": "markdown",
   "metadata": {
    "ExecuteTime": {
     "end_time": "2021-01-22T19:38:13.196223Z",
     "start_time": "2021-01-22T19:38:13.187136Z"
    }
   },
   "source": [
    "getting all teams, their last games, and their rosters for those games \n"
   ]
  },
  {
   "cell_type": "markdown",
   "metadata": {},
   "source": [
    "### All teams with their last game"
   ]
  },
  {
   "cell_type": "code",
   "execution_count": 23,
   "metadata": {
    "ExecuteTime": {
     "end_time": "2021-01-25T22:48:49.449917Z",
     "start_time": "2021-01-25T22:48:49.176299Z"
    }
   },
   "outputs": [
    {
     "data": {
      "text/plain": [
       "31"
      ]
     },
     "execution_count": 23,
     "metadata": {},
     "output_type": "execute_result"
    }
   ],
   "source": [
    "last_game_roster_query = f\"\"\"\n",
    "    SELECT team_id, MAX(gts.game_id)\n",
    "    FROM game_teams_stats gts\n",
    "    GROUP BY team_id\n",
    "        HAVING MAX(gts.game_id) > 2018000000\n",
    "\"\"\"\n",
    "last_game_roster_query_result = run_query(last_game_roster_query)\n",
    "len(last_game_roster_query_result)"
   ]
  },
  {
   "cell_type": "markdown",
   "metadata": {},
   "source": [
    "### Getting and saving their rosters"
   ]
  },
  {
   "cell_type": "code",
   "execution_count": 24,
   "metadata": {
    "ExecuteTime": {
     "end_time": "2021-01-25T22:48:50.270549Z",
     "start_time": "2021-01-25T22:48:49.454798Z"
    }
   },
   "outputs": [
    {
     "data": {
      "text/plain": [
       "849"
      ]
     },
     "execution_count": 24,
     "metadata": {},
     "output_type": "execute_result"
    }
   ],
   "source": [
    "players_in_last_game_roster_query = f\"\"\"\n",
    "    SELECT team_id, game_id, pi.player_id, \n",
    "        pi.firstName, pi.lastName, pi.nationality, pi.birthCity, pi.primaryPosition\n",
    "    FROM game_skater_stats gss\n",
    "    INNER JOIN player_info pi\n",
    "        ON gss.player_id = pi.player_id\n",
    "    WHERE (team_id, game_id) IN\n",
    "    (SELECT team_id, MAX(gts.game_id)\n",
    "    FROM game_teams_stats gts\n",
    "    GROUP BY team_id\n",
    "        HAVING MAX(gts.game_id) > 2018000000\n",
    "    )\n",
    "\"\"\"\n",
    "players_in_last_game_roster_query_result = run_query(players_in_last_game_roster_query)\n",
    "len(players_in_last_game_roster_query_result)"
   ]
  },
  {
   "cell_type": "code",
   "execution_count": 25,
   "metadata": {
    "ExecuteTime": {
     "end_time": "2021-01-25T22:48:50.543390Z",
     "start_time": "2021-01-25T22:48:50.274382Z"
    }
   },
   "outputs": [
    {
     "data": {
      "text/plain": [
       "1205"
      ]
     },
     "execution_count": 25,
     "metadata": {},
     "output_type": "execute_result"
    }
   ],
   "source": [
    "# including players who didn't play in last game\n",
    "length_of_player_info_table_query = f\"\"\"\n",
    "    SELECT COUNT(DISTINCT(player_id))\n",
    "    FROM player_info\n",
    "\"\"\"\n",
    "length_of_player_info_table_query_result = run_query(length_of_player_info_table_query)\n",
    "length_of_player_info_table_query_result[0][0]"
   ]
  },
  {
   "cell_type": "code",
   "execution_count": 26,
   "metadata": {
    "ExecuteTime": {
     "end_time": "2021-01-25T22:48:50.555473Z",
     "start_time": "2021-01-25T22:48:50.547713Z"
    },
    "scrolled": true
   },
   "outputs": [
    {
     "data": {
      "text/plain": [
       "651"
      ]
     },
     "execution_count": 26,
     "metadata": {},
     "output_type": "execute_result"
    }
   ],
   "source": [
    "# approx number of players in last game\n",
    "num_of_teams = 31\n",
    "players_per_team = 21\n",
    "num_of_teams * players_per_team"
   ]
  },
  {
   "cell_type": "markdown",
   "metadata": {},
   "source": [
    "#### Inputting players into dataframe"
   ]
  },
  {
   "cell_type": "code",
   "execution_count": 27,
   "metadata": {
    "ExecuteTime": {
     "end_time": "2021-01-25T22:48:50.579948Z",
     "start_time": "2021-01-25T22:48:50.558208Z"
    }
   },
   "outputs": [],
   "source": [
    "player_df = pd.DataFrame(data = players_in_last_game_roster_query_result,\n",
    "                        columns = ['Team_id', \"Game_id\", \"Player_id\", \"First_name\",\n",
    "                                  \"Last_name\", \"Country_code\", \"Birth_city\", \"Primary_position\"])"
   ]
  },
  {
   "cell_type": "code",
   "execution_count": 28,
   "metadata": {
    "ExecuteTime": {
     "end_time": "2021-01-25T22:48:50.592186Z",
     "start_time": "2021-01-25T22:48:50.581840Z"
    }
   },
   "outputs": [
    {
     "data": {
      "text/plain": [
       "array(['C', 'D', 'RW', 'LW'], dtype=object)"
      ]
     },
     "execution_count": 28,
     "metadata": {},
     "output_type": "execute_result"
    }
   ],
   "source": [
    "# only players, no goalie info\n",
    "player_df.Primary_position.unique()"
   ]
  },
  {
   "cell_type": "code",
   "execution_count": 29,
   "metadata": {
    "ExecuteTime": {
     "end_time": "2021-01-25T22:48:50.610716Z",
     "start_time": "2021-01-25T22:48:50.595540Z"
    },
    "scrolled": true
   },
   "outputs": [
    {
     "data": {
      "text/plain": [
       "(283, 8)"
      ]
     },
     "execution_count": 29,
     "metadata": {},
     "output_type": "execute_result"
    }
   ],
   "source": [
    "# removing duplicates \n",
    "player_df.drop_duplicates(subset=['Player_id'], inplace=True)\n",
    "player_df.reset_index(inplace=True, drop=True)\n",
    "player_df.shape"
   ]
  },
  {
   "cell_type": "markdown",
   "metadata": {},
   "source": [
    "##### Adding Canadian Team Feature"
   ]
  },
  {
   "cell_type": "code",
   "execution_count": 30,
   "metadata": {
    "ExecuteTime": {
     "end_time": "2021-01-25T22:48:50.618786Z",
     "start_time": "2021-01-25T22:48:50.613024Z"
    }
   },
   "outputs": [
    {
     "data": {
      "text/plain": [
       "[26, 9, 8, 10, 20, 52, 22]"
      ]
     },
     "execution_count": 30,
     "metadata": {},
     "output_type": "execute_result"
    }
   ],
   "source": [
    "# adding canada feature\n",
    "canadian_team_values = list(canadian_team_dict.values())\n",
    "canadian_team_values"
   ]
  },
  {
   "cell_type": "code",
   "execution_count": 31,
   "metadata": {
    "ExecuteTime": {
     "end_time": "2021-01-25T22:48:50.628024Z",
     "start_time": "2021-01-25T22:48:50.620710Z"
    }
   },
   "outputs": [
    {
     "data": {
      "text/plain": [
       "62"
      ]
     },
     "execution_count": 31,
     "metadata": {},
     "output_type": "execute_result"
    }
   ],
   "source": [
    "in_canada = player_df['Team_id'].isin(canadian_team_values)\n",
    "in_canada.sum()"
   ]
  },
  {
   "cell_type": "code",
   "execution_count": 32,
   "metadata": {
    "ExecuteTime": {
     "end_time": "2021-01-25T22:48:50.636048Z",
     "start_time": "2021-01-25T22:48:50.630658Z"
    }
   },
   "outputs": [],
   "source": [
    "player_df['Canadian_team'] = in_canada"
   ]
  },
  {
   "cell_type": "code",
   "execution_count": 36,
   "metadata": {
    "ExecuteTime": {
     "end_time": "2021-01-25T22:50:48.196544Z",
     "start_time": "2021-01-25T22:50:48.184248Z"
    }
   },
   "outputs": [],
   "source": [
    "# adding canadian and american player_feature\n",
    "player_df['Canadian_player'] = player_df['Country_code'] == 'CAN'\n",
    "player_df['Amer_player'] = player_df['Country_code'] == 'USA'\n",
    "# adding dummy column so we know how many people are on each team when we use groupby\n",
    "player_df['Dummy'] = 1\n",
    "player_df.to_csv(\"player_df\")"
   ]
  },
  {
   "cell_type": "markdown",
   "metadata": {},
   "source": [
    "#### Grouping By Team"
   ]
  },
  {
   "cell_type": "code",
   "execution_count": 35,
   "metadata": {
    "ExecuteTime": {
     "end_time": "2021-01-25T22:49:21.757037Z",
     "start_time": "2021-01-25T22:49:21.744157Z"
    }
   },
   "outputs": [],
   "source": [
    "# groupby sum for each country_code and team\n",
    "# lots of teams are missing players, so we will aggregate the canadian and american teams\n",
    "player_df_groupby_sum = player_df.groupby('Team_id').sum()\n",
    "player_df_groupby_sum.to_csv(\"player_df_groupby_sum\")"
   ]
  }
 ],
 "metadata": {
  "kernelspec": {
   "display_name": "Python [conda env:learn-env] *",
   "language": "python",
   "name": "conda-env-learn-env-py"
  },
  "language_info": {
   "codemirror_mode": {
    "name": "ipython",
    "version": 3
   },
   "file_extension": ".py",
   "mimetype": "text/x-python",
   "name": "python",
   "nbconvert_exporter": "python",
   "pygments_lexer": "ipython3",
   "version": "3.6.9"
  },
  "toc": {
   "base_numbering": 1,
   "nav_menu": {},
   "number_sections": true,
   "sideBar": true,
   "skip_h1_title": false,
   "title_cell": "Table of Contents",
   "title_sidebar": "Contents",
   "toc_cell": false,
   "toc_position": {},
   "toc_section_display": true,
   "toc_window_display": true
  },
  "varInspector": {
   "cols": {
    "lenName": 16,
    "lenType": 16,
    "lenVar": 40
   },
   "kernels_config": {
    "python": {
     "delete_cmd_postfix": "",
     "delete_cmd_prefix": "del ",
     "library": "var_list.py",
     "varRefreshCmd": "print(var_dic_list())"
    },
    "r": {
     "delete_cmd_postfix": ") ",
     "delete_cmd_prefix": "rm(",
     "library": "var_list.r",
     "varRefreshCmd": "cat(var_dic_list()) "
    }
   },
   "types_to_exclude": [
    "module",
    "function",
    "builtin_function_or_method",
    "instance",
    "_Feature"
   ],
   "window_display": false
  }
 },
 "nbformat": 4,
 "nbformat_minor": 2
}
