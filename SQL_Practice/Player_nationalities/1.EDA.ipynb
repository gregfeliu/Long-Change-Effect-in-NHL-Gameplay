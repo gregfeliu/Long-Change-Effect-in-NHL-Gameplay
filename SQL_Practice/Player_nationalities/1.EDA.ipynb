{
 "cells": [
  {
   "cell_type": "markdown",
   "metadata": {},
   "source": [
    "import pandas as pd\n",
    "import matplotlib.pyplot as plt\n",
    "# ^^^ pyforest auto-imports - don't write above this line\n"
   ]
  },
  {
   "cell_type": "markdown",
   "metadata": {},
   "source": [
    "# Main Question: Do American teams have more American Players than Canadian Teams and vice versa for 2018-2019? "
   ]
  },
  {
   "cell_type": "markdown",
   "metadata": {
    "ExecuteTime": {
     "end_time": "2020-10-28T14:18:21.758588Z",
     "start_time": "2020-10-28T14:18:21.756122Z"
    }
   },
   "source": [
    "## Imports"
   ]
  },
  {
   "cell_type": "code",
   "execution_count": 1,
   "metadata": {
    "ExecuteTime": {
     "end_time": "2021-01-23T16:15:13.898277Z",
     "start_time": "2021-01-23T16:15:12.368087Z"
    }
   },
   "outputs": [
    {
     "name": "stderr",
     "output_type": "stream",
     "text": [
      "\n",
      "Bad key \"text.kerning_factor\" on line 4 in\n",
      "/Users/gregfeliu/opt/anaconda3/envs/learn-env/lib/python3.6/site-packages/matplotlib/mpl-data/stylelib/_classic_test_patch.mplstyle.\n",
      "You probably need to get an updated matplotlibrc file from\n",
      "https://github.com/matplotlib/matplotlib/blob/v3.1.3/matplotlibrc.template\n",
      "or from the matplotlib source distribution\n"
     ]
    }
   ],
   "source": [
    "import warnings\n",
    "from functions import *\n",
    "import pickle\n",
    "sns.set(style=\"whitegrid\")"
   ]
  },
  {
   "cell_type": "markdown",
   "metadata": {},
   "source": [
    "## Last Year Available"
   ]
  },
  {
   "cell_type": "code",
   "execution_count": 2,
   "metadata": {
    "ExecuteTime": {
     "end_time": "2021-01-23T16:15:14.242006Z",
     "start_time": "2021-01-23T16:15:13.948404Z"
    }
   },
   "outputs": [],
   "source": [
    "last_year_query = f\"\"\"\n",
    "    SELECT DISTINCT(season)\n",
    "    FROM game\n",
    "\"\"\"\n",
    "last_year_query_result = run_query(last_year_query)"
   ]
  },
  {
   "cell_type": "code",
   "execution_count": 3,
   "metadata": {
    "ExecuteTime": {
     "end_time": "2021-01-23T16:15:14.312542Z",
     "start_time": "2021-01-23T16:15:14.309368Z"
    }
   },
   "outputs": [],
   "source": [
    "last_year = last_year_query_result[-1][0]"
   ]
  },
  {
   "cell_type": "code",
   "execution_count": 4,
   "metadata": {
    "ExecuteTime": {
     "end_time": "2021-01-23T16:15:15.029369Z",
     "start_time": "2021-01-23T16:15:15.021271Z"
    }
   },
   "outputs": [
    {
     "data": {
      "text/plain": [
       "[(0,),\n",
       " (20112012,),\n",
       " (20102011,),\n",
       " (20122013,),\n",
       " (20162017,),\n",
       " (20142015,),\n",
       " (20152016,),\n",
       " (20132014,),\n",
       " (20172018,),\n",
       " (20182019,)]"
      ]
     },
     "execution_count": 4,
     "metadata": {},
     "output_type": "execute_result"
    }
   ],
   "source": [
    "last_year_query_result"
   ]
  },
  {
   "cell_type": "markdown",
   "metadata": {},
   "source": [
    "## Canadian Teams List"
   ]
  },
  {
   "cell_type": "markdown",
   "metadata": {},
   "source": [
    "### All teams plus their ID"
   ]
  },
  {
   "cell_type": "code",
   "execution_count": 7,
   "metadata": {
    "ExecuteTime": {
     "end_time": "2021-01-23T16:15:39.024486Z",
     "start_time": "2021-01-23T16:15:38.717547Z"
    }
   },
   "outputs": [],
   "source": [
    "# not all of the franchises are in team_info\n",
    "all_teams_query = f\"\"\"\n",
    "    SELECT COUNT(*)\n",
    "    FROM team_info\n",
    "\"\"\"\n",
    "all_teams_query_result = run_query(all_teams_query)"
   ]
  },
  {
   "cell_type": "code",
   "execution_count": 8,
   "metadata": {
    "ExecuteTime": {
     "end_time": "2021-01-23T16:15:39.126982Z",
     "start_time": "2021-01-23T16:15:39.123322Z"
    }
   },
   "outputs": [
    {
     "data": {
      "text/plain": [
       "[(17,)]"
      ]
     },
     "execution_count": 8,
     "metadata": {},
     "output_type": "execute_result"
    }
   ],
   "source": [
    "all_teams_query_result"
   ]
  },
  {
   "cell_type": "code",
   "execution_count": 9,
   "metadata": {
    "ExecuteTime": {
     "end_time": "2021-01-23T16:15:39.762898Z",
     "start_time": "2021-01-23T16:15:39.756539Z"
    }
   },
   "outputs": [
    {
     "data": {
      "text/plain": [
       "[(17,)]"
      ]
     },
     "execution_count": 9,
     "metadata": {},
     "output_type": "execute_result"
    }
   ],
   "source": [
    "all_teams_query_result"
   ]
  },
  {
   "cell_type": "code",
   "execution_count": 10,
   "metadata": {
    "ExecuteTime": {
     "end_time": "2021-01-23T16:15:55.704890Z",
     "start_time": "2021-01-23T16:15:55.416461Z"
    }
   },
   "outputs": [],
   "source": [
    "# from game_team_stats table\n",
    "all_teams_query2 = f\"\"\"\n",
    "    SELECT COUNT(DISTINCT(team_id))\n",
    "    FROM game_teams_stats\n",
    "    INNER JOIN game\n",
    "        ON game.game_id = game_teams_stats.game_id\n",
    "    WHERE game.season = {last_year}\n",
    "\"\"\" # adding the last year clause removed 3 teams\n",
    "all_teams_query2_result = run_query(all_teams_query2)"
   ]
  },
  {
   "cell_type": "code",
   "execution_count": 11,
   "metadata": {
    "ExecuteTime": {
     "end_time": "2021-01-23T16:15:55.783174Z",
     "start_time": "2021-01-23T16:15:55.779621Z"
    }
   },
   "outputs": [
    {
     "data": {
      "text/plain": [
       "[(31,)]"
      ]
     },
     "execution_count": 11,
     "metadata": {},
     "output_type": "execute_result"
    }
   ],
   "source": [
    "all_teams_query2_result"
   ]
  },
  {
   "cell_type": "markdown",
   "metadata": {},
   "source": [
    "### Canadian Team Ids "
   ]
  },
  {
   "cell_type": "code",
   "execution_count": 12,
   "metadata": {
    "ExecuteTime": {
     "end_time": "2021-01-23T16:16:01.555777Z",
     "start_time": "2021-01-23T16:16:01.252070Z"
    }
   },
   "outputs": [],
   "source": [
    "# getting the actual team_id for each team\n",
    "## also found here: https://www.kaggle.com/martinellis/nhl-game-data?select=team_info.csv\n",
    "all_team_ids_query = f\"\"\"\n",
    "    SELECT DISTINCT(team_id)\n",
    "    FROM game_teams_stats\n",
    "    INNER JOIN game\n",
    "        ON game.game_id = game_teams_stats.game_id\n",
    "    WHERE game.season = {last_year}\n",
    "\"\"\"\n",
    "all_team_ids_query_result = run_query(all_team_ids_query)"
   ]
  },
  {
   "cell_type": "code",
   "execution_count": 13,
   "metadata": {
    "ExecuteTime": {
     "end_time": "2021-01-23T16:16:02.025446Z",
     "start_time": "2021-01-23T16:16:02.020880Z"
    }
   },
   "outputs": [],
   "source": [
    "# flatten and sort\n",
    "## https://stackoverflow.com/questions/952914/how-to-make-a-flat-list-out-of-list-of-lists\n",
    "team_ids_flattened = [x for i in all_team_ids_query_result for x in i]\n",
    "team_ids_sorted = sorted(team_ids_flattened)"
   ]
  },
  {
   "cell_type": "code",
   "execution_count": 14,
   "metadata": {
    "ExecuteTime": {
     "end_time": "2021-01-23T16:16:02.488139Z",
     "start_time": "2021-01-23T16:16:02.483980Z"
    }
   },
   "outputs": [],
   "source": [
    "canadian_team_dict = {'Vancouver': 26, 'Ottawa': 9,\n",
    "                     'Montreal': 8, \"Toronto\": 10, \"Calgary\": 20,\n",
    "                     \"Winnipeg\": 52, \"Edmonton\": 22}\n",
    "canadian_team_ids = list(canadian_team_dict.values())"
   ]
  },
  {
   "cell_type": "code",
   "execution_count": 15,
   "metadata": {
    "ExecuteTime": {
     "end_time": "2021-01-23T16:16:02.857879Z",
     "start_time": "2021-01-23T16:16:02.852649Z"
    }
   },
   "outputs": [
    {
     "data": {
      "text/plain": [
       "[26, 9, 8, 10, 20, 52, 22]"
      ]
     },
     "execution_count": 15,
     "metadata": {},
     "output_type": "execute_result"
    }
   ],
   "source": [
    "canadian_team_ids"
   ]
  },
  {
   "cell_type": "markdown",
   "metadata": {},
   "source": [
    "### Values for \"American\" and \"Canadian\""
   ]
  },
  {
   "cell_type": "code",
   "execution_count": 16,
   "metadata": {
    "ExecuteTime": {
     "end_time": "2021-01-23T16:16:08.230561Z",
     "start_time": "2021-01-23T16:16:07.959979Z"
    }
   },
   "outputs": [],
   "source": [
    "player_nat_query = f\"\"\"\n",
    "    SELECT DISTINCT(nationality)\n",
    "    FROM player_info\n",
    "\"\"\"\n",
    "player_nat_query_result = run_query(player_nat_query)"
   ]
  },
  {
   "cell_type": "code",
   "execution_count": 18,
   "metadata": {
    "ExecuteTime": {
     "end_time": "2021-01-23T16:16:11.386376Z",
     "start_time": "2021-01-23T16:16:11.382755Z"
    }
   },
   "outputs": [],
   "source": [
    "# player_nat_query_result"
   ]
  },
  {
   "cell_type": "markdown",
   "metadata": {},
   "source": [
    "### Test for a single team\n",
    "only has players. or maybe not"
   ]
  },
  {
   "cell_type": "code",
   "execution_count": 19,
   "metadata": {
    "ExecuteTime": {
     "end_time": "2021-01-23T16:16:13.716506Z",
     "start_time": "2021-01-23T16:16:13.427129Z"
    }
   },
   "outputs": [],
   "source": [
    "last_ottawa_game_query = f\"\"\"\n",
    "    SELECT game_id\n",
    "    FROM game_teams_stats\n",
    "    WHERE team_id = 9\n",
    "    ORDER BY game_id DESC\n",
    "    LIMIT 1\n",
    "\"\"\" # when they were the home team\n",
    "last_ottawa_game_query_result = run_query(last_ottawa_game_query)"
   ]
  },
  {
   "cell_type": "code",
   "execution_count": 20,
   "metadata": {
    "ExecuteTime": {
     "end_time": "2021-01-23T16:16:13.839184Z",
     "start_time": "2021-01-23T16:16:13.834186Z"
    }
   },
   "outputs": [
    {
     "data": {
      "text/plain": [
       "[(2018021260,)]"
      ]
     },
     "execution_count": 20,
     "metadata": {},
     "output_type": "execute_result"
    }
   ],
   "source": [
    "last_ottawa_game_query_result"
   ]
  },
  {
   "cell_type": "code",
   "execution_count": 21,
   "metadata": {
    "ExecuteTime": {
     "end_time": "2021-01-23T16:16:19.599901Z",
     "start_time": "2021-01-23T16:16:15.656453Z"
    }
   },
   "outputs": [],
   "source": [
    "ottawa_nat_query = f\"\"\"\n",
    "    SELECT DISTINCT(ps.player_id), ps.nationality\n",
    "    FROM player_info ps\n",
    "    INNER JOIN game_shifts gs\n",
    "        ON ps.player_id = gs.player_id\n",
    "    WHERE game_id = 2018021260\n",
    "\"\"\"\n",
    "ottawa_nat_query_result = run_query(ottawa_nat_query)"
   ]
  },
  {
   "cell_type": "code",
   "execution_count": 22,
   "metadata": {
    "ExecuteTime": {
     "end_time": "2021-01-23T16:16:19.676819Z",
     "start_time": "2021-01-23T16:16:19.672836Z"
    }
   },
   "outputs": [
    {
     "data": {
      "text/plain": [
       "19"
      ]
     },
     "execution_count": 22,
     "metadata": {},
     "output_type": "execute_result"
    }
   ],
   "source": [
    "len(ottawa_nat_query_result)"
   ]
  },
  {
   "cell_type": "code",
   "execution_count": 23,
   "metadata": {
    "ExecuteTime": {
     "end_time": "2021-01-23T16:16:20.887855Z",
     "start_time": "2021-01-23T16:16:20.883319Z"
    }
   },
   "outputs": [],
   "source": [
    "all_nats = set(x[1] for x in ottawa_nat_query_result)"
   ]
  },
  {
   "cell_type": "code",
   "execution_count": 25,
   "metadata": {
    "ExecuteTime": {
     "end_time": "2021-01-23T16:16:33.264336Z",
     "start_time": "2021-01-23T16:16:33.258050Z"
    }
   },
   "outputs": [
    {
     "data": {
      "text/plain": [
       "{'CAN', 'CHE', 'FIN', 'SWE', 'USA'}"
      ]
     },
     "execution_count": 25,
     "metadata": {},
     "output_type": "execute_result"
    }
   ],
   "source": [
    "all_nats"
   ]
  },
  {
   "cell_type": "code",
   "execution_count": 26,
   "metadata": {
    "ExecuteTime": {
     "end_time": "2021-01-23T16:16:36.793840Z",
     "start_time": "2021-01-23T16:16:36.789138Z"
    },
    "scrolled": true
   },
   "outputs": [],
   "source": [
    "# getting the number of each nationality and their percentage \n",
    "ottawa_nat_dict = {x:0 for x in all_nats}\n",
    "for x in ottawa_nat_query_result:\n",
    "    ottawa_nat_dict[x[1]] += 1"
   ]
  },
  {
   "cell_type": "code",
   "execution_count": 27,
   "metadata": {
    "ExecuteTime": {
     "end_time": "2021-01-23T16:16:37.512511Z",
     "start_time": "2021-01-23T16:16:37.508077Z"
    }
   },
   "outputs": [],
   "source": [
    "num_players_on_team = len(ottawa_nat_query_result)\n",
    "ottawa_nat_dict_pct = {key: round(value/num_players_on_team, 2) for key, value in ottawa_nat_dict.items()}"
   ]
  },
  {
   "cell_type": "code",
   "execution_count": 28,
   "metadata": {
    "ExecuteTime": {
     "end_time": "2021-01-23T16:16:37.853816Z",
     "start_time": "2021-01-23T16:16:37.848836Z"
    }
   },
   "outputs": [
    {
     "data": {
      "text/plain": [
       "{'CHE': 0.05, 'SWE': 0.11, 'FIN': 0.05, 'CAN': 0.47, 'USA': 0.32}"
      ]
     },
     "execution_count": 28,
     "metadata": {},
     "output_type": "execute_result"
    }
   ],
   "source": [
    "ottawa_nat_dict_pct"
   ]
  },
  {
   "cell_type": "markdown",
   "metadata": {},
   "source": [
    "## Combining all players into a dataframe"
   ]
  },
  {
   "cell_type": "markdown",
   "metadata": {
    "ExecuteTime": {
     "end_time": "2021-01-22T19:38:13.196223Z",
     "start_time": "2021-01-22T19:38:13.187136Z"
    }
   },
   "source": [
    "getting all teams, their last games, and their rosters for those games \n"
   ]
  },
  {
   "cell_type": "markdown",
   "metadata": {},
   "source": [
    "### All teams with their last game"
   ]
  },
  {
   "cell_type": "code",
   "execution_count": 29,
   "metadata": {
    "ExecuteTime": {
     "end_time": "2021-01-23T16:16:51.136676Z",
     "start_time": "2021-01-23T16:16:50.866810Z"
    }
   },
   "outputs": [],
   "source": [
    "last_game_roster_query = f\"\"\"\n",
    "    SELECT team_id, MAX(gts.game_id)\n",
    "    FROM game_teams_stats gts\n",
    "    GROUP BY team_id\n",
    "        HAVING MAX(gts.game_id) > 2018000000\n",
    "\"\"\"\n",
    "last_game_roster_query_result = run_query(last_game_roster_query)"
   ]
  },
  {
   "cell_type": "code",
   "execution_count": 30,
   "metadata": {
    "ExecuteTime": {
     "end_time": "2021-01-23T16:16:51.239264Z",
     "start_time": "2021-01-23T16:16:51.235223Z"
    },
    "scrolled": true
   },
   "outputs": [
    {
     "data": {
      "text/plain": [
       "31"
      ]
     },
     "execution_count": 30,
     "metadata": {},
     "output_type": "execute_result"
    }
   ],
   "source": [
    "len(last_game_roster_query_result)"
   ]
  },
  {
   "cell_type": "markdown",
   "metadata": {},
   "source": [
    "### Getting and saving their rosters"
   ]
  },
  {
   "cell_type": "code",
   "execution_count": 31,
   "metadata": {
    "ExecuteTime": {
     "end_time": "2021-01-23T16:16:54.621152Z",
     "start_time": "2021-01-23T16:16:53.846759Z"
    }
   },
   "outputs": [],
   "source": [
    "players_in_last_game_roster_query = f\"\"\"\n",
    "    SELECT team_id, game_id, pi.player_id, \n",
    "        pi.firstName, pi.lastName, pi.nationality, pi.birthCity, pi.primaryPosition\n",
    "    FROM game_skater_stats gss\n",
    "    INNER JOIN player_info pi\n",
    "        ON gss.player_id = pi.player_id\n",
    "    WHERE (team_id, game_id) IN\n",
    "    (SELECT team_id, MAX(gts.game_id)\n",
    "    FROM game_teams_stats gts\n",
    "    GROUP BY team_id\n",
    "        HAVING MAX(gts.game_id) > 2018000000\n",
    "    )\n",
    "\"\"\"\n",
    "players_in_last_game_roster_query_result = run_query(players_in_last_game_roster_query)"
   ]
  },
  {
   "cell_type": "code",
   "execution_count": 32,
   "metadata": {
    "ExecuteTime": {
     "end_time": "2021-01-23T16:16:54.711987Z",
     "start_time": "2021-01-23T16:16:54.707623Z"
    }
   },
   "outputs": [
    {
     "data": {
      "text/plain": [
       "849"
      ]
     },
     "execution_count": 32,
     "metadata": {},
     "output_type": "execute_result"
    }
   ],
   "source": [
    "len(players_in_last_game_roster_query_result)"
   ]
  },
  {
   "cell_type": "code",
   "execution_count": 33,
   "metadata": {
    "ExecuteTime": {
     "end_time": "2021-01-23T16:16:56.672285Z",
     "start_time": "2021-01-23T16:16:56.415109Z"
    }
   },
   "outputs": [
    {
     "data": {
      "text/plain": [
       "[(1205,)]"
      ]
     },
     "execution_count": 33,
     "metadata": {},
     "output_type": "execute_result"
    }
   ],
   "source": [
    "# including players who didn't play in last game\n",
    "length_of_player_info_table_query = f\"\"\"\n",
    "    SELECT COUNT(DISTINCT(player_id))\n",
    "    FROM player_info\n",
    "\"\"\"\n",
    "length_of_player_info_table_query_result = run_query(length_of_player_info_table_query)\n",
    "length_of_player_info_table_query_result"
   ]
  },
  {
   "cell_type": "code",
   "execution_count": 34,
   "metadata": {
    "ExecuteTime": {
     "end_time": "2021-01-23T16:16:57.660841Z",
     "start_time": "2021-01-23T16:16:57.654833Z"
    },
    "scrolled": true
   },
   "outputs": [
    {
     "data": {
      "text/plain": [
       "651"
      ]
     },
     "execution_count": 34,
     "metadata": {},
     "output_type": "execute_result"
    }
   ],
   "source": [
    "# approx number of players in last game\n",
    "num_of_teams = 31\n",
    "players_per_team = 21\n",
    "num_of_teams * players_per_team"
   ]
  },
  {
   "cell_type": "markdown",
   "metadata": {},
   "source": [
    "#### Inputting players into dataframe"
   ]
  },
  {
   "cell_type": "code",
   "execution_count": 35,
   "metadata": {
    "ExecuteTime": {
     "end_time": "2021-01-23T16:17:07.558238Z",
     "start_time": "2021-01-23T16:17:07.549146Z"
    }
   },
   "outputs": [],
   "source": [
    "player_df = pd.DataFrame(data = players_in_last_game_roster_query_result,\n",
    "                        columns = ['Team_id', \"Game_id\", \"Player_id\", \"First_name\",\n",
    "                                  \"Last_name\", \"Country_code\", \"Birth_city\", \"Primary_position\"])"
   ]
  },
  {
   "cell_type": "code",
   "execution_count": 36,
   "metadata": {
    "ExecuteTime": {
     "end_time": "2021-01-23T16:17:08.141762Z",
     "start_time": "2021-01-23T16:17:08.134300Z"
    }
   },
   "outputs": [
    {
     "data": {
      "text/plain": [
       "array(['C', 'D', 'RW', 'LW'], dtype=object)"
      ]
     },
     "execution_count": 36,
     "metadata": {},
     "output_type": "execute_result"
    }
   ],
   "source": [
    "# only players, no goalie info\n",
    "player_df.Primary_position.unique()"
   ]
  },
  {
   "cell_type": "code",
   "execution_count": 37,
   "metadata": {
    "ExecuteTime": {
     "end_time": "2021-01-23T16:17:08.648432Z",
     "start_time": "2021-01-23T16:17:08.639990Z"
    },
    "scrolled": true
   },
   "outputs": [
    {
     "data": {
      "text/plain": [
       "(283, 8)"
      ]
     },
     "execution_count": 37,
     "metadata": {},
     "output_type": "execute_result"
    }
   ],
   "source": [
    "# removing duplicates \n",
    "player_df.drop_duplicates(subset=['Player_id'], inplace=True)\n",
    "player_df.reset_index(inplace=True, drop=True)\n",
    "player_df.shape"
   ]
  },
  {
   "cell_type": "markdown",
   "metadata": {},
   "source": [
    "##### Adding Canadian Team Feature"
   ]
  },
  {
   "cell_type": "code",
   "execution_count": 38,
   "metadata": {
    "ExecuteTime": {
     "end_time": "2021-01-23T16:17:10.648790Z",
     "start_time": "2021-01-23T16:17:10.645829Z"
    }
   },
   "outputs": [],
   "source": [
    "# adding canada feature\n",
    "canadian_team_values = list(canadian_team_dict.values())"
   ]
  },
  {
   "cell_type": "code",
   "execution_count": 39,
   "metadata": {
    "ExecuteTime": {
     "end_time": "2021-01-23T16:17:10.994781Z",
     "start_time": "2021-01-23T16:17:10.965843Z"
    }
   },
   "outputs": [
    {
     "data": {
      "text/plain": [
       "[26, 9, 8, 10, 20, 52, 22]"
      ]
     },
     "execution_count": 39,
     "metadata": {},
     "output_type": "execute_result"
    }
   ],
   "source": [
    "canadian_team_values"
   ]
  },
  {
   "cell_type": "code",
   "execution_count": 40,
   "metadata": {
    "ExecuteTime": {
     "end_time": "2021-01-23T16:17:12.218270Z",
     "start_time": "2021-01-23T16:17:12.214403Z"
    }
   },
   "outputs": [],
   "source": [
    "in_canada = player_df['Team_id'].isin(canadian_team_values)"
   ]
  },
  {
   "cell_type": "code",
   "execution_count": 41,
   "metadata": {
    "ExecuteTime": {
     "end_time": "2021-01-23T16:17:12.612458Z",
     "start_time": "2021-01-23T16:17:12.606432Z"
    }
   },
   "outputs": [
    {
     "data": {
      "text/plain": [
       "62"
      ]
     },
     "execution_count": 41,
     "metadata": {},
     "output_type": "execute_result"
    }
   ],
   "source": [
    "# maybe we're missing some teams. I know that was a thing for the player_info table (only 17 teams)\n",
    "in_canada.sum()"
   ]
  },
  {
   "cell_type": "code",
   "execution_count": 42,
   "metadata": {
    "ExecuteTime": {
     "end_time": "2021-01-23T16:17:13.076181Z",
     "start_time": "2021-01-23T16:17:13.070658Z"
    }
   },
   "outputs": [
    {
     "data": {
      "text/plain": [
       "{8, 9, 10, 20, 22, 26, 52}"
      ]
     },
     "execution_count": 42,
     "metadata": {},
     "output_type": "execute_result"
    }
   ],
   "source": [
    "# so maybe only partial results \n",
    "canadian_teams_in_df = set(x for x in player_df['Team_id'] if x in canadian_team_values)\n",
    "canadian_teams_in_df"
   ]
  },
  {
   "cell_type": "code",
   "execution_count": 43,
   "metadata": {
    "ExecuteTime": {
     "end_time": "2021-01-23T16:17:13.688859Z",
     "start_time": "2021-01-23T16:17:13.683487Z"
    }
   },
   "outputs": [],
   "source": [
    "player_df['Canadian_team'] = in_canada"
   ]
  },
  {
   "cell_type": "code",
   "execution_count": 44,
   "metadata": {
    "ExecuteTime": {
     "end_time": "2021-01-23T16:17:14.031157Z",
     "start_time": "2021-01-23T16:17:14.014605Z"
    },
    "scrolled": false
   },
   "outputs": [
    {
     "data": {
      "text/html": [
       "<div>\n",
       "<style scoped>\n",
       "    .dataframe tbody tr th:only-of-type {\n",
       "        vertical-align: middle;\n",
       "    }\n",
       "\n",
       "    .dataframe tbody tr th {\n",
       "        vertical-align: top;\n",
       "    }\n",
       "\n",
       "    .dataframe thead th {\n",
       "        text-align: right;\n",
       "    }\n",
       "</style>\n",
       "<table border=\"1\" class=\"dataframe\">\n",
       "  <thead>\n",
       "    <tr style=\"text-align: right;\">\n",
       "      <th></th>\n",
       "      <th>Team_id</th>\n",
       "      <th>Game_id</th>\n",
       "      <th>Player_id</th>\n",
       "      <th>First_name</th>\n",
       "      <th>Last_name</th>\n",
       "      <th>Country_code</th>\n",
       "      <th>Birth_city</th>\n",
       "      <th>Primary_position</th>\n",
       "      <th>Canadian_team</th>\n",
       "    </tr>\n",
       "  </thead>\n",
       "  <tbody>\n",
       "    <tr>\n",
       "      <th>0</th>\n",
       "      <td>24</td>\n",
       "      <td>2018021256</td>\n",
       "      <td>8470612</td>\n",
       "      <td>Ryan</td>\n",
       "      <td>Getzlaf</td>\n",
       "      <td>CAN</td>\n",
       "      <td>Regina</td>\n",
       "      <td>C</td>\n",
       "      <td>False</td>\n",
       "    </tr>\n",
       "    <tr>\n",
       "      <th>1</th>\n",
       "      <td>24</td>\n",
       "      <td>2018021256</td>\n",
       "      <td>8476854</td>\n",
       "      <td>Hampus</td>\n",
       "      <td>Lindholm</td>\n",
       "      <td>SWE</td>\n",
       "      <td>Helsingborg</td>\n",
       "      <td>D</td>\n",
       "      <td>False</td>\n",
       "    </tr>\n",
       "    <tr>\n",
       "      <th>2</th>\n",
       "      <td>24</td>\n",
       "      <td>2018021256</td>\n",
       "      <td>8478466</td>\n",
       "      <td>Daniel</td>\n",
       "      <td>Sprong</td>\n",
       "      <td>NLD</td>\n",
       "      <td>Amsterdam</td>\n",
       "      <td>RW</td>\n",
       "      <td>False</td>\n",
       "    </tr>\n",
       "    <tr>\n",
       "      <th>3</th>\n",
       "      <td>24</td>\n",
       "      <td>2018021256</td>\n",
       "      <td>8474683</td>\n",
       "      <td>Derek</td>\n",
       "      <td>Grant</td>\n",
       "      <td>CAN</td>\n",
       "      <td>Abbotsford</td>\n",
       "      <td>C</td>\n",
       "      <td>False</td>\n",
       "    </tr>\n",
       "    <tr>\n",
       "      <th>4</th>\n",
       "      <td>24</td>\n",
       "      <td>2018021256</td>\n",
       "      <td>8479368</td>\n",
       "      <td>Max</td>\n",
       "      <td>Jones</td>\n",
       "      <td>USA</td>\n",
       "      <td>Rochester</td>\n",
       "      <td>LW</td>\n",
       "      <td>False</td>\n",
       "    </tr>\n",
       "  </tbody>\n",
       "</table>\n",
       "</div>"
      ],
      "text/plain": [
       "   Team_id     Game_id  Player_id First_name Last_name Country_code  \\\n",
       "0       24  2018021256    8470612       Ryan   Getzlaf          CAN   \n",
       "1       24  2018021256    8476854     Hampus  Lindholm          SWE   \n",
       "2       24  2018021256    8478466     Daniel    Sprong          NLD   \n",
       "3       24  2018021256    8474683      Derek     Grant          CAN   \n",
       "4       24  2018021256    8479368        Max     Jones          USA   \n",
       "\n",
       "    Birth_city Primary_position  Canadian_team  \n",
       "0       Regina                C          False  \n",
       "1  Helsingborg                D          False  \n",
       "2    Amsterdam               RW          False  \n",
       "3   Abbotsford                C          False  \n",
       "4    Rochester               LW          False  "
      ]
     },
     "execution_count": 44,
     "metadata": {},
     "output_type": "execute_result"
    }
   ],
   "source": [
    "player_df.head()"
   ]
  },
  {
   "cell_type": "code",
   "execution_count": 45,
   "metadata": {
    "ExecuteTime": {
     "end_time": "2021-01-23T16:17:15.303732Z",
     "start_time": "2021-01-23T16:17:15.297680Z"
    }
   },
   "outputs": [
    {
     "data": {
      "text/plain": [
       "31"
      ]
     },
     "execution_count": 45,
     "metadata": {},
     "output_type": "execute_result"
    }
   ],
   "source": [
    "player_df['Team_id'].nunique()"
   ]
  },
  {
   "cell_type": "code",
   "execution_count": 86,
   "metadata": {
    "ExecuteTime": {
     "end_time": "2021-01-23T17:54:43.080241Z",
     "start_time": "2021-01-23T17:54:43.074646Z"
    }
   },
   "outputs": [],
   "source": [
    "# adding canadian and american player_feature\n",
    "player_df['Canadian_player'] = player_df['Country_code'] == 'CAN'\n",
    "player_df['Amer_player'] = player_df['Country_code'] == 'USA'"
   ]
  },
  {
   "cell_type": "code",
   "execution_count": 87,
   "metadata": {
    "ExecuteTime": {
     "end_time": "2021-01-23T17:54:44.371844Z",
     "start_time": "2021-01-23T17:54:44.367872Z"
    }
   },
   "outputs": [],
   "source": [
    "# adding dummy column so we know how many people are on each team when we use groupby\n",
    "player_df['Dummy'] = 1"
   ]
  },
  {
   "cell_type": "code",
   "execution_count": 88,
   "metadata": {
    "ExecuteTime": {
     "end_time": "2021-01-23T17:54:44.740631Z",
     "start_time": "2021-01-23T17:54:44.728878Z"
    }
   },
   "outputs": [
    {
     "data": {
      "text/html": [
       "<div>\n",
       "<style scoped>\n",
       "    .dataframe tbody tr th:only-of-type {\n",
       "        vertical-align: middle;\n",
       "    }\n",
       "\n",
       "    .dataframe tbody tr th {\n",
       "        vertical-align: top;\n",
       "    }\n",
       "\n",
       "    .dataframe thead th {\n",
       "        text-align: right;\n",
       "    }\n",
       "</style>\n",
       "<table border=\"1\" class=\"dataframe\">\n",
       "  <thead>\n",
       "    <tr style=\"text-align: right;\">\n",
       "      <th></th>\n",
       "      <th>Team_id</th>\n",
       "      <th>Game_id</th>\n",
       "      <th>Player_id</th>\n",
       "      <th>First_name</th>\n",
       "      <th>Last_name</th>\n",
       "      <th>Country_code</th>\n",
       "      <th>Birth_city</th>\n",
       "      <th>Primary_position</th>\n",
       "      <th>Canadian_team</th>\n",
       "      <th>Canadian_player</th>\n",
       "      <th>Dummy</th>\n",
       "      <th>Amer_player</th>\n",
       "    </tr>\n",
       "  </thead>\n",
       "  <tbody>\n",
       "    <tr>\n",
       "      <th>0</th>\n",
       "      <td>24</td>\n",
       "      <td>2018021256</td>\n",
       "      <td>8470612</td>\n",
       "      <td>Ryan</td>\n",
       "      <td>Getzlaf</td>\n",
       "      <td>CAN</td>\n",
       "      <td>Regina</td>\n",
       "      <td>C</td>\n",
       "      <td>False</td>\n",
       "      <td>True</td>\n",
       "      <td>1</td>\n",
       "      <td>False</td>\n",
       "    </tr>\n",
       "    <tr>\n",
       "      <th>1</th>\n",
       "      <td>24</td>\n",
       "      <td>2018021256</td>\n",
       "      <td>8476854</td>\n",
       "      <td>Hampus</td>\n",
       "      <td>Lindholm</td>\n",
       "      <td>SWE</td>\n",
       "      <td>Helsingborg</td>\n",
       "      <td>D</td>\n",
       "      <td>False</td>\n",
       "      <td>False</td>\n",
       "      <td>1</td>\n",
       "      <td>False</td>\n",
       "    </tr>\n",
       "    <tr>\n",
       "      <th>2</th>\n",
       "      <td>24</td>\n",
       "      <td>2018021256</td>\n",
       "      <td>8478466</td>\n",
       "      <td>Daniel</td>\n",
       "      <td>Sprong</td>\n",
       "      <td>NLD</td>\n",
       "      <td>Amsterdam</td>\n",
       "      <td>RW</td>\n",
       "      <td>False</td>\n",
       "      <td>False</td>\n",
       "      <td>1</td>\n",
       "      <td>False</td>\n",
       "    </tr>\n",
       "    <tr>\n",
       "      <th>3</th>\n",
       "      <td>24</td>\n",
       "      <td>2018021256</td>\n",
       "      <td>8474683</td>\n",
       "      <td>Derek</td>\n",
       "      <td>Grant</td>\n",
       "      <td>CAN</td>\n",
       "      <td>Abbotsford</td>\n",
       "      <td>C</td>\n",
       "      <td>False</td>\n",
       "      <td>True</td>\n",
       "      <td>1</td>\n",
       "      <td>False</td>\n",
       "    </tr>\n",
       "    <tr>\n",
       "      <th>4</th>\n",
       "      <td>24</td>\n",
       "      <td>2018021256</td>\n",
       "      <td>8479368</td>\n",
       "      <td>Max</td>\n",
       "      <td>Jones</td>\n",
       "      <td>USA</td>\n",
       "      <td>Rochester</td>\n",
       "      <td>LW</td>\n",
       "      <td>False</td>\n",
       "      <td>False</td>\n",
       "      <td>1</td>\n",
       "      <td>True</td>\n",
       "    </tr>\n",
       "  </tbody>\n",
       "</table>\n",
       "</div>"
      ],
      "text/plain": [
       "   Team_id     Game_id  Player_id First_name Last_name Country_code  \\\n",
       "0       24  2018021256    8470612       Ryan   Getzlaf          CAN   \n",
       "1       24  2018021256    8476854     Hampus  Lindholm          SWE   \n",
       "2       24  2018021256    8478466     Daniel    Sprong          NLD   \n",
       "3       24  2018021256    8474683      Derek     Grant          CAN   \n",
       "4       24  2018021256    8479368        Max     Jones          USA   \n",
       "\n",
       "    Birth_city Primary_position  Canadian_team  Canadian_player  Dummy  \\\n",
       "0       Regina                C          False             True      1   \n",
       "1  Helsingborg                D          False            False      1   \n",
       "2    Amsterdam               RW          False            False      1   \n",
       "3   Abbotsford                C          False             True      1   \n",
       "4    Rochester               LW          False            False      1   \n",
       "\n",
       "   Amer_player  \n",
       "0        False  \n",
       "1        False  \n",
       "2        False  \n",
       "3        False  \n",
       "4         True  "
      ]
     },
     "execution_count": 88,
     "metadata": {},
     "output_type": "execute_result"
    }
   ],
   "source": [
    "player_df.head()"
   ]
  },
  {
   "cell_type": "markdown",
   "metadata": {},
   "source": [
    "#### Grouping By Team"
   ]
  },
  {
   "cell_type": "code",
   "execution_count": 89,
   "metadata": {
    "ExecuteTime": {
     "end_time": "2021-01-23T17:54:45.064952Z",
     "start_time": "2021-01-23T17:54:45.059410Z"
    }
   },
   "outputs": [],
   "source": [
    "# groupby sum for each country_code\n",
    "player_df_groupby_sum = player_df.groupby('Team_id').sum()\n",
    "## this one gives the count of players for each team\n",
    "# player_df_groupby = player_df.groupby('Team_id').count()"
   ]
  },
  {
   "cell_type": "code",
   "execution_count": 90,
   "metadata": {
    "ExecuteTime": {
     "end_time": "2021-01-23T17:54:45.371511Z",
     "start_time": "2021-01-23T17:54:45.369288Z"
    },
    "scrolled": true
   },
   "outputs": [],
   "source": [
    "# a lot of teams are missing a lot of players\n",
    "## I probably need to redownload the data b/c it's missing A LOOOT of data\n",
    "# player_df_groupby"
   ]
  },
  {
   "cell_type": "code",
   "execution_count": 91,
   "metadata": {
    "ExecuteTime": {
     "end_time": "2021-01-23T17:54:47.800180Z",
     "start_time": "2021-01-23T17:54:47.796986Z"
    },
    "scrolled": true
   },
   "outputs": [],
   "source": [
    "# i think I need to aggregate based on american team or not \n",
    "# player_df_groupby_sum"
   ]
  },
  {
   "cell_type": "markdown",
   "metadata": {},
   "source": [
    "### Splitting by Nation of Team"
   ]
  },
  {
   "cell_type": "code",
   "execution_count": 93,
   "metadata": {
    "ExecuteTime": {
     "end_time": "2021-01-23T17:55:27.780360Z",
     "start_time": "2021-01-23T17:55:27.773802Z"
    }
   },
   "outputs": [],
   "source": [
    "# making separate dataframes\n",
    "canadian_teams_groupby = player_df_groupby_sum[player_df_groupby_sum['Canadian_team'] > 1]\n",
    "amer_teams_groupby = player_df_groupby_sum[player_df_groupby_sum['Canadian_team'] == 0]"
   ]
  },
  {
   "cell_type": "code",
   "execution_count": 94,
   "metadata": {
    "ExecuteTime": {
     "end_time": "2021-01-23T17:55:28.167928Z",
     "start_time": "2021-01-23T17:55:28.164939Z"
    }
   },
   "outputs": [],
   "source": [
    "all_players_in_can_teams = canadian_teams_groupby.Dummy.sum()\n",
    "all_can_players_in_can_teams = canadian_teams_groupby.Canadian_player.sum()\n",
    "all_amer_players_in_can_teams = canadian_teams_groupby.Amer_player.sum()"
   ]
  },
  {
   "cell_type": "code",
   "execution_count": 95,
   "metadata": {
    "ExecuteTime": {
     "end_time": "2021-01-23T17:55:28.488639Z",
     "start_time": "2021-01-23T17:55:28.485076Z"
    }
   },
   "outputs": [],
   "source": [
    "all_players_in_amer_teams = amer_teams_groupby.Dummy.sum()\n",
    "all_can_players_in_amer_teams = amer_teams_groupby.Canadian_player.sum()\n",
    "all_amer_players_in_amer_teams = amer_teams_groupby.Amer_player.sum()"
   ]
  },
  {
   "cell_type": "markdown",
   "metadata": {},
   "source": [
    "#### Calculating percentage of canadians in each group"
   ]
  },
  {
   "cell_type": "code",
   "execution_count": 78,
   "metadata": {
    "ExecuteTime": {
     "end_time": "2021-01-23T17:31:43.657230Z",
     "start_time": "2021-01-23T17:31:43.651994Z"
    }
   },
   "outputs": [
    {
     "data": {
      "text/plain": [
       "0.5"
      ]
     },
     "execution_count": 78,
     "metadata": {},
     "output_type": "execute_result"
    }
   ],
   "source": [
    "canadians_in_canada_teams_pct = all_can_players_in_can_teams / all_players_in_can_teams\n",
    "canadians_in_canada_teams_pct"
   ]
  },
  {
   "cell_type": "code",
   "execution_count": 80,
   "metadata": {
    "ExecuteTime": {
     "end_time": "2021-01-23T17:32:11.730778Z",
     "start_time": "2021-01-23T17:32:11.726148Z"
    },
    "scrolled": true
   },
   "outputs": [
    {
     "data": {
      "text/plain": [
       "0.4343891402714932"
      ]
     },
     "execution_count": 80,
     "metadata": {},
     "output_type": "execute_result"
    }
   ],
   "source": [
    "canadians_in_amer_teams_pct = all_can_players_in_amer_teams / all_players_in_amer_teams\n",
    "canadians_in_amer_teams_pct"
   ]
  },
  {
   "cell_type": "markdown",
   "metadata": {},
   "source": [
    "#### Calculating percentage of americans in each group"
   ]
  },
  {
   "cell_type": "code",
   "execution_count": 98,
   "metadata": {
    "ExecuteTime": {
     "end_time": "2021-01-23T17:56:27.022719Z",
     "start_time": "2021-01-23T17:56:27.016423Z"
    }
   },
   "outputs": [
    {
     "data": {
      "text/plain": [
       "0.24193548387096775"
      ]
     },
     "execution_count": 98,
     "metadata": {},
     "output_type": "execute_result"
    }
   ],
   "source": [
    "americans_in_canada_teams_pct = all_amer_players_in_can_teams / all_players_in_can_teams\n",
    "americans_in_canada_teams_pct"
   ]
  },
  {
   "cell_type": "code",
   "execution_count": 99,
   "metadata": {
    "ExecuteTime": {
     "end_time": "2021-01-23T17:56:27.398278Z",
     "start_time": "2021-01-23T17:56:27.394712Z"
    },
    "scrolled": true
   },
   "outputs": [
    {
     "data": {
      "text/plain": [
       "0.2895927601809955"
      ]
     },
     "execution_count": 99,
     "metadata": {},
     "output_type": "execute_result"
    }
   ],
   "source": [
    "# slightly more americans in american teams than in canadian teams\n",
    "americans_in_amer_teams_pct = all_amer_players_in_amer_teams / all_players_in_amer_teams\n",
    "americans_in_amer_teams_pct"
   ]
  },
  {
   "cell_type": "markdown",
   "metadata": {},
   "source": [
    "## Is it statistically significant"
   ]
  },
  {
   "cell_type": "markdown",
   "metadata": {},
   "source": [
    "## CONCLUSION"
   ]
  },
  {
   "cell_type": "markdown",
   "metadata": {},
   "source": [
    "SLIIIIIIGHTLY more canadians in canadian teams than in american teams"
   ]
  }
 ],
 "metadata": {
  "kernelspec": {
   "display_name": "Python [conda env:learn-env] *",
   "language": "python",
   "name": "conda-env-learn-env-py"
  },
  "language_info": {
   "codemirror_mode": {
    "name": "ipython",
    "version": 3
   },
   "file_extension": ".py",
   "mimetype": "text/x-python",
   "name": "python",
   "nbconvert_exporter": "python",
   "pygments_lexer": "ipython3",
   "version": "3.6.9"
  },
  "toc": {
   "base_numbering": 1,
   "nav_menu": {},
   "number_sections": true,
   "sideBar": true,
   "skip_h1_title": false,
   "title_cell": "Table of Contents",
   "title_sidebar": "Contents",
   "toc_cell": false,
   "toc_position": {},
   "toc_section_display": true,
   "toc_window_display": true
  },
  "varInspector": {
   "cols": {
    "lenName": 16,
    "lenType": 16,
    "lenVar": 40
   },
   "kernels_config": {
    "python": {
     "delete_cmd_postfix": "",
     "delete_cmd_prefix": "del ",
     "library": "var_list.py",
     "varRefreshCmd": "print(var_dic_list())"
    },
    "r": {
     "delete_cmd_postfix": ") ",
     "delete_cmd_prefix": "rm(",
     "library": "var_list.r",
     "varRefreshCmd": "cat(var_dic_list()) "
    }
   },
   "types_to_exclude": [
    "module",
    "function",
    "builtin_function_or_method",
    "instance",
    "_Feature"
   ],
   "window_display": false
  }
 },
 "nbformat": 4,
 "nbformat_minor": 2
}
