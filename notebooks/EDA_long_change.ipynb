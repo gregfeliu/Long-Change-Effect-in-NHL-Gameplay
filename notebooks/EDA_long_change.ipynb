{
 "cells": [
  {
   "cell_type": "markdown",
   "metadata": {},
   "source": [
    "import pickle\n",
    "# ^^^ pyforest auto-imports - don't write above this line\n",
    "**EDA for NHL Game Data**"
   ]
  },
  {
   "cell_type": "markdown",
   "metadata": {},
   "source": [
    "# Imports "
   ]
  },
  {
   "cell_type": "markdown",
   "metadata": {},
   "source": [
    "## Libraries"
   ]
  },
  {
   "cell_type": "code",
   "execution_count": 1,
   "metadata": {
    "ExecuteTime": {
     "end_time": "2020-10-27T16:51:43.054673Z",
     "start_time": "2020-10-27T16:51:42.100387Z"
    }
   },
   "outputs": [
    {
     "name": "stderr",
     "output_type": "stream",
     "text": [
      "\n",
      "Bad key \"text.kerning_factor\" on line 4 in\n",
      "/Users/gregfeliu/opt/anaconda3/envs/learn-env/lib/python3.6/site-packages/matplotlib/mpl-data/stylelib/_classic_test_patch.mplstyle.\n",
      "You probably need to get an updated matplotlibrc file from\n",
      "http://github.com/matplotlib/matplotlib/blob/master/matplotlibrc.template\n",
      "or from the matplotlib source distribution\n"
     ]
    }
   ],
   "source": [
    "import mysql.connector\n",
    "import requests\n",
    "from config import *\n",
    "from functions import *\n",
    "import csv\n",
    "from IPython.display import Audio\n",
    "import numpy as np\n",
    "framerate = 4410\n",
    "play_time_seconds = 3\n",
    "t = np.linspace(0, play_time_seconds, framerate*play_time_seconds)\n",
    "audio_data = np.sin(2*np.pi*300*t) + np.sin(2*np.pi*240*t)"
   ]
  },
  {
   "cell_type": "markdown",
   "metadata": {},
   "source": [
    "## Data"
   ]
  },
  {
   "cell_type": "code",
   "execution_count": 2,
   "metadata": {
    "ExecuteTime": {
     "end_time": "2020-10-27T16:51:43.063691Z",
     "start_time": "2020-10-27T16:51:43.057947Z"
    }
   },
   "outputs": [
    {
     "data": {
      "application/javascript": [
       "\n",
       "        if (window._pyforest_update_imports_cell) { window._pyforest_update_imports_cell('import pickle'); }\n",
       "    "
      ],
      "text/plain": [
       "<IPython.core.display.Javascript object>"
      ]
     },
     "metadata": {},
     "output_type": "display_data"
    }
   ],
   "source": [
    "with open (\"../data/all_event_types\", 'rb') as f:\n",
    "    all_event_types = pickle.load(f)"
   ]
  },
  {
   "cell_type": "code",
   "execution_count": 3,
   "metadata": {
    "ExecuteTime": {
     "end_time": "2020-10-27T16:51:43.069752Z",
     "start_time": "2020-10-27T16:51:43.065531Z"
    }
   },
   "outputs": [
    {
     "data": {
      "text/plain": [
       "[('event',),\n",
       " ('Period Ready',),\n",
       " ('Period Start',),\n",
       " ('Faceoff',),\n",
       " ('Blocked Shot',),\n",
       " ('Hit',),\n",
       " ('Stoppage',),\n",
       " ('Shot',),\n",
       " ('Giveaway',),\n",
       " ('Penalty',),\n",
       " ('Takeaway',),\n",
       " ('Missed Shot',),\n",
       " ('Period End',),\n",
       " ('Period Official',),\n",
       " ('Goal',),\n",
       " ('Game End',),\n",
       " ('Game Scheduled',),\n",
       " ('Game Official',),\n",
       " ('Official Challenge',),\n",
       " ('Shootout Complete',),\n",
       " ('Early Intermission Start',),\n",
       " ('Early Intermission End',),\n",
       " ('Emergency Goaltender',)]"
      ]
     },
     "execution_count": 3,
     "metadata": {},
     "output_type": "execute_result"
    }
   ],
   "source": [
    "all_event_types"
   ]
  },
  {
   "cell_type": "code",
   "execution_count": 4,
   "metadata": {
    "ExecuteTime": {
     "end_time": "2020-10-27T16:51:43.079723Z",
     "start_time": "2020-10-27T16:51:43.071472Z"
    }
   },
   "outputs": [],
   "source": [
    "table_info_df = pd.read_csv(\"../data/table_info_df.csv\", index_col=0)"
   ]
  },
  {
   "cell_type": "code",
   "execution_count": 5,
   "metadata": {
    "ExecuteTime": {
     "end_time": "2020-10-27T16:51:43.088247Z",
     "start_time": "2020-10-27T16:51:43.083783Z"
    }
   },
   "outputs": [
    {
     "data": {
      "text/plain": [
       "array(['game', 'game_goalie_stats', 'game_plays', 'game_plays_players',\n",
       "       'game_shifts', 'game_skater_stats', 'game_teams_stats',\n",
       "       'player_info', 'team_info'], dtype=object)"
      ]
     },
     "execution_count": 5,
     "metadata": {},
     "output_type": "execute_result"
    }
   ],
   "source": [
    "tables = table_info_df['Table'].unique()\n",
    "tables"
   ]
  },
  {
   "cell_type": "code",
   "execution_count": 6,
   "metadata": {
    "ExecuteTime": {
     "end_time": "2020-10-27T16:51:43.108608Z",
     "start_time": "2020-10-27T16:51:43.091382Z"
    }
   },
   "outputs": [
    {
     "data": {
      "text/html": [
       "<div>\n",
       "<style scoped>\n",
       "    .dataframe tbody tr th:only-of-type {\n",
       "        vertical-align: middle;\n",
       "    }\n",
       "\n",
       "    .dataframe tbody tr th {\n",
       "        vertical-align: top;\n",
       "    }\n",
       "\n",
       "    .dataframe thead th {\n",
       "        text-align: right;\n",
       "    }\n",
       "</style>\n",
       "<table border=\"1\" class=\"dataframe\">\n",
       "  <thead>\n",
       "    <tr style=\"text-align: right;\">\n",
       "      <th></th>\n",
       "      <th>Column_name</th>\n",
       "      <th>Column_type</th>\n",
       "      <th>Table</th>\n",
       "      <th>Number_of_unique_values</th>\n",
       "    </tr>\n",
       "  </thead>\n",
       "  <tbody>\n",
       "    <tr>\n",
       "      <th>60</th>\n",
       "      <td>game_id</td>\n",
       "      <td>int(11)</td>\n",
       "      <td>game_shifts</td>\n",
       "      <td>11339</td>\n",
       "    </tr>\n",
       "    <tr>\n",
       "      <th>61</th>\n",
       "      <td>player_id</td>\n",
       "      <td>int(11)</td>\n",
       "      <td>game_shifts</td>\n",
       "      <td>2212</td>\n",
       "    </tr>\n",
       "    <tr>\n",
       "      <th>62</th>\n",
       "      <td>period</td>\n",
       "      <td>int(11)</td>\n",
       "      <td>game_shifts</td>\n",
       "      <td>7</td>\n",
       "    </tr>\n",
       "    <tr>\n",
       "      <th>63</th>\n",
       "      <td>shift_start</td>\n",
       "      <td>int(11)</td>\n",
       "      <td>game_shifts</td>\n",
       "      <td>5911</td>\n",
       "    </tr>\n",
       "    <tr>\n",
       "      <th>64</th>\n",
       "      <td>shift_end</td>\n",
       "      <td>int(11)</td>\n",
       "      <td>game_shifts</td>\n",
       "      <td>5913</td>\n",
       "    </tr>\n",
       "    <tr>\n",
       "      <th>65</th>\n",
       "      <td>game_id</td>\n",
       "      <td>int(11)</td>\n",
       "      <td>game_skater_stats</td>\n",
       "      <td>11435</td>\n",
       "    </tr>\n",
       "    <tr>\n",
       "      <th>66</th>\n",
       "      <td>player_id</td>\n",
       "      <td>int(11)</td>\n",
       "      <td>game_skater_stats</td>\n",
       "      <td>1999</td>\n",
       "    </tr>\n",
       "    <tr>\n",
       "      <th>67</th>\n",
       "      <td>team_id</td>\n",
       "      <td>int(11)</td>\n",
       "      <td>game_skater_stats</td>\n",
       "      <td>34</td>\n",
       "    </tr>\n",
       "    <tr>\n",
       "      <th>68</th>\n",
       "      <td>timeOnIce</td>\n",
       "      <td>int(11)</td>\n",
       "      <td>game_skater_stats</td>\n",
       "      <td>2220</td>\n",
       "    </tr>\n",
       "    <tr>\n",
       "      <th>69</th>\n",
       "      <td>assists</td>\n",
       "      <td>int(11)</td>\n",
       "      <td>game_skater_stats</td>\n",
       "      <td>6</td>\n",
       "    </tr>\n",
       "    <tr>\n",
       "      <th>70</th>\n",
       "      <td>goals</td>\n",
       "      <td>int(11)</td>\n",
       "      <td>game_skater_stats</td>\n",
       "      <td>6</td>\n",
       "    </tr>\n",
       "    <tr>\n",
       "      <th>71</th>\n",
       "      <td>shots</td>\n",
       "      <td>int(11)</td>\n",
       "      <td>game_skater_stats</td>\n",
       "      <td>16</td>\n",
       "    </tr>\n",
       "    <tr>\n",
       "      <th>72</th>\n",
       "      <td>hits</td>\n",
       "      <td>int(11)</td>\n",
       "      <td>game_skater_stats</td>\n",
       "      <td>16</td>\n",
       "    </tr>\n",
       "    <tr>\n",
       "      <th>73</th>\n",
       "      <td>powerPlayGoals</td>\n",
       "      <td>int(11)</td>\n",
       "      <td>game_skater_stats</td>\n",
       "      <td>4</td>\n",
       "    </tr>\n",
       "    <tr>\n",
       "      <th>74</th>\n",
       "      <td>powerPlayAssists</td>\n",
       "      <td>int(11)</td>\n",
       "      <td>game_skater_stats</td>\n",
       "      <td>5</td>\n",
       "    </tr>\n",
       "    <tr>\n",
       "      <th>75</th>\n",
       "      <td>penaltyMinutes</td>\n",
       "      <td>int(11)</td>\n",
       "      <td>game_skater_stats</td>\n",
       "      <td>36</td>\n",
       "    </tr>\n",
       "    <tr>\n",
       "      <th>76</th>\n",
       "      <td>faceOffWins</td>\n",
       "      <td>int(11)</td>\n",
       "      <td>game_skater_stats</td>\n",
       "      <td>31</td>\n",
       "    </tr>\n",
       "    <tr>\n",
       "      <th>77</th>\n",
       "      <td>faceoffTaken</td>\n",
       "      <td>int(11)</td>\n",
       "      <td>game_skater_stats</td>\n",
       "      <td>45</td>\n",
       "    </tr>\n",
       "    <tr>\n",
       "      <th>78</th>\n",
       "      <td>takeaways</td>\n",
       "      <td>int(11)</td>\n",
       "      <td>game_skater_stats</td>\n",
       "      <td>9</td>\n",
       "    </tr>\n",
       "    <tr>\n",
       "      <th>79</th>\n",
       "      <td>giveaways</td>\n",
       "      <td>int(11)</td>\n",
       "      <td>game_skater_stats</td>\n",
       "      <td>9</td>\n",
       "    </tr>\n",
       "    <tr>\n",
       "      <th>80</th>\n",
       "      <td>shortHandedGoals</td>\n",
       "      <td>int(11)</td>\n",
       "      <td>game_skater_stats</td>\n",
       "      <td>3</td>\n",
       "    </tr>\n",
       "    <tr>\n",
       "      <th>81</th>\n",
       "      <td>shortHandedAssists</td>\n",
       "      <td>int(11)</td>\n",
       "      <td>game_skater_stats</td>\n",
       "      <td>3</td>\n",
       "    </tr>\n",
       "    <tr>\n",
       "      <th>82</th>\n",
       "      <td>blocked</td>\n",
       "      <td>int(11)</td>\n",
       "      <td>game_skater_stats</td>\n",
       "      <td>14</td>\n",
       "    </tr>\n",
       "    <tr>\n",
       "      <th>83</th>\n",
       "      <td>plusMinus</td>\n",
       "      <td>int(11)</td>\n",
       "      <td>game_skater_stats</td>\n",
       "      <td>14</td>\n",
       "    </tr>\n",
       "    <tr>\n",
       "      <th>84</th>\n",
       "      <td>evenTimeOnIce</td>\n",
       "      <td>int(11)</td>\n",
       "      <td>game_skater_stats</td>\n",
       "      <td>1936</td>\n",
       "    </tr>\n",
       "    <tr>\n",
       "      <th>85</th>\n",
       "      <td>shortHandedTimeOnIce</td>\n",
       "      <td>int(11)</td>\n",
       "      <td>game_skater_stats</td>\n",
       "      <td>585</td>\n",
       "    </tr>\n",
       "    <tr>\n",
       "      <th>86</th>\n",
       "      <td>powerPlayTimeOnIce</td>\n",
       "      <td>int(11)</td>\n",
       "      <td>game_skater_stats</td>\n",
       "      <td>674</td>\n",
       "    </tr>\n",
       "    <tr>\n",
       "      <th>87</th>\n",
       "      <td>game_id</td>\n",
       "      <td>int(11)</td>\n",
       "      <td>game_teams_stats</td>\n",
       "      <td>11435</td>\n",
       "    </tr>\n",
       "    <tr>\n",
       "      <th>88</th>\n",
       "      <td>team_id</td>\n",
       "      <td>int(11)</td>\n",
       "      <td>game_teams_stats</td>\n",
       "      <td>34</td>\n",
       "    </tr>\n",
       "    <tr>\n",
       "      <th>89</th>\n",
       "      <td>HoA</td>\n",
       "      <td>varchar(4)</td>\n",
       "      <td>game_teams_stats</td>\n",
       "      <td>3</td>\n",
       "    </tr>\n",
       "    <tr>\n",
       "      <th>90</th>\n",
       "      <td>won</td>\n",
       "      <td>varchar(4)</td>\n",
       "      <td>game_teams_stats</td>\n",
       "      <td>3</td>\n",
       "    </tr>\n",
       "    <tr>\n",
       "      <th>91</th>\n",
       "      <td>settled_in</td>\n",
       "      <td>varchar(3)</td>\n",
       "      <td>game_teams_stats</td>\n",
       "      <td>4</td>\n",
       "    </tr>\n",
       "    <tr>\n",
       "      <th>92</th>\n",
       "      <td>head_coach</td>\n",
       "      <td>varchar(17)</td>\n",
       "      <td>game_teams_stats</td>\n",
       "      <td>84</td>\n",
       "    </tr>\n",
       "    <tr>\n",
       "      <th>93</th>\n",
       "      <td>goals</td>\n",
       "      <td>int(11)</td>\n",
       "      <td>game_teams_stats</td>\n",
       "      <td>11</td>\n",
       "    </tr>\n",
       "    <tr>\n",
       "      <th>94</th>\n",
       "      <td>shots</td>\n",
       "      <td>int(11)</td>\n",
       "      <td>game_teams_stats</td>\n",
       "      <td>55</td>\n",
       "    </tr>\n",
       "    <tr>\n",
       "      <th>95</th>\n",
       "      <td>hits</td>\n",
       "      <td>int(11)</td>\n",
       "      <td>game_teams_stats</td>\n",
       "      <td>71</td>\n",
       "    </tr>\n",
       "    <tr>\n",
       "      <th>96</th>\n",
       "      <td>pim</td>\n",
       "      <td>int(11)</td>\n",
       "      <td>game_teams_stats</td>\n",
       "      <td>89</td>\n",
       "    </tr>\n",
       "    <tr>\n",
       "      <th>97</th>\n",
       "      <td>powerPlayOpportunities</td>\n",
       "      <td>int(11)</td>\n",
       "      <td>game_teams_stats</td>\n",
       "      <td>13</td>\n",
       "    </tr>\n",
       "    <tr>\n",
       "      <th>98</th>\n",
       "      <td>powerPlayGoals</td>\n",
       "      <td>int(11)</td>\n",
       "      <td>game_teams_stats</td>\n",
       "      <td>7</td>\n",
       "    </tr>\n",
       "    <tr>\n",
       "      <th>99</th>\n",
       "      <td>faceOffWinPercentage</td>\n",
       "      <td>float</td>\n",
       "      <td>game_teams_stats</td>\n",
       "      <td>422</td>\n",
       "    </tr>\n",
       "    <tr>\n",
       "      <th>100</th>\n",
       "      <td>giveaways</td>\n",
       "      <td>int(11)</td>\n",
       "      <td>game_teams_stats</td>\n",
       "      <td>35</td>\n",
       "    </tr>\n",
       "    <tr>\n",
       "      <th>101</th>\n",
       "      <td>takeaways</td>\n",
       "      <td>int(11)</td>\n",
       "      <td>game_teams_stats</td>\n",
       "      <td>32</td>\n",
       "    </tr>\n",
       "    <tr>\n",
       "      <th>102</th>\n",
       "      <td>player_id</td>\n",
       "      <td>int(11)</td>\n",
       "      <td>player_info</td>\n",
       "      <td>1205</td>\n",
       "    </tr>\n",
       "    <tr>\n",
       "      <th>103</th>\n",
       "      <td>firstName</td>\n",
       "      <td>varchar(14)</td>\n",
       "      <td>player_info</td>\n",
       "      <td>494</td>\n",
       "    </tr>\n",
       "    <tr>\n",
       "      <th>104</th>\n",
       "      <td>lastName</td>\n",
       "      <td>varchar(18)</td>\n",
       "      <td>player_info</td>\n",
       "      <td>1076</td>\n",
       "    </tr>\n",
       "    <tr>\n",
       "      <th>105</th>\n",
       "      <td>nationality</td>\n",
       "      <td>varchar(3)</td>\n",
       "      <td>player_info</td>\n",
       "      <td>23</td>\n",
       "    </tr>\n",
       "    <tr>\n",
       "      <th>106</th>\n",
       "      <td>birthCity</td>\n",
       "      <td>varchar(27)</td>\n",
       "      <td>player_info</td>\n",
       "      <td>640</td>\n",
       "    </tr>\n",
       "    <tr>\n",
       "      <th>107</th>\n",
       "      <td>primaryPosition</td>\n",
       "      <td>varchar(2)</td>\n",
       "      <td>player_info</td>\n",
       "      <td>6</td>\n",
       "    </tr>\n",
       "    <tr>\n",
       "      <th>108</th>\n",
       "      <td>birthDate</td>\n",
       "      <td>varchar(10)</td>\n",
       "      <td>player_info</td>\n",
       "      <td>1096</td>\n",
       "    </tr>\n",
       "    <tr>\n",
       "      <th>109</th>\n",
       "      <td>link</td>\n",
       "      <td>varchar(22)</td>\n",
       "      <td>player_info</td>\n",
       "      <td>1205</td>\n",
       "    </tr>\n",
       "    <tr>\n",
       "      <th>110</th>\n",
       "      <td>team_id</td>\n",
       "      <td>int(11)</td>\n",
       "      <td>team_info</td>\n",
       "      <td>17</td>\n",
       "    </tr>\n",
       "    <tr>\n",
       "      <th>111</th>\n",
       "      <td>franchiseId</td>\n",
       "      <td>int(11)</td>\n",
       "      <td>team_info</td>\n",
       "      <td>17</td>\n",
       "    </tr>\n",
       "    <tr>\n",
       "      <th>112</th>\n",
       "      <td>shortName</td>\n",
       "      <td>varchar(12)</td>\n",
       "      <td>team_info</td>\n",
       "      <td>17</td>\n",
       "    </tr>\n",
       "    <tr>\n",
       "      <th>113</th>\n",
       "      <td>teamName</td>\n",
       "      <td>varchar(14)</td>\n",
       "      <td>team_info</td>\n",
       "      <td>17</td>\n",
       "    </tr>\n",
       "    <tr>\n",
       "      <th>114</th>\n",
       "      <td>abbreviation</td>\n",
       "      <td>varchar(3)</td>\n",
       "      <td>team_info</td>\n",
       "      <td>17</td>\n",
       "    </tr>\n",
       "    <tr>\n",
       "      <th>115</th>\n",
       "      <td>link</td>\n",
       "      <td>varchar(16)</td>\n",
       "      <td>team_info</td>\n",
       "      <td>17</td>\n",
       "    </tr>\n",
       "  </tbody>\n",
       "</table>\n",
       "</div>"
      ],
      "text/plain": [
       "                Column_name  Column_type              Table  \\\n",
       "60                  game_id      int(11)        game_shifts   \n",
       "61                player_id      int(11)        game_shifts   \n",
       "62                   period      int(11)        game_shifts   \n",
       "63              shift_start      int(11)        game_shifts   \n",
       "64                shift_end      int(11)        game_shifts   \n",
       "65                  game_id      int(11)  game_skater_stats   \n",
       "66                player_id      int(11)  game_skater_stats   \n",
       "67                  team_id      int(11)  game_skater_stats   \n",
       "68                timeOnIce      int(11)  game_skater_stats   \n",
       "69                  assists      int(11)  game_skater_stats   \n",
       "70                    goals      int(11)  game_skater_stats   \n",
       "71                    shots      int(11)  game_skater_stats   \n",
       "72                     hits      int(11)  game_skater_stats   \n",
       "73           powerPlayGoals      int(11)  game_skater_stats   \n",
       "74         powerPlayAssists      int(11)  game_skater_stats   \n",
       "75           penaltyMinutes      int(11)  game_skater_stats   \n",
       "76              faceOffWins      int(11)  game_skater_stats   \n",
       "77             faceoffTaken      int(11)  game_skater_stats   \n",
       "78                takeaways      int(11)  game_skater_stats   \n",
       "79                giveaways      int(11)  game_skater_stats   \n",
       "80         shortHandedGoals      int(11)  game_skater_stats   \n",
       "81       shortHandedAssists      int(11)  game_skater_stats   \n",
       "82                  blocked      int(11)  game_skater_stats   \n",
       "83                plusMinus      int(11)  game_skater_stats   \n",
       "84            evenTimeOnIce      int(11)  game_skater_stats   \n",
       "85     shortHandedTimeOnIce      int(11)  game_skater_stats   \n",
       "86       powerPlayTimeOnIce      int(11)  game_skater_stats   \n",
       "87                  game_id      int(11)   game_teams_stats   \n",
       "88                  team_id      int(11)   game_teams_stats   \n",
       "89                      HoA   varchar(4)   game_teams_stats   \n",
       "90                      won   varchar(4)   game_teams_stats   \n",
       "91               settled_in   varchar(3)   game_teams_stats   \n",
       "92               head_coach  varchar(17)   game_teams_stats   \n",
       "93                    goals      int(11)   game_teams_stats   \n",
       "94                    shots      int(11)   game_teams_stats   \n",
       "95                     hits      int(11)   game_teams_stats   \n",
       "96                      pim      int(11)   game_teams_stats   \n",
       "97   powerPlayOpportunities      int(11)   game_teams_stats   \n",
       "98           powerPlayGoals      int(11)   game_teams_stats   \n",
       "99     faceOffWinPercentage        float   game_teams_stats   \n",
       "100               giveaways      int(11)   game_teams_stats   \n",
       "101               takeaways      int(11)   game_teams_stats   \n",
       "102               player_id      int(11)        player_info   \n",
       "103               firstName  varchar(14)        player_info   \n",
       "104                lastName  varchar(18)        player_info   \n",
       "105             nationality   varchar(3)        player_info   \n",
       "106               birthCity  varchar(27)        player_info   \n",
       "107         primaryPosition   varchar(2)        player_info   \n",
       "108               birthDate  varchar(10)        player_info   \n",
       "109                    link  varchar(22)        player_info   \n",
       "110                 team_id      int(11)          team_info   \n",
       "111             franchiseId      int(11)          team_info   \n",
       "112               shortName  varchar(12)          team_info   \n",
       "113                teamName  varchar(14)          team_info   \n",
       "114            abbreviation   varchar(3)          team_info   \n",
       "115                    link  varchar(16)          team_info   \n",
       "\n",
       "     Number_of_unique_values  \n",
       "60                     11339  \n",
       "61                      2212  \n",
       "62                         7  \n",
       "63                      5911  \n",
       "64                      5913  \n",
       "65                     11435  \n",
       "66                      1999  \n",
       "67                        34  \n",
       "68                      2220  \n",
       "69                         6  \n",
       "70                         6  \n",
       "71                        16  \n",
       "72                        16  \n",
       "73                         4  \n",
       "74                         5  \n",
       "75                        36  \n",
       "76                        31  \n",
       "77                        45  \n",
       "78                         9  \n",
       "79                         9  \n",
       "80                         3  \n",
       "81                         3  \n",
       "82                        14  \n",
       "83                        14  \n",
       "84                      1936  \n",
       "85                       585  \n",
       "86                       674  \n",
       "87                     11435  \n",
       "88                        34  \n",
       "89                         3  \n",
       "90                         3  \n",
       "91                         4  \n",
       "92                        84  \n",
       "93                        11  \n",
       "94                        55  \n",
       "95                        71  \n",
       "96                        89  \n",
       "97                        13  \n",
       "98                         7  \n",
       "99                       422  \n",
       "100                       35  \n",
       "101                       32  \n",
       "102                     1205  \n",
       "103                      494  \n",
       "104                     1076  \n",
       "105                       23  \n",
       "106                      640  \n",
       "107                        6  \n",
       "108                     1096  \n",
       "109                     1205  \n",
       "110                       17  \n",
       "111                       17  \n",
       "112                       17  \n",
       "113                       17  \n",
       "114                       17  \n",
       "115                       17  "
      ]
     },
     "execution_count": 6,
     "metadata": {},
     "output_type": "execute_result"
    }
   ],
   "source": [
    "# table_info_df[0:60]\n",
    "table_info_df[60:] "
   ]
  },
  {
   "cell_type": "code",
   "execution_count": 7,
   "metadata": {
    "ExecuteTime": {
     "end_time": "2020-10-27T16:51:43.118811Z",
     "start_time": "2020-10-27T16:51:43.110296Z"
    }
   },
   "outputs": [
    {
     "data": {
      "text/html": [
       "<div>\n",
       "<style scoped>\n",
       "    .dataframe tbody tr th:only-of-type {\n",
       "        vertical-align: middle;\n",
       "    }\n",
       "\n",
       "    .dataframe tbody tr th {\n",
       "        vertical-align: top;\n",
       "    }\n",
       "\n",
       "    .dataframe thead th {\n",
       "        text-align: right;\n",
       "    }\n",
       "</style>\n",
       "<table border=\"1\" class=\"dataframe\">\n",
       "  <thead>\n",
       "    <tr style=\"text-align: right;\">\n",
       "      <th></th>\n",
       "      <th>Column_name</th>\n",
       "      <th>Column_type</th>\n",
       "      <th>Table</th>\n",
       "      <th>Number_of_unique_values</th>\n",
       "    </tr>\n",
       "  </thead>\n",
       "  <tbody>\n",
       "    <tr>\n",
       "      <th>18</th>\n",
       "      <td>team_id</td>\n",
       "      <td>int(11)</td>\n",
       "      <td>game_goalie_stats</td>\n",
       "      <td>34</td>\n",
       "    </tr>\n",
       "    <tr>\n",
       "      <th>67</th>\n",
       "      <td>team_id</td>\n",
       "      <td>int(11)</td>\n",
       "      <td>game_skater_stats</td>\n",
       "      <td>34</td>\n",
       "    </tr>\n",
       "    <tr>\n",
       "      <th>88</th>\n",
       "      <td>team_id</td>\n",
       "      <td>int(11)</td>\n",
       "      <td>game_teams_stats</td>\n",
       "      <td>34</td>\n",
       "    </tr>\n",
       "    <tr>\n",
       "      <th>110</th>\n",
       "      <td>team_id</td>\n",
       "      <td>int(11)</td>\n",
       "      <td>team_info</td>\n",
       "      <td>17</td>\n",
       "    </tr>\n",
       "  </tbody>\n",
       "</table>\n",
       "</div>"
      ],
      "text/plain": [
       "    Column_name Column_type              Table  Number_of_unique_values\n",
       "18      team_id     int(11)  game_goalie_stats                       34\n",
       "67      team_id     int(11)  game_skater_stats                       34\n",
       "88      team_id     int(11)   game_teams_stats                       34\n",
       "110     team_id     int(11)          team_info                       17"
      ]
     },
     "execution_count": 7,
     "metadata": {},
     "output_type": "execute_result"
    }
   ],
   "source": [
    "table_info_df[table_info_df['Column_name'] == 'team_id']"
   ]
  },
  {
   "cell_type": "code",
   "execution_count": 8,
   "metadata": {
    "ExecuteTime": {
     "end_time": "2020-10-27T16:51:43.124338Z",
     "start_time": "2020-10-27T16:51:43.120815Z"
    }
   },
   "outputs": [],
   "source": [
    "unique_col_names = list(table_info_df['Column_name'].unique())"
   ]
  },
  {
   "cell_type": "markdown",
   "metadata": {},
   "source": [
    "# What years are in this dataset"
   ]
  },
  {
   "cell_type": "code",
   "execution_count": 38,
   "metadata": {
    "ExecuteTime": {
     "end_time": "2020-10-27T00:00:36.864643Z",
     "start_time": "2020-10-27T00:00:36.487739Z"
    }
   },
   "outputs": [
    {
     "data": {
      "text/plain": [
       "[0,\n",
       " 20112012,\n",
       " 20102011,\n",
       " 20122013,\n",
       " 20162017,\n",
       " 20142015,\n",
       " 20152016,\n",
       " 20132014,\n",
       " 20172018,\n",
       " 20182019]"
      ]
     },
     "execution_count": 38,
     "metadata": {},
     "output_type": "execute_result"
    }
   ],
   "source": [
    "seasons = \"SELECT DISTINCT(season) FROM game;\"\n",
    "seasons_query_result = run_query(seasons)\n",
    "all_seasons = [a[0] for a in seasons_query_result]\n",
    "# all_seasons # exclude 0"
   ]
  },
  {
   "cell_type": "markdown",
   "metadata": {},
   "source": [
    "## How many games each season?"
   ]
  },
  {
   "cell_type": "code",
   "execution_count": null,
   "metadata": {
    "ExecuteTime": {
     "end_time": "2020-10-13T19:56:30.763535Z",
     "start_time": "2020-10-13T19:56:30.432078Z"
    }
   },
   "outputs": [],
   "source": [
    "all_game_ids_query = \"SELECT DISTINCT(game_id) FROM game;\"\n",
    "all_game_ids_query_result = run_query(all_game_ids_query)\n",
    "all_game_ids = [a[0] for a in all_game_ids_query_result]\n",
    "len(all_game_ids) # exclude 0"
   ]
  },
  {
   "cell_type": "code",
   "execution_count": null,
   "metadata": {
    "ExecuteTime": {
     "end_time": "2020-10-13T20:00:28.103255Z",
     "start_time": "2020-10-13T20:00:28.092863Z"
    },
    "code_folding": []
   },
   "outputs": [],
   "source": [
    "# Separating game_ids by year\n",
    "number_of_games_by_year = {}\n",
    "for game in all_game_ids:\n",
    "    year = str(game)\n",
    "    if len(year) > 1:\n",
    "        if number_of_games_by_year.get(year[0:4]) == None:\n",
    "            number_of_games_by_year[year[0:4]] = 1\n",
    "        else:\n",
    "            number_of_games_by_year[year[0:4]] += 1"
   ]
  },
  {
   "cell_type": "code",
   "execution_count": null,
   "metadata": {
    "ExecuteTime": {
     "end_time": "2020-10-13T20:09:37.252842Z",
     "start_time": "2020-10-13T20:09:37.245824Z"
    }
   },
   "outputs": [],
   "source": [
    "sorted_years_and_num_games = []\n",
    "for i in sorted (number_of_games_by_year) : \n",
    "    sorted_years_and_num_games.append((i, number_of_games_by_year[i])) \n",
    "len(sorted_years_and_num_games) # 9 seasons covered in data"
   ]
  },
  {
   "cell_type": "markdown",
   "metadata": {},
   "source": [
    "### Bar plot of number of games in each season"
   ]
  },
  {
   "cell_type": "code",
   "execution_count": null,
   "metadata": {
    "ExecuteTime": {
     "end_time": "2020-10-13T20:08:40.149794Z",
     "start_time": "2020-10-13T20:08:39.957788Z"
    }
   },
   "outputs": [],
   "source": [
    "# 2012 had the olympics which removed one month of play mid-season\n",
    "# I assume the variation in number of games since has to do with number of necessary playoff games\n",
    "num_of_games_in_season = sns.barplot(x = [i[0] for i in sorted_years_and_num_games],\n",
    "                                    y = [i[1] for i in sorted_years_and_num_games], ci=None)\n",
    "# num_of_games_in_season.figure.savefig(\"../images/number_of_games_per_season.png\")"
   ]
  },
  {
   "cell_type": "markdown",
   "metadata": {},
   "source": [
    "## Approximately how much game time is covered"
   ]
  },
  {
   "cell_type": "code",
   "execution_count": null,
   "metadata": {
    "ExecuteTime": {
     "end_time": "2020-10-13T20:37:10.170128Z",
     "start_time": "2020-10-13T20:37:10.162052Z"
    }
   },
   "outputs": [],
   "source": [
    "# total number of games\n",
    "reg_hours_played = table_info_df[(table_info_df['Column_name'] == 'game_id') & \\\n",
    "                                 (table_info_df['Table'] == 'game')]['Number_of_unique_values']\n",
    "print(reg_hours_played[0])\n",
    "# at least 5,718 hours of game play (plus any additional overtime)"
   ]
  },
  {
   "cell_type": "markdown",
   "metadata": {
    "heading_collapsed": true
   },
   "source": [
    "# Time Played plus OT "
   ]
  },
  {
   "cell_type": "code",
   "execution_count": null,
   "metadata": {
    "ExecuteTime": {
     "end_time": "2020-10-13T20:32:38.926484Z",
     "start_time": "2020-10-13T20:32:37.178633Z"
    },
    "hidden": true
   },
   "outputs": [],
   "source": [
    "game_time = \"\"\"\n",
    "            SELECT game_id, COUNT(DISTINCT(period))\n",
    "            FROM game_plays\n",
    "            GROUP BY game_id\n",
    "\n",
    "\"\"\"\n",
    "game_time_query_result = run_query(game_time)\n",
    "# games_and_periods = [a[0:2] for a in game_time_query_result]\n",
    "# all_seasons # exclude 0"
   ]
  },
  {
   "cell_type": "code",
   "execution_count": null,
   "metadata": {
    "ExecuteTime": {
     "end_time": "2020-10-13T20:32:38.997506Z",
     "start_time": "2020-10-13T20:32:38.993359Z"
    },
    "hidden": true
   },
   "outputs": [],
   "source": [
    "games_and_periods[0:5]"
   ]
  },
  {
   "cell_type": "code",
   "execution_count": null,
   "metadata": {
    "ExecuteTime": {
     "end_time": "2020-10-13T20:32:49.932304Z",
     "start_time": "2020-10-13T20:32:49.925033Z"
    },
    "hidden": true
   },
   "outputs": [],
   "source": [
    "game_time_query_result[0:4]"
   ]
  },
  {
   "cell_type": "code",
   "execution_count": null,
   "metadata": {
    "ExecuteTime": {
     "end_time": "2020-10-13T20:34:09.066198Z",
     "start_time": "2020-10-13T20:34:09.058151Z"
    },
    "hidden": true
   },
   "outputs": [],
   "source": [
    "ot_game_count = {}\n",
    "for game, period_count in game_time_query_result:\n",
    "    if period_count > 3:\n",
    "        if ot_game_count.get(period_count) == None:\n",
    "            ot_game_count[period_count] = 1\n",
    "        else:\n",
    "            ot_game_count[period_count] += 1"
   ]
  },
  {
   "cell_type": "code",
   "execution_count": null,
   "metadata": {
    "ExecuteTime": {
     "end_time": "2020-10-13T20:34:11.943531Z",
     "start_time": "2020-10-13T20:34:11.937852Z"
    },
    "hidden": true
   },
   "outputs": [],
   "source": [
    "ot_game_count"
   ]
  },
  {
   "cell_type": "code",
   "execution_count": null,
   "metadata": {
    "ExecuteTime": {
     "end_time": "2020-10-13T20:35:53.060653Z",
     "start_time": "2020-10-13T20:35:53.053003Z"
    },
    "hidden": true
   },
   "outputs": [],
   "source": [
    "# number of minutes guarenteed to have been played\n",
    "total_guarenteed_extra_minutes = 0\n",
    "for key,value in ot_game_count.items():\n",
    "    if key == 6:\n",
    "        total_guarenteed_extra_minutes += value * (60 * 2)\n",
    "    elif key == 5:\n",
    "        total_guarenteed_extra_minutes += value * (60 * 2)\n",
    "total_guarenteed_extra_minutes"
   ]
  },
  {
   "cell_type": "code",
   "execution_count": null,
   "metadata": {
    "ExecuteTime": {
     "end_time": "2020-10-13T20:36:13.643032Z",
     "start_time": "2020-10-13T20:36:13.637394Z"
    },
    "hidden": true,
    "scrolled": true
   },
   "outputs": [],
   "source": [
    "total_guarenteed_extra_hours = total_guarenteed_extra_minutes / 60\n",
    "total_guarenteed_extra_hours"
   ]
  },
  {
   "cell_type": "code",
   "execution_count": null,
   "metadata": {
    "ExecuteTime": {
     "end_time": "2020-10-13T20:37:33.187565Z",
     "start_time": "2020-10-13T20:37:33.181155Z"
    },
    "hidden": true
   },
   "outputs": [],
   "source": [
    "# at least 8,108 hours of hockey covered in this data \n",
    "minimum_total_hours_played = total_guarenteed_extra_hours + reg_hours_played[0]\n",
    "minimum_total_hours_played"
   ]
  },
  {
   "cell_type": "markdown",
   "metadata": {},
   "source": [
    "# Total Goals By Period "
   ]
  },
  {
   "cell_type": "code",
   "execution_count": 28,
   "metadata": {
    "ExecuteTime": {
     "end_time": "2020-11-02T17:00:45.660447Z",
     "start_time": "2020-11-02T17:00:41.812203Z"
    },
    "scrolled": false
   },
   "outputs": [
    {
     "data": {
      "image/png": "[encoded data removed]",
      "text/plain": [
       "<Figure size 432x288 with 1 Axes>"
      ]
     },
     "metadata": {
      "needs_background": "light"
     },
     "output_type": "display_data"
    }
   ],
   "source": [
    "goals_query = get_total_period_sum('goal')\n",
    "goals_plot = make_barplot_of_variable_by_period(goals_query)"
   ]
  },
  {
   "cell_type": "code",
   "execution_count": 29,
   "metadata": {
    "ExecuteTime": {
     "end_time": "2020-11-02T17:00:49.716474Z",
     "start_time": "2020-11-02T17:00:47.128855Z"
    }
   },
   "outputs": [],
   "source": [
    "goal_df = get_raw_data('goal')\n",
    "goal_df.to_csv(\"../data/goals.csv\")"
   ]
  },
  {
   "cell_type": "code",
   "execution_count": 32,
   "metadata": {
    "ExecuteTime": {
     "end_time": "2020-11-02T17:01:10.121717Z",
     "start_time": "2020-11-02T17:01:10.106219Z"
    }
   },
   "outputs": [],
   "source": [
    "avg_goals = goal_df.groupby(\"period\").goal.mean()"
   ]
  },
  {
   "cell_type": "code",
   "execution_count": 35,
   "metadata": {
    "ExecuteTime": {
     "end_time": "2020-11-02T17:01:27.799280Z",
     "start_time": "2020-11-02T17:01:27.793202Z"
    }
   },
   "outputs": [
    {
     "data": {
      "text/plain": [
       "1.049877555237007"
      ]
     },
     "execution_count": 35,
     "metadata": {},
     "output_type": "execute_result"
    }
   ],
   "source": [
    "# 5% more goals in second than first \n",
    "avg_goals[2] / avg_goals[1]"
   ]
  },
  {
   "cell_type": "markdown",
   "metadata": {},
   "source": [
    "# Total Faceoffs by Period"
   ]
  },
  {
   "cell_type": "code",
   "execution_count": null,
   "metadata": {
    "ExecuteTime": {
     "end_time": "2020-10-13T23:14:14.527051Z",
     "start_time": "2020-10-13T23:14:12.925012Z"
    }
   },
   "outputs": [],
   "source": [
    "faceoff_query = get_total_period_sum('faceoff')\n",
    "faceoff_plot = make_barplot_of_variable_by_period(faceoff_query)"
   ]
  },
  {
   "cell_type": "code",
   "execution_count": null,
   "metadata": {
    "ExecuteTime": {
     "end_time": "2020-10-15T18:59:13.448841Z",
     "start_time": "2020-10-15T18:59:11.573984Z"
    }
   },
   "outputs": [],
   "source": [
    "faceoff_df = get_raw_data('faceoff')\n",
    "faceoff_df.to_csv(\"../data/faceoffs.csv\")"
   ]
  },
  {
   "cell_type": "markdown",
   "metadata": {},
   "source": [
    "# Penalties by Period "
   ]
  },
  {
   "cell_type": "code",
   "execution_count": null,
   "metadata": {
    "ExecuteTime": {
     "end_time": "2020-10-13T23:14:16.055054Z",
     "start_time": "2020-10-13T23:14:14.624276Z"
    },
    "scrolled": false
   },
   "outputs": [],
   "source": [
    "penalty_query = get_total_period_sum('penalty')\n",
    "penalty_plot = make_barplot_of_variable_by_period(penalty_query)"
   ]
  },
  {
   "cell_type": "code",
   "execution_count": null,
   "metadata": {
    "ExecuteTime": {
     "end_time": "2020-10-15T18:59:04.374838Z",
     "start_time": "2020-10-15T18:59:02.861816Z"
    }
   },
   "outputs": [],
   "source": [
    "penalty_df = get_raw_data('penalty')\n",
    "penalty_df.to_csv(\"../data/penalties.csv\")"
   ]
  },
  {
   "cell_type": "markdown",
   "metadata": {},
   "source": [
    "# Shots By Period"
   ]
  },
  {
   "cell_type": "code",
   "execution_count": null,
   "metadata": {
    "ExecuteTime": {
     "end_time": "2020-10-13T23:15:35.149438Z",
     "start_time": "2020-10-13T23:15:33.640081Z"
    }
   },
   "outputs": [],
   "source": [
    "shot_query = get_total_period_sum('shot')\n",
    "shot_plot = make_barplot_of_variable_by_period(shot_query)\n",
    "# shot_plot.figure.savefig(\"../images/number_of_shots_by_period.png\")"
   ]
  },
  {
   "cell_type": "code",
   "execution_count": null,
   "metadata": {
    "ExecuteTime": {
     "end_time": "2020-10-15T18:58:19.188712Z",
     "start_time": "2020-10-15T18:58:17.348303Z"
    }
   },
   "outputs": [],
   "source": [
    "shot_df = get_raw_data('shot')\n",
    "shot_df.to_csv(\"../data/shots.csv\")"
   ]
  },
  {
   "cell_type": "markdown",
   "metadata": {},
   "source": [
    "# Average Shift Length by Period"
   ]
  },
  {
   "cell_type": "code",
   "execution_count": null,
   "metadata": {
    "ExecuteTime": {
     "end_time": "2020-10-13T23:08:07.191871Z",
     "start_time": "2020-10-13T23:07:59.974442Z"
    }
   },
   "outputs": [],
   "source": [
    "avg_shift_len_by_period = f\"\"\"\n",
    "            SELECT period, AVG(shift_end - shift_start)\n",
    "            FROM game_shifts\n",
    "            WHERE period < 4 AND period > 0\n",
    "            GROUP BY period\n",
    "\"\"\"\n",
    "avg_shift_len_by_period_query_result = run_query(avg_shift_len_by_period)"
   ]
  },
  {
   "cell_type": "code",
   "execution_count": null,
   "metadata": {
    "ExecuteTime": {
     "end_time": "2020-10-13T23:10:46.344893Z",
     "start_time": "2020-10-13T23:10:46.340368Z"
    }
   },
   "outputs": [],
   "source": [
    "avg_shift_len_by_period = []\n",
    "for x in avg_shift_len_by_period_query_result:\n",
    "    avg_shift_len_by_period.append([x[0], float(x[1])])"
   ]
  },
  {
   "cell_type": "code",
   "execution_count": null,
   "metadata": {
    "ExecuteTime": {
     "end_time": "2020-10-13T23:11:15.785172Z",
     "start_time": "2020-10-13T23:11:15.664272Z"
    },
    "scrolled": true
   },
   "outputs": [],
   "source": [
    "make_barplot_of_variable_by_period(avg_shift_len_by_period)"
   ]
  },
  {
   "cell_type": "markdown",
   "metadata": {},
   "source": [
    "## D"
   ]
  },
  {
   "cell_type": "code",
   "execution_count": null,
   "metadata": {
    "ExecuteTime": {
     "end_time": "2020-10-15T16:19:57.356959Z",
     "start_time": "2020-10-15T16:19:49.678221Z"
    }
   },
   "outputs": [],
   "source": [
    "d_shift_len_by_period = f\"\"\"\n",
    "            SELECT period, shift_end - shift_start, player_info.primaryPosition, game_id\n",
    "            FROM game_shifts\n",
    "            INNER JOIN player_info\n",
    "            ON game_shifts.player_id = player_info.player_id\n",
    "            WHERE period < 4 \n",
    "            AND period > 0\n",
    "            AND player_info.primaryPosition = 'D'\n",
    "\"\"\"\n",
    "d_shift_len_by_period_query_result = run_query(d_shift_len_by_period)"
   ]
  },
  {
   "cell_type": "code",
   "execution_count": null,
   "metadata": {
    "ExecuteTime": {
     "end_time": "2020-10-15T16:20:54.122904Z",
     "start_time": "2020-10-15T16:20:54.117671Z"
    }
   },
   "outputs": [],
   "source": [
    "len(d_shift_len_by_period_query_result)"
   ]
  },
  {
   "cell_type": "code",
   "execution_count": null,
   "metadata": {
    "ExecuteTime": {
     "end_time": "2020-10-16T20:00:38.772743Z",
     "start_time": "2020-10-16T20:00:38.768747Z"
    }
   },
   "outputs": [],
   "source": [
    "all_position_results = []"
   ]
  },
  {
   "cell_type": "code",
   "execution_count": null,
   "metadata": {
    "ExecuteTime": {
     "end_time": "2020-10-16T20:00:51.448268Z",
     "start_time": "2020-10-16T20:00:44.016213Z"
    }
   },
   "outputs": [],
   "source": [
    "d_result = get_shift_len_by_position('D')\n",
    "all_position_results.append(d_result)"
   ]
  },
  {
   "cell_type": "markdown",
   "metadata": {},
   "source": [
    "## LW"
   ]
  },
  {
   "cell_type": "code",
   "execution_count": null,
   "metadata": {
    "ExecuteTime": {
     "end_time": "2020-10-16T20:01:08.498355Z",
     "start_time": "2020-10-16T20:01:02.201470Z"
    }
   },
   "outputs": [],
   "source": [
    "lw_result = get_shift_len_by_position('LW')\n",
    "all_position_results.append(lw_result)"
   ]
  },
  {
   "cell_type": "markdown",
   "metadata": {},
   "source": [
    "## RW"
   ]
  },
  {
   "cell_type": "code",
   "execution_count": null,
   "metadata": {
    "ExecuteTime": {
     "end_time": "2020-10-16T20:01:30.061506Z",
     "start_time": "2020-10-16T20:01:23.766627Z"
    }
   },
   "outputs": [],
   "source": [
    "rw_result = get_shift_len_by_position('RW')\n",
    "all_position_results.append(rw_result)"
   ]
  },
  {
   "cell_type": "markdown",
   "metadata": {},
   "source": [
    "## C"
   ]
  },
  {
   "cell_type": "code",
   "execution_count": null,
   "metadata": {
    "ExecuteTime": {
     "end_time": "2020-10-16T20:01:55.958207Z",
     "start_time": "2020-10-16T20:01:49.109783Z"
    }
   },
   "outputs": [],
   "source": [
    "c_result = get_shift_len_by_position('C')\n",
    "all_position_results.append(c_result)"
   ]
  },
  {
   "cell_type": "markdown",
   "metadata": {},
   "source": [
    "## Combining data into a list"
   ]
  },
  {
   "cell_type": "markdown",
   "metadata": {
    "heading_collapsed": true
   },
   "source": [
    "### Make data into csv \n",
    "https://blog.finxter.com/how-to-convert-a-list-of-lists-to-a-csv-file-in-python/"
   ]
  },
  {
   "cell_type": "markdown",
   "metadata": {
    "ExecuteTime": {
     "end_time": "2020-10-15T16:22:20.793498Z",
     "start_time": "2020-10-15T16:20:55.387Z"
    },
    "hidden": true
   },
   "source": [
    "d_shift_len_df = pd.DataFrame(data = d_shift_len_by_period_query_result, columns = ['period', 'shift_len', 'position', 'game_id'])"
   ]
  },
  {
   "cell_type": "code",
   "execution_count": null,
   "metadata": {
    "ExecuteTime": {
     "end_time": "2020-10-16T20:02:13.180993Z",
     "start_time": "2020-10-16T20:02:13.177250Z"
    },
    "hidden": true
   },
   "outputs": [],
   "source": [
    "positions_in_order = ['D', 'LW', \"RW\", \"C\"]"
   ]
  },
  {
   "cell_type": "code",
   "execution_count": null,
   "metadata": {
    "ExecuteTime": {
     "end_time": "2020-10-15T18:41:35.951007Z",
     "start_time": "2020-10-15T18:41:26.479318Z"
    },
    "hidden": true
   },
   "outputs": [],
   "source": [
    "for idx, query_result in enumerate(all_position_results):\n",
    "    position_name = positions_in_order[idx]\n",
    "    file_name = f\"../data/{position_name}_shifts.csv\"\n",
    "    with open(file_name, 'w', newline='') as f:\n",
    "        writer = csv.writer(f)\n",
    "        writer.writerows(query_result)"
   ]
  },
  {
   "cell_type": "markdown",
   "metadata": {
    "ExecuteTime": {
     "end_time": "2020-10-15T16:24:40.738626Z",
     "start_time": "2020-10-15T16:24:36.901896Z"
    },
    "hidden": true
   },
   "source": [
    "with open('../data/d_shits.csv', 'w', newline='') as f:\n",
    "    writer = csv.writer(f)\n",
    "    writer.writerows(d_shift_len_by_period_query_result)"
   ]
  },
  {
   "cell_type": "markdown",
   "metadata": {},
   "source": [
    "### Combining csvs to one csv"
   ]
  },
  {
   "cell_type": "code",
   "execution_count": null,
   "metadata": {
    "ExecuteTime": {
     "end_time": "2020-10-16T20:12:31.794145Z",
     "start_time": "2020-10-16T20:12:21.906944Z"
    }
   },
   "outputs": [],
   "source": [
    "file_name = f\"../data/all_positions_shifts.csv\"\n",
    "with open(file_name, 'w', newline='') as f:\n",
    "    for idx, query_result in enumerate(all_position_results):\n",
    "        writer = csv.writer(f)\n",
    "        writer.writerows(query_result)"
   ]
  },
  {
   "cell_type": "markdown",
   "metadata": {},
   "source": [
    "# Winger shift length by period and home/away team  "
   ]
  },
  {
   "cell_type": "code",
   "execution_count": null,
   "metadata": {
    "ExecuteTime": {
     "start_time": "2020-10-16T22:09:50.086Z"
    }
   },
   "outputs": [],
   "source": [
    "lw_shift_len_by_period_away = f\"\"\"\n",
    "            SELECT period, shift_end - shift_start, player_info.primaryPosition, game_shifts.game_id\n",
    "            FROM game_shifts\n",
    "            INNER JOIN player_info\n",
    "            ON game_shifts.player_id = player_info.player_id\n",
    "                INNER JOIN game_skater_stats\n",
    "                ON player_info.player_id = game_skater_stats.player_id\n",
    "                    INNER JOIN game\n",
    "                    ON game_skater_stats.team_id = game.away_team_id\n",
    "            WHERE period BETWEEN 1 AND 3\n",
    "            AND player_info.primaryPosition = 'LW'\n",
    "\"\"\"\n",
    "lw_shift_len_by_period_away_query_result = run_query(lw_shift_len_by_period_away)"
   ]
  },
  {
   "cell_type": "code",
   "execution_count": null,
   "metadata": {
    "ExecuteTime": {
     "start_time": "2020-10-16T22:09:50.455Z"
    }
   },
   "outputs": [],
   "source": [
    "lw_shift_len_by_period_away_query_result[0:3]"
   ]
  },
  {
   "cell_type": "markdown",
   "metadata": {},
   "source": [
    "## Viewing data for one team and home v. away"
   ]
  },
  {
   "cell_type": "code",
   "execution_count": null,
   "metadata": {
    "ExecuteTime": {
     "end_time": "2020-10-22T21:08:15.505768Z",
     "start_time": "2020-10-22T21:08:15.228237Z"
    }
   },
   "outputs": [],
   "source": [
    "# narrowing data to one team\n",
    "single_team = f\"\"\"\n",
    "            SELECT DISTINCT (teamName), team_id\n",
    "            FROM team_info;\n",
    "\"\"\"\n",
    "single_team_query_result = run_query(single_team) # rangers are 3"
   ]
  },
  {
   "cell_type": "code",
   "execution_count": null,
   "metadata": {
    "ExecuteTime": {
     "end_time": "2020-10-22T21:15:54.280401Z",
     "start_time": "2020-10-22T21:15:42.488912Z"
    }
   },
   "outputs": [],
   "source": [
    "wing_shift_len_by_period = f\"\"\"\n",
    "            SELECT game_shifts.period, shift_end - shift_start, player_info.primaryPosition, game_teams_stats.HOA\n",
    "            FROM game_shifts\n",
    "            INNER JOIN game_teams_stats\n",
    "                ON game_shifts.game_id = game_teams_stats.game_id\n",
    "                    INNER JOIN player_info\n",
    "                        ON game_shifts.player_id = player_info.player_id\n",
    "            WHERE game_teams_stats.team_id = 3 AND \n",
    "            game_shifts.period BETWEEN 1 AND 3\n",
    "            AND (player_info.primaryPosition = 'LW' OR player_info.primaryPosition = 'RW')\n",
    "\"\"\"\n",
    "wing_shift_len_by_period_query_result = run_query(wing_shift_len_by_period)"
   ]
  },
  {
   "cell_type": "code",
   "execution_count": null,
   "metadata": {
    "ExecuteTime": {
     "end_time": "2020-10-22T21:19:59.996451Z",
     "start_time": "2020-10-22T21:19:59.091177Z"
    }
   },
   "outputs": [],
   "source": [
    "len(wing_shift_len_by_period_query_result)\n",
    "wing_shift_df = pd.DataFrame(data = wing_shift_len_by_period_query_result, \n",
    "                             columns = ['period', \"shift_len\", 'position', \"HoA\"])\n",
    "# wing_shift_df.to_csv(\"../data/shift_length_by_position_home_or_away.csv\")"
   ]
  },
  {
   "cell_type": "markdown",
   "metadata": {},
   "source": [
    "## Only for the seasons after 2014"
   ]
  },
  {
   "cell_type": "code",
   "execution_count": 54,
   "metadata": {
    "ExecuteTime": {
     "end_time": "2020-10-27T00:07:20.120425Z",
     "start_time": "2020-10-27T00:05:28.736272Z"
    }
   },
   "outputs": [],
   "source": [
    "# only after 2014 b/c that's when home-team-gets-last-change rule went into effect \n",
    "wing_shift_len_by_period_post2014 = f\"\"\"\n",
    "            SELECT game_shifts.period, shift_end - shift_start, player_info.primaryPosition, \n",
    "                    game_teams_stats.HOA\n",
    "            FROM game_shifts\n",
    "            INNER JOIN game_teams_stats\n",
    "                ON game_shifts.game_id = game_teams_stats.game_id\n",
    "                    INNER JOIN player_info\n",
    "                        ON game_shifts.player_id = player_info.player_id\n",
    "            WHERE game_teams_stats.team_id = 3 AND \n",
    "            game_shifts.period BETWEEN 1 AND 3\n",
    "            AND (player_info.primaryPosition = 'LW' OR \n",
    "            player_info.primaryPosition = 'RW')\n",
    "            AND game_shifts.game_id > 2014000000\n",
    "\"\"\"\n",
    "wing_shift_len_by_period_post2014_query_result = run_query(wing_shift_len_by_period_post2014)"
   ]
  },
  {
   "cell_type": "code",
   "execution_count": 55,
   "metadata": {
    "ExecuteTime": {
     "end_time": "2020-10-27T00:07:21.396785Z",
     "start_time": "2020-10-27T00:07:21.392263Z"
    }
   },
   "outputs": [
    {
     "data": {
      "text/plain": [
       "160377"
      ]
     },
     "execution_count": 55,
     "metadata": {},
     "output_type": "execute_result"
    }
   ],
   "source": [
    "len(wing_shift_len_by_period_post2014_query_result)"
   ]
  },
  {
   "cell_type": "code",
   "execution_count": 56,
   "metadata": {
    "ExecuteTime": {
     "end_time": "2020-10-27T00:07:36.836950Z",
     "start_time": "2020-10-27T00:07:36.263646Z"
    }
   },
   "outputs": [],
   "source": [
    "wing_shift_df_post2014 = pd.DataFrame(data = wing_shift_len_by_period_post2014_query_result, \n",
    "                             columns = ['period', \"shift_len\", 'position', \"HoA\"])\n",
    "# wing_shift_df_post2014.to_csv(\"../data/shift_length_by_position_home_or_away_post2014.csv\")"
   ]
  },
  {
   "cell_type": "markdown",
   "metadata": {},
   "source": [
    "## Pre 2014"
   ]
  },
  {
   "cell_type": "code",
   "execution_count": 57,
   "metadata": {
    "ExecuteTime": {
     "end_time": "2020-10-27T00:09:19.072561Z",
     "start_time": "2020-10-27T00:07:40.500993Z"
    }
   },
   "outputs": [],
   "source": [
    "wing_shift_len_by_period_pre2014 = f\"\"\"\n",
    "            SELECT game_shifts.period, shift_end - shift_start, player_info.primaryPosition, \n",
    "                    game_teams_stats.HOA\n",
    "            FROM game_shifts\n",
    "            INNER JOIN game_teams_stats\n",
    "                ON game_shifts.game_id = game_teams_stats.game_id\n",
    "                    INNER JOIN player_info\n",
    "                        ON game_shifts.player_id = player_info.player_id\n",
    "            WHERE game_teams_stats.team_id = 3 AND \n",
    "            game_shifts.period BETWEEN 1 AND 3\n",
    "            AND (player_info.primaryPosition = 'LW' OR \n",
    "            player_info.primaryPosition = 'RW')\n",
    "            AND game_shifts.game_id < 2014000000\n",
    "\"\"\"\n",
    "wing_shift_len_by_period_pre2014_query_result = run_query(wing_shift_len_by_period_pre2014)"
   ]
  },
  {
   "cell_type": "code",
   "execution_count": 60,
   "metadata": {
    "ExecuteTime": {
     "end_time": "2020-10-27T00:09:58.668938Z",
     "start_time": "2020-10-27T00:09:58.663283Z"
    }
   },
   "outputs": [
    {
     "data": {
      "text/plain": [
       "105597"
      ]
     },
     "execution_count": 60,
     "metadata": {},
     "output_type": "execute_result"
    }
   ],
   "source": [
    "len(wing_shift_len_by_period_pre2014_query_result)"
   ]
  },
  {
   "cell_type": "code",
   "execution_count": 59,
   "metadata": {
    "ExecuteTime": {
     "end_time": "2020-10-27T00:09:52.130742Z",
     "start_time": "2020-10-27T00:09:51.751762Z"
    }
   },
   "outputs": [],
   "source": [
    "wing_shift_df_pre2014 = pd.DataFrame(data = wing_shift_len_by_period_pre2014_query_result, \n",
    "                             columns = ['period', \"shift_len\", 'position', \"HoA\"])\n",
    "# wing_shift_df_pre2014.to_csv(\"../data/shift_length_by_position_home_or_away_pre2014.csv\")"
   ]
  },
  {
   "cell_type": "markdown",
   "metadata": {},
   "source": [
    "# Takeaways"
   ]
  },
  {
   "cell_type": "code",
   "execution_count": null,
   "metadata": {
    "ExecuteTime": {
     "end_time": "2020-10-22T21:39:37.003837Z",
     "start_time": "2020-10-22T21:39:33.742748Z"
    }
   },
   "outputs": [],
   "source": [
    "takeaway_query = get_total_period_sum('Takeaway')\n",
    "takeaway_plot = make_barplot_of_variable_by_period(takeaway_query)\n",
    "\n",
    "takeaway_df = get_raw_data('Takeaway')\n",
    "takeaway_df.to_csv(\"../data/takeaways.csv\")"
   ]
  },
  {
   "cell_type": "markdown",
   "metadata": {},
   "source": [
    "# Giveaways"
   ]
  },
  {
   "cell_type": "code",
   "execution_count": null,
   "metadata": {
    "ExecuteTime": {
     "end_time": "2020-10-22T21:40:44.229137Z",
     "start_time": "2020-10-22T21:40:40.951926Z"
    }
   },
   "outputs": [],
   "source": [
    "giveaway_query = get_total_period_sum('Giveaway')\n",
    "giveaway_plot = make_barplot_of_variable_by_period(giveaway_query)\n",
    "\n",
    "giveaway_df = get_raw_data('Giveaway')\n",
    "giveaway_df.to_csv(\"../data/giveaways.csv\")"
   ]
  },
  {
   "cell_type": "markdown",
   "metadata": {},
   "source": [
    "# Blocked Shots"
   ]
  },
  {
   "cell_type": "code",
   "execution_count": 27,
   "metadata": {
    "ExecuteTime": {
     "end_time": "2020-10-28T21:39:04.688008Z",
     "start_time": "2020-10-28T21:38:51.324562Z"
    }
   },
   "outputs": [
    {
     "data": {
      "image/png": "[encoded data removed]",
      "text/plain": [
       "<Figure size 432x288 with 1 Axes>"
      ]
     },
     "metadata": {
      "needs_background": "light"
     },
     "output_type": "display_data"
    }
   ],
   "source": [
    "blocked_shot_query = get_total_period_sum('Blocked Shot')\n",
    "blocked_shot_plot = make_barplot_of_variable_by_period(blocked_shot_query)\n",
    "\n",
    "blocked_shot_df = get_raw_data('Blocked Shot')\n",
    "blocked_shot_df.to_csv(\"../data/blocked_shots.csv\")"
   ]
  },
  {
   "cell_type": "markdown",
   "metadata": {},
   "source": [
    "# Save Percentage "
   ]
  },
  {
   "cell_type": "markdown",
   "metadata": {},
   "source": [
    "## Count of rows in each table"
   ]
  },
  {
   "cell_type": "code",
   "execution_count": null,
   "metadata": {
    "ExecuteTime": {
     "end_time": "2020-10-26T19:02:06.211065Z",
     "start_time": "2020-10-26T19:02:05.850676Z"
    }
   },
   "outputs": [],
   "source": [
    "count_game = f\"SELECT COUNT(*) FROM game;\"\n",
    "count_game_query_result = run_query(count_game)\n",
    "count_game_query_result"
   ]
  },
  {
   "cell_type": "code",
   "execution_count": null,
   "metadata": {
    "ExecuteTime": {
     "end_time": "2020-10-26T19:02:44.128831Z",
     "start_time": "2020-10-26T19:02:42.847604Z"
    }
   },
   "outputs": [],
   "source": [
    "count_game_plays = f\"SELECT COUNT(*) FROM game_plays;\"\n",
    "count_game_plays_query_result = run_query(count_game_plays)\n",
    "count_game_plays_query_result"
   ]
  },
  {
   "cell_type": "markdown",
   "metadata": {},
   "source": [
    "## The Query"
   ]
  },
  {
   "cell_type": "code",
   "execution_count": null,
   "metadata": {
    "ExecuteTime": {
     "start_time": "2020-10-26T20:03:44.354Z"
    }
   },
   "outputs": [],
   "source": [
    "# home team save pct by period (just the rangers)\n",
    "home_save_pct_by_period = f\"\"\"\n",
    "            SELECT A.period, COUNT(A.event), COUNT(B.event)\n",
    "            FROM game_plays A, game_plays B \n",
    "            INNER JOIN game C\n",
    "                ON A.game_id = C.game_id \n",
    "                INNER JOIN game D \n",
    "                    ON A.team_id_against = D.home_team_id\n",
    "            WHERE B.team_id_against = 3\n",
    "            AND A.period BETWEEN 1 AND 3\n",
    "            AND A.event = 'Goal'\n",
    "            AND B.event = 'Shot'\n",
    "            GROUP BY A.game_id, A.period\n",
    "\"\"\"\n",
    "home_save_pct_by_period_query_result = run_query(home_save_pct_by_period)\n",
    "# os.system(\"printf '\\a'\") # or '\\7'\n",
    "Audio(audio_data, rate=framerate, autoplay=True)"
   ]
  },
  {
   "cell_type": "code",
   "execution_count": null,
   "metadata": {
    "ExecuteTime": {
     "end_time": "2020-10-26T19:25:45.600467Z",
     "start_time": "2020-10-26T19:25:45.594593Z"
    },
    "scrolled": true
   },
   "outputs": [],
   "source": [
    "home_save_pct_by_period_query_result"
   ]
  },
  {
   "cell_type": "code",
   "execution_count": null,
   "metadata": {
    "ExecuteTime": {
     "end_time": "2020-10-26T19:30:56.328090Z",
     "start_time": "2020-10-26T19:30:56.322993Z"
    }
   },
   "outputs": [],
   "source": [
    "grouped_home_save_pct = []\n",
    "for x in home_save_pct_by_period_query_result:\n",
    "    save_pct = 1 - (x[1] / x[2])\n",
    "    list_x = list(x)\n",
    "    list_x.append(save_pct)\n",
    "    grouped_home_save_pct.append(list_x)"
   ]
  },
  {
   "cell_type": "code",
   "execution_count": null,
   "metadata": {
    "ExecuteTime": {
     "end_time": "2020-10-26T19:30:56.552925Z",
     "start_time": "2020-10-26T19:30:56.548669Z"
    }
   },
   "outputs": [],
   "source": [
    "grouped_home_save_pct"
   ]
  },
  {
   "cell_type": "markdown",
   "metadata": {},
   "source": [
    "## Simplified Query"
   ]
  },
  {
   "cell_type": "code",
   "execution_count": 17,
   "metadata": {
    "ExecuteTime": {
     "end_time": "2020-10-27T21:11:40.630277Z",
     "start_time": "2020-10-27T21:11:32.465868Z"
    }
   },
   "outputs": [
    {
     "data": {
      "text/html": [
       "\n",
       "                <audio  controls=\"controls\" autoplay=\"autoplay\">\n",
       "                    <source src=\"data:audio/wav;base64,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\" type=\"audio/wav\" />\n",
       "                    Your browser does not support the audio element.\n",
       "                </audio>\n",
       "              "
      ],
      "text/plain": [
       "<IPython.lib.display.Audio object>"
      ]
     },
     "execution_count": 17,
     "metadata": {},
     "output_type": "execute_result"
    }
   ],
   "source": [
    "save_pct_by_period = \"\"\"\n",
    "            SELECT game_plays.period, COUNT(game_plays.event)\n",
    "            FROM game_plays\n",
    "            WHERE game_plays.period BETWEEN 1 AND 3\n",
    "            AND game_plays.event = 'Shot'\n",
    "            GROUP BY game_plays.period\n",
    "\"\"\"\n",
    "save_pct_by_period_query_result = run_query(save_pct_by_period)\n",
    "Audio(audio_data, rate=framerate, autoplay=True)"
   ]
  },
  {
   "cell_type": "markdown",
   "metadata": {},
   "source": [
    "## Finding save pct by period"
   ]
  },
  {
   "cell_type": "code",
   "execution_count": 22,
   "metadata": {
    "ExecuteTime": {
     "end_time": "2020-10-27T21:12:58.486008Z",
     "start_time": "2020-10-27T21:12:58.480565Z"
    }
   },
   "outputs": [
    {
     "name": "stdout",
     "output_type": "stream",
     "text": [
      "Save percentage for period 1 is                   0.9087\n",
      "Save percentage for period 2 is                   0.8959\n",
      "Save percentage for period 3 is                   0.8878\n"
     ]
    }
   ],
   "source": [
    "save_pct_list = []\n",
    "for shot in save_pct_by_period_query_result:\n",
    "    for goal in goals_query:\n",
    "        if shot[0] == goal[0]:\n",
    "            num_of_saves = shot[1] - goal[1]\n",
    "            save_pct = num_of_saves / shot[1]\n",
    "            print(f\"Save percentage for period {shot[0]} is \\\n",
    "                  {round(save_pct, 4)}\")\n",
    "            save_pct_list.append(round(save_pct, 4))"
   ]
  },
  {
   "cell_type": "code",
   "execution_count": 26,
   "metadata": {
    "ExecuteTime": {
     "end_time": "2020-10-27T21:18:32.179133Z",
     "start_time": "2020-10-27T21:18:32.172076Z"
    }
   },
   "outputs": [
    {
     "data": {
      "application/javascript": [
       "\n",
       "        if (window._pyforest_update_imports_cell) { window._pyforest_update_imports_cell('import pickle'); }\n",
       "    "
      ],
      "text/plain": [
       "<IPython.core.display.Javascript object>"
      ]
     },
     "metadata": {},
     "output_type": "display_data"
    }
   ],
   "source": [
    "# with open (\"../data/save_pct_list\", 'wb') as f:\n",
    "#     pickle.dump(save_pct_list, f)"
   ]
  },
  {
   "cell_type": "markdown",
   "metadata": {},
   "source": [
    "# Hits "
   ]
  },
  {
   "cell_type": "code",
   "execution_count": 10,
   "metadata": {
    "ExecuteTime": {
     "end_time": "2020-10-27T16:52:49.164917Z",
     "start_time": "2020-10-27T16:52:32.918080Z"
    }
   },
   "outputs": [
    {
     "data": {
      "image/png": "[encoded data removed]",
      "text/plain": [
       "<Figure size 432x288 with 1 Axes>"
      ]
     },
     "metadata": {
      "needs_background": "light"
     },
     "output_type": "display_data"
    }
   ],
   "source": [
    "hits_query = get_total_period_sum('Hit')\n",
    "hits_plot = make_barplot_of_variable_by_period(hits_query)\n",
    "\n",
    "hits_df = get_raw_data('Hit')\n",
    "hits_df.to_csv(\"../data/hits.csv\")"
   ]
  },
  {
   "cell_type": "markdown",
   "metadata": {},
   "source": [
    "# Number of Stoppages"
   ]
  },
  {
   "cell_type": "code",
   "execution_count": 12,
   "metadata": {
    "ExecuteTime": {
     "end_time": "2020-10-27T20:10:37.297400Z",
     "start_time": "2020-10-27T20:10:20.862366Z"
    }
   },
   "outputs": [
    {
     "data": {
      "image/png": "[encoded data removed]",
      "text/plain": [
       "<Figure size 432x288 with 1 Axes>"
      ]
     },
     "metadata": {
      "needs_background": "light"
     },
     "output_type": "display_data"
    }
   ],
   "source": [
    "stoppage_query = get_total_period_sum('Stoppage')\n",
    "stoppage_plot = make_barplot_of_variable_by_period(stoppage_query)\n",
    "\n",
    "stoppage_df = get_raw_data('Stoppage')\n",
    "# stoppage_df.to_csv(\"../data/stoppages.csv\")"
   ]
  },
  {
   "cell_type": "markdown",
   "metadata": {},
   "source": [
    "## Stoppages Per Game"
   ]
  },
  {
   "cell_type": "code",
   "execution_count": 15,
   "metadata": {
    "ExecuteTime": {
     "end_time": "2020-10-27T20:12:55.059857Z",
     "start_time": "2020-10-27T20:12:55.047625Z"
    }
   },
   "outputs": [
    {
     "data": {
      "text/plain": [
       "period\n",
       "1    22.641847\n",
       "2    23.463962\n",
       "3    22.996975\n",
       "Name: Stoppage, dtype: float64"
      ]
     },
     "execution_count": 15,
     "metadata": {},
     "output_type": "execute_result"
    }
   ],
   "source": [
    "# 5,718 hours played in regulation\n",
    "stoppage_avg = stoppage_df.groupby(['period']).Stoppage.mean()\n",
    "stoppage_avg * 3"
   ]
  },
  {
   "cell_type": "code",
   "execution_count": null,
   "metadata": {},
   "outputs": [],
   "source": []
  }
 ],
 "metadata": {
  "kernelspec": {
   "display_name": "Python 3",
   "language": "python",
   "name": "python3"
  },
  "language_info": {
   "codemirror_mode": {
    "name": "ipython",
    "version": 3
   },
   "file_extension": ".py",
   "mimetype": "text/x-python",
   "name": "python",
   "nbconvert_exporter": "python",
   "pygments_lexer": "ipython3",
   "version": "3.6.9"
  },
  "toc": {
   "base_numbering": 1,
   "nav_menu": {},
   "number_sections": true,
   "sideBar": true,
   "skip_h1_title": false,
   "title_cell": "Table of Contents",
   "title_sidebar": "Contents",
   "toc_cell": false,
   "toc_position": {
    "height": "calc(100% - 180px)",
    "left": "10px",
    "top": "150px",
    "width": "317.1875px"
   },
   "toc_section_display": true,
   "toc_window_display": true
  },
  "varInspector": {
   "cols": {
    "lenName": 16,
    "lenType": 16,
    "lenVar": 40
   },
   "kernels_config": {
    "python": {
     "delete_cmd_postfix": "",
     "delete_cmd_prefix": "del ",
     "library": "var_list.py",
     "varRefreshCmd": "print(var_dic_list())"
    },
    "r": {
     "delete_cmd_postfix": ") ",
     "delete_cmd_prefix": "rm(",
     "library": "var_list.r",
     "varRefreshCmd": "cat(var_dic_list()) "
    }
   },
   "types_to_exclude": [
    "module",
    "function",
    "builtin_function_or_method",
    "instance",
    "_Feature"
   ],
   "window_display": false
  }
 },
 "nbformat": 4,
 "nbformat_minor": 2
}
